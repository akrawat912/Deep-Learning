{
  "nbformat": 4,
  "nbformat_minor": 0,
  "metadata": {
    "kernelspec": {
      "display_name": "Python 3",
      "language": "python",
      "name": "python3"
    },
    "language_info": {
      "codemirror_mode": {
        "name": "ipython",
        "version": 3
      },
      "file_extension": ".py",
      "mimetype": "text/x-python",
      "name": "python",
      "nbconvert_exporter": "python",
      "pygments_lexer": "ipython3",
      "version": "3.7.3"
    },
    "colab": {
      "name": "bbc LDA.ipynb",
      "provenance": [],
      "collapsed_sections": [],
      "include_colab_link": true
    }
  },
  "cells": [
    {
      "cell_type": "markdown",
      "metadata": {
        "id": "view-in-github",
        "colab_type": "text"
      },
      "source": [
        "<a href=\"https://colab.research.google.com/github/akrawat912/Deep-Learning/blob/master/bbcNews%20Topic%20Modeling%20with%20LDA.ipynb\" target=\"_parent\"><img src=\"https://colab.research.google.com/assets/colab-badge.svg\" alt=\"Open In Colab\"/></a>"
      ]
    },
    {
      "cell_type": "code",
      "metadata": {
        "id": "DP4TfPhjrwQV",
        "colab_type": "code",
        "colab": {}
      },
      "source": [
        "import pandas as pd\n",
        "from google.colab import files\n",
        "files.upload()"
      ],
      "execution_count": 0,
      "outputs": []
    },
    {
      "cell_type": "code",
      "metadata": {
        "id": "hUj1Rn2ZrwQe",
        "colab_type": "code",
        "colab": {}
      },
      "source": [
        "data=pd.read_csv('BBC train.csv')\n",
        "documents=data[['Text']]"
      ],
      "execution_count": 0,
      "outputs": []
    },
    {
      "cell_type": "code",
      "metadata": {
        "id": "_0P7QmQtrwQi",
        "colab_type": "code",
        "colab": {}
      },
      "source": [
        "documents['index']=documents.index"
      ],
      "execution_count": 0,
      "outputs": []
    },
    {
      "cell_type": "code",
      "metadata": {
        "id": "PfwmZAtkrwQm",
        "colab_type": "code",
        "outputId": "3511a828-7c1d-490a-e18c-abc70f5d416b",
        "colab": {
          "base_uri": "https://localhost:8080/",
          "height": 142
        }
      },
      "source": [
        "documents[:3]"
      ],
      "execution_count": 0,
      "outputs": [
        {
          "output_type": "execute_result",
          "data": {
            "text/html": [
              "<div>\n",
              "<style scoped>\n",
              "    .dataframe tbody tr th:only-of-type {\n",
              "        vertical-align: middle;\n",
              "    }\n",
              "\n",
              "    .dataframe tbody tr th {\n",
              "        vertical-align: top;\n",
              "    }\n",
              "\n",
              "    .dataframe thead th {\n",
              "        text-align: right;\n",
              "    }\n",
              "</style>\n",
              "<table border=\"1\" class=\"dataframe\">\n",
              "  <thead>\n",
              "    <tr style=\"text-align: right;\">\n",
              "      <th></th>\n",
              "      <th>Text</th>\n",
              "      <th>index</th>\n",
              "    </tr>\n",
              "  </thead>\n",
              "  <tbody>\n",
              "    <tr>\n",
              "      <th>0</th>\n",
              "      <td>worldcom ex-boss launches defence lawyers defe...</td>\n",
              "      <td>0</td>\n",
              "    </tr>\n",
              "    <tr>\n",
              "      <th>1</th>\n",
              "      <td>german business confidence slides german busin...</td>\n",
              "      <td>1</td>\n",
              "    </tr>\n",
              "    <tr>\n",
              "      <th>2</th>\n",
              "      <td>bbc poll indicates economic gloom citizens in ...</td>\n",
              "      <td>2</td>\n",
              "    </tr>\n",
              "  </tbody>\n",
              "</table>\n",
              "</div>"
            ],
            "text/plain": [
              "                                                Text  index\n",
              "0  worldcom ex-boss launches defence lawyers defe...      0\n",
              "1  german business confidence slides german busin...      1\n",
              "2  bbc poll indicates economic gloom citizens in ...      2"
            ]
          },
          "metadata": {
            "tags": []
          },
          "execution_count": 6
        }
      ]
    },
    {
      "cell_type": "code",
      "metadata": {
        "id": "D9qi2GZCrwQt",
        "colab_type": "code",
        "colab": {}
      },
      "source": [
        "import nltk\n",
        "import gensim\n",
        "from gensim.utils import simple_preprocess\n",
        "from gensim.parsing.preprocessing import STOPWORDS\n",
        "from nltk.stem import WordNetLemmatizer, SnowballStemmer\n",
        "from gensim.corpora import Dictionary\n",
        "from nltk.stem.porter import *\n",
        "import numpy as np\n",
        "np.random.seed(2018)"
      ],
      "execution_count": 0,
      "outputs": []
    },
    {
      "cell_type": "code",
      "metadata": {
        "id": "O9yh3hmarwQx",
        "colab_type": "code",
        "colab": {}
      },
      "source": [
        "stemmer = SnowballStemmer('english')"
      ],
      "execution_count": 0,
      "outputs": []
    },
    {
      "cell_type": "code",
      "metadata": {
        "id": "hVPSG8zBszIN",
        "colab_type": "code",
        "outputId": "9d4b9576-989c-4006-da3d-2519e2b058a7",
        "colab": {
          "base_uri": "https://localhost:8080/",
          "height": 68
        }
      },
      "source": [
        "nltk.download('wordnet')"
      ],
      "execution_count": 0,
      "outputs": [
        {
          "output_type": "stream",
          "text": [
            "[nltk_data] Downloading package wordnet to /root/nltk_data...\n",
            "[nltk_data]   Unzipping corpora/wordnet.zip.\n"
          ],
          "name": "stdout"
        },
        {
          "output_type": "execute_result",
          "data": {
            "text/plain": [
              "True"
            ]
          },
          "metadata": {
            "tags": []
          },
          "execution_count": 9
        }
      ]
    },
    {
      "cell_type": "code",
      "metadata": {
        "id": "TfUVOXKqrwQ1",
        "colab_type": "code",
        "outputId": "f63f326e-0015-44e6-b24e-c6cf01d89499",
        "colab": {
          "base_uri": "https://localhost:8080/",
          "height": 34
        }
      },
      "source": [
        "# example, verb POS of word 'paased' is pass\n",
        "WordNetLemmatizer().lemmatize('passed', pos='v')"
      ],
      "execution_count": 0,
      "outputs": [
        {
          "output_type": "execute_result",
          "data": {
            "text/plain": [
              "'pass'"
            ]
          },
          "metadata": {
            "tags": []
          },
          "execution_count": 10
        }
      ]
    },
    {
      "cell_type": "markdown",
      "metadata": {
        "id": "1YgtZmze9YsN",
        "colab_type": "text"
      },
      "source": [
        "### Preprocessing"
      ]
    },
    {
      "cell_type": "code",
      "metadata": {
        "id": "BygXxWjrrwQ8",
        "colab_type": "code",
        "outputId": "3aeb8d40-928e-4551-b66a-30a14439e32f",
        "colab": {
          "base_uri": "https://localhost:8080/",
          "height": 34
        }
      },
      "source": [
        "stemmer.stem('globalization')"
      ],
      "execution_count": 0,
      "outputs": [
        {
          "output_type": "execute_result",
          "data": {
            "text/plain": [
              "'global'"
            ]
          },
          "metadata": {
            "tags": []
          },
          "execution_count": 11
        }
      ]
    },
    {
      "cell_type": "code",
      "metadata": {
        "id": "uthhYKDCrwRA",
        "colab_type": "code",
        "colab": {}
      },
      "source": [
        "def lemmatize_stemize(text):\n",
        "    '''reutrns stemized  after lemmatized of word'''\n",
        "    return stemmer.stem(WordNetLemmatizer().lemmatize(text, pos='v'))\n",
        "\n",
        "def preprocess(text):\n",
        "    '''returns tokenized text after removing stopwords and non stopwords length of less than 3 will be discarded'''\n",
        "    result=[]\n",
        "    for token in simple_preprocess(text):\n",
        "        if token not in STOPWORDS and len(token)>3:\n",
        "            result.append(lemmatize_stemize(token))\n",
        "    return result"
      ],
      "execution_count": 0,
      "outputs": []
    },
    {
      "cell_type": "code",
      "metadata": {
        "id": "PDhOhAlwrwRE",
        "colab_type": "code",
        "outputId": "927f652b-8096-4660-8384-bc0d059fa495",
        "colab": {
          "base_uri": "https://localhost:8080/",
          "height": 306
        }
      },
      "source": [
        "# example \n",
        "eg='''worldcom ex-boss launches defence lawyers defending former worldcom chief \n",
        "bernie ebbers against a battery of fraud charges have called a company whistleblower as their first witness'''\n",
        "preprocess(eg)"
      ],
      "execution_count": 0,
      "outputs": [
        {
          "output_type": "execute_result",
          "data": {
            "text/plain": [
              "['worldcom',\n",
              " 'boss',\n",
              " 'launch',\n",
              " 'defenc',\n",
              " 'lawyer',\n",
              " 'defend',\n",
              " 'worldcom',\n",
              " 'chief',\n",
              " 'berni',\n",
              " 'ebber',\n",
              " 'batteri',\n",
              " 'fraud',\n",
              " 'charg',\n",
              " 'call',\n",
              " 'compani',\n",
              " 'whistleblow',\n",
              " 'wit']"
            ]
          },
          "metadata": {
            "tags": []
          },
          "execution_count": 13
        }
      ]
    },
    {
      "cell_type": "code",
      "metadata": {
        "id": "pXyga0jFrwRI",
        "colab_type": "code",
        "colab": {}
      },
      "source": [
        "processed_docs = documents['Text'].map(preprocess)"
      ],
      "execution_count": 0,
      "outputs": []
    },
    {
      "cell_type": "code",
      "metadata": {
        "id": "_vWsuvhGrwRM",
        "colab_type": "code",
        "outputId": "e46dd189-c9ed-4bb9-d70e-ebe33b20de56",
        "colab": {
          "base_uri": "https://localhost:8080/",
          "height": 119
        }
      },
      "source": [
        "processed_docs[:5]"
      ],
      "execution_count": 0,
      "outputs": [
        {
          "output_type": "execute_result",
          "data": {
            "text/plain": [
              "0    [worldcom, boss, launch, defenc, lawyer, defen...\n",
              "1    [german, busi, confid, slide, german, busi, co...\n",
              "2    [poll, indic, econom, gloom, citizen, major, n...\n",
              "3    [lifestyl, govern, mobil, choic, faster, bette...\n",
              "4    [enron, boss, payout, eighteen, enron, directo...\n",
              "Name: Text, dtype: object"
            ]
          },
          "metadata": {
            "tags": []
          },
          "execution_count": 15
        }
      ]
    },
    {
      "cell_type": "code",
      "metadata": {
        "id": "MuTSnE9hrwRQ",
        "colab_type": "code",
        "colab": {}
      },
      "source": [
        "dic=Dictionary(processed_docs)"
      ],
      "execution_count": 0,
      "outputs": []
    },
    {
      "cell_type": "code",
      "metadata": {
        "id": "cqFpqQ0ZrwRU",
        "colab_type": "code",
        "outputId": "77ec4463-28a0-4c57-ac3e-180fdf3ebf66",
        "colab": {
          "base_uri": "https://localhost:8080/",
          "height": 204
        }
      },
      "source": [
        "count=0\n",
        "for key, value in dic.iteritems():\n",
        "    print(key, value)\n",
        "    count+=1\n",
        "    if count > 10: break"
      ],
      "execution_count": 0,
      "outputs": [
        {
          "output_type": "stream",
          "text": [
            "0 account\n",
            "1 adjust\n",
            "2 agre\n",
            "3 alert\n",
            "4 andersen\n",
            "5 answer\n",
            "6 approv\n",
            "7 argu\n",
            "8 arthur\n",
            "9 audit\n",
            "10 auditor\n"
          ],
          "name": "stdout"
        }
      ]
    },
    {
      "cell_type": "markdown",
      "metadata": {
        "id": "q7l7aqBlrwRY",
        "colab_type": "text"
      },
      "source": [
        "### Bag of Words on preprocessed documents"
      ]
    },
    {
      "cell_type": "code",
      "metadata": {
        "id": "gdqQPwqBrwRY",
        "colab_type": "code",
        "outputId": "45ae76aa-6e2f-4801-a72f-8ae1a3247e5f",
        "colab": {
          "base_uri": "https://localhost:8080/",
          "height": 187
        }
      },
      "source": [
        "#dic.filter_extremes()\n",
        "bow=[dic.doc2bow(doc) for doc in processed_docs]\n",
        "bow[0][:10]\n",
        "# word with token_id 0 appears 7 times in document"
      ],
      "execution_count": 0,
      "outputs": [
        {
          "output_type": "execute_result",
          "data": {
            "text/plain": [
              "[(0, 7),\n",
              " (1, 1),\n",
              " (2, 1),\n",
              " (3, 2),\n",
              " (4, 2),\n",
              " (5, 1),\n",
              " (6, 1),\n",
              " (7, 2),\n",
              " (8, 1),\n",
              " (9, 1)]"
            ]
          },
          "metadata": {
            "tags": []
          },
          "execution_count": 18
        }
      ]
    },
    {
      "cell_type": "markdown",
      "metadata": {
        "id": "ELN73QBUrwRd",
        "colab_type": "text"
      },
      "source": [
        "### TF-IDF"
      ]
    },
    {
      "cell_type": "code",
      "metadata": {
        "id": "_O3AbRaarwRe",
        "colab_type": "code",
        "colab": {}
      },
      "source": [
        "from gensim import models\n",
        "tfidf = models.TfidfModel(bow)"
      ],
      "execution_count": 0,
      "outputs": []
    },
    {
      "cell_type": "code",
      "metadata": {
        "id": "zouloBjCrwRi",
        "colab_type": "code",
        "colab": {}
      },
      "source": [
        "corpus_tfidf = tfidf[bow]"
      ],
      "execution_count": 0,
      "outputs": []
    },
    {
      "cell_type": "code",
      "metadata": {
        "id": "rjEU3-0PrwRm",
        "colab_type": "code",
        "outputId": "1a6134fa-0619-4e99-fac7-5b485ac61998",
        "colab": {
          "base_uri": "https://localhost:8080/",
          "height": 1000
        }
      },
      "source": [
        "from pprint import pprint\n",
        "for doc in corpus_tfidf:\n",
        "    pprint(doc)\n",
        "    break"
      ],
      "execution_count": 0,
      "outputs": [
        {
          "output_type": "stream",
          "text": [
            "[(0, 0.2181282188871793),\n",
            " (1, 0.05730145584508868),\n",
            " (2, 0.03244070754097687),\n",
            " (3, 0.10811260430807983),\n",
            " (4, 0.16485691060183388),\n",
            " (5, 0.04662678411441539),\n",
            " (6, 0.04251467917863171),\n",
            " (7, 0.0709146229783829),\n",
            " (8, 0.06452761970766617),\n",
            " (9, 0.059291960930853045),\n",
            " (10, 0.12329245751590523),\n",
            " (11, 0.04662678411441539),\n",
            " (12, 0.05269581096132723),\n",
            " (13, 0.06824237872747843),\n",
            " (14, 0.03479497536807644),\n",
            " (15, 0.03416496147502478),\n",
            " (16, 0.05034154313422765),\n",
            " (17, 0.024323657814450183),\n",
            " (18, 0.07347803750429155),\n",
            " (19, 0.02221075633011451),\n",
            " (20, 0.08617784556349384),\n",
            " (21, 0.07297097344335055),\n",
            " (22, 0.051465096975257106),\n",
            " (23, 0.039870225580601396),\n",
            " (24, 0.043745393164701836),\n",
            " (25, 0.035801671186501564),\n",
            " (26, 0.061646228757952615),\n",
            " (27, 0.041391125337602266),\n",
            " (28, 0.05405630215403991),\n",
            " (29, 0.21622520861615965),\n",
            " (30, 0.08242845530091694),\n",
            " (31, 0.02418097433649921),\n",
            " (32, 0.041391125337602266),\n",
            " (33, 0.03068287043229277),\n",
            " (34, 0.025369188920400826),\n",
            " (35, 0.06824237872747843),\n",
            " (36, 0.027026939411128336),\n",
            " (37, 0.03356426138200633),\n",
            " (38, 0.4516933379536632),\n",
            " (39, 0.041391125337602266),\n",
            " (40, 0.048351038048463295),\n",
            " (41, 0.03727902040181858),\n",
            " (42, 0.043745393164701836),\n",
            " (43, 0.059291960930853045),\n",
            " (44, 0.046980579488702955),\n",
            " (45, 0.035801671186501564),\n",
            " (46, 0.02934587828768341),\n",
            " (47, 0.038952761793523576),\n",
            " (48, 0.021499784658587127),\n",
            " (49, 0.18650713645766157),\n",
            " (50, 0.03068287043229277),\n",
            " (51, 0.03798540350733751),\n",
            " (52, 0.041391125337602266),\n",
            " (53, 0.04510588435741453),\n",
            " (54, 0.029135910679829027),\n",
            " (55, 0.04510588435741453),\n",
            " (56, 0.04251467917863171),\n",
            " (57, 0.026171479422263565),\n",
            " (58, 0.059291960930853045),\n",
            " (59, 0.04440772928581684),\n",
            " (60, 0.06452761970766617),\n",
            " (61, 0.01957532945273775),\n",
            " (62, 0.02934587828768341),\n",
            " (63, 0.1312361794941055),\n",
            " (64, 0.040357555995702094),\n",
            " (65, 0.07657712608743548),\n",
            " (66, 0.04930797379232748),\n",
            " (67, 0.08242845530091694),\n",
            " (68, 0.06434891277852084),\n",
            " (69, 0.036893537346919546),\n",
            " (70, 0.05269581096132723),\n",
            " (71, 0.09325356822883078),\n",
            " (72, 0.023762146593299043),\n",
            " (73, 0.05557720191104079),\n",
            " (74, 0.10293019395051421),\n",
            " (75, 0.033861118671230185),\n",
            " (76, 0.0314071381990767),\n",
            " (77, 0.040864002214988274),\n",
            " (78, 0.030450202455212513),\n",
            " (79, 0.008871032522704424),\n",
            " (80, 0.05034154313422765),\n",
            " (81, 0.048351038048463295),\n",
            " (82, 0.03165787857010641),\n",
            " (83, 0.043745393164701836),\n",
            " (84, 0.026171479422263565),\n",
            " (85, 0.036519229302124354),\n",
            " (86, 0.11115440382208158),\n",
            " (87, 0.04440772928581684),\n",
            " (88, 0.045843955143544925),\n",
            " (89, 0.03177085300196745),\n",
            " (90, 0.059291960930853045),\n",
            " (91, 0.06452761970766617),\n",
            " (92, 0.06824237872747843),\n",
            " (93, 0.03545731148919145),\n",
            " (94, 0.07347803750429155),\n",
            " (95, 0.051465096975257106),\n",
            " (96, 0.02600698390640809),\n",
            " (97, 0.035121897218888955),\n",
            " (98, 0.017304101933490083),\n",
            " (99, 0.08242845530091694),\n",
            " (100, 0.13648475745495686),\n",
            " (101, 0.5807485773689954),\n",
            " (102, 0.0054556423487780396),\n",
            " (103, 0.0394006202518379)]\n"
          ],
          "name": "stdout"
        }
      ]
    },
    {
      "cell_type": "markdown",
      "metadata": {
        "id": "dN-wGe9crwRt",
        "colab_type": "text"
      },
      "source": [
        "### Running LDA using Bag of Words"
      ]
    },
    {
      "cell_type": "code",
      "metadata": {
        "id": "7EFJnE_BrwRw",
        "colab_type": "code",
        "colab": {}
      },
      "source": [
        "lda_model=gensim.models.LdaModel(corpus=bow, num_topics=5, id2word=dic, passes=10, iterations=100)"
      ],
      "execution_count": 0,
      "outputs": []
    },
    {
      "cell_type": "code",
      "metadata": {
        "id": "PwL_XYjOrwRz",
        "colab_type": "code",
        "outputId": "a8e8bfa4-2a24-4bf0-cc07-6ec5564e5506",
        "colab": {
          "base_uri": "https://localhost:8080/",
          "height": 122
        }
      },
      "source": [
        "for idx, topic in lda_model.print_topics(-1, 15):\n",
        "    print('Topic {} : Words : {}'.format(idx, topic))"
      ],
      "execution_count": 0,
      "outputs": [
        {
          "output_type": "stream",
          "text": [
            "Topic 0 : Words : 0.020*\"say\" + 0.009*\"year\" + 0.009*\"game\" + 0.005*\"peopl\" + 0.005*\"time\" + 0.004*\"world\" + 0.004*\"firm\" + 0.004*\"play\" + 0.003*\"like\" + 0.003*\"come\" + 0.003*\"month\" + 0.003*\"compani\" + 0.003*\"open\" + 0.003*\"roddick\" + 0.003*\"take\"\n",
            "Topic 1 : Words : 0.018*\"say\" + 0.006*\"peopl\" + 0.005*\"time\" + 0.004*\"wale\" + 0.004*\"work\" + 0.004*\"year\" + 0.004*\"think\" + 0.004*\"govern\" + 0.003*\"like\" + 0.003*\"plan\" + 0.003*\"gadget\" + 0.003*\"phone\" + 0.003*\"parti\" + 0.003*\"come\" + 0.003*\"go\"\n",
            "Topic 2 : Words : 0.014*\"say\" + 0.012*\"year\" + 0.012*\"film\" + 0.009*\"best\" + 0.009*\"award\" + 0.005*\"rise\" + 0.005*\"take\" + 0.004*\"star\" + 0.004*\"month\" + 0.004*\"price\" + 0.003*\"oscar\" + 0.003*\"growth\" + 0.003*\"time\" + 0.003*\"rat\" + 0.003*\"includ\"\n",
            "Topic 3 : Words : 0.019*\"say\" + 0.006*\"elect\" + 0.006*\"blair\" + 0.006*\"year\" + 0.006*\"labour\" + 0.005*\"play\" + 0.004*\"minist\" + 0.004*\"govern\" + 0.004*\"tell\" + 0.004*\"england\" + 0.004*\"time\" + 0.004*\"parti\" + 0.004*\"club\" + 0.004*\"game\" + 0.004*\"go\"\n",
            "Topic 4 : Words : 0.017*\"say\" + 0.007*\"year\" + 0.006*\"music\" + 0.006*\"compani\" + 0.006*\"peopl\" + 0.006*\"firm\" + 0.006*\"sale\" + 0.005*\"mobil\" + 0.005*\"phone\" + 0.005*\"servic\" + 0.005*\"market\" + 0.004*\"technolog\" + 0.004*\"world\" + 0.004*\"like\" + 0.003*\"digit\"\n"
          ],
          "name": "stdout"
        }
      ]
    },
    {
      "cell_type": "code",
      "metadata": {
        "id": "5wiOleh3rwR3",
        "colab_type": "code",
        "outputId": "91adfdc0-1062-42e3-af98-3ffd7098b36a",
        "colab": {
          "base_uri": "https://localhost:8080/",
          "height": 34
        }
      },
      "source": [
        "lda_model[bow[0]]\n",
        "# has topic 4"
      ],
      "execution_count": 0,
      "outputs": [
        {
          "output_type": "execute_result",
          "data": {
            "text/plain": [
              "[(4, 0.994782)]"
            ]
          },
          "metadata": {
            "tags": []
          },
          "execution_count": 68
        }
      ]
    },
    {
      "cell_type": "markdown",
      "metadata": {
        "id": "RIN4Os7brwSI",
        "colab_type": "text"
      },
      "source": [
        "### Visualization"
      ]
    },
    {
      "cell_type": "code",
      "metadata": {
        "id": "MwKplVwqtTDZ",
        "colab_type": "code",
        "outputId": "f6cda251-0997-4e05-8d66-c4cd14692c59",
        "colab": {
          "base_uri": "https://localhost:8080/",
          "height": 632
        }
      },
      "source": [
        "!pip install pyLDAvis"
      ],
      "execution_count": 0,
      "outputs": [
        {
          "output_type": "stream",
          "text": [
            "Collecting pyLDAvis\n",
            "\u001b[?25l  Downloading https://files.pythonhosted.org/packages/a5/3a/af82e070a8a96e13217c8f362f9a73e82d61ac8fff3a2561946a97f96266/pyLDAvis-2.1.2.tar.gz (1.6MB)\n",
            "\r\u001b[K     |▏                               | 10kB 16.3MB/s eta 0:00:01\r\u001b[K     |▍                               | 20kB 1.7MB/s eta 0:00:01\r\u001b[K     |▋                               | 30kB 2.2MB/s eta 0:00:01\r\u001b[K     |▉                               | 40kB 2.5MB/s eta 0:00:01\r\u001b[K     |█                               | 51kB 2.0MB/s eta 0:00:01\r\u001b[K     |█▏                              | 61kB 2.3MB/s eta 0:00:01\r\u001b[K     |█▍                              | 71kB 2.5MB/s eta 0:00:01\r\u001b[K     |█▋                              | 81kB 2.8MB/s eta 0:00:01\r\u001b[K     |█▉                              | 92kB 2.9MB/s eta 0:00:01\r\u001b[K     |██                              | 102kB 2.8MB/s eta 0:00:01\r\u001b[K     |██▎                             | 112kB 2.8MB/s eta 0:00:01\r\u001b[K     |██▍                             | 122kB 2.8MB/s eta 0:00:01\r\u001b[K     |██▋                             | 133kB 2.8MB/s eta 0:00:01\r\u001b[K     |██▉                             | 143kB 2.8MB/s eta 0:00:01\r\u001b[K     |███                             | 153kB 2.8MB/s eta 0:00:01\r\u001b[K     |███▎                            | 163kB 2.8MB/s eta 0:00:01\r\u001b[K     |███▌                            | 174kB 2.8MB/s eta 0:00:01\r\u001b[K     |███▋                            | 184kB 2.8MB/s eta 0:00:01\r\u001b[K     |███▉                            | 194kB 2.8MB/s eta 0:00:01\r\u001b[K     |████                            | 204kB 2.8MB/s eta 0:00:01\r\u001b[K     |████▎                           | 215kB 2.8MB/s eta 0:00:01\r\u001b[K     |████▌                           | 225kB 2.8MB/s eta 0:00:01\r\u001b[K     |████▊                           | 235kB 2.8MB/s eta 0:00:01\r\u001b[K     |████▉                           | 245kB 2.8MB/s eta 0:00:01\r\u001b[K     |█████                           | 256kB 2.8MB/s eta 0:00:01\r\u001b[K     |█████▎                          | 266kB 2.8MB/s eta 0:00:01\r\u001b[K     |█████▌                          | 276kB 2.8MB/s eta 0:00:01\r\u001b[K     |█████▊                          | 286kB 2.8MB/s eta 0:00:01\r\u001b[K     |█████▉                          | 296kB 2.8MB/s eta 0:00:01\r\u001b[K     |██████                          | 307kB 2.8MB/s eta 0:00:01\r\u001b[K     |██████▎                         | 317kB 2.8MB/s eta 0:00:01\r\u001b[K     |██████▌                         | 327kB 2.8MB/s eta 0:00:01\r\u001b[K     |██████▊                         | 337kB 2.8MB/s eta 0:00:01\r\u001b[K     |███████                         | 348kB 2.8MB/s eta 0:00:01\r\u001b[K     |███████                         | 358kB 2.8MB/s eta 0:00:01\r\u001b[K     |███████▎                        | 368kB 2.8MB/s eta 0:00:01\r\u001b[K     |███████▌                        | 378kB 2.8MB/s eta 0:00:01\r\u001b[K     |███████▊                        | 389kB 2.8MB/s eta 0:00:01\r\u001b[K     |████████                        | 399kB 2.8MB/s eta 0:00:01\r\u001b[K     |████████▏                       | 409kB 2.8MB/s eta 0:00:01\r\u001b[K     |████████▎                       | 419kB 2.8MB/s eta 0:00:01\r\u001b[K     |████████▌                       | 430kB 2.8MB/s eta 0:00:01\r\u001b[K     |████████▊                       | 440kB 2.8MB/s eta 0:00:01\r\u001b[K     |█████████                       | 450kB 2.8MB/s eta 0:00:01\r\u001b[K     |█████████▏                      | 460kB 2.8MB/s eta 0:00:01\r\u001b[K     |█████████▍                      | 471kB 2.8MB/s eta 0:00:01\r\u001b[K     |█████████▌                      | 481kB 2.8MB/s eta 0:00:01\r\u001b[K     |█████████▊                      | 491kB 2.8MB/s eta 0:00:01\r\u001b[K     |██████████                      | 501kB 2.8MB/s eta 0:00:01\r\u001b[K     |██████████▏                     | 512kB 2.8MB/s eta 0:00:01\r\u001b[K     |██████████▍                     | 522kB 2.8MB/s eta 0:00:01\r\u001b[K     |██████████▋                     | 532kB 2.8MB/s eta 0:00:01\r\u001b[K     |██████████▊                     | 542kB 2.8MB/s eta 0:00:01\r\u001b[K     |███████████                     | 552kB 2.8MB/s eta 0:00:01\r\u001b[K     |███████████▏                    | 563kB 2.8MB/s eta 0:00:01\r\u001b[K     |███████████▍                    | 573kB 2.8MB/s eta 0:00:01\r\u001b[K     |███████████▋                    | 583kB 2.8MB/s eta 0:00:01\r\u001b[K     |███████████▊                    | 593kB 2.8MB/s eta 0:00:01\r\u001b[K     |████████████                    | 604kB 2.8MB/s eta 0:00:01\r\u001b[K     |████████████▏                   | 614kB 2.8MB/s eta 0:00:01\r\u001b[K     |████████████▍                   | 624kB 2.8MB/s eta 0:00:01\r\u001b[K     |████████████▋                   | 634kB 2.8MB/s eta 0:00:01\r\u001b[K     |████████████▉                   | 645kB 2.8MB/s eta 0:00:01\r\u001b[K     |█████████████                   | 655kB 2.8MB/s eta 0:00:01\r\u001b[K     |█████████████▏                  | 665kB 2.8MB/s eta 0:00:01\r\u001b[K     |█████████████▍                  | 675kB 2.8MB/s eta 0:00:01\r\u001b[K     |█████████████▋                  | 686kB 2.8MB/s eta 0:00:01\r\u001b[K     |█████████████▉                  | 696kB 2.8MB/s eta 0:00:01\r\u001b[K     |██████████████                  | 706kB 2.8MB/s eta 0:00:01\r\u001b[K     |██████████████▏                 | 716kB 2.8MB/s eta 0:00:01\r\u001b[K     |██████████████▍                 | 727kB 2.8MB/s eta 0:00:01\r\u001b[K     |██████████████▋                 | 737kB 2.8MB/s eta 0:00:01\r\u001b[K     |██████████████▉                 | 747kB 2.8MB/s eta 0:00:01\r\u001b[K     |███████████████                 | 757kB 2.8MB/s eta 0:00:01\r\u001b[K     |███████████████▎                | 768kB 2.8MB/s eta 0:00:01\r\u001b[K     |███████████████▍                | 778kB 2.8MB/s eta 0:00:01\r\u001b[K     |███████████████▋                | 788kB 2.8MB/s eta 0:00:01\r\u001b[K     |███████████████▉                | 798kB 2.8MB/s eta 0:00:01\r\u001b[K     |████████████████                | 808kB 2.8MB/s eta 0:00:01\r\u001b[K     |████████████████▎               | 819kB 2.8MB/s eta 0:00:01\r\u001b[K     |████████████████▌               | 829kB 2.8MB/s eta 0:00:01\r\u001b[K     |████████████████▋               | 839kB 2.8MB/s eta 0:00:01\r\u001b[K     |████████████████▉               | 849kB 2.8MB/s eta 0:00:01\r\u001b[K     |█████████████████               | 860kB 2.8MB/s eta 0:00:01\r\u001b[K     |█████████████████▎              | 870kB 2.8MB/s eta 0:00:01\r\u001b[K     |█████████████████▌              | 880kB 2.8MB/s eta 0:00:01\r\u001b[K     |█████████████████▋              | 890kB 2.8MB/s eta 0:00:01\r\u001b[K     |█████████████████▉              | 901kB 2.8MB/s eta 0:00:01\r\u001b[K     |██████████████████              | 911kB 2.8MB/s eta 0:00:01\r\u001b[K     |██████████████████▎             | 921kB 2.8MB/s eta 0:00:01\r\u001b[K     |██████████████████▌             | 931kB 2.8MB/s eta 0:00:01\r\u001b[K     |██████████████████▊             | 942kB 2.8MB/s eta 0:00:01\r\u001b[K     |██████████████████▉             | 952kB 2.8MB/s eta 0:00:01\r\u001b[K     |███████████████████             | 962kB 2.8MB/s eta 0:00:01\r\u001b[K     |███████████████████▎            | 972kB 2.8MB/s eta 0:00:01\r\u001b[K     |███████████████████▌            | 983kB 2.8MB/s eta 0:00:01\r\u001b[K     |███████████████████▊            | 993kB 2.8MB/s eta 0:00:01\r\u001b[K     |████████████████████            | 1.0MB 2.8MB/s eta 0:00:01\r\u001b[K     |████████████████████            | 1.0MB 2.8MB/s eta 0:00:01\r\u001b[K     |████████████████████▎           | 1.0MB 2.8MB/s eta 0:00:01\r\u001b[K     |████████████████████▌           | 1.0MB 2.8MB/s eta 0:00:01\r\u001b[K     |████████████████████▊           | 1.0MB 2.8MB/s eta 0:00:01\r\u001b[K     |█████████████████████           | 1.1MB 2.8MB/s eta 0:00:01\r\u001b[K     |█████████████████████▏          | 1.1MB 2.8MB/s eta 0:00:01\r\u001b[K     |█████████████████████▎          | 1.1MB 2.8MB/s eta 0:00:01\r\u001b[K     |█████████████████████▌          | 1.1MB 2.8MB/s eta 0:00:01\r\u001b[K     |█████████████████████▊          | 1.1MB 2.8MB/s eta 0:00:01\r\u001b[K     |██████████████████████          | 1.1MB 2.8MB/s eta 0:00:01\r\u001b[K     |██████████████████████▏         | 1.1MB 2.8MB/s eta 0:00:01\r\u001b[K     |██████████████████████▍         | 1.1MB 2.8MB/s eta 0:00:01\r\u001b[K     |██████████████████████▌         | 1.1MB 2.8MB/s eta 0:00:01\r\u001b[K     |██████████████████████▊         | 1.1MB 2.8MB/s eta 0:00:01\r\u001b[K     |███████████████████████         | 1.2MB 2.8MB/s eta 0:00:01\r\u001b[K     |███████████████████████▏        | 1.2MB 2.8MB/s eta 0:00:01\r\u001b[K     |███████████████████████▍        | 1.2MB 2.8MB/s eta 0:00:01\r\u001b[K     |███████████████████████▌        | 1.2MB 2.8MB/s eta 0:00:01\r\u001b[K     |███████████████████████▊        | 1.2MB 2.8MB/s eta 0:00:01\r\u001b[K     |████████████████████████        | 1.2MB 2.8MB/s eta 0:00:01\r\u001b[K     |████████████████████████▏       | 1.2MB 2.8MB/s eta 0:00:01\r\u001b[K     |████████████████████████▍       | 1.2MB 2.8MB/s eta 0:00:01\r\u001b[K     |████████████████████████▋       | 1.2MB 2.8MB/s eta 0:00:01\r\u001b[K     |████████████████████████▊       | 1.2MB 2.8MB/s eta 0:00:01\r\u001b[K     |█████████████████████████       | 1.3MB 2.8MB/s eta 0:00:01\r\u001b[K     |█████████████████████████▏      | 1.3MB 2.8MB/s eta 0:00:01\r\u001b[K     |█████████████████████████▍      | 1.3MB 2.8MB/s eta 0:00:01\r\u001b[K     |█████████████████████████▋      | 1.3MB 2.8MB/s eta 0:00:01\r\u001b[K     |█████████████████████████▉      | 1.3MB 2.8MB/s eta 0:00:01\r\u001b[K     |██████████████████████████      | 1.3MB 2.8MB/s eta 0:00:01\r\u001b[K     |██████████████████████████▏     | 1.3MB 2.8MB/s eta 0:00:01\r\u001b[K     |██████████████████████████▍     | 1.3MB 2.8MB/s eta 0:00:01\r\u001b[K     |██████████████████████████▋     | 1.3MB 2.8MB/s eta 0:00:01\r\u001b[K     |██████████████████████████▉     | 1.4MB 2.8MB/s eta 0:00:01\r\u001b[K     |███████████████████████████     | 1.4MB 2.8MB/s eta 0:00:01\r\u001b[K     |███████████████████████████▏    | 1.4MB 2.8MB/s eta 0:00:01\r\u001b[K     |███████████████████████████▍    | 1.4MB 2.8MB/s eta 0:00:01\r\u001b[K     |███████████████████████████▋    | 1.4MB 2.8MB/s eta 0:00:01\r\u001b[K     |███████████████████████████▉    | 1.4MB 2.8MB/s eta 0:00:01\r\u001b[K     |████████████████████████████    | 1.4MB 2.8MB/s eta 0:00:01\r\u001b[K     |████████████████████████████▏   | 1.4MB 2.8MB/s eta 0:00:01\r\u001b[K     |████████████████████████████▍   | 1.4MB 2.8MB/s eta 0:00:01\r\u001b[K     |████████████████████████████▋   | 1.4MB 2.8MB/s eta 0:00:01\r\u001b[K     |████████████████████████████▉   | 1.5MB 2.8MB/s eta 0:00:01\r\u001b[K     |█████████████████████████████   | 1.5MB 2.8MB/s eta 0:00:01\r\u001b[K     |█████████████████████████████▎  | 1.5MB 2.8MB/s eta 0:00:01\r\u001b[K     |█████████████████████████████▍  | 1.5MB 2.8MB/s eta 0:00:01\r\u001b[K     |█████████████████████████████▋  | 1.5MB 2.8MB/s eta 0:00:01\r\u001b[K     |█████████████████████████████▉  | 1.5MB 2.8MB/s eta 0:00:01\r\u001b[K     |██████████████████████████████  | 1.5MB 2.8MB/s eta 0:00:01\r\u001b[K     |██████████████████████████████▎ | 1.5MB 2.8MB/s eta 0:00:01\r\u001b[K     |██████████████████████████████▌ | 1.5MB 2.8MB/s eta 0:00:01\r\u001b[K     |██████████████████████████████▋ | 1.5MB 2.8MB/s eta 0:00:01\r\u001b[K     |██████████████████████████████▉ | 1.6MB 2.8MB/s eta 0:00:01\r\u001b[K     |███████████████████████████████ | 1.6MB 2.8MB/s eta 0:00:01\r\u001b[K     |███████████████████████████████▎| 1.6MB 2.8MB/s eta 0:00:01\r\u001b[K     |███████████████████████████████▌| 1.6MB 2.8MB/s eta 0:00:01\r\u001b[K     |███████████████████████████████▊| 1.6MB 2.8MB/s eta 0:00:01\r\u001b[K     |███████████████████████████████▉| 1.6MB 2.8MB/s eta 0:00:01\r\u001b[K     |████████████████████████████████| 1.6MB 2.8MB/s \n",
            "\u001b[?25hRequirement already satisfied: wheel>=0.23.0 in /usr/local/lib/python3.6/dist-packages (from pyLDAvis) (0.34.2)\n",
            "Requirement already satisfied: numpy>=1.9.2 in /usr/local/lib/python3.6/dist-packages (from pyLDAvis) (1.18.4)\n",
            "Requirement already satisfied: scipy>=0.18.0 in /usr/local/lib/python3.6/dist-packages (from pyLDAvis) (1.4.1)\n",
            "Requirement already satisfied: pandas>=0.17.0 in /usr/local/lib/python3.6/dist-packages (from pyLDAvis) (1.0.4)\n",
            "Requirement already satisfied: joblib>=0.8.4 in /usr/local/lib/python3.6/dist-packages (from pyLDAvis) (0.15.1)\n",
            "Requirement already satisfied: jinja2>=2.7.2 in /usr/local/lib/python3.6/dist-packages (from pyLDAvis) (2.11.2)\n",
            "Requirement already satisfied: numexpr in /usr/local/lib/python3.6/dist-packages (from pyLDAvis) (2.7.1)\n",
            "Requirement already satisfied: pytest in /usr/local/lib/python3.6/dist-packages (from pyLDAvis) (3.6.4)\n",
            "Requirement already satisfied: future in /usr/local/lib/python3.6/dist-packages (from pyLDAvis) (0.16.0)\n",
            "Collecting funcy\n",
            "\u001b[?25l  Downloading https://files.pythonhosted.org/packages/ce/4b/6ffa76544e46614123de31574ad95758c421aae391a1764921b8a81e1eae/funcy-1.14.tar.gz (548kB)\n",
            "\u001b[K     |████████████████████████████████| 552kB 11.0MB/s \n",
            "\u001b[?25hRequirement already satisfied: python-dateutil>=2.6.1 in /usr/local/lib/python3.6/dist-packages (from pandas>=0.17.0->pyLDAvis) (2.8.1)\n",
            "Requirement already satisfied: pytz>=2017.2 in /usr/local/lib/python3.6/dist-packages (from pandas>=0.17.0->pyLDAvis) (2018.9)\n",
            "Requirement already satisfied: MarkupSafe>=0.23 in /usr/local/lib/python3.6/dist-packages (from jinja2>=2.7.2->pyLDAvis) (1.1.1)\n",
            "Requirement already satisfied: setuptools in /usr/local/lib/python3.6/dist-packages (from pytest->pyLDAvis) (47.1.1)\n",
            "Requirement already satisfied: more-itertools>=4.0.0 in /usr/local/lib/python3.6/dist-packages (from pytest->pyLDAvis) (8.3.0)\n",
            "Requirement already satisfied: attrs>=17.4.0 in /usr/local/lib/python3.6/dist-packages (from pytest->pyLDAvis) (19.3.0)\n",
            "Requirement already satisfied: six>=1.10.0 in /usr/local/lib/python3.6/dist-packages (from pytest->pyLDAvis) (1.12.0)\n",
            "Requirement already satisfied: pluggy<0.8,>=0.5 in /usr/local/lib/python3.6/dist-packages (from pytest->pyLDAvis) (0.7.1)\n",
            "Requirement already satisfied: atomicwrites>=1.0 in /usr/local/lib/python3.6/dist-packages (from pytest->pyLDAvis) (1.4.0)\n",
            "Requirement already satisfied: py>=1.5.0 in /usr/local/lib/python3.6/dist-packages (from pytest->pyLDAvis) (1.8.1)\n",
            "Building wheels for collected packages: pyLDAvis, funcy\n",
            "  Building wheel for pyLDAvis (setup.py) ... \u001b[?25l\u001b[?25hdone\n",
            "  Created wheel for pyLDAvis: filename=pyLDAvis-2.1.2-py2.py3-none-any.whl size=97711 sha256=9198f30558a82d2dfc8bfcdeeb724e9b90f9c394b6fc5d46c43949bb209b146d\n",
            "  Stored in directory: /root/.cache/pip/wheels/98/71/24/513a99e58bb6b8465bae4d2d5e9dba8f0bef8179e3051ac414\n",
            "  Building wheel for funcy (setup.py) ... \u001b[?25l\u001b[?25hdone\n",
            "  Created wheel for funcy: filename=funcy-1.14-py2.py3-none-any.whl size=32042 sha256=5f0371fc8bfc49f1f6829e5f35732b5f3482bb9abf9d8dbfcda91905b32afe3f\n",
            "  Stored in directory: /root/.cache/pip/wheels/20/5a/d8/1d875df03deae6f178dfdf70238cca33f948ef8a6f5209f2eb\n",
            "Successfully built pyLDAvis funcy\n",
            "Installing collected packages: funcy, pyLDAvis\n",
            "Successfully installed funcy-1.14 pyLDAvis-2.1.2\n"
          ],
          "name": "stdout"
        }
      ]
    },
    {
      "cell_type": "code",
      "metadata": {
        "id": "US2kqkTXrwSK",
        "colab_type": "code",
        "colab": {}
      },
      "source": [
        "import pyLDAvis.gensim\n",
        "pyLDAvis.enable_notebook()"
      ],
      "execution_count": 0,
      "outputs": []
    },
    {
      "cell_type": "code",
      "metadata": {
        "id": "4bMyNkrMrwSQ",
        "colab_type": "code",
        "outputId": "0c3ef309-714a-412e-c091-0b802a3fab4a",
        "colab": {
          "base_uri": "https://localhost:8080/",
          "height": 881
        }
      },
      "source": [
        "pyLDAvis.gensim.prepare(lda_model, bow, dic)"
      ],
      "execution_count": 0,
      "outputs": [
        {
          "output_type": "execute_result",
          "data": {
            "text/html": [
              "\n",
              "<link rel=\"stylesheet\" type=\"text/css\" href=\"https://cdn.rawgit.com/bmabey/pyLDAvis/files/ldavis.v1.0.0.css\">\n",
              "\n",
              "\n",
              "<div id=\"ldavis_el120140276031473008161577950\"></div>\n",
              "<script type=\"text/javascript\">\n",
              "\n",
              "var ldavis_el120140276031473008161577950_data = {\"mdsDat\": {\"x\": [0.0967100997707359, 0.028178924484776526, -0.11617033423710749, -0.041347145792209744, 0.0326284557738047], \"y\": [0.05906585248941961, 0.02122895759733301, -0.0026972596357050494, 0.05531454836532925, -0.13291209881637683], \"topics\": [1, 2, 3, 4, 5], \"cluster\": [1, 1, 1, 1, 1], \"Freq\": [24.286067962646484, 22.827974319458008, 22.285736083984375, 16.87004852294922, 13.73017406463623]}, \"tinfo\": {\"Term\": [\"film\", \"award\", \"best\", \"blair\", \"labour\", \"phone\", \"elect\", \"mobil\", \"wale\", \"rise\", \"year\", \"oscar\", \"tori\", \"technolog\", \"sale\", \"england\", \"gadget\", \"parti\", \"club\", \"nomin\", \"growth\", \"brown\", \"music\", \"firm\", \"roddick\", \"rat\", \"star\", \"actor\", \"digit\", \"profit\", \"patent\", \"yuko\", \"jeev\", \"harrier\", \"robot\", \"telewest\", \"linux\", \"bloglin\", \"bet\", \"baikal\", \"cyprus\", \"faro\", \"ahold\", \"braveri\", \"hailey\", \"dialler\", \"marsh\", \"incorpor\", \"lanzon\", \"vodafon\", \"terrestri\", \"honda\", \"inbev\", \"gazprom\", \"argonaut\", \"gartner\", \"rossignol\", \"balco\", \"icsti\", \"motor\", \"premium\", \"bankruptci\", \"desktop\", \"profit\", \"download\", \"scam\", \"search\", \"compens\", \"piraci\", \"alert\", \"devic\", \"digit\", \"airlin\", \"sale\", \"phone\", \"mobil\", \"custom\", \"technolog\", \"music\", \"compani\", \"file\", \"video\", \"firm\", \"softwar\", \"market\", \"servic\", \"busi\", \"program\", \"oper\", \"media\", \"content\", \"sell\", \"say\", \"user\", \"million\", \"peopl\", \"consum\", \"product\", \"year\", \"share\", \"world\", \"like\", \"work\", \"european\", \"number\", \"game\", \"offer\", \"month\", \"time\", \"want\", \"nadal\", \"foster\", \"kenteri\", \"laser\", \"lyco\", \"screensav\", \"thanou\", \"cairn\", \"spywar\", \"southcorp\", \"iaaf\", \"jamieson\", \"heathrow\", \"runway\", \"dope\", \"tevez\", \"athen\", \"safin\", \"hendrix\", \"stanst\", \"halliwel\", \"varga\", \"murray\", \"dechi\", \"redford\", \"sundanc\", \"turkcel\", \"greenspan\", \"gradi\", \"duchi\", \"olymp\", \"roddick\", \"greek\", \"currenc\", \"turkey\", \"belgian\", \"drug\", \"indoor\", \"gamer\", \"virus\", \"spam\", \"broadband\", \"airport\", \"doubl\", \"speed\", \"game\", \"athlet\", \"titl\", \"graphic\", \"say\", \"feder\", \"test\", \"holm\", \"year\", \"anti\", \"microsoft\", \"firm\", \"open\", \"champion\", \"time\", \"peopl\", \"world\", \"final\", \"generat\", \"play\", \"month\", \"second\", \"like\", \"come\", \"develop\", \"expect\", \"hold\", \"compani\", \"start\", \"take\", \"point\", \"plan\", \"govern\", \"servic\", \"report\", \"player\", \"need\", \"want\", \"think\", \"glazer\", \"mourinho\", \"prescott\", \"chelsea\", \"munster\", \"ulster\", \"galla\", \"leinster\", \"borussia\", \"premier\", \"driscol\", \"regga\", \"dortmund\", \"wilkinson\", \"cole\", \"ghosn\", \"monsanto\", \"quango\", \"milan\", \"sizzla\", \"palestinian\", \"peston\", \"regiment\", \"parmalat\", \"repay\", \"embargo\", \"sec\", \"corri\", \"boateng\", \"sumitomo\", \"dawson\", \"trust\", \"gordon\", \"gara\", \"chancellor\", \"benitez\", \"liverpool\", \"premiership\", \"blair\", \"elect\", \"brown\", \"leagu\", \"prime\", \"club\", \"labour\", \"scotland\", \"england\", \"leicest\", \"arsenal\", \"ireland\", \"minist\", \"robinson\", \"itali\", \"parti\", \"tori\", \"lord\", \"team\", \"injuri\", \"say\", \"unit\", \"public\", \"play\", \"tell\", \"leader\", \"campaign\", \"govern\", \"nation\", \"player\", \"year\", \"go\", \"week\", \"time\", \"game\", \"world\", \"come\", \"half\", \"want\", \"work\", \"add\", \"henson\", \"remak\", \"ballet\", \"nestl\", \"bjorn\", \"knife\", \"roundabout\", \"kilroy\", \"llewellyn\", \"thunderbird\", \"sinclair\", \"ukip\", \"recycl\", \"kaprano\", \"wolv\", \"hoddl\", \"metlif\", \"musharraf\", \"notebook\", \"chronomet\", \"cunningham\", \"marin\", \"arnesen\", \"kiwi\", \"santini\", \"servant\", \"rail\", \"burner\", \"tbwa\", \"maori\", \"ruddock\", \"zealand\", \"mous\", \"wale\", \"gadget\", \"appl\", \"evan\", \"rugbi\", \"polic\", \"asylum\", \"journalist\", \"healey\", \"howard\", \"women\", \"camera\", \"magazin\", \"children\", \"say\", \"laptop\", \"tori\", \"card\", \"peopl\", \"think\", \"immigr\", \"work\", \"parti\", \"britain\", \"list\", \"time\", \"phone\", \"plan\", \"govern\", \"money\", \"like\", \"mobil\", \"home\", \"tell\", \"come\", \"go\", \"year\", \"want\", \"includ\", \"world\", \"game\", \"number\", \"labour\", \"show\", \"player\", \"focker\", \"oscar\", \"niro\", \"cosbi\", \"sideway\", \"spurlock\", \"spector\", \"aragon\", \"bafta\", \"khatami\", \"chidambaram\", \"key\", \"goldsmith\", \"academi\", \"award\", \"slater\", \"contemporari\", \"biopic\", \"eastwood\", \"hank\", \"jean\", \"jayn\", \"scorses\", \"foxx\", \"snoop\", \"upward\", \"confess\", \"manic\", \"fahrenheit\", \"duet\", \"nomin\", \"ceremoni\", \"nomine\", \"comedi\", \"screenplay\", \"categori\", \"film\", \"actress\", \"actor\", \"rat\", \"aviat\", \"woman\", \"edward\", \"best\", \"rise\", \"prize\", \"crude\", \"star\", \"hollywood\", \"growth\", \"angel\", \"quarter\", \"price\", \"year\", \"economist\", \"economi\", \"winner\", \"inflat\", \"rate\", \"say\", \"budget\", \"take\", \"month\", \"bank\", \"econom\", \"figur\", \"offic\", \"includ\", \"perform\", \"time\", \"increas\", \"show\", \"go\", \"play\", \"place\"], \"Freq\": [252.0, 139.0, 248.0, 176.0, 179.0, 193.0, 183.0, 194.0, 104.0, 153.0, 782.0, 53.0, 106.0, 166.0, 207.0, 137.0, 81.0, 166.0, 114.0, 55.0, 106.0, 100.0, 266.0, 281.0, 74.0, 64.0, 126.0, 61.0, 118.0, 93.0, 32.42313003540039, 50.9199333190918, 24.454591751098633, 18.699378967285156, 37.27573776245117, 14.845236778259277, 14.842350959777832, 15.704492568969727, 15.667348861694336, 12.842649459838867, 11.90737533569336, 10.934123992919922, 11.790701866149902, 9.962224006652832, 11.758912086486816, 9.948687553405762, 9.000458717346191, 9.872932434082031, 9.87309741973877, 8.962606430053711, 8.962075233459473, 8.001107215881348, 7.9808878898620605, 17.704439163208008, 7.049319744110107, 10.5724458694458, 7.036239147186279, 7.032442569732666, 7.031285762786865, 14.071662902832031, 20.02643585205078, 26.022981643676758, 12.237603187561035, 78.89517211914062, 72.22836303710938, 19.527997970581055, 51.4241943359375, 17.052785873413086, 24.786401748657227, 22.43352508544922, 60.33000183105469, 87.87406158447266, 27.224916458129883, 142.87928771972656, 129.13584899902344, 129.71107482910156, 53.42924880981445, 111.04365539550781, 166.35182189941406, 161.8926544189453, 56.37575149536133, 54.8098030090332, 145.801025390625, 65.3741226196289, 121.22347259521484, 123.59375762939453, 69.036865234375, 48.18560028076172, 67.79419708251953, 53.06344223022461, 40.50196838378906, 69.13359069824219, 445.5431213378906, 62.272830963134766, 79.22098541259766, 152.13873291015625, 60.43907165527344, 61.959564208984375, 184.6181182861328, 77.1823501586914, 100.7839584350586, 90.71842193603516, 79.59555053710938, 63.8516731262207, 70.1353759765625, 78.2268295288086, 65.33096313476562, 68.24516296386719, 71.38368225097656, 64.74524688720703, 44.50224685668945, 13.42418098449707, 17.556310653686523, 12.532502174377441, 12.509005546569824, 12.495759010314941, 11.549070358276367, 10.720141410827637, 12.359573364257812, 9.889124870300293, 10.695454597473145, 9.85109806060791, 9.835835456848145, 8.995956420898438, 11.460576057434082, 8.985851287841797, 23.706636428833008, 12.224026679992676, 8.133828163146973, 8.107675552368164, 7.246772289276123, 7.246509552001953, 7.237653732299805, 8.02800464630127, 7.2165141105651855, 7.215610027313232, 7.20044469833374, 7.192037105560303, 6.3616485595703125, 6.360925674438477, 60.27952575683594, 64.96232604980469, 14.204862594604492, 14.927727699279785, 13.310552597045898, 13.277287483215332, 39.30497360229492, 28.209495544433594, 28.05233383178711, 42.88502502441406, 29.963624954223633, 51.5993537902832, 18.871257781982422, 42.611392974853516, 36.898681640625, 205.34686279296875, 20.8850040435791, 55.63221740722656, 21.245588302612305, 475.94561767578125, 42.3929557800293, 43.7110595703125, 27.956830978393555, 215.39993286132812, 39.761295318603516, 39.152034759521484, 96.26358795166016, 66.77582550048828, 46.70637130737305, 117.84622192382812, 123.34394836425781, 101.7786865234375, 61.278846740722656, 31.360576629638672, 85.70917510986328, 73.11541748046875, 60.595951080322266, 78.5314712524414, 76.24697875976562, 51.78215026855469, 59.60176467895508, 56.00522994995117, 69.5172119140625, 54.29825210571289, 64.40056610107422, 51.19627380371094, 57.638065338134766, 60.589820861816406, 57.95793151855469, 54.968502044677734, 55.47431945800781, 53.5384521484375, 53.95671463012695, 53.51688766479492, 35.47587203979492, 19.741548538208008, 16.88498878479004, 40.838279724121094, 15.964606285095215, 15.03784465789795, 13.197746276855469, 13.174213409423828, 12.250494956970215, 13.969003677368164, 15.710287094116211, 11.343362808227539, 11.330338478088379, 11.309041976928711, 12.150359153747559, 10.398168563842773, 9.481884956359863, 9.477185249328613, 15.450970649719238, 8.567566871643066, 9.38729190826416, 7.634512424468994, 7.632784843444824, 7.629044532775879, 8.469856262207031, 7.618791580200195, 7.616684436798096, 10.993839263916016, 8.455753326416016, 7.6047539710998535, 9.28443717956543, 38.64894104003906, 27.381942749023438, 24.938243865966797, 52.25708770751953, 18.24736213684082, 22.003368377685547, 24.892316818237305, 139.81600952148438, 139.98431396484375, 79.5189208984375, 37.83708953857422, 64.61941528320312, 88.65599060058594, 132.751708984375, 50.421844482421875, 95.57601165771484, 23.359548568725586, 33.40709686279297, 69.94123077392578, 99.20222473144531, 22.2075252532959, 36.231971740722656, 91.4512710571289, 61.98854064941406, 52.24462890625, 72.44866180419922, 45.568931579589844, 458.0263977050781, 63.0343017578125, 75.60726165771484, 118.11892700195312, 96.71009063720703, 51.105186462402344, 58.2141227722168, 97.01056671142578, 73.81414031982422, 81.38109588623047, 139.37713623046875, 83.1339111328125, 67.42576599121094, 94.64164733886719, 87.3770751953125, 77.73963928222656, 71.20321655273438, 56.404056549072266, 61.197715759277344, 62.65597152709961, 58.97858428955078, 17.45118522644043, 13.162890434265137, 27.881134033203125, 10.573057174682617, 10.530362129211426, 9.717994689941406, 9.69753646850586, 10.484746932983398, 8.8328857421875, 8.82375717163086, 7.978811740875244, 14.332761764526367, 7.950418472290039, 7.940037727355957, 7.127669334411621, 7.125216960906982, 7.118725776672363, 7.117612361907959, 7.114636421203613, 7.1135382652282715, 7.111514091491699, 7.106293678283691, 7.105691432952881, 6.238127708435059, 6.234532833099365, 6.225800037384033, 5.384649276733398, 5.378864765167236, 5.371299743652344, 5.368824481964111, 9.801409721374512, 33.93292236328125, 9.70197582244873, 76.39207458496094, 54.62141799926758, 42.87912368774414, 12.677071571350098, 26.473228454589844, 37.490413665771484, 17.93259620666504, 19.843673706054688, 9.571002006530762, 41.449134826660156, 37.47019577026367, 35.959449768066406, 22.9050235748291, 34.98648452758789, 315.97393798828125, 19.579532623291016, 43.1385498046875, 29.321971893310547, 106.18753051757812, 65.90522766113281, 21.65586280822754, 74.63722229003906, 53.423648834228516, 41.7152214050293, 39.19899368286133, 85.19705963134766, 54.43940734863281, 58.06370162963867, 64.2751235961914, 37.93031692504883, 61.17176818847656, 46.07541275024414, 40.31200408935547, 48.427276611328125, 51.91787338256836, 49.672603607177734, 66.63519287109375, 45.86811065673828, 44.629913330078125, 46.681610107421875, 47.22841262817383, 42.48089599609375, 40.61811065673828, 38.827857971191406, 38.917240142822266, 15.096487998962402, 50.5989875793457, 8.963947296142578, 8.947029113769531, 8.940821647644043, 8.099987983703613, 8.09417724609375, 11.278124809265137, 18.53312873840332, 7.219050407409668, 7.211855411529541, 7.209750175476074, 7.173305034637451, 23.76240348815918, 124.039794921875, 6.276392936706543, 6.25995397567749, 6.238386631011963, 7.01637601852417, 5.458601951599121, 7.019954204559326, 5.452015399932861, 7.0043463706970215, 10.108755111694336, 5.437143802642822, 5.416036128997803, 11.628630638122559, 6.164135932922363, 5.386836051940918, 5.357646465301514, 45.823665618896484, 25.021102905273438, 9.859201431274414, 26.767507553100586, 8.398768424987793, 23.76091194152832, 169.15672302246094, 26.344247817993164, 45.369022369384766, 46.58257293701172, 24.884916305541992, 21.680999755859375, 22.100759506225586, 130.25961303710938, 79.31908416748047, 31.6103515625, 10.763675689697266, 59.68794250488281, 19.781293869018555, 50.015892028808594, 17.53873062133789, 40.442630767822266, 55.7931022644043, 176.37722778320312, 17.192811965942383, 44.5611686706543, 34.833290100097656, 21.511869430541992, 28.756010055541992, 206.86209106445312, 30.70722007751465, 67.06822967529297, 59.61368942260742, 39.254337310791016, 34.042205810546875, 37.65212631225586, 36.26766586303711, 45.98352813720703, 34.84553146362305, 49.7695198059082, 35.16434860229492, 34.60655212402344, 35.875885009765625, 36.36800765991211, 32.342864990234375], \"Total\": [252.0, 139.0, 248.0, 176.0, 179.0, 193.0, 183.0, 194.0, 104.0, 153.0, 782.0, 53.0, 106.0, 166.0, 207.0, 137.0, 81.0, 166.0, 114.0, 55.0, 106.0, 100.0, 266.0, 281.0, 74.0, 64.0, 126.0, 61.0, 118.0, 93.0, 33.22289276123047, 52.69774627685547, 25.374114990234375, 19.510839462280273, 38.9993896484375, 15.597404479980469, 15.598819732666016, 16.564775466918945, 16.559276580810547, 13.634276390075684, 12.65976333618164, 11.681035041809082, 12.653501510620117, 10.702431678771973, 12.645331382751465, 10.700581550598145, 9.723845481872559, 10.69188117980957, 10.692575454711914, 9.720223426818848, 9.72054386138916, 8.74260139465332, 8.740511894226074, 19.41205596923828, 7.765610218048096, 11.64831256866455, 7.764244556427002, 7.763864994049072, 7.764118671417236, 15.548696517944336, 22.28915786743164, 29.064565658569336, 13.566544532775879, 93.60456848144531, 86.60831451416016, 22.24941635131836, 62.73526382446289, 19.38278579711914, 28.97865867614746, 26.063007354736328, 78.27057647705078, 118.82487487792969, 32.7423095703125, 207.7904510498047, 193.8264617919922, 194.9201202392578, 71.46833801269531, 166.9785919189453, 266.8021240234375, 286.64825439453125, 81.33132934570312, 80.47775268554688, 281.7444152832031, 102.62613677978516, 231.0254364013672, 247.22955322265625, 119.13945007324219, 74.39338684082031, 118.55671691894531, 84.87417602539062, 58.84724044799805, 126.39698028564453, 1902.35107421875, 110.29147338867188, 162.06253051757812, 450.77606201171875, 109.12335968017578, 113.88921356201172, 782.4075927734375, 181.142578125, 339.2992858886719, 306.4886169433594, 282.03448486328125, 142.31907653808594, 221.63534545898438, 439.2555236816406, 165.00694274902344, 248.02320861816406, 418.838134765625, 233.2777099609375, 45.99991226196289, 14.172929763793945, 18.59440040588379, 13.287158966064453, 13.289578437805176, 13.289579391479492, 12.406003952026367, 11.520634651184082, 13.290788650512695, 10.6363525390625, 11.519968032836914, 10.639961242675781, 10.639566421508789, 9.751540184020996, 12.423539161682129, 9.75199031829834, 25.74627113342285, 13.303924560546875, 8.866732597351074, 8.86763858795166, 7.982758045196533, 7.982878684997559, 7.983172416687012, 8.873340606689453, 7.984116077423096, 7.98378324508667, 7.985389709472656, 7.984289646148682, 7.098496913909912, 7.098451137542725, 67.67645263671875, 74.76178741455078, 15.991110801696777, 16.94637107849121, 15.109288215637207, 15.164267539978027, 48.10801315307617, 33.943885803222656, 35.09727096557617, 56.776153564453125, 38.87114334106445, 72.45257568359375, 23.317535400390625, 61.48911666870117, 52.92234420776367, 439.2555236816406, 26.896623611450195, 97.19910430908203, 28.36248016357422, 1902.35107421875, 72.62578582763672, 75.85582733154297, 42.30849838256836, 782.4075927734375, 70.65284729003906, 73.03884887695312, 281.7444152832031, 166.0596923828125, 97.21142578125, 418.838134765625, 450.77606201171875, 339.2992858886719, 154.93727111816406, 53.38471221923828, 305.20306396484375, 248.02320861816406, 176.43003845214844, 306.4886169433594, 291.80072021484375, 133.37274169921875, 182.86642456054688, 162.88722229003906, 286.64825439453125, 159.10231018066406, 277.91168212890625, 135.16334533691406, 223.397705078125, 276.9815673828125, 247.22955322265625, 195.90821838378906, 229.9295196533203, 199.85743713378906, 233.2777099609375, 222.50338745117188, 36.343013763427734, 20.494874954223633, 17.69325828552246, 42.803977966308594, 16.766714096069336, 15.834050178527832, 13.964947700500488, 13.968132019042969, 13.035155296325684, 14.888668060302734, 16.750263214111328, 12.1023530960083, 12.102124214172363, 12.09967041015625, 13.027483940124512, 11.169209480285645, 10.23536205291748, 10.234907150268555, 16.7374324798584, 9.30421257019043, 10.23126220703125, 8.370635986328125, 8.370508193969727, 8.372288703918457, 9.29749870300293, 8.37022876739502, 8.369693756103516, 12.086505889892578, 9.297515869140625, 8.369882583618164, 10.226598739624023, 43.52326202392578, 30.619585037231445, 27.83973503112793, 59.33013916015625, 20.420900344848633, 25.006031036376953, 28.679357528686523, 176.5414276123047, 183.71656799316406, 100.68818664550781, 45.31533432006836, 81.05130767822266, 114.9547119140625, 179.58033752441406, 65.29559326171875, 137.23678588867188, 27.77149772644043, 42.397403717041016, 105.80855560302734, 172.3596954345703, 26.76279640197754, 50.091060638427734, 166.54916381835938, 106.86852264404297, 85.48184967041016, 134.2947540283203, 72.46717834472656, 1902.35107421875, 116.08781433105469, 151.6591339111328, 305.20306396484375, 233.07806396484375, 91.75653076171875, 113.82505798339844, 276.9815673828125, 185.39955139160156, 229.9295196533203, 782.4075927734375, 267.41424560546875, 179.78814697265625, 418.838134765625, 439.2555236816406, 339.2992858886719, 291.80072021484375, 129.5120391845703, 233.2777099609375, 282.03448486328125, 187.0056915283203, 18.308250427246094, 13.95611572265625, 29.675928115844727, 11.34743595123291, 11.34826374053955, 10.477557182312012, 10.477304458618164, 11.347979545593262, 9.606888771057129, 9.60793399810791, 8.738478660583496, 15.707748413085938, 8.740431785583496, 8.740245819091797, 7.866601467132568, 7.86664342880249, 7.8680524826049805, 7.867284774780273, 7.868338108062744, 7.868462562561035, 7.86785888671875, 7.869246959686279, 7.869583606719971, 6.998617172241211, 7.000180721282959, 6.999300003051758, 6.12780237197876, 6.127787113189697, 6.1292009353637695, 6.128971099853516, 11.4016695022583, 42.29526901245117, 11.410131454467773, 104.11348724365234, 81.05347442626953, 62.795589447021484, 15.807781219482422, 39.080997467041016, 61.080421447753906, 24.78404426574707, 28.357635498046875, 11.45899486541748, 76.51749420166016, 67.20679473876953, 65.42242431640625, 36.93552017211914, 68.82621765136719, 1902.35107421875, 32.7278938293457, 106.86852264404297, 60.774169921875, 450.77606201171875, 222.50338745117188, 39.203426361083984, 282.03448486328125, 166.54916381835938, 111.11304473876953, 102.9388656616211, 418.838134765625, 193.8264617919922, 223.397705078125, 276.9815673828125, 112.50020599365234, 306.4886169433594, 194.9201202392578, 149.70855712890625, 233.07806396484375, 291.80072021484375, 267.41424560546875, 782.4075927734375, 233.2777099609375, 227.0938720703125, 339.2992858886719, 439.2555236816406, 221.63534545898438, 179.58033752441406, 143.09701538085938, 229.9295196533203, 15.919485092163086, 53.954925537109375, 9.737946510314941, 9.738553047180176, 9.737245559692383, 8.854966163635254, 8.856115341186523, 12.387308120727539, 20.379348754882812, 7.9729413986206055, 7.973277568817139, 7.971538543701172, 7.975142478942871, 26.6061954498291, 139.26258850097656, 7.092981815338135, 7.09143590927124, 7.0904083251953125, 7.974859237670898, 6.205994129180908, 7.985340118408203, 6.205946922302246, 7.982663631439209, 11.526654243469238, 6.20953369140625, 6.211420059204102, 13.364616394042969, 7.089515686035156, 6.207017421722412, 6.211926460266113, 55.09715270996094, 30.083024978637695, 11.554905891418457, 32.71748733520508, 9.794770240783691, 29.37782096862793, 252.88650512695312, 33.92927169799805, 61.59782409667969, 64.88069152832031, 32.826480865478516, 29.206745147705078, 30.240127563476562, 248.12527465820312, 153.0166015625, 50.68654251098633, 13.258163452148438, 126.93927764892578, 30.0217227935791, 106.13577270507812, 25.762388229370117, 86.14883422851562, 141.02432250976562, 782.4075927734375, 25.76013946533203, 109.8690185546875, 76.17744445800781, 36.375999450683594, 59.541053771972656, 1902.35107421875, 67.86449432373047, 277.91168212890625, 248.02320861816406, 122.08847045898438, 94.33805847167969, 124.986572265625, 114.25552368164062, 227.0938720703125, 109.76419067382812, 418.838134765625, 154.81797790527344, 143.09701538085938, 267.41424560546875, 305.20306396484375, 152.169677734375], \"Category\": [\"Default\", \"Default\", \"Default\", \"Default\", \"Default\", \"Default\", \"Default\", \"Default\", \"Default\", \"Default\", \"Default\", \"Default\", \"Default\", \"Default\", \"Default\", \"Default\", \"Default\", \"Default\", \"Default\", \"Default\", \"Default\", \"Default\", \"Default\", \"Default\", \"Default\", \"Default\", \"Default\", \"Default\", \"Default\", \"Default\", \"Topic1\", \"Topic1\", \"Topic1\", \"Topic1\", \"Topic1\", \"Topic1\", \"Topic1\", \"Topic1\", \"Topic1\", \"Topic1\", \"Topic1\", \"Topic1\", \"Topic1\", \"Topic1\", \"Topic1\", \"Topic1\", \"Topic1\", \"Topic1\", \"Topic1\", \"Topic1\", \"Topic1\", \"Topic1\", \"Topic1\", \"Topic1\", \"Topic1\", \"Topic1\", \"Topic1\", \"Topic1\", \"Topic1\", \"Topic1\", \"Topic1\", \"Topic1\", \"Topic1\", \"Topic1\", \"Topic1\", \"Topic1\", \"Topic1\", \"Topic1\", \"Topic1\", \"Topic1\", \"Topic1\", \"Topic1\", \"Topic1\", \"Topic1\", \"Topic1\", \"Topic1\", \"Topic1\", \"Topic1\", \"Topic1\", \"Topic1\", \"Topic1\", \"Topic1\", \"Topic1\", \"Topic1\", \"Topic1\", \"Topic1\", \"Topic1\", \"Topic1\", \"Topic1\", \"Topic1\", \"Topic1\", \"Topic1\", \"Topic1\", \"Topic1\", \"Topic1\", \"Topic1\", \"Topic1\", \"Topic1\", \"Topic1\", \"Topic1\", \"Topic1\", \"Topic1\", \"Topic1\", \"Topic1\", \"Topic1\", \"Topic1\", \"Topic1\", \"Topic1\", \"Topic1\", \"Topic1\", \"Topic2\", \"Topic2\", \"Topic2\", \"Topic2\", \"Topic2\", \"Topic2\", \"Topic2\", \"Topic2\", \"Topic2\", \"Topic2\", \"Topic2\", \"Topic2\", \"Topic2\", \"Topic2\", \"Topic2\", \"Topic2\", \"Topic2\", \"Topic2\", \"Topic2\", \"Topic2\", \"Topic2\", \"Topic2\", \"Topic2\", \"Topic2\", \"Topic2\", \"Topic2\", \"Topic2\", \"Topic2\", \"Topic2\", \"Topic2\", \"Topic2\", \"Topic2\", \"Topic2\", \"Topic2\", \"Topic2\", \"Topic2\", \"Topic2\", \"Topic2\", \"Topic2\", \"Topic2\", \"Topic2\", \"Topic2\", \"Topic2\", \"Topic2\", \"Topic2\", \"Topic2\", \"Topic2\", \"Topic2\", \"Topic2\", \"Topic2\", \"Topic2\", \"Topic2\", \"Topic2\", \"Topic2\", \"Topic2\", \"Topic2\", \"Topic2\", \"Topic2\", \"Topic2\", \"Topic2\", \"Topic2\", \"Topic2\", \"Topic2\", \"Topic2\", \"Topic2\", \"Topic2\", \"Topic2\", \"Topic2\", \"Topic2\", \"Topic2\", \"Topic2\", \"Topic2\", \"Topic2\", \"Topic2\", \"Topic2\", \"Topic2\", \"Topic2\", \"Topic2\", \"Topic2\", \"Topic2\", \"Topic2\", \"Topic2\", \"Topic2\", \"Topic2\", \"Topic3\", \"Topic3\", \"Topic3\", \"Topic3\", \"Topic3\", \"Topic3\", \"Topic3\", \"Topic3\", \"Topic3\", \"Topic3\", \"Topic3\", \"Topic3\", \"Topic3\", \"Topic3\", \"Topic3\", \"Topic3\", \"Topic3\", \"Topic3\", \"Topic3\", \"Topic3\", \"Topic3\", \"Topic3\", \"Topic3\", \"Topic3\", \"Topic3\", \"Topic3\", \"Topic3\", \"Topic3\", \"Topic3\", \"Topic3\", \"Topic3\", \"Topic3\", \"Topic3\", \"Topic3\", \"Topic3\", \"Topic3\", \"Topic3\", \"Topic3\", \"Topic3\", \"Topic3\", \"Topic3\", \"Topic3\", \"Topic3\", \"Topic3\", \"Topic3\", \"Topic3\", \"Topic3\", \"Topic3\", \"Topic3\", \"Topic3\", \"Topic3\", \"Topic3\", \"Topic3\", \"Topic3\", \"Topic3\", \"Topic3\", \"Topic3\", \"Topic3\", \"Topic3\", \"Topic3\", \"Topic3\", \"Topic3\", \"Topic3\", \"Topic3\", \"Topic3\", \"Topic3\", \"Topic3\", \"Topic3\", \"Topic3\", \"Topic3\", \"Topic3\", \"Topic3\", \"Topic3\", \"Topic3\", \"Topic3\", \"Topic3\", \"Topic3\", \"Topic3\", \"Topic3\", \"Topic4\", \"Topic4\", \"Topic4\", \"Topic4\", \"Topic4\", \"Topic4\", \"Topic4\", \"Topic4\", \"Topic4\", \"Topic4\", \"Topic4\", \"Topic4\", \"Topic4\", \"Topic4\", \"Topic4\", \"Topic4\", \"Topic4\", \"Topic4\", \"Topic4\", \"Topic4\", \"Topic4\", \"Topic4\", \"Topic4\", \"Topic4\", \"Topic4\", \"Topic4\", \"Topic4\", \"Topic4\", \"Topic4\", \"Topic4\", \"Topic4\", \"Topic4\", \"Topic4\", \"Topic4\", \"Topic4\", \"Topic4\", \"Topic4\", \"Topic4\", \"Topic4\", \"Topic4\", \"Topic4\", \"Topic4\", \"Topic4\", \"Topic4\", \"Topic4\", \"Topic4\", \"Topic4\", \"Topic4\", \"Topic4\", \"Topic4\", \"Topic4\", \"Topic4\", \"Topic4\", \"Topic4\", \"Topic4\", \"Topic4\", \"Topic4\", \"Topic4\", \"Topic4\", \"Topic4\", \"Topic4\", \"Topic4\", \"Topic4\", \"Topic4\", \"Topic4\", \"Topic4\", \"Topic4\", \"Topic4\", \"Topic4\", \"Topic4\", \"Topic4\", \"Topic4\", \"Topic4\", \"Topic4\", \"Topic4\", \"Topic4\", \"Topic4\", \"Topic4\", \"Topic5\", \"Topic5\", \"Topic5\", \"Topic5\", \"Topic5\", \"Topic5\", \"Topic5\", \"Topic5\", \"Topic5\", \"Topic5\", \"Topic5\", \"Topic5\", \"Topic5\", \"Topic5\", \"Topic5\", \"Topic5\", \"Topic5\", \"Topic5\", \"Topic5\", \"Topic5\", \"Topic5\", \"Topic5\", \"Topic5\", \"Topic5\", \"Topic5\", \"Topic5\", \"Topic5\", \"Topic5\", \"Topic5\", \"Topic5\", \"Topic5\", \"Topic5\", \"Topic5\", \"Topic5\", \"Topic5\", \"Topic5\", \"Topic5\", \"Topic5\", \"Topic5\", \"Topic5\", \"Topic5\", \"Topic5\", \"Topic5\", \"Topic5\", \"Topic5\", \"Topic5\", \"Topic5\", \"Topic5\", \"Topic5\", \"Topic5\", \"Topic5\", \"Topic5\", \"Topic5\", \"Topic5\", \"Topic5\", \"Topic5\", \"Topic5\", \"Topic5\", \"Topic5\", \"Topic5\", \"Topic5\", \"Topic5\", \"Topic5\", \"Topic5\", \"Topic5\", \"Topic5\", \"Topic5\", \"Topic5\", \"Topic5\", \"Topic5\", \"Topic5\", \"Topic5\", \"Topic5\", \"Topic5\", \"Topic5\"], \"logprob\": [30.0, 29.0, 28.0, 27.0, 26.0, 25.0, 24.0, 23.0, 22.0, 21.0, 20.0, 19.0, 18.0, 17.0, 16.0, 15.0, 14.0, 13.0, 12.0, 11.0, 10.0, 9.0, 8.0, 7.0, 6.0, 5.0, 4.0, 3.0, 2.0, 1.0, -6.673799991607666, -6.222400188446045, -6.9558000564575195, -7.2241997718811035, -6.534299850463867, -7.454999923706055, -7.4552001953125, -7.39870023727417, -7.401100158691406, -7.599899768829346, -7.67549991607666, -7.760799884796143, -7.685400009155273, -7.853899955749512, -7.6880998611450195, -7.855199813842773, -7.955399990081787, -7.8628997802734375, -7.8628997802734375, -7.95959997177124, -7.959700107574463, -8.073100090026855, -8.075599670410156, -7.278900146484375, -8.199700355529785, -7.794400215148926, -8.201600074768066, -8.202099800109863, -8.202300071716309, -7.508500099182129, -7.155600070953369, -6.893700122833252, -7.648200035095215, -5.7845001220703125, -5.872799873352051, -7.180799961090088, -6.212600231170654, -7.316400051116943, -6.942399978637695, -7.042099952697754, -6.052800178527832, -5.676799774169922, -6.848499774932861, -5.190700054168701, -5.291800022125244, -5.287399768829346, -6.174300193786621, -5.442699909210205, -5.038599967956543, -5.065700054168701, -6.12060022354126, -6.148799896240234, -5.170400142669678, -5.972499847412109, -5.355000019073486, -5.335700035095215, -5.918000221252441, -6.277599811553955, -5.936200141906738, -6.18120002746582, -6.451300144195557, -5.916600227355957, -4.053400039672852, -6.021100044250488, -5.780399799346924, -5.127900123596191, -6.051000118255615, -6.026199817657471, -4.9344000816345215, -5.80649995803833, -5.539700031280518, -5.644899845123291, -5.775700092315674, -5.996099948883057, -5.902200222015381, -5.793099880218506, -5.973199844360352, -5.929599761962891, -5.8846001625061035, -5.9822001457214355, -6.295199871063232, -7.49370002746582, -7.225299835205078, -7.562399864196777, -7.564300060272217, -7.565400123596191, -7.644100189208984, -7.718599796295166, -7.576300144195557, -7.799300193786621, -7.720900058746338, -7.803199768066406, -7.804699897766113, -7.894000053405762, -7.651800155639648, -7.895100116729736, -6.925000190734863, -7.587299823760986, -7.994699954986572, -7.997900009155273, -8.110199928283691, -8.110199928283691, -8.111499786376953, -8.007800102233887, -8.114399909973145, -8.114500045776367, -8.116600036621094, -8.117799758911133, -8.240500450134277, -8.240599632263184, -5.991799831390381, -5.916900157928467, -7.43720006942749, -7.387499809265137, -7.502200126647949, -7.504700183868408, -6.419400215148926, -6.751100063323975, -6.756700038909912, -6.332200050354004, -6.690800189971924, -6.147200107574463, -7.15310001373291, -6.338600158691406, -6.482600212097168, -4.76609992980957, -7.051700115203857, -6.072000026702881, -7.034599781036377, -3.9254000186920166, -6.343800067901611, -6.3130998611450195, -6.7600998878479, -4.718299865722656, -6.407899856567383, -6.423299789428711, -5.52370023727417, -5.889400005340576, -6.2469000816345215, -5.321400165557861, -5.2758002281188965, -5.4679999351501465, -5.975299835205078, -6.645199775695801, -5.639800071716309, -5.798699855804443, -5.986499786376953, -5.72730016708374, -5.756800174713135, -6.143700122833252, -6.0030999183654785, -6.065299987792969, -5.8491997718811035, -6.09630012512207, -5.925600051879883, -6.155099868774414, -6.036600112915039, -5.986599922180176, -6.031000137329102, -6.084000110626221, -6.07480001449585, -6.110400199890137, -6.10260009765625, -6.110799789428711, -6.497900009155273, -7.084000110626221, -7.240300178527832, -6.357100009918213, -7.296299934387207, -7.356100082397461, -7.486700057983398, -7.488399982452393, -7.561100006103516, -7.429900169372559, -7.312399864196777, -7.6381001472473145, -7.639200210571289, -7.64109992980957, -7.569399833679199, -7.725100040435791, -7.817299842834473, -7.817800045013428, -7.328999996185303, -7.918700218200684, -7.827400207519531, -8.034000396728516, -8.034299850463867, -8.034700393676758, -7.930200099945068, -8.036100387573242, -8.036399841308594, -7.669400215148926, -7.9319000244140625, -8.0378999710083, -7.838399887084961, -6.412199974060059, -6.756800174713135, -6.850299835205078, -6.110499858856201, -7.162700176239014, -6.975500106811523, -6.852200031280518, -5.126399993896484, -5.125199794769287, -5.690700054168701, -6.4334001541137695, -5.898200035095215, -5.581900119781494, -5.178199768066406, -6.146299839019775, -5.506800174713135, -6.9156999588012695, -6.5578999519348145, -5.8190999031066895, -5.469600200653076, -6.966300010681152, -6.476799964904785, -5.550899982452393, -5.939799785614014, -6.110799789428711, -5.78380012512207, -6.247499942779541, -3.9398000240325928, -5.922999858856201, -5.741199970245361, -5.295000076293945, -5.494999885559082, -6.132800102233887, -6.002600193023682, -5.4918999671936035, -5.765200138092041, -5.667600154876709, -5.129499912261963, -5.646299839019775, -5.8557000160217285, -5.516600131988525, -5.596499919891357, -5.7133002281188965, -5.801199913024902, -6.034200191497803, -5.952600002288818, -5.929100036621094, -5.989500045776367, -6.928899765014648, -7.210899829864502, -6.460400104522705, -7.429999828338623, -7.434000015258789, -7.5142998695373535, -7.51639986038208, -7.438399791717529, -7.609799861907959, -7.610899925231934, -7.71150016784668, -7.125800132751465, -7.715099811553955, -7.716400146484375, -7.8242998123168945, -7.824699878692627, -7.8256001472473145, -7.825699806213379, -7.826099872589111, -7.826300144195557, -7.826600074768066, -7.827300071716309, -7.827400207519531, -7.957600116729736, -7.958199977874756, -7.95959997177124, -8.1048002243042, -8.105799674987793, -8.107199668884277, -8.10770034790039, -7.505799770355225, -6.263899803161621, -7.515999794006348, -5.452400207519531, -5.787899971008301, -6.029900074005127, -7.248499870300293, -6.512199878692627, -6.1641998291015625, -6.901700019836426, -6.8003997802734375, -7.529600143432617, -6.063799858093262, -6.16480016708374, -6.205900192260742, -6.656899929046631, -6.23330020904541, -4.032599925994873, -6.813799858093262, -6.023900032043457, -6.409999847412109, -5.1230998039245605, -5.600100040435791, -6.7129998207092285, -5.4756999015808105, -5.810100078582764, -6.057400226593018, -6.119699954986572, -5.343299865722656, -5.791200160980225, -5.726799964904785, -5.625100135803223, -6.152599811553955, -5.674600124359131, -5.958000183105469, -6.091700077056885, -5.908199787139893, -5.838600158691406, -5.882800102233887, -5.589099884033203, -5.962500095367432, -5.9899001121521, -5.945000171661377, -5.933300018310547, -6.0391998291015625, -6.084099769592285, -6.129199981689453, -6.1269001960754395, -6.8678998947143555, -5.658400058746338, -7.389100074768066, -7.390999794006348, -7.39169979095459, -7.490499973297119, -7.491199970245361, -7.1595001220703125, -6.662799835205078, -7.605599880218506, -7.606599807739258, -7.606900215148926, -7.611999988555908, -6.414299964904785, -4.7617998123168945, -7.74560022354126, -7.748199939727783, -7.7515997886657715, -7.634099960327148, -7.885200023651123, -7.633600234985352, -7.88640022277832, -7.635799884796143, -7.269000053405762, -7.889100074768066, -7.89300012588501, -7.128900051116943, -7.763599872589111, -7.898399829864502, -7.903800010681152, -5.757599830627441, -6.362599849700928, -7.294000148773193, -6.295199871063232, -7.4542999267578125, -6.414299964904785, -4.451499938964844, -6.311100006103516, -5.767499923706055, -5.741099834442139, -6.368100166320801, -6.505899906158447, -6.486700057983398, -4.712800025939941, -5.208899974822998, -6.128900051116943, -7.206200122833252, -5.493199825286865, -6.597599983215332, -5.670000076293945, -6.717899799346924, -5.882500171661377, -5.560699939727783, -4.4096999168396, -6.7378997802734375, -5.7855000495910645, -6.031799793243408, -6.513800144195557, -6.223499774932861, -4.25029993057251, -6.157899856567383, -5.3765997886657715, -5.494500160217285, -5.912300109863281, -6.054800033569336, -5.953999996185303, -5.991399765014648, -5.7540998458862305, -6.031400203704834, -5.675000190734863, -6.022299766540527, -6.038300037384033, -6.002299785614014, -5.988699913024902, -6.105999946594238], \"loglift\": [30.0, 29.0, 28.0, 27.0, 26.0, 25.0, 24.0, 23.0, 22.0, 21.0, 20.0, 19.0, 18.0, 17.0, 16.0, 15.0, 14.0, 13.0, 12.0, 11.0, 10.0, 9.0, 8.0, 7.0, 6.0, 5.0, 4.0, 3.0, 2.0, 1.0, 1.3909000158309937, 1.3809000253677368, 1.3783999681472778, 1.3727999925613403, 1.3701000213623047, 1.3658000230789185, 1.3655999898910522, 1.361899971961975, 1.3598999977111816, 1.3554999828338623, 1.3539999723434448, 1.3492000102996826, 1.344599962234497, 1.3436000347137451, 1.3425999879837036, 1.3423999547958374, 1.3380000591278076, 1.3356000185012817, 1.3355000019073486, 1.3341000080108643, 1.3339999914169312, 1.3265999555587769, 1.3243000507354736, 1.323199987411499, 1.31850004196167, 1.3184000253677368, 1.3167999982833862, 1.3163000345230103, 1.316100001335144, 1.315500020980835, 1.3082000017166138, 1.3047000169754028, 1.3121999502182007, 1.2443000078201294, 1.2337000370025635, 1.2848000526428223, 1.2165000438690186, 1.2871999740600586, 1.2589999437332153, 1.2653000354766846, 1.1548999547958374, 1.1134999990463257, 1.2307000160217285, 1.0406999588012695, 1.0091999769210815, 1.0080000162124634, 1.124400019645691, 1.0073000192642212, 0.9429000020027161, 0.8439000248908997, 1.048799991607666, 1.0312000513076782, 0.7565000057220459, 0.9642999768257141, 0.7703999876976013, 0.722000002861023, 0.8695999979972839, 0.9810000061988831, 0.8564000129699707, 0.9455999732017517, 1.041700005531311, 0.8119000196456909, -0.03629999980330467, 0.8436999917030334, 0.6995000243186951, 0.32910001277923584, 0.824400007724762, 0.8065000176429749, -0.02879999950528145, 0.5622000098228455, 0.2013999968767166, 0.19779999554157257, 0.1501999944448471, 0.6137999892234802, 0.2646999955177307, -0.3102000057697296, 0.4887000024318695, 0.12489999830722809, -0.35409998893737793, 0.13349999487400055, 1.444100022315979, 1.4228999614715576, 1.419700026512146, 1.4186999797821045, 1.416700005531311, 1.4155999422073364, 1.4055999517440796, 1.4052000045776367, 1.4045000076293945, 1.4042999744415283, 1.402899980545044, 1.4000999927520752, 1.3985999822616577, 1.3964999914169312, 1.3964999914169312, 1.395400047302246, 1.3946000337600708, 1.3925000429153442, 1.3909000158309937, 1.3875999450683594, 1.3804999589920044, 1.3803999423980713, 1.37909996509552, 1.3770999908447266, 1.376099944114685, 1.3760000467300415, 1.3737000226974487, 1.3726999759674072, 1.3675999641418457, 1.3674999475479126, 1.3614000082015991, 1.3366999626159668, 1.3587000370025635, 1.3503999710083008, 1.3503999710083008, 1.3443000316619873, 1.2750999927520752, 1.292099952697754, 1.253100037574768, 1.1965999603271484, 1.2168999910354614, 1.1377999782562256, 1.2655999660491943, 1.1103999614715576, 1.1165000200271606, 0.7167999744415283, 1.2242000102996826, 0.9192000031471252, 1.1883000135421753, 0.09160000085830688, 0.9387999773025513, 0.9259999990463257, 1.0628999471664429, 0.18729999661445618, 0.9023000001907349, 0.853600025177002, 0.4032999873161316, 0.5662000179290771, 0.7441999912261963, 0.20909999310970306, 0.18119999766349792, 0.27309998869895935, 0.5496000051498413, 0.9452000260353088, 0.20720000565052032, 0.2556999921798706, 0.40849998593330383, 0.11550000309944153, 0.13510000705718994, 0.5310999751091003, 0.3560999929904938, 0.40959998965263367, 0.060499999672174454, 0.40209999680519104, 0.014999999664723873, 0.5063999891281128, 0.12240000069141388, -0.04259999841451645, 0.026599999517202377, 0.20630000531673431, 0.05530000105500221, 0.1599999964237213, 0.013100000098347664, 0.05220000073313713, 1.4771000146865845, 1.4637999534606934, 1.4544999599456787, 1.454200029373169, 1.4522000551223755, 1.4495999813079834, 1.444700002670288, 1.4427000284194946, 1.4391000270843506, 1.4375, 1.4371000528335571, 1.4364999532699585, 1.4352999925613403, 1.4335999488830566, 1.43149995803833, 1.4297000169754028, 1.4248000383377075, 1.424299955368042, 1.4212000370025635, 1.4186999797821045, 1.4150999784469604, 1.4091999530792236, 1.409000039100647, 1.4083000421524048, 1.4079999923706055, 1.4071999788284302, 1.4069000482559204, 1.406499981880188, 1.4062999486923218, 1.405400037765503, 1.4046000242233276, 1.3824000358581543, 1.3895000219345093, 1.3911999464035034, 1.3743000030517578, 1.388700008392334, 1.3732999563217163, 1.3595999479293823, 1.2680000066757202, 1.2294000387191772, 1.2652000188827515, 1.3208999633789062, 1.2747000455856323, 1.2414000034332275, 1.1991000175476074, 1.2426999807357788, 1.1394000053405762, 1.3281999826431274, 1.2628999948501587, 1.0872000455856323, 0.9488000273704529, 1.3145999908447266, 1.177299976348877, 0.9017000198364258, 0.95660001039505, 1.0089000463485718, 0.8841000199317932, 1.0372999906539917, 0.07729999721050262, 0.8906000256538391, 0.8051000237464905, 0.5519000291824341, 0.6215999722480774, 0.9160000085830688, 0.8306999802589417, 0.45210000872612, 0.580299973487854, 0.4625999927520752, -0.2240000069141388, 0.3328999876976013, 0.5205000042915344, 0.013799999840557575, -0.1136000007390976, 0.027699999511241913, 0.09070000052452087, 0.6700000166893005, 0.163100004196167, -0.003100000089034438, 0.3472999930381775, 1.7316999435424805, 1.7210999727249146, 1.7172000408172607, 1.708899974822998, 1.704800009727478, 1.7043999433517456, 1.702299952507019, 1.7005000114440918, 1.6956000328063965, 1.6944999694824219, 1.6886999607086182, 1.687999963760376, 1.6849000453948975, 1.6835999488830566, 1.680999994277954, 1.6806000471115112, 1.6794999837875366, 1.6794999837875366, 1.6789000034332275, 1.6787999868392944, 1.6785999536514282, 1.6776000261306763, 1.6775000095367432, 1.6646000146865845, 1.6638000011444092, 1.662500023841858, 1.6503000259399414, 1.6492999792099, 1.6476000547409058, 1.6471999883651733, 1.6283999681472778, 1.5592999458312988, 1.6174999475479126, 1.4700000286102295, 1.3848999738693237, 1.3981000185012817, 1.558899998664856, 1.3901000022888184, 1.2914999723434448, 1.4560999870300293, 1.4226000308990479, 1.5995999574661255, 1.166599988937378, 1.1953999996185303, 1.1812000274658203, 1.301800012588501, 1.1030000448226929, -0.015599999576807022, 1.2659000158309937, 0.8723999857902527, 1.0507999658584595, 0.33390000462532043, 0.5629000067710876, 1.1861000061035156, 0.45019999146461487, 0.6425999999046326, 0.7998999953269958, 0.8141000270843506, 0.18709999322891235, 0.5098000168800354, 0.43220001459121704, 0.3188999891281128, 0.6923999786376953, 0.1680999994277954, 0.33730000257492065, 0.4675999879837036, 0.20829999446868896, 0.053199999034404755, 0.09629999846220016, -0.6834999918937683, 0.15320000052452087, 0.1527000069618225, -0.20389999449253082, -0.4505000114440918, 0.12770000100135803, 0.29319998621940613, 0.47519999742507935, 0.0032999999821186066, 1.9325000047683716, 1.9213999509811401, 1.9027999639511108, 1.9007999897003174, 1.9002000093460083, 1.8964999914169312, 1.8955999612808228, 1.891800045967102, 1.8905999660491943, 1.886199951171875, 1.885200023651123, 1.88510000705719, 1.8796000480651855, 1.872499942779541, 1.8697999715805054, 1.8632999658584595, 1.8609000444412231, 1.8575999736785889, 1.8574999570846558, 1.857300043106079, 1.8566999435424805, 1.8560999631881714, 1.8547999858856201, 1.8543000221252441, 1.8526999950408936, 1.8485000133514404, 1.8464000225067139, 1.8457000255584717, 1.8438999652862549, 1.8375999927520752, 1.801300048828125, 1.801300048828125, 1.8269000053405762, 1.7848999500274658, 1.8317999839782715, 1.7733999490737915, 1.5835000276565552, 1.7324999570846558, 1.679800033569336, 1.6542999744415283, 1.7086000442504883, 1.687600016593933, 1.6720000505447388, 1.3411999940872192, 1.3285000324249268, 1.5133999586105347, 1.7770999670028687, 1.2309999465942383, 1.5684000253677368, 1.233199954032898, 1.601099967956543, 1.2294000387191772, 1.0583000183105469, 0.4957999885082245, 1.5812000036239624, 1.0830999612808228, 1.2030999660491943, 1.4602999687194824, 1.2577999830245972, -0.23319999873638153, 1.1926000118255615, 0.5640000104904175, 0.5598999857902527, 0.8508999943733215, 0.9663000106811523, 0.7857999801635742, 0.838100016117096, 0.38850000500679016, 0.8381999731063843, -0.1445000022649765, 0.5034000277519226, 0.566100001335144, -0.02319999970495701, -0.14169999957084656, 0.43700000643730164]}, \"token.table\": {\"Topic\": [1, 4, 5, 1, 2, 3, 4, 5, 1, 2, 3, 5, 1, 2, 3, 4, 5, 1, 1, 2, 3, 4, 1, 2, 5, 1, 2, 5, 2, 3, 4, 5, 1, 2, 3, 4, 5, 1, 2, 4, 2, 5, 1, 4, 2, 3, 4, 5, 2, 3, 4, 1, 2, 3, 1, 2, 3, 2, 3, 5, 1, 2, 3, 4, 5, 3, 5, 1, 1, 3, 4, 1, 2, 3, 4, 5, 1, 2, 1, 2, 2, 3, 1, 2, 3, 4, 5, 1, 5, 4, 2, 3, 4, 5, 1, 3, 3, 1, 1, 2, 3, 4, 5, 1, 2, 4, 1, 2, 3, 4, 5, 1, 2, 3, 4, 5, 4, 1, 2, 3, 4, 5, 2, 1, 2, 4, 1, 2, 3, 4, 5, 1, 2, 3, 4, 5, 3, 4, 5, 2, 3, 5, 1, 2, 3, 5, 2, 3, 5, 3, 4, 5, 5, 1, 2, 3, 4, 5, 4, 2, 3, 4, 5, 3, 1, 2, 3, 4, 5, 1, 2, 4, 5, 1, 2, 3, 4, 5, 1, 2, 3, 1, 5, 1, 2, 4, 5, 5, 1, 2, 3, 4, 5, 3, 5, 2, 4, 5, 4, 1, 2, 1, 2, 3, 4, 5, 1, 3, 2, 1, 4, 1, 2, 3, 4, 5, 1, 2, 3, 4, 1, 1, 2, 4, 5, 2, 3, 1, 2, 3, 4, 5, 1, 2, 3, 4, 5, 3, 1, 2, 3, 5, 2, 5, 5, 1, 2, 3, 4, 5, 1, 2, 3, 4, 5, 2, 3, 5, 1, 2, 3, 4, 5, 2, 3, 4, 5, 3, 2, 3, 4, 5, 1, 2, 3, 4, 5, 2, 3, 4, 1, 2, 3, 4, 5, 5, 1, 1, 2, 3, 4, 5, 1, 2, 3, 4, 5, 1, 2, 4, 5, 1, 2, 3, 4, 5, 1, 2, 3, 4, 5, 1, 2, 3, 4, 5, 5, 2, 3, 5, 1, 2, 4, 3, 1, 2, 3, 4, 5, 1, 2, 3, 2, 3, 1, 1, 2, 1, 2, 3, 4, 3, 3, 1, 2, 3, 4, 5, 5, 2, 3, 4, 5, 1, 2, 3, 4, 5, 2, 1, 2, 4, 2, 3, 2, 1, 2, 3, 4, 5, 1, 1, 2, 3, 4, 5, 2, 5, 1, 1, 4, 2, 2, 4, 4, 1, 2, 3, 4, 5, 2, 4, 5, 1, 2, 3, 4, 5, 1, 2, 3, 4, 5, 1, 2, 3, 4, 5, 2, 1, 2, 3, 4, 1, 1, 2, 3, 4, 5, 1, 1, 2, 3, 4, 5, 1, 2, 3, 1, 2, 3, 5, 1, 2, 3, 4, 5, 1, 2, 3, 4, 5, 1, 2, 3, 4, 2, 5, 5, 1, 1, 3, 4, 5, 4, 2, 5, 5, 4, 4, 4, 1, 2, 3, 4, 5, 1, 1, 4, 2, 1, 2, 3, 4, 5, 1, 2, 3, 4, 5, 1, 3, 4, 5, 3, 1, 2, 3, 4, 5, 1, 1, 2, 3, 4, 5, 3, 4, 5, 4, 1, 2, 3, 4, 5, 2, 1, 2, 3, 4, 5, 5, 4, 4, 1, 2, 3, 4, 5, 1, 1, 2, 3, 4, 5, 4, 1, 2, 3, 2, 3, 1, 2, 3, 4, 5, 1, 2, 3, 4, 5, 1, 2, 3, 4, 1, 2, 3, 4, 5, 3, 1, 2, 3, 4, 5, 1, 3, 3, 3, 4, 3, 2, 4, 1, 2, 3, 4, 5, 2, 5, 1, 2, 3, 4, 5, 1, 2, 3, 4, 5, 4, 5, 3, 4, 5, 3, 5, 4, 1, 2, 3, 4, 5, 1, 2, 3, 4, 5, 1, 2, 3, 4, 5, 1, 2, 3, 4, 5, 1, 2, 3, 4, 5, 1, 2, 3, 4, 5, 3, 4, 5, 3, 3, 1, 2, 3, 4, 5, 1, 1, 2, 3, 4, 5, 1, 2, 3, 4, 5, 3, 1, 2, 3, 4, 1, 2, 3, 1, 2, 3, 4, 5, 1, 2, 3, 4, 5, 1, 2, 3, 4, 5, 1, 2, 3, 4, 5, 1, 2, 3, 4, 5, 1, 2, 3, 4, 5, 3, 3, 4, 1, 2, 4, 3, 1, 2, 3, 4, 5, 1, 2, 3, 4, 5, 1, 2, 3, 4, 5, 1, 2, 3, 4, 5, 1, 2, 3, 4, 5, 1, 2, 4, 5, 1, 2, 3, 4, 5, 3, 1, 2, 3, 4, 5, 4, 1, 2, 3, 4, 5, 1, 2, 4, 5, 4, 2, 3, 3, 4, 3, 1, 2, 3, 4, 5, 1, 2, 3, 4, 5, 3, 4, 5, 1, 2, 2, 3, 1, 4, 3, 4, 2, 3, 4, 2, 2, 1, 2, 3, 4, 5, 4, 1, 2, 3, 4, 5, 1, 2, 5, 2, 3, 4, 5, 1, 5, 2, 1, 2, 3, 4, 5, 3, 1, 2, 3, 4, 5, 1, 2, 3, 4, 5, 4, 1, 2, 3, 4, 5, 1, 2, 3, 4, 5, 1, 2, 3, 4, 5, 5, 4, 3, 5, 5, 1, 2, 4, 2, 2, 4, 5, 5, 1, 2, 4, 5, 5, 2, 2, 1, 2, 3, 4, 5, 1, 2, 3, 4, 5, 3, 2, 1, 2, 3, 4, 5, 4, 1, 2, 3, 4, 5, 1, 2, 3, 4, 1, 1, 2, 3, 4, 5, 1, 1, 2, 3, 4, 2, 2, 1, 2, 3, 4, 5, 4, 1, 2, 3, 4, 5, 1, 2, 3, 4, 5, 2, 3, 4, 3, 4, 2, 2, 3, 4, 5, 3, 1, 2, 3, 4, 5, 5, 1, 2, 3, 4, 5, 2, 1, 2, 3, 4, 5, 1, 2, 4, 5, 1, 2, 3, 4, 5, 1, 2, 3, 4, 5, 1, 2, 3, 4, 5, 3, 1, 2, 3, 4, 5, 4, 2, 3, 4, 5, 1, 2, 3, 4, 5, 1, 2, 3, 4, 5, 1, 2, 3, 4, 5, 1, 2, 3, 4, 5, 1, 4, 1, 2, 3, 4], \"Freq\": [0.03758523240685463, 0.03758523240685463, 0.9020455479621887, 0.08117169886827469, 0.06493736058473587, 0.06493736058473587, 0.048703018575906754, 0.7305452823638916, 0.0294730756431818, 0.0294730756431818, 0.1768384575843811, 0.7662999629974365, 0.27271896600723267, 0.1764652132987976, 0.315498411655426, 0.15507549047470093, 0.07486402988433838, 0.9483541250228882, 0.8246211409568787, 0.12216608971357346, 0.030541522428393364, 0.030541522428393364, 0.12865853309631348, 0.8148373961448669, 0.04288617894053459, 0.8441082835197449, 0.03836855664849281, 0.07673711329698563, 0.15526510775089264, 0.11644883453845978, 0.03881627693772316, 0.6986929774284363, 0.19815196096897125, 0.5661484599113464, 0.11322969198226929, 0.056614845991134644, 0.0707685574889183, 0.27071964740753174, 0.0477740541100502, 0.6847614645957947, 0.08072778582572937, 0.8880056738853455, 0.9014101624488831, 0.8895006775856018, 0.023586349561810493, 0.7783495187759399, 0.04717269912362099, 0.11793174594640732, 0.040348540991544724, 0.24209123849868774, 0.7262737154960632, 0.03884057700634003, 0.9321738481521606, 0.03884057700634003, 0.07435877621173859, 0.7807671427726746, 0.11153816431760788, 0.15231604874134064, 0.09138963371515274, 0.7615802884101868, 0.028722718358039856, 0.007180679589509964, 0.05026475712656975, 0.028722718358039856, 0.890404224395752, 0.04906928166747093, 0.9323163628578186, 0.9534792900085449, 0.9016128182411194, 0.03369734436273575, 0.9435256719589233, 0.4504929780960083, 0.04095390811562538, 0.1556248515844345, 0.0245723444968462, 0.31944048404693604, 0.8945600986480713, 0.0688123106956482, 0.06594450026750565, 0.8572784662246704, 0.048969436436891556, 0.8814498782157898, 0.028211556375026703, 0.1329973340034485, 0.23375289142131805, 0.07657422125339508, 0.5239288806915283, 0.966225802898407, 0.8462135791778564, 0.9693112969398499, 0.011328785680234432, 0.7930150032043457, 0.18126057088375092, 0.011328785680234432, 0.9659050107002258, 0.8604449033737183, 0.920587420463562, 0.9343671202659607, 0.05399905890226364, 0.28799498081207275, 0.2699953019618988, 0.3779934346675873, 0.008999843150377274, 0.24843837320804596, 0.7177108526229858, 0.02760426327586174, 0.019863303750753403, 0.029794955626130104, 0.7945321202278137, 0.009931651875376701, 0.13904312252998352, 0.04420573636889458, 0.33891063928604126, 0.13261720538139343, 0.029470492154359818, 0.4567926228046417, 0.8159552216529846, 0.5791532397270203, 0.218231663107872, 0.05036115273833275, 0.07554172724485397, 0.08393525332212448, 0.9548085331916809, 0.3668466806411743, 0.07642639428377151, 0.5502700209617615, 0.06149788200855255, 0.20206446945667267, 0.5095539093017578, 0.20206446945667267, 0.017570823431015015, 0.16454358398914337, 0.2632697522640228, 0.04936307668685913, 0.47717639803886414, 0.04936307668685913, 0.13615714013576508, 0.03403928503394127, 0.8169428110122681, 0.1329653561115265, 0.03324133902788162, 0.83103346824646, 0.05143428221344948, 0.4834822714328766, 0.4114742577075958, 0.04114742577075958, 0.08427420258522034, 0.8764516711235046, 0.033709678798913956, 0.9578549265861511, 0.023362314328551292, 0.023362314328551292, 0.8779325485229492, 0.13076412677764893, 0.10170543193817139, 0.13076412677764893, 0.5085271596908569, 0.13076412677764893, 0.8896273970603943, 0.09568985551595688, 0.774217963218689, 0.11308801174163818, 0.017398156225681305, 0.9211295247077942, 0.21590076386928558, 0.2604517340660095, 0.24331673979759216, 0.17820380628108978, 0.10280989110469818, 0.030564693734049797, 0.030564693734049797, 0.12225877493619919, 0.8252467513084412, 0.5651525855064392, 0.24420173466205597, 0.048840347677469254, 0.06977192312479019, 0.07674911618232727, 0.8770669102668762, 0.05159217119216919, 0.05159217119216919, 0.07482444494962692, 0.8978933095932007, 0.5498364567756653, 0.23826245963573456, 0.10996729135513306, 0.10080334544181824, 0.8460909724235535, 0.6967191696166992, 0.16993150115013123, 0.05097945034503937, 0.05097945034503937, 0.033986300230026245, 0.9101058840751648, 0.9241619110107422, 0.07542522996664047, 0.07542522996664047, 0.8296775221824646, 0.8896956443786621, 0.05900968238711357, 0.8851452469825745, 0.7415871620178223, 0.139922097325325, 0.013992209918797016, 0.055968839675188065, 0.04197663068771362, 0.9478850364685059, 0.8800579905509949, 0.9015769958496094, 0.8845288753509521, 0.07371073961257935, 0.4273736774921417, 0.3898847699165344, 0.0974711924791336, 0.08247562497854233, 0.007497783750295639, 0.766571581363678, 0.08943334966897964, 0.012776193208992481, 0.12776193022727966, 0.934528648853302, 0.7405856847763062, 0.11782044917345047, 0.13465194404125214, 0.008415746502578259, 0.8854159712791443, 0.908931314945221, 0.19515648484230042, 0.6993107199668884, 0.06505215913057327, 0.016263039782643318, 0.032526079565286636, 0.8313289880752563, 0.1270085871219635, 0.011546235531568527, 0.011546235531568527, 0.011546235531568527, 0.9552088975906372, 0.020786557346582413, 0.8106757402420044, 0.10393279045820236, 0.06235967203974724, 0.8452548384666443, 0.8049032688140869, 0.8777584433555603, 0.3180052638053894, 0.2226036936044693, 0.08480140566825867, 0.010600175708532333, 0.36040598154067993, 0.200238436460495, 0.2366454154253006, 0.1456279456615448, 0.00910174660384655, 0.4095786213874817, 0.23291799426078796, 0.07763933390378952, 0.6599343419075012, 0.033068642020225525, 0.09920593351125717, 0.09920593351125717, 0.033068642020225525, 0.7275101542472839, 0.032659001648426056, 0.7620434165000916, 0.1415223479270935, 0.05987484008073807, 0.9557684063911438, 0.02186002768576145, 0.6995208859443665, 0.1603068709373474, 0.11658681929111481, 0.4496937692165375, 0.2599791884422302, 0.13350284099578857, 0.06323818117380142, 0.0983705073595047, 0.06325998157262802, 0.06325998157262802, 0.8223798274993896, 0.25154972076416016, 0.3281083405017853, 0.1968650072813034, 0.07655861228704453, 0.15311722457408905, 0.8055398464202881, 0.941697359085083, 0.15146136283874512, 0.5783069729804993, 0.013769214041531086, 0.08261528611183167, 0.16523057222366333, 0.256027489900589, 0.208022341132164, 0.15201632678508759, 0.08800945430994034, 0.30403265357017517, 0.6885415315628052, 0.09836307913064957, 0.14754462242126465, 0.04918153956532478, 0.05536080151796341, 0.13049332797527313, 0.02372605912387371, 0.1186302900314331, 0.668283998966217, 0.103267602622509, 0.3937077224254608, 0.2968943417072296, 0.0645422488451004, 0.1419929414987564, 0.518200159072876, 0.3407343626022339, 0.056789059191942215, 0.056789059191942215, 0.028394529595971107, 0.9422415494918823, 0.9172415733337402, 0.08675544708967209, 0.8675544261932373, 0.29610082507133484, 0.024675067514181137, 0.6785643696784973, 0.9309021830558777, 0.17757317423820496, 0.4666987359523773, 0.19806239008903503, 0.1069992259144783, 0.04780816286802292, 0.17095346748828888, 0.797782838344574, 0.028492243960499763, 0.07183976471424103, 0.8979970812797546, 0.9443427920341492, 0.9272587895393372, 0.05151437968015671, 0.22478345036506653, 0.5806905627250671, 0.05619586259126663, 0.13112367689609528, 0.8953185081481934, 0.9630461931228638, 0.19071534276008606, 0.17949679493904114, 0.31037986278533936, 0.18697582185268402, 0.13462258875370026, 0.8777272701263428, 0.032658834010362625, 0.8817885518074036, 0.032658834010362625, 0.032658834010362625, 0.15885533392429352, 0.22023126482963562, 0.35020381212234497, 0.23106230795383453, 0.03971383348107338, 0.845249354839325, 0.03525784611701965, 0.7404147982597351, 0.17628923058509827, 0.8754863739013672, 0.06253474205732346, 0.8767216801643372, 0.3486100733280182, 0.1507503092288971, 0.018843788653612137, 0.009421894326806068, 0.47109469771385193, 0.9489668011665344, 0.10809805989265442, 0.2393599897623062, 0.4323922395706177, 0.1312619298696518, 0.08493418991565704, 0.8768898844718933, 0.8056727051734924, 0.9738176465034485, 0.0872676894068718, 0.8726769089698792, 0.9398879408836365, 0.9022489190101624, 0.9285431504249573, 0.8898331522941589, 0.14734120666980743, 0.34379616379737854, 0.2148725986480713, 0.14734120666980743, 0.14734120666980743, 0.1665460765361786, 0.1665460765361786, 0.6661843061447144, 0.09454365074634552, 0.6618055701255798, 0.16545139253139496, 0.02363591268658638, 0.04727182537317276, 0.24046722054481506, 0.2538264989852905, 0.1335929036140442, 0.2671858072280884, 0.10687431693077087, 0.9150594472885132, 0.052275627851486206, 0.28751593828201294, 0.5358251929283142, 0.10455125570297241, 0.9548637866973877, 0.9015833139419556, 0.12753987312316895, 0.306095689535141, 0.5611754655838013, 0.9152781963348389, 0.25540098547935486, 0.16733168065547943, 0.17613860964775085, 0.19815593957901, 0.20255941152572632, 0.9352890849113464, 0.28420472145080566, 0.2648271322250366, 0.16147994995117188, 0.06459198147058487, 0.22607193887233734, 0.05892077460885048, 0.8248908519744873, 0.08838115632534027, 0.27490654587745667, 0.08247195929288864, 0.054981306195259094, 0.6047943830490112, 0.041398052126169205, 0.19319090247154236, 0.6347701549530029, 0.027598701417446136, 0.11039480566978455, 0.22682476043701172, 0.05670619010925293, 0.6615722179412842, 0.03780412673950195, 0.018902063369750977, 0.09981820732355118, 0.0798545703291893, 0.7186911106109619, 0.0798545703291893, 0.9398530721664429, 0.8056788444519043, 0.8766063451766968, 0.9458457827568054, 0.035263869911432266, 0.2115832269191742, 0.7052774429321289, 0.035263869911432266, 0.9153060913085938, 0.9680333733558655, 0.8781240582466125, 0.8779695630073547, 0.8812141418457031, 0.8573122024536133, 0.9544209241867065, 0.005568538326770067, 0.005568538326770067, 0.7406156063079834, 0.22831007838249207, 0.02227415330708027, 0.9352284073829651, 0.3972146809101105, 0.6110995411872864, 0.978388249874115, 0.1089840680360794, 0.0980856642127037, 0.5558187365531921, 0.2179681360721588, 0.02179681323468685, 0.022067585960030556, 0.022067585960030556, 0.8385682106018066, 0.08827034384012222, 0.022067585960030556, 0.036008141934871674, 0.8281872272491455, 0.036008141934871674, 0.10802442580461502, 0.9306899309158325, 0.2969115078449249, 0.25775834918022156, 0.15987543761730194, 0.1990285962820053, 0.08809462934732437, 0.9616112112998962, 0.3011496067047119, 0.1262885481119156, 0.1360030472278595, 0.37886565923690796, 0.05828702449798584, 0.8797877430915833, 0.07998070865869522, 0.03999035432934761, 0.9368277788162231, 0.08188872784376144, 0.10528551042079926, 0.6083162426948547, 0.07019034028053284, 0.14038068056106567, 0.9782100915908813, 0.29781630635261536, 0.027074208483099937, 0.027074208483099937, 0.6227068305015564, 0.054148416966199875, 0.8463201522827148, 0.8157976269721985, 0.8895387649536133, 0.5237518548965454, 0.22075490653514862, 0.03029969334602356, 0.09522760659456253, 0.1255273073911667, 0.9255597591400146, 0.6244537830352783, 0.0942571759223938, 0.08247502893209457, 0.1413857638835907, 0.0471285879611969, 0.8896737694740295, 0.43812301754951477, 0.5339624285697937, 0.013691344298422337, 0.05974632129073143, 0.8961948156356812, 0.48746615648269653, 0.24681830406188965, 0.0802159532904625, 0.04936366155743599, 0.13575007021427155, 0.08122548460960388, 0.1740546077489853, 0.5743802189826965, 0.12764005362987518, 0.04061274230480194, 0.6669398546218872, 0.09234552085399628, 0.00513030681759119, 0.2359941154718399, 0.23999956250190735, 0.15111082792282104, 0.15999971330165863, 0.33777716755867004, 0.11555534601211548, 0.8793045282363892, 0.27416789531707764, 0.2943272888660431, 0.10482890158891678, 0.08466949313879013, 0.241912841796875, 0.900397002696991, 0.06431407481431961, 0.9758537411689758, 0.0876414105296135, 0.8764141201972961, 0.954271674156189, 0.8768444061279297, 0.8897606134414673, 0.6221839785575867, 0.06371763348579407, 0.07871001958847046, 0.14617574214935303, 0.08995430916547775, 0.978262722492218, 0.02173917181789875, 0.1510251760482788, 0.18338771164417267, 0.3991379737854004, 0.1995689868927002, 0.07011882960796356, 0.21014979481697083, 0.27019259333610535, 0.2651890218257904, 0.18012839555740356, 0.07505349814891815, 0.9693819880485535, 0.9242194890975952, 0.1270483136177063, 0.03629951551556587, 0.8348888754844666, 0.08654332906007767, 0.8654332756996155, 0.8896414637565613, 0.315834105014801, 0.2346196174621582, 0.13986939191818237, 0.18950046598911285, 0.12182172387838364, 0.3939228057861328, 0.26665544509887695, 0.18787088990211487, 0.12120702117681503, 0.024241404607892036, 0.1925508677959442, 0.20130318403244019, 0.05251387134194374, 0.23631241917610168, 0.31508323550224304, 0.05910475179553032, 0.8865712881088257, 0.02955237589776516, 0.01477618794888258, 0.01477618794888258, 0.18065792322158813, 0.40346938371658325, 0.1927017867565155, 0.09032896161079407, 0.13850441575050354, 0.5735651254653931, 0.2277390956878662, 0.11808694154024124, 0.07591303437948227, 0.008434781804680824, 0.03706797957420349, 0.018533989787101746, 0.9452334642410278, 0.8796568512916565, 0.9555332064628601, 0.054038096219301224, 0.03602539747953415, 0.5463852286338806, 0.31822434067726135, 0.03602539747953415, 0.9631912708282471, 0.3371962606906891, 0.2728627622127533, 0.1175750121474266, 0.2351500242948532, 0.03549434244632721, 0.18220879137516022, 0.13665659725666046, 0.20042966306209564, 0.1639879047870636, 0.3188653886318207, 0.9557218551635742, 0.665543794631958, 0.04643328860402107, 0.005159254185855389, 0.27859973907470703, 0.8627038598060608, 0.10352446138858795, 0.034508153796195984, 0.3088657259941101, 0.15771867334842682, 0.15771867334842682, 0.15771867334842682, 0.2102915644645691, 0.18352918326854706, 0.2596266567707062, 0.24619770050048828, 0.2596266567707062, 0.04923953860998154, 0.11467774957418442, 0.28177961707115173, 0.38662782311439514, 0.09829521179199219, 0.11795425415039062, 0.20006130635738373, 0.23920373618602753, 0.3522818684577942, 0.1696171909570694, 0.0391424298286438, 0.15536756813526154, 0.3773212432861328, 0.22195366024971008, 0.08878146857023239, 0.15536756813526154, 0.01637185737490654, 0.09823115170001984, 0.19646230340003967, 0.6057587265968323, 0.06548742949962616, 0.9403124451637268, 0.8717071413993835, 0.10460485517978668, 0.8972972631454468, 0.04486486315727234, 0.04486486315727234, 0.9608179330825806, 0.26236608624458313, 0.19854730367660522, 0.07800073176622391, 0.06381877511739731, 0.39709460735321045, 0.012337863445281982, 0.03701359033584595, 0.8019611239433289, 0.12337864190340042, 0.03701359033584595, 0.059187307953834534, 0.059187307953834534, 0.07891640812158585, 0.1775619238615036, 0.6313312649726868, 0.5443887114524841, 0.16682879626750946, 0.04390231519937515, 0.12292648106813431, 0.13170693814754486, 0.8439759016036987, 0.07478267699480057, 0.04273295775055885, 0.010683239437639713, 0.04273295775055885, 0.6452186703681946, 0.17474672198295593, 0.13442054390907288, 0.04032616689801216, 0.1120934784412384, 0.0593436062335968, 0.5011237859725952, 0.2505618929862976, 0.0791248083114624, 0.879343569278717, 0.20894072949886322, 0.19733290374279022, 0.10447036474943161, 0.011607818305492401, 0.46431273221969604, 0.8159531950950623, 0.061651624739170074, 0.13871616125106812, 0.015412906184792519, 0.061651624739170074, 0.7244065999984741, 0.36949294805526733, 0.13436107337474823, 0.01679513417184353, 0.4870589077472687, 0.9152866005897522, 0.8767407536506653, 0.9089141488075256, 0.9557364583015442, 0.9314912557601929, 0.8604464530944824, 0.28584814071655273, 0.28074371814727783, 0.23990826308727264, 0.07656646519899368, 0.12250634282827377, 0.16991619765758514, 0.15684573352336884, 0.07188762724399567, 0.08495809882879257, 0.5162838697433472, 0.8220366835594177, 0.112095907330513, 0.037365302443504333, 0.9487327933311462, 0.02564142644405365, 0.8694280982017517, 0.12038235366344452, 0.9015687108039856, 0.9544439911842346, 0.08770645409822464, 0.8770645260810852, 0.025587882846593857, 0.3070546090602875, 0.6652849912643433, 0.9229311347007751, 0.9019894599914551, 0.6881933212280273, 0.06737557053565979, 0.048125408589839935, 0.05775048956274986, 0.13475114107131958, 0.8571207523345947, 0.23444673418998718, 0.25021669268608093, 0.24075472354888916, 0.16611024737358093, 0.10881271958351135, 0.8988999724388123, 0.0898899957537651, 0.8769002556800842, 0.06125987693667412, 0.7657484412193298, 0.12251975387334824, 0.045944906771183014, 0.10209529846906662, 0.816762387752533, 0.9029631018638611, 0.8129399418830872, 0.047819994390010834, 0.09563998878002167, 0.015939997509121895, 0.015939997509121895, 0.9558295011520386, 0.18137501180171967, 0.34574609994888306, 0.22671876847743988, 0.07935156673192978, 0.16437110304832458, 0.5458990931510925, 0.15032005310058594, 0.08702739328145981, 0.12658530473709106, 0.08702739328145981, 0.8572285771369934, 0.5015581846237183, 0.2345997840166092, 0.10921024531126022, 0.1172998920083046, 0.04044823721051216, 0.4250795245170593, 0.29258719086647034, 0.15457436442375183, 0.08280769735574722, 0.044164106249809265, 0.23061276972293854, 0.13277705013751984, 0.12578879296779633, 0.2725423574447632, 0.24458931386470795, 0.9242860078811646, 0.9154911637306213, 0.9673037528991699, 0.8459065556526184, 0.805213451385498, 0.6333669424057007, 0.28257909417152405, 0.07795285433530807, 0.9401718974113464, 0.7717807292938232, 0.07717807590961456, 0.128630131483078, 0.9033306241035461, 0.17006050050258636, 0.6991375684738159, 0.0944780558347702, 0.03779122233390808, 0.9034478068351746, 0.9028809666633606, 0.9021567702293396, 0.1024111732840538, 0.08665560930967331, 0.2048223465681076, 0.1339222937822342, 0.4726669490337372, 0.15084633231163025, 0.33940425515174866, 0.29540741443634033, 0.1445610672235489, 0.06913790106773376, 0.9558079242706299, 0.8767772912979126, 0.19070807099342346, 0.23028898239135742, 0.20150285959243774, 0.1331358253955841, 0.2410837858915329, 0.8157670497894287, 0.12658722698688507, 0.1936039924621582, 0.5361341238021851, 0.1042483001947403, 0.03723153471946716, 0.6647558808326721, 0.20361891388893127, 0.005988791584968567, 0.1257646232843399, 0.9616984724998474, 0.18877795338630676, 0.10296979546546936, 0.41616958379745483, 0.20593959093093872, 0.08151775598526001, 0.9258741140365601, 0.10546322166919708, 0.5800477266311646, 0.06591451168060303, 0.2504751682281494, 0.9228885173797607, 0.9672735929489136, 0.17527823150157928, 0.24269293248653412, 0.2067384272813797, 0.29662469029426575, 0.08539196103811264, 0.9367258548736572, 0.16951656341552734, 0.2817317545413971, 0.22681793570518494, 0.202942356467247, 0.11937785893678665, 0.10288160294294357, 0.5761370062828064, 0.17489872872829437, 0.06172896549105644, 0.09259344637393951, 0.009357292205095291, 0.5801520943641663, 0.4023635685443878, 0.8960725665092468, 0.09190487861633301, 0.8766009211540222, 0.8603979349136353, 0.06618445366621017, 0.8912798762321472, 0.06366284936666489, 0.9473255276679993, 0.21535421907901764, 0.13782669603824615, 0.5426926016807556, 0.06891334801912308, 0.02584250643849373, 0.8049688935279846, 0.562146782875061, 0.3173409402370453, 0.018133768811821938, 0.09066884219646454, 0.009066884405910969, 0.8768766522407532, 0.6834186911582947, 0.1615353226661682, 0.024851588532328606, 0.08698055893182755, 0.037277381867170334, 0.19374331831932068, 0.7573602199554443, 0.03522605821490288, 0.01761302910745144, 0.9259046316146851, 0.03841961547732353, 0.19209806621074677, 0.7299726605415344, 0.028814710676670074, 0.2786378562450409, 0.23148375749588013, 0.26149091124534607, 0.19718986749649048, 0.03429388999938965, 0.1501767486333847, 0.15573886036872864, 0.3726608157157898, 0.15573886036872864, 0.16686305403709412, 0.9091156721115112, 0.09189071506261826, 0.3019266426563263, 0.10501796007156372, 0.039381735026836395, 0.4594535827636719, 0.8898378610610962, 0.03423866629600525, 0.0684773325920105, 0.136954665184021, 0.7532506585121155, 0.044638343155384064, 0.2678300738334656, 0.10415613651275635, 0.5505395531654358, 0.029758896678686142, 0.28365325927734375, 0.14537228643894196, 0.22337694466114044, 0.26592493057250977, 0.08509597927331924, 0.297672301530838, 0.30061954259872437, 0.2298855483531952, 0.13852077722549438, 0.035367004573345184, 0.23644964396953583, 0.2747928202152252, 0.17765676975250244, 0.08563311398029327, 0.22494669258594513, 0.9677833318710327, 0.01897614449262619, 0.023643305525183678, 0.023643305525183678, 0.11821652948856354, 0.8038724064826965], \"Term\": [\"academi\", \"academi\", \"academi\", \"actor\", \"actor\", \"actor\", \"actor\", \"actor\", \"actress\", \"actress\", \"actress\", \"actress\", \"add\", \"add\", \"add\", \"add\", \"add\", \"ahold\", \"airlin\", \"airlin\", \"airlin\", \"airlin\", \"airport\", \"airport\", \"airport\", \"alert\", \"alert\", \"alert\", \"angel\", \"angel\", \"angel\", \"angel\", \"anti\", \"anti\", \"anti\", \"anti\", \"anti\", \"appl\", \"appl\", \"appl\", \"aragon\", \"aragon\", \"argonaut\", \"arnesen\", \"arsenal\", \"arsenal\", \"arsenal\", \"arsenal\", \"asylum\", \"asylum\", \"asylum\", \"athen\", \"athen\", \"athen\", \"athlet\", \"athlet\", \"athlet\", \"aviat\", \"aviat\", \"aviat\", \"award\", \"award\", \"award\", \"award\", \"award\", \"bafta\", \"bafta\", \"baikal\", \"balco\", \"ballet\", \"ballet\", \"bank\", \"bank\", \"bank\", \"bank\", \"bank\", \"bankruptci\", \"bankruptci\", \"belgian\", \"belgian\", \"benitez\", \"benitez\", \"best\", \"best\", \"best\", \"best\", \"best\", \"bet\", \"biopic\", \"bjorn\", \"blair\", \"blair\", \"blair\", \"blair\", \"bloglin\", \"boateng\", \"borussia\", \"braveri\", \"britain\", \"britain\", \"britain\", \"britain\", \"britain\", \"broadband\", \"broadband\", \"broadband\", \"brown\", \"brown\", \"brown\", \"brown\", \"brown\", \"budget\", \"budget\", \"budget\", \"budget\", \"budget\", \"burner\", \"busi\", \"busi\", \"busi\", \"busi\", \"busi\", \"cairn\", \"camera\", \"camera\", \"camera\", \"campaign\", \"campaign\", \"campaign\", \"campaign\", \"campaign\", \"card\", \"card\", \"card\", \"card\", \"card\", \"categori\", \"categori\", \"categori\", \"ceremoni\", \"ceremoni\", \"ceremoni\", \"champion\", \"champion\", \"champion\", \"champion\", \"chancellor\", \"chancellor\", \"chancellor\", \"chelsea\", \"chelsea\", \"chelsea\", \"chidambaram\", \"children\", \"children\", \"children\", \"children\", \"children\", \"chronomet\", \"club\", \"club\", \"club\", \"club\", \"cole\", \"come\", \"come\", \"come\", \"come\", \"come\", \"comedi\", \"comedi\", \"comedi\", \"comedi\", \"compani\", \"compani\", \"compani\", \"compani\", \"compani\", \"compens\", \"compens\", \"compens\", \"confess\", \"confess\", \"consum\", \"consum\", \"consum\", \"consum\", \"contemporari\", \"content\", \"content\", \"content\", \"content\", \"content\", \"corri\", \"cosbi\", \"crude\", \"crude\", \"crude\", \"cunningham\", \"currenc\", \"currenc\", \"custom\", \"custom\", \"custom\", \"custom\", \"custom\", \"cyprus\", \"dawson\", \"dechi\", \"desktop\", \"desktop\", \"develop\", \"develop\", \"develop\", \"develop\", \"develop\", \"devic\", \"devic\", \"devic\", \"devic\", \"dialler\", \"digit\", \"digit\", \"digit\", \"digit\", \"dope\", \"dortmund\", \"doubl\", \"doubl\", \"doubl\", \"doubl\", \"doubl\", \"download\", \"download\", \"download\", \"download\", \"download\", \"driscol\", \"drug\", \"drug\", \"drug\", \"drug\", \"duchi\", \"duet\", \"eastwood\", \"econom\", \"econom\", \"econom\", \"econom\", \"econom\", \"economi\", \"economi\", \"economi\", \"economi\", \"economi\", \"economist\", \"economist\", \"economist\", \"edward\", \"edward\", \"edward\", \"edward\", \"edward\", \"elect\", \"elect\", \"elect\", \"elect\", \"embargo\", \"england\", \"england\", \"england\", \"england\", \"european\", \"european\", \"european\", \"european\", \"european\", \"evan\", \"evan\", \"evan\", \"expect\", \"expect\", \"expect\", \"expect\", \"expect\", \"fahrenheit\", \"faro\", \"feder\", \"feder\", \"feder\", \"feder\", \"feder\", \"figur\", \"figur\", \"figur\", \"figur\", \"figur\", \"file\", \"file\", \"file\", \"file\", \"film\", \"film\", \"film\", \"film\", \"film\", \"final\", \"final\", \"final\", \"final\", \"final\", \"firm\", \"firm\", \"firm\", \"firm\", \"firm\", \"focker\", \"foster\", \"foxx\", \"foxx\", \"gadget\", \"gadget\", \"gadget\", \"galla\", \"game\", \"game\", \"game\", \"game\", \"game\", \"gamer\", \"gamer\", \"gamer\", \"gara\", \"gara\", \"gartner\", \"gazprom\", \"gazprom\", \"generat\", \"generat\", \"generat\", \"generat\", \"ghosn\", \"glazer\", \"go\", \"go\", \"go\", \"go\", \"go\", \"goldsmith\", \"gordon\", \"gordon\", \"gordon\", \"gordon\", \"govern\", \"govern\", \"govern\", \"govern\", \"govern\", \"gradi\", \"graphic\", \"graphic\", \"graphic\", \"greek\", \"greek\", \"greenspan\", \"growth\", \"growth\", \"growth\", \"growth\", \"growth\", \"hailey\", \"half\", \"half\", \"half\", \"half\", \"half\", \"halliwel\", \"hank\", \"harrier\", \"healey\", \"healey\", \"heathrow\", \"hendrix\", \"henson\", \"hoddl\", \"hold\", \"hold\", \"hold\", \"hold\", \"hold\", \"hollywood\", \"hollywood\", \"hollywood\", \"holm\", \"holm\", \"holm\", \"holm\", \"holm\", \"home\", \"home\", \"home\", \"home\", \"home\", \"honda\", \"howard\", \"howard\", \"howard\", \"howard\", \"iaaf\", \"icsti\", \"immigr\", \"immigr\", \"immigr\", \"inbev\", \"includ\", \"includ\", \"includ\", \"includ\", \"includ\", \"incorpor\", \"increas\", \"increas\", \"increas\", \"increas\", \"increas\", \"indoor\", \"indoor\", \"indoor\", \"inflat\", \"inflat\", \"inflat\", \"inflat\", \"injuri\", \"injuri\", \"injuri\", \"injuri\", \"injuri\", \"ireland\", \"ireland\", \"ireland\", \"ireland\", \"ireland\", \"itali\", \"itali\", \"itali\", \"itali\", \"jamieson\", \"jayn\", \"jean\", \"jeev\", \"journalist\", \"journalist\", \"journalist\", \"journalist\", \"kaprano\", \"kenteri\", \"key\", \"khatami\", \"kilroy\", \"kiwi\", \"knife\", \"labour\", \"labour\", \"labour\", \"labour\", \"labour\", \"lanzon\", \"laptop\", \"laptop\", \"laser\", \"leader\", \"leader\", \"leader\", \"leader\", \"leader\", \"leagu\", \"leagu\", \"leagu\", \"leagu\", \"leagu\", \"leicest\", \"leicest\", \"leicest\", \"leicest\", \"leinster\", \"like\", \"like\", \"like\", \"like\", \"like\", \"linux\", \"list\", \"list\", \"list\", \"list\", \"list\", \"liverpool\", \"liverpool\", \"liverpool\", \"llewellyn\", \"lord\", \"lord\", \"lord\", \"lord\", \"lord\", \"lyco\", \"magazin\", \"magazin\", \"magazin\", \"magazin\", \"magazin\", \"manic\", \"maori\", \"marin\", \"market\", \"market\", \"market\", \"market\", \"market\", \"marsh\", \"media\", \"media\", \"media\", \"media\", \"media\", \"metlif\", \"microsoft\", \"microsoft\", \"microsoft\", \"milan\", \"milan\", \"million\", \"million\", \"million\", \"million\", \"million\", \"minist\", \"minist\", \"minist\", \"minist\", \"minist\", \"mobil\", \"mobil\", \"mobil\", \"mobil\", \"money\", \"money\", \"money\", \"money\", \"money\", \"monsanto\", \"month\", \"month\", \"month\", \"month\", \"month\", \"motor\", \"motor\", \"mourinho\", \"mous\", \"mous\", \"munster\", \"murray\", \"musharraf\", \"music\", \"music\", \"music\", \"music\", \"music\", \"nadal\", \"nadal\", \"nation\", \"nation\", \"nation\", \"nation\", \"nation\", \"need\", \"need\", \"need\", \"need\", \"need\", \"nestl\", \"niro\", \"nomin\", \"nomin\", \"nomin\", \"nomine\", \"nomine\", \"notebook\", \"number\", \"number\", \"number\", \"number\", \"number\", \"offer\", \"offer\", \"offer\", \"offer\", \"offer\", \"offic\", \"offic\", \"offic\", \"offic\", \"offic\", \"olymp\", \"olymp\", \"olymp\", \"olymp\", \"olymp\", \"open\", \"open\", \"open\", \"open\", \"open\", \"oper\", \"oper\", \"oper\", \"oper\", \"oper\", \"oscar\", \"oscar\", \"oscar\", \"palestinian\", \"parmalat\", \"parti\", \"parti\", \"parti\", \"parti\", \"parti\", \"patent\", \"peopl\", \"peopl\", \"peopl\", \"peopl\", \"peopl\", \"perform\", \"perform\", \"perform\", \"perform\", \"perform\", \"peston\", \"phone\", \"phone\", \"phone\", \"phone\", \"piraci\", \"piraci\", \"piraci\", \"place\", \"place\", \"place\", \"place\", \"place\", \"plan\", \"plan\", \"plan\", \"plan\", \"plan\", \"play\", \"play\", \"play\", \"play\", \"play\", \"player\", \"player\", \"player\", \"player\", \"player\", \"point\", \"point\", \"point\", \"point\", \"point\", \"polic\", \"polic\", \"polic\", \"polic\", \"polic\", \"premier\", \"premiership\", \"premiership\", \"premium\", \"premium\", \"premium\", \"prescott\", \"price\", \"price\", \"price\", \"price\", \"price\", \"prime\", \"prime\", \"prime\", \"prime\", \"prime\", \"prize\", \"prize\", \"prize\", \"prize\", \"prize\", \"product\", \"product\", \"product\", \"product\", \"product\", \"profit\", \"profit\", \"profit\", \"profit\", \"profit\", \"program\", \"program\", \"program\", \"program\", \"public\", \"public\", \"public\", \"public\", \"public\", \"quango\", \"quarter\", \"quarter\", \"quarter\", \"quarter\", \"quarter\", \"rail\", \"rat\", \"rat\", \"rat\", \"rat\", \"rat\", \"rate\", \"rate\", \"rate\", \"rate\", \"recycl\", \"redford\", \"regga\", \"regiment\", \"remak\", \"repay\", \"report\", \"report\", \"report\", \"report\", \"report\", \"rise\", \"rise\", \"rise\", \"rise\", \"rise\", \"robinson\", \"robinson\", \"robinson\", \"robot\", \"robot\", \"roddick\", \"roddick\", \"rossignol\", \"roundabout\", \"ruddock\", \"ruddock\", \"rugbi\", \"rugbi\", \"rugbi\", \"runway\", \"safin\", \"sale\", \"sale\", \"sale\", \"sale\", \"sale\", \"santini\", \"say\", \"say\", \"say\", \"say\", \"say\", \"scam\", \"scam\", \"scorses\", \"scotland\", \"scotland\", \"scotland\", \"scotland\", \"screenplay\", \"screenplay\", \"screensav\", \"search\", \"search\", \"search\", \"search\", \"search\", \"sec\", \"second\", \"second\", \"second\", \"second\", \"second\", \"sell\", \"sell\", \"sell\", \"sell\", \"sell\", \"servant\", \"servic\", \"servic\", \"servic\", \"servic\", \"servic\", \"share\", \"share\", \"share\", \"share\", \"share\", \"show\", \"show\", \"show\", \"show\", \"show\", \"sideway\", \"sinclair\", \"sizzla\", \"slater\", \"snoop\", \"softwar\", \"softwar\", \"softwar\", \"southcorp\", \"spam\", \"spam\", \"spam\", \"spector\", \"speed\", \"speed\", \"speed\", \"speed\", \"spurlock\", \"spywar\", \"stanst\", \"star\", \"star\", \"star\", \"star\", \"star\", \"start\", \"start\", \"start\", \"start\", \"start\", \"sumitomo\", \"sundanc\", \"take\", \"take\", \"take\", \"take\", \"take\", \"tbwa\", \"team\", \"team\", \"team\", \"team\", \"team\", \"technolog\", \"technolog\", \"technolog\", \"technolog\", \"telewest\", \"tell\", \"tell\", \"tell\", \"tell\", \"tell\", \"terrestri\", \"test\", \"test\", \"test\", \"test\", \"tevez\", \"thanou\", \"think\", \"think\", \"think\", \"think\", \"think\", \"thunderbird\", \"time\", \"time\", \"time\", \"time\", \"time\", \"titl\", \"titl\", \"titl\", \"titl\", \"titl\", \"tori\", \"tori\", \"tori\", \"trust\", \"trust\", \"turkcel\", \"turkey\", \"turkey\", \"ukip\", \"ukip\", \"ulster\", \"unit\", \"unit\", \"unit\", \"unit\", \"unit\", \"upward\", \"user\", \"user\", \"user\", \"user\", \"user\", \"varga\", \"video\", \"video\", \"video\", \"video\", \"video\", \"virus\", \"virus\", \"virus\", \"virus\", \"vodafon\", \"wale\", \"wale\", \"wale\", \"wale\", \"want\", \"want\", \"want\", \"want\", \"want\", \"week\", \"week\", \"week\", \"week\", \"week\", \"wilkinson\", \"winner\", \"winner\", \"winner\", \"winner\", \"winner\", \"wolv\", \"woman\", \"woman\", \"woman\", \"woman\", \"women\", \"women\", \"women\", \"women\", \"women\", \"work\", \"work\", \"work\", \"work\", \"work\", \"world\", \"world\", \"world\", \"world\", \"world\", \"year\", \"year\", \"year\", \"year\", \"year\", \"yuko\", \"yuko\", \"zealand\", \"zealand\", \"zealand\", \"zealand\"]}, \"R\": 30, \"lambda.step\": 0.01, \"plot.opts\": {\"xlab\": \"PC1\", \"ylab\": \"PC2\"}, \"topic.order\": [5, 1, 4, 2, 3]};\n",
              "\n",
              "function LDAvis_load_lib(url, callback){\n",
              "  var s = document.createElement('script');\n",
              "  s.src = url;\n",
              "  s.async = true;\n",
              "  s.onreadystatechange = s.onload = callback;\n",
              "  s.onerror = function(){console.warn(\"failed to load library \" + url);};\n",
              "  document.getElementsByTagName(\"head\")[0].appendChild(s);\n",
              "}\n",
              "\n",
              "if(typeof(LDAvis) !== \"undefined\"){\n",
              "   // already loaded: just create the visualization\n",
              "   !function(LDAvis){\n",
              "       new LDAvis(\"#\" + \"ldavis_el120140276031473008161577950\", ldavis_el120140276031473008161577950_data);\n",
              "   }(LDAvis);\n",
              "}else if(typeof define === \"function\" && define.amd){\n",
              "   // require.js is available: use it to load d3/LDAvis\n",
              "   require.config({paths: {d3: \"https://cdnjs.cloudflare.com/ajax/libs/d3/3.5.5/d3.min\"}});\n",
              "   require([\"d3\"], function(d3){\n",
              "      window.d3 = d3;\n",
              "      LDAvis_load_lib(\"https://cdn.rawgit.com/bmabey/pyLDAvis/files/ldavis.v1.0.0.js\", function(){\n",
              "        new LDAvis(\"#\" + \"ldavis_el120140276031473008161577950\", ldavis_el120140276031473008161577950_data);\n",
              "      });\n",
              "    });\n",
              "}else{\n",
              "    // require.js not available: dynamically load d3 & LDAvis\n",
              "    LDAvis_load_lib(\"https://cdnjs.cloudflare.com/ajax/libs/d3/3.5.5/d3.min.js\", function(){\n",
              "         LDAvis_load_lib(\"https://cdn.rawgit.com/bmabey/pyLDAvis/files/ldavis.v1.0.0.js\", function(){\n",
              "                 new LDAvis(\"#\" + \"ldavis_el120140276031473008161577950\", ldavis_el120140276031473008161577950_data);\n",
              "            })\n",
              "         });\n",
              "}\n",
              "</script>"
            ],
            "text/plain": [
              "PreparedData(topic_coordinates=              x         y  topics  cluster       Freq\n",
              "topic                                                \n",
              "4      0.096710  0.059066       1        1  24.286068\n",
              "0      0.028179  0.021229       2        1  22.827974\n",
              "3     -0.116170 -0.002697       3        1  22.285736\n",
              "1     -0.041347  0.055315       4        1  16.870049\n",
              "2      0.032628 -0.132912       5        1  13.730174, topic_info=         Term        Freq       Total Category  logprob  loglift\n",
              "373      film  252.000000  252.000000  Default  30.0000  30.0000\n",
              "687     award  139.000000  139.000000  Default  29.0000  29.0000\n",
              "1055     best  248.000000  248.000000  Default  28.0000  28.0000\n",
              "868     blair  176.000000  176.000000  Default  27.0000  27.0000\n",
              "158    labour  179.000000  179.000000  Default  26.0000  26.0000\n",
              "...       ...         ...         ...      ...      ...      ...\n",
              "767   increas   35.164349  154.817978   Topic5  -6.0223   0.5034\n",
              "431      show   34.606552  143.097015   Topic5  -6.0383   0.5661\n",
              "143        go   35.875885  267.414246   Topic5  -6.0023  -0.0232\n",
              "578      play   36.368008  305.203064   Topic5  -5.9887  -0.1417\n",
              "291     place   32.342865  152.169678   Topic5  -6.1060   0.4370\n",
              "\n",
              "[426 rows x 6 columns], token_table=      Topic      Freq     Term\n",
              "term                          \n",
              "5439      1  0.037585  academi\n",
              "5439      4  0.037585  academi\n",
              "5439      5  0.902046  academi\n",
              "4685      1  0.081172    actor\n",
              "4685      2  0.064937    actor\n",
              "...     ...       ...      ...\n",
              "1692      4  0.018976     yuko\n",
              "2251      1  0.023643  zealand\n",
              "2251      2  0.023643  zealand\n",
              "2251      3  0.118217  zealand\n",
              "2251      4  0.803872  zealand\n",
              "\n",
              "[980 rows x 3 columns], R=30, lambda_step=0.01, plot_opts={'xlab': 'PC1', 'ylab': 'PC2'}, topic_order=[5, 1, 4, 2, 3])"
            ]
          },
          "metadata": {
            "tags": []
          },
          "execution_count": 72
        }
      ]
    },
    {
      "cell_type": "code",
      "metadata": {
        "id": "gYEYkWDKrwSU",
        "colab_type": "code",
        "colab": {}
      },
      "source": [
        "## wordcloud of each topic for top N keywords\n",
        "from wordcloud import WordCloud, STOPWORDS\n",
        "cloud=WordCloud(stopwords=STOPWORDS,\n",
        "                  background_color='black',\n",
        "                  width=2500,\n",
        "                  height=1800,\n",
        "                  max_words=10,\n",
        "                 prefer_horizontal=1.0)"
      ],
      "execution_count": 0,
      "outputs": []
    },
    {
      "cell_type": "code",
      "metadata": {
        "id": "tY7m2vVnu1IE",
        "colab_type": "code",
        "colab": {}
      },
      "source": [
        "topics=lda_model.show_topics(formatted=False, num_words=15)"
      ],
      "execution_count": 0,
      "outputs": []
    },
    {
      "cell_type": "code",
      "metadata": {
        "id": "7a4JR3iDu9_e",
        "colab_type": "code",
        "outputId": "fd3ab59d-40dd-4240-e3d8-056300b5eeb0",
        "colab": {
          "base_uri": "https://localhost:8080/",
          "height": 187
        }
      },
      "source": [
        "import matplotlib.pyplot as plt\n",
        "fig, ax = plt.subplots(1,5,figsize=(20,30), sharex=True, sharey=True)\n",
        "for i, ax in enumerate(ax.flatten()):\n",
        "  fig.add_subplot(ax)\n",
        "  topic_words=dict(topics[i][1])\n",
        "  cloud.generate_from_frequencies(topic_words, max_font_size=300)\n",
        "  plt.gca().imshow(cloud)\n",
        "  plt.gca().set_title('Topic ' + str(i), fontdict=dict(size=16))\n",
        "  plt.gca().axis('off')"
      ],
      "execution_count": 0,
      "outputs": [
        {
          "output_type": "display_data",
          "data": {
            "image/png": "[encoded data removed]",
            "text/plain": [
              "<Figure size 1440x2160 with 5 Axes>"
            ]
          },
          "metadata": {
            "tags": [],
            "needs_background": "light"
          }
        }
      ]
    },
    {
      "cell_type": "code",
      "metadata": {
        "id": "tmHRr29v0V05",
        "colab_type": "code",
        "colab": {}
      },
      "source": [
        "## Topic 0 contains most frequent words like: play, game, world, looks SPORTS category\n",
        "## Topic 1 contains: govern, plan, work, year, think looks BUSINESS category\n",
        "## Topic 2 contains: film, award, start, best looks FILM/ENTERTAINMENT category\n",
        "## Topic 3 contains: govern, plan, elect, minist(ministery) looks POLITICS category\n",
        "## Topic 4 contains: compni, phone, firm, music, mobil, service, sale looks TECHNOLOGY category"
      ],
      "execution_count": 0,
      "outputs": []
    },
    {
      "cell_type": "code",
      "metadata": {
        "id": "duwPCzqmrwR6",
        "colab_type": "code",
        "colab": {}
      },
      "source": [
        "# Testing on unseen document\n",
        "test_doc='''software watching while you work software that can not only monitor every keystroke and action performed at a pc but also be used as legally binding evidence of wrong-doing has been unveiled. \n",
        " worries about cyber-crime and sabotage have prompted many employers to consider monitoring employees. the developers behind the system claim it is a break-through in the way data is monitored and stored. \n",
        " but privacy advocates are concerned by the invasive nature of such software.  \n",
        " the system is a joint venture between security firm 3ami and storage specialists bridgehead software. \n",
        " they have joined forces to create a system which can monitor computer activity  store it and retrieve disputed files within minutes.\n",
        "  more and more firms are finding themselves in deep water as a result of data misuse. sabotage and data theft are most commonly committed from within an organisation according to the national hi-tech crime unit (nhtcu) a survey conducted on its behalf by nop found evidence that more than 80% of medium and large companies have been victims of some form of cyber-crime. bridgehead software has come up with techniques to prove  to a legal standard  that any stored file on a pc has not been tampered with. ironically the impetus for developing the system came as a result of the freedom of information act  which requires companies to store all data for a certain amount of time. \n",
        "   the storage system has been incorporated into an application developed by security firm 3ami which allows every action on a computer to be logged. potentially it could help employers to follow the trail of stolen files and pinpoint whether they had been emailed to a third party  copied  printed  deleted or saved to cd  floppy disk  memory stick or flash card. other activities the system can monitor include the downloading of pornography  the use of racist or bullying language or the copying of applications for personal use. increasingly organisations that handle sensitive data  such as governments  are using biometric log-ins such as fingerprinting to provide conclusive proof of who was using a particular machine at any given time. privacy advocates are concerned that monitoring at work is not only damaging to employee s privacy but also to the relationship between employers and their staff.  that is not the case   said tim ellsmore  managing director of 3ami.  it is not about replacing dialogue but there are issues that you can talk through but you still need proof   he said.  \n",
        "people need to recognise that you are using a pc as a representative of a company and that employers have a legal requirement to store data   he added.'''\n",
        "\n",
        "# looks TECHNOLOGY news"
      ],
      "execution_count": 0,
      "outputs": []
    },
    {
      "cell_type": "code",
      "metadata": {
        "id": "S3dQHJ7CrwR-",
        "colab_type": "code",
        "colab": {}
      },
      "source": [
        "test_bow=dic.doc2bow(preprocess(test_doc))"
      ],
      "execution_count": 0,
      "outputs": []
    },
    {
      "cell_type": "code",
      "metadata": {
        "id": "G5tIgEUIrwSE",
        "colab_type": "code",
        "outputId": "060e4cca-954e-4cd0-91ed-7a3f50dc72e9",
        "colab": {
          "base_uri": "https://localhost:8080/",
          "height": 34
        }
      },
      "source": [
        "lda_model[test_bow]\n",
        "# Wowwwwwwww! has topic 4 (70%) as we stated above topic 4 might be TECHNOLOGY"
      ],
      "execution_count": 0,
      "outputs": [
        {
          "output_type": "execute_result",
          "data": {
            "text/plain": [
              "[(0, 0.19920246), (1, 0.096446335), (2, 0.012433796), (4, 0.69088244)]"
            ]
          },
          "metadata": {
            "tags": []
          },
          "execution_count": 77
        }
      ]
    },
    {
      "cell_type": "code",
      "metadata": {
        "id": "pJEGMWXF7k7v",
        "colab_type": "code",
        "colab": {}
      },
      "source": [
        "test_doc2='''career honour for actor dicaprio actor leonardo dicaprio s  exceptional career  has been honoured at \n",
        "the santa barbara international film festival.  the star was presented with the award by martin scorsese  \n",
        "who directed him in oscar-nominated movie the aviator.  it s a lifetime achievement award  which is completely and \n",
        "utterly surreal  given i m only 30 years old   dicaprio said.  but what has it been  almost 17 years now. \n",
        "i ve done quite a few films.  a retrospective of his movies was shown.   \n",
        "what s really exciting  for me  is that this is what i really love doing he added.'''\n",
        "# looks ENTERTAINMENT news"
      ],
      "execution_count": 0,
      "outputs": []
    },
    {
      "cell_type": "code",
      "metadata": {
        "id": "L8iV3mIP8USZ",
        "colab_type": "code",
        "outputId": "52b1e45e-6645-4aab-cdc1-53390aacb6d1",
        "colab": {
          "base_uri": "https://localhost:8080/",
          "height": 34
        }
      },
      "source": [
        "test_bow2 = dic.doc2bow(preprocess(test_doc2))\n",
        "lda_model[test_bow2]\n",
        "## This is really amazing right????\n",
        "## Topic 2 is really ENTERTAINMENT and this news also 84% fall in that"
      ],
      "execution_count": 0,
      "outputs": [
        {
          "output_type": "execute_result",
          "data": {
            "text/plain": [
              "[(1, 0.14492689), (2, 0.84138083)]"
            ]
          },
          "metadata": {
            "tags": []
          },
          "execution_count": 79
        }
      ]
    },
    {
      "cell_type": "code",
      "metadata": {
        "id": "yFJyTYAI8gqj",
        "colab_type": "code",
        "colab": {}
      },
      "source": [
        ""
      ],
      "execution_count": 0,
      "outputs": []
    }
  ]
}