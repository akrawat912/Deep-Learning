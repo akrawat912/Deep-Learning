{
  "nbformat": 4,
  "nbformat_minor": 0,
  "metadata": {
    "kernelspec": {
      "display_name": "Python 3",
      "language": "python",
      "name": "python3"
    },
    "language_info": {
      "codemirror_mode": {
        "name": "ipython",
        "version": 3
      },
      "file_extension": ".py",
      "mimetype": "text/x-python",
      "name": "python",
      "nbconvert_exporter": "python",
      "pygments_lexer": "ipython3",
      "version": "3.7.3"
    },
    "colab": {
      "name": "bbc News LDA Topic Modeling.ipynb",
      "provenance": [],
      "collapsed_sections": [],
      "include_colab_link": true
    },
    "accelerator": "GPU"
  },
  "cells": [
    {
      "cell_type": "markdown",
      "metadata": {
        "id": "view-in-github",
        "colab_type": "text"
      },
      "source": [
        "<a href=\"https://colab.research.google.com/github/akrawat912/Deep-Learning/blob/master/bbc_News_LDA_Topic_Modeling.ipynb\" target=\"_parent\"><img src=\"https://colab.research.google.com/assets/colab-badge.svg\" alt=\"Open In Colab\"/></a>"
      ]
    },
    {
      "cell_type": "code",
      "metadata": {
        "id": "DP4TfPhjrwQV",
        "colab_type": "code",
        "colab": {}
      },
      "source": [
        "import pandas as pd\n",
        "from google.colab import files\n",
        "files.upload()"
      ],
      "execution_count": 0,
      "outputs": []
    },
    {
      "cell_type": "markdown",
      "metadata": {
        "id": "Fh5aoVcwK7Dy",
        "colab_type": "text"
      },
      "source": [
        "#### data is on my localhost, you can get data here: https://www.kaggle.com/c/learn-ai-bbc/data\n",
        "#### then make it unsupervised by dropping target feature since it is supervised multiclassification in real dataset"
      ]
    },
    {
      "cell_type": "code",
      "metadata": {
        "id": "hUj1Rn2ZrwQe",
        "colab_type": "code",
        "colab": {}
      },
      "source": [
        "data=pd.read_csv('BBC train.csv')\n",
        "documents=data[['Text']]"
      ],
      "execution_count": 0,
      "outputs": []
    },
    {
      "cell_type": "code",
      "metadata": {
        "id": "_0P7QmQtrwQi",
        "colab_type": "code",
        "colab": {}
      },
      "source": [
        "documents['index']=documents.index"
      ],
      "execution_count": 0,
      "outputs": []
    },
    {
      "cell_type": "code",
      "metadata": {
        "id": "PfwmZAtkrwQm",
        "colab_type": "code",
        "outputId": "e921c22a-9709-4b8c-a9ab-908f570723a1",
        "colab": {
          "base_uri": "https://localhost:8080/",
          "height": 142
        }
      },
      "source": [
        "documents[:3]"
      ],
      "execution_count": 4,
      "outputs": [
        {
          "output_type": "execute_result",
          "data": {
            "text/html": [
              "<div>\n",
              "<style scoped>\n",
              "    .dataframe tbody tr th:only-of-type {\n",
              "        vertical-align: middle;\n",
              "    }\n",
              "\n",
              "    .dataframe tbody tr th {\n",
              "        vertical-align: top;\n",
              "    }\n",
              "\n",
              "    .dataframe thead th {\n",
              "        text-align: right;\n",
              "    }\n",
              "</style>\n",
              "<table border=\"1\" class=\"dataframe\">\n",
              "  <thead>\n",
              "    <tr style=\"text-align: right;\">\n",
              "      <th></th>\n",
              "      <th>Text</th>\n",
              "      <th>index</th>\n",
              "    </tr>\n",
              "  </thead>\n",
              "  <tbody>\n",
              "    <tr>\n",
              "      <th>0</th>\n",
              "      <td>worldcom ex-boss launches defence lawyers defe...</td>\n",
              "      <td>0</td>\n",
              "    </tr>\n",
              "    <tr>\n",
              "      <th>1</th>\n",
              "      <td>german business confidence slides german busin...</td>\n",
              "      <td>1</td>\n",
              "    </tr>\n",
              "    <tr>\n",
              "      <th>2</th>\n",
              "      <td>bbc poll indicates economic gloom citizens in ...</td>\n",
              "      <td>2</td>\n",
              "    </tr>\n",
              "  </tbody>\n",
              "</table>\n",
              "</div>"
            ],
            "text/plain": [
              "                                                Text  index\n",
              "0  worldcom ex-boss launches defence lawyers defe...      0\n",
              "1  german business confidence slides german busin...      1\n",
              "2  bbc poll indicates economic gloom citizens in ...      2"
            ]
          },
          "metadata": {
            "tags": []
          },
          "execution_count": 4
        }
      ]
    },
    {
      "cell_type": "code",
      "metadata": {
        "id": "D9qi2GZCrwQt",
        "colab_type": "code",
        "colab": {}
      },
      "source": [
        "import nltk\n",
        "import gensim\n",
        "from gensim.utils import simple_preprocess\n",
        "from gensim.parsing.preprocessing import STOPWORDS\n",
        "from gensim.models import LdaModel, CoherenceModel\n",
        "from nltk.stem import WordNetLemmatizer, SnowballStemmer\n",
        "from gensim.corpora import Dictionary\n",
        "from nltk.stem.porter import *\n",
        "import matplotlib.pyplot as plt\n",
        "import numpy as np\n",
        "np.random.seed(2018)"
      ],
      "execution_count": 0,
      "outputs": []
    },
    {
      "cell_type": "code",
      "metadata": {
        "id": "O9yh3hmarwQx",
        "colab_type": "code",
        "colab": {}
      },
      "source": [
        "stemmer = SnowballStemmer('english')"
      ],
      "execution_count": 0,
      "outputs": []
    },
    {
      "cell_type": "code",
      "metadata": {
        "id": "hVPSG8zBszIN",
        "colab_type": "code",
        "outputId": "e0ea4318-8ed7-4c39-e01b-c7b455e56364",
        "colab": {
          "base_uri": "https://localhost:8080/",
          "height": 68
        }
      },
      "source": [
        "nltk.download('wordnet')"
      ],
      "execution_count": 7,
      "outputs": [
        {
          "output_type": "stream",
          "text": [
            "[nltk_data] Downloading package wordnet to /root/nltk_data...\n",
            "[nltk_data]   Unzipping corpora/wordnet.zip.\n"
          ],
          "name": "stdout"
        },
        {
          "output_type": "execute_result",
          "data": {
            "text/plain": [
              "True"
            ]
          },
          "metadata": {
            "tags": []
          },
          "execution_count": 7
        }
      ]
    },
    {
      "cell_type": "code",
      "metadata": {
        "id": "TfUVOXKqrwQ1",
        "colab_type": "code",
        "outputId": "320cf352-3a05-4cc7-d7f5-8ea743dd8d54",
        "colab": {
          "base_uri": "https://localhost:8080/",
          "height": 34
        }
      },
      "source": [
        "# example, verb POS of word 'paased' is pass\n",
        "WordNetLemmatizer().lemmatize('passed', pos='v')"
      ],
      "execution_count": 8,
      "outputs": [
        {
          "output_type": "execute_result",
          "data": {
            "text/plain": [
              "'pass'"
            ]
          },
          "metadata": {
            "tags": []
          },
          "execution_count": 8
        }
      ]
    },
    {
      "cell_type": "markdown",
      "metadata": {
        "id": "1YgtZmze9YsN",
        "colab_type": "text"
      },
      "source": [
        "### Preprocessing"
      ]
    },
    {
      "cell_type": "code",
      "metadata": {
        "id": "BygXxWjrrwQ8",
        "colab_type": "code",
        "outputId": "1fe11a97-d5cb-43ef-c5cb-516156378917",
        "colab": {
          "base_uri": "https://localhost:8080/",
          "height": 34
        }
      },
      "source": [
        "stemmer.stem('globalization')"
      ],
      "execution_count": 9,
      "outputs": [
        {
          "output_type": "execute_result",
          "data": {
            "text/plain": [
              "'global'"
            ]
          },
          "metadata": {
            "tags": []
          },
          "execution_count": 9
        }
      ]
    },
    {
      "cell_type": "code",
      "metadata": {
        "id": "uthhYKDCrwRA",
        "colab_type": "code",
        "colab": {}
      },
      "source": [
        "def lemmatize_stemize(text):\n",
        "    '''reutrns stemized  after lemmatized of word'''\n",
        "    return stemmer.stem(WordNetLemmatizer().lemmatize(text, pos='v'))\n",
        "\n",
        "def preprocess(text):\n",
        "    '''returns tokenized text after removing stopwords and non stopwords length of less than 3 will be discarded'''\n",
        "    result=[]\n",
        "    for token in simple_preprocess(text):\n",
        "        if token not in STOPWORDS and len(token)>3:\n",
        "            result.append(lemmatize_stemize(token))\n",
        "    return result"
      ],
      "execution_count": 0,
      "outputs": []
    },
    {
      "cell_type": "code",
      "metadata": {
        "id": "PDhOhAlwrwRE",
        "colab_type": "code",
        "outputId": "cd050219-654d-4b46-a633-58be4c7c4bc2",
        "colab": {
          "base_uri": "https://localhost:8080/",
          "height": 306
        }
      },
      "source": [
        "# example \n",
        "eg='''worldcom ex-boss launches defence lawyers defending former worldcom chief \n",
        "bernie ebbers against a battery of fraud charges have called a company whistleblower as their first witness'''\n",
        "preprocess(eg)"
      ],
      "execution_count": 11,
      "outputs": [
        {
          "output_type": "execute_result",
          "data": {
            "text/plain": [
              "['worldcom',\n",
              " 'boss',\n",
              " 'launch',\n",
              " 'defenc',\n",
              " 'lawyer',\n",
              " 'defend',\n",
              " 'worldcom',\n",
              " 'chief',\n",
              " 'berni',\n",
              " 'ebber',\n",
              " 'batteri',\n",
              " 'fraud',\n",
              " 'charg',\n",
              " 'call',\n",
              " 'compani',\n",
              " 'whistleblow',\n",
              " 'wit']"
            ]
          },
          "metadata": {
            "tags": []
          },
          "execution_count": 11
        }
      ]
    },
    {
      "cell_type": "code",
      "metadata": {
        "id": "pXyga0jFrwRI",
        "colab_type": "code",
        "colab": {}
      },
      "source": [
        "processed_docs = documents['Text'].map(preprocess)"
      ],
      "execution_count": 0,
      "outputs": []
    },
    {
      "cell_type": "code",
      "metadata": {
        "id": "_vWsuvhGrwRM",
        "colab_type": "code",
        "outputId": "01dda2a6-24fc-4305-8197-9ca3173f75b7",
        "colab": {
          "base_uri": "https://localhost:8080/",
          "height": 119
        }
      },
      "source": [
        "processed_docs[:5]"
      ],
      "execution_count": 13,
      "outputs": [
        {
          "output_type": "execute_result",
          "data": {
            "text/plain": [
              "0    [worldcom, boss, launch, defenc, lawyer, defen...\n",
              "1    [german, busi, confid, slide, german, busi, co...\n",
              "2    [poll, indic, econom, gloom, citizen, major, n...\n",
              "3    [lifestyl, govern, mobil, choic, faster, bette...\n",
              "4    [enron, boss, payout, eighteen, enron, directo...\n",
              "Name: Text, dtype: object"
            ]
          },
          "metadata": {
            "tags": []
          },
          "execution_count": 13
        }
      ]
    },
    {
      "cell_type": "code",
      "metadata": {
        "id": "MuTSnE9hrwRQ",
        "colab_type": "code",
        "colab": {}
      },
      "source": [
        "dic=Dictionary(processed_docs)"
      ],
      "execution_count": 0,
      "outputs": []
    },
    {
      "cell_type": "code",
      "metadata": {
        "id": "cqFpqQ0ZrwRU",
        "colab_type": "code",
        "outputId": "a1d580f1-d52b-4e4f-b643-66c367db3189",
        "colab": {
          "base_uri": "https://localhost:8080/",
          "height": 204
        }
      },
      "source": [
        "count=0\n",
        "for key, value in dic.iteritems():\n",
        "    print(key, value)\n",
        "    count+=1\n",
        "    if count > 10: break"
      ],
      "execution_count": 15,
      "outputs": [
        {
          "output_type": "stream",
          "text": [
            "0 account\n",
            "1 adjust\n",
            "2 agre\n",
            "3 alert\n",
            "4 andersen\n",
            "5 answer\n",
            "6 approv\n",
            "7 argu\n",
            "8 arthur\n",
            "9 audit\n",
            "10 auditor\n"
          ],
          "name": "stdout"
        }
      ]
    },
    {
      "cell_type": "markdown",
      "metadata": {
        "id": "q7l7aqBlrwRY",
        "colab_type": "text"
      },
      "source": [
        "### Bag of Words on preprocessed documents"
      ]
    },
    {
      "cell_type": "code",
      "metadata": {
        "id": "gdqQPwqBrwRY",
        "colab_type": "code",
        "outputId": "716465b9-2762-413d-e874-87f5358f5c21",
        "colab": {
          "base_uri": "https://localhost:8080/",
          "height": 187
        }
      },
      "source": [
        "#dic.filter_extremes()\n",
        "bow=[dic.doc2bow(doc) for doc in processed_docs]\n",
        "bow[0][:10]\n",
        "# word with token_id 0 appears 7 times in document"
      ],
      "execution_count": 16,
      "outputs": [
        {
          "output_type": "execute_result",
          "data": {
            "text/plain": [
              "[(0, 7),\n",
              " (1, 1),\n",
              " (2, 1),\n",
              " (3, 2),\n",
              " (4, 2),\n",
              " (5, 1),\n",
              " (6, 1),\n",
              " (7, 2),\n",
              " (8, 1),\n",
              " (9, 1)]"
            ]
          },
          "metadata": {
            "tags": []
          },
          "execution_count": 16
        }
      ]
    },
    {
      "cell_type": "markdown",
      "metadata": {
        "id": "ELN73QBUrwRd",
        "colab_type": "text"
      },
      "source": [
        "### TF-IDF"
      ]
    },
    {
      "cell_type": "code",
      "metadata": {
        "id": "_O3AbRaarwRe",
        "colab_type": "code",
        "colab": {}
      },
      "source": [
        "from gensim import models\n",
        "tfidf = models.TfidfModel(bow)"
      ],
      "execution_count": 0,
      "outputs": []
    },
    {
      "cell_type": "code",
      "metadata": {
        "id": "zouloBjCrwRi",
        "colab_type": "code",
        "colab": {}
      },
      "source": [
        "corpus_tfidf = tfidf[bow]"
      ],
      "execution_count": 0,
      "outputs": []
    },
    {
      "cell_type": "code",
      "metadata": {
        "id": "rjEU3-0PrwRm",
        "colab_type": "code",
        "outputId": "cce6cc9c-9ab8-4009-ae3b-f6506edec50c",
        "colab": {
          "base_uri": "https://localhost:8080/",
          "height": 1000
        }
      },
      "source": [
        "from pprint import pprint\n",
        "for doc in corpus_tfidf:\n",
        "    pprint(doc)\n",
        "    break"
      ],
      "execution_count": 19,
      "outputs": [
        {
          "output_type": "stream",
          "text": [
            "[(0, 0.2230970706404005),\n",
            " (1, 0.05808478262058561),\n",
            " (2, 0.0312761860906699),\n",
            " (3, 0.11328109777342148),\n",
            " (4, 0.17174588526816054),\n",
            " (5, 0.04515942803354067),\n",
            " (6, 0.042375375878963124),\n",
            " (7, 0.06963857504481114),\n",
            " (8, 0.07160776962633265),\n",
            " (9, 0.05970999099195468),\n",
            " (10, 0.12747453181390211),\n",
            " (11, 0.047302942377266295),\n",
            " (12, 0.058871976362783025),\n",
            " (13, 0.06787229845321543),\n",
            " (14, 0.03444289247127546),\n",
            " (15, 0.03456714911371667),\n",
            " (16, 0.054159750123973095),\n",
            " (17, 0.02544257038084304),\n",
            " (18, 0.07397516399970232),\n",
            " (19, 0.022227503720700488),\n",
            " (20, 0.08917587194902346),\n",
            " (21, 0.07145208602842192),\n",
            " (22, 0.05028390223179893),\n",
            " (23, 0.039523559874261587),\n",
            " (24, 0.04332013572506785),\n",
            " (25, 0.03769358992787368),\n",
            " (26, 0.06260744753590024),\n",
            " (27, 0.04332013572506785),\n",
            " (28, 0.05114987105916515),\n",
            " (29, 0.2238980792753499),\n",
            " (30, 0.08587294263408027),\n",
            " (31, 0.02507677942997257),\n",
            " (32, 0.041283580141366516),\n",
            " (33, 0.03383884309170826),\n",
            " (34, 0.024897677003576164),\n",
            " (35, 0.0649748419092699),\n",
            " (36, 0.02751651226367456),\n",
            " (37, 0.03547192337604729),\n",
            " (38, 0.4644004309631221),\n",
            " (39, 0.03734034901522101),\n",
            " (40, 0.05028390223179893),\n",
            " (41, 0.03718668189577523),\n",
            " (42, 0.042149548968732735),\n",
            " (43, 0.061568115385013916),\n",
            " (44, 0.04615035201494676),\n",
            " (45, 0.03718668189577523),\n",
            " (46, 0.03098868976964505),\n",
            " (47, 0.0401092812537756),\n",
            " (48, 0.021568717222530436),\n",
            " (49, 0.1829464869043449),\n",
            " (50, 0.03395742583410452),\n",
            " (51, 0.03914734016792126),\n",
            " (52, 0.04433906768315423),\n",
            " (53, 0.047302942377266295),\n",
            " (54, 0.030251770334354774),\n",
            " (55, 0.047302942377266295),\n",
            " (56, 0.045736621726086224),\n",
            " (57, 0.023388075968528037),\n",
            " (58, 0.06787229845321543),\n",
            " (59, 0.04634067110565342),\n",
            " (60, 0.061568115385013916),\n",
            " (61, 0.019109880780783076),\n",
            " (62, 0.02930229819640146),\n",
            " (63, 0.13145882883851398),\n",
            " (64, 0.042839165182140676),\n",
            " (65, 0.07961611779398918),\n",
            " (66, 0.05256779329458149),\n",
            " (67, 0.07687262054364785),\n",
            " (68, 0.06104647556765833),\n",
            " (69, 0.036589578074034124),\n",
            " (70, 0.054159750123973095),\n",
            " (71, 0.08763921922567598),\n",
            " (72, 0.023817362009473972),\n",
            " (73, 0.05808478262058561),\n",
            " (74, 0.09974330854470122),\n",
            " (75, 0.03372133351101733),\n",
            " (76, 0.031972851555090415),\n",
            " (77, 0.0408713321819182),\n",
            " (78, 0.030251770334354774),\n",
            " (79, 0.008706697687792008),\n",
            " (80, 0.051605522022968635),\n",
            " (81, 0.04987165427235061),\n",
            " (82, 0.032075498097905795),\n",
            " (83, 0.04407674118445951),\n",
            " (84, 0.02569228423158516),\n",
            " (85, 0.03547192337604729),\n",
            " (86, 0.11194903963767495),\n",
            " (87, 0.042839165182140676),\n",
            " (88, 0.0490844605301532),\n",
            " (89, 0.03132466187915107),\n",
            " (90, 0.05597451981883748),\n",
            " (91, 0.06373726590695106),\n",
            " (92, 0.07687262054364785),\n",
            " (93, 0.03444289247127546),\n",
            " (94, 0.07160776962633265),\n",
            " (95, 0.05256779329458149),\n",
            " (96, 0.027589255983601704),\n",
            " (97, 0.033149226878300325),\n",
            " (98, 0.01701101308292227),\n",
            " (99, 0.09487326472451268),\n",
            " (100, 0.10721425089093563),\n",
            " (101, 0.5634670278231021),\n",
            " (102, 0.005427079818609264),\n",
            " (103, 0.03615910594310826)]\n"
          ],
          "name": "stdout"
        }
      ]
    },
    {
      "cell_type": "markdown",
      "metadata": {
        "id": "ErcZEY-D8246",
        "colab_type": "text"
      },
      "source": [
        "### Hyperparameter tuning for optimal no. of Topics using Coherence score\n",
        "#### I) LDA using BOW"
      ]
    },
    {
      "cell_type": "code",
      "metadata": {
        "id": "b842jqik8ja2",
        "colab_type": "code",
        "colab": {
          "base_uri": "https://localhost:8080/",
          "height": 295
        },
        "outputId": "176683d6-f824-4b2b-a521-f558ff7ea1c8"
      },
      "source": [
        "score=[]\n",
        "model_list=[]\n",
        "for topic in range(2, 11):\n",
        "    model = LdaModel(corpus=bow, num_topics=topic, id2word=dic, passes=10, iterations=100)\n",
        "    cohe = CoherenceModel(model=model, texts=processed_docs)\n",
        "    model_list.append(model)\n",
        "    score.append(cohe.get_coherence())\n",
        "plt.plot(range(2, 11), score)\n",
        "plt.xlabel('no. of topics')\n",
        "plt.ylabel('coherence score')\n",
        "plt.title('Optimal no. of Topics using BOW')\n",
        "plt.show()"
      ],
      "execution_count": 24,
      "outputs": [
        {
          "output_type": "display_data",
          "data": {
            "image/png": "[encoded data removed]",
            "text/plain": [
              "<Figure size 432x288 with 1 Axes>"
            ]
          },
          "metadata": {
            "tags": [],
            "needs_background": "light"
          }
        }
      ]
    },
    {
      "cell_type": "markdown",
      "metadata": {
        "id": "lDJG3jLB8xuY",
        "colab_type": "text"
      },
      "source": [
        "#### II) LDA using TF-IDF"
      ]
    },
    {
      "cell_type": "code",
      "metadata": {
        "id": "tGiv19UU8jjS",
        "colab_type": "code",
        "colab": {
          "base_uri": "https://localhost:8080/",
          "height": 295
        },
        "outputId": "82adc742-0280-44bc-af51-4d7057b2d5c1"
      },
      "source": [
        "score2=[]\n",
        "model_list2=[]\n",
        "for topic in range(2, 11):\n",
        "    model = LdaModel(corpus=bow, num_topics=topic, id2word=dic, passes=10, iterations=100)\n",
        "    cohe = CoherenceModel(model=model, texts=processed_docs)\n",
        "    model_list2.append(model)\n",
        "    score2.append(cohe.get_coherence())\n",
        "plt.plot(range(2, 11), score)\n",
        "plt.xlabel('no. of topics')\n",
        "plt.ylabel('coherence score')\n",
        "plt.title('Optimal no. of Topics using TF-IDF')\n",
        "plt.show()"
      ],
      "execution_count": 25,
      "outputs": [
        {
          "output_type": "display_data",
          "data": {
            "image/png": "[encoded data removed]",
            "text/plain": [
              "<Figure size 432x288 with 1 Axes>"
            ]
          },
          "metadata": {
            "tags": [],
            "needs_background": "light"
          }
        }
      ]
    },
    {
      "cell_type": "markdown",
      "metadata": {
        "id": "V3SleGdwFSwz",
        "colab_type": "text"
      },
      "source": [
        "##### Both plots (using BOW and TF-IDF) showing optimal no. of topics can be 5, since after 5 score is decreasing but after 8 score is increasing(may have repeated keywords in the topic)"
      ]
    },
    {
      "cell_type": "code",
      "metadata": {
        "id": "cYXty9nFF91A",
        "colab_type": "code",
        "colab": {
          "base_uri": "https://localhost:8080/",
          "height": 323
        },
        "outputId": "b87bf6ac-67fe-4350-f51e-e20d7ecf2a5c"
      },
      "source": [
        "score, score2\n",
        "# we see for no. of topics 5, model using TF-IDF giving better score(0.50 index 3) than BOW"
      ],
      "execution_count": 28,
      "outputs": [
        {
          "output_type": "execute_result",
          "data": {
            "text/plain": [
              "([0.32850393813556655,\n",
              "  0.37313592757927516,\n",
              "  0.4393902903309851,\n",
              "  0.4424569737201323,\n",
              "  0.4269757631650624,\n",
              "  0.3742851883869219,\n",
              "  0.44890992029089016,\n",
              "  0.45088456598120313,\n",
              "  0.459066027535155],\n",
              " [0.3553790715232775,\n",
              "  0.3629271347314767,\n",
              "  0.38546632947327975,\n",
              "  0.5092235901321011,\n",
              "  0.4377754089301454,\n",
              "  0.4535016537575491,\n",
              "  0.4349313705524118,\n",
              "  0.4780362144965613,\n",
              "  0.4783431347284221])"
            ]
          },
          "metadata": {
            "tags": []
          },
          "execution_count": 28
        }
      ]
    },
    {
      "cell_type": "code",
      "metadata": {
        "id": "PRUlbQtBHMx0",
        "colab_type": "code",
        "colab": {
          "base_uri": "https://localhost:8080/",
          "height": 34
        },
        "outputId": "9b793e06-114f-4bf3-e86d-8bb0f45e8903"
      },
      "source": [
        "score2[3]"
      ],
      "execution_count": 31,
      "outputs": [
        {
          "output_type": "execute_result",
          "data": {
            "text/plain": [
              "0.5092235901321011"
            ]
          },
          "metadata": {
            "tags": []
          },
          "execution_count": 31
        }
      ]
    },
    {
      "cell_type": "code",
      "metadata": {
        "id": "7EFJnE_BrwRw",
        "colab_type": "code",
        "colab": {}
      },
      "source": [
        "# we get highest coherence score 0.50 with no. of topics 5 using TF-IDF\n",
        "lda_model=model_list2[3]"
      ],
      "execution_count": 0,
      "outputs": []
    },
    {
      "cell_type": "code",
      "metadata": {
        "id": "PwL_XYjOrwRz",
        "colab_type": "code",
        "outputId": "80bb7a26-5b97-4325-a905-5be0b5f703c5",
        "colab": {
          "base_uri": "https://localhost:8080/",
          "height": 122
        }
      },
      "source": [
        "for idx, topic in lda_model.print_topics(-1, 15):\n",
        "    print('Topic {} : Words : {}'.format(idx, topic))"
      ],
      "execution_count": 33,
      "outputs": [
        {
          "output_type": "stream",
          "text": [
            "Topic 0 : Words : 0.027*\"say\" + 0.009*\"govern\" + 0.008*\"year\" + 0.007*\"elect\" + 0.006*\"labour\" + 0.006*\"parti\" + 0.006*\"minist\" + 0.006*\"plan\" + 0.005*\"peopl\" + 0.005*\"blair\" + 0.004*\"countri\" + 0.004*\"tori\" + 0.004*\"tell\" + 0.004*\"economi\" + 0.004*\"brown\"\n",
            "Topic 1 : Words : 0.012*\"game\" + 0.010*\"say\" + 0.008*\"play\" + 0.007*\"england\" + 0.007*\"time\" + 0.006*\"player\" + 0.006*\"club\" + 0.005*\"year\" + 0.005*\"team\" + 0.004*\"half\" + 0.004*\"ireland\" + 0.004*\"come\" + 0.004*\"wale\" + 0.004*\"match\" + 0.004*\"go\"\n",
            "Topic 2 : Words : 0.020*\"film\" + 0.014*\"say\" + 0.010*\"best\" + 0.009*\"award\" + 0.008*\"star\" + 0.008*\"year\" + 0.006*\"actor\" + 0.005*\"includ\" + 0.005*\"director\" + 0.005*\"oscar\" + 0.004*\"nomin\" + 0.004*\"play\" + 0.004*\"time\" + 0.004*\"take\" + 0.003*\"movi\"\n",
            "Topic 3 : Words : 0.021*\"say\" + 0.008*\"peopl\" + 0.007*\"year\" + 0.006*\"firm\" + 0.006*\"mobil\" + 0.006*\"compani\" + 0.005*\"phone\" + 0.005*\"servic\" + 0.005*\"technolog\" + 0.005*\"market\" + 0.004*\"like\" + 0.004*\"share\" + 0.004*\"game\" + 0.004*\"month\" + 0.004*\"time\"\n",
            "Topic 4 : Words : 0.018*\"say\" + 0.012*\"year\" + 0.007*\"world\" + 0.006*\"music\" + 0.005*\"game\" + 0.004*\"number\" + 0.004*\"record\" + 0.004*\"best\" + 0.004*\"band\" + 0.004*\"time\" + 0.004*\"play\" + 0.004*\"take\" + 0.004*\"go\" + 0.003*\"open\" + 0.003*\"chart\"\n"
          ],
          "name": "stdout"
        }
      ]
    },
    {
      "cell_type": "markdown",
      "metadata": {
        "id": "RIN4Os7brwSI",
        "colab_type": "text"
      },
      "source": [
        "### Visualization"
      ]
    },
    {
      "cell_type": "code",
      "metadata": {
        "id": "MwKplVwqtTDZ",
        "colab_type": "code",
        "outputId": "8f6dd193-cdfc-4d00-f872-3e10ab306e9c",
        "colab": {
          "base_uri": "https://localhost:8080/",
          "height": 632
        }
      },
      "source": [
        "!pip install pyLDAvis"
      ],
      "execution_count": 34,
      "outputs": [
        {
          "output_type": "stream",
          "text": [
            "Collecting pyLDAvis\n",
            "\u001b[?25l  Downloading https://files.pythonhosted.org/packages/a5/3a/af82e070a8a96e13217c8f362f9a73e82d61ac8fff3a2561946a97f96266/pyLDAvis-2.1.2.tar.gz (1.6MB)\n",
            "\u001b[K     |████████████████████████████████| 1.6MB 4.9MB/s \n",
            "\u001b[?25hRequirement already satisfied: wheel>=0.23.0 in /usr/local/lib/python3.6/dist-packages (from pyLDAvis) (0.34.2)\n",
            "Requirement already satisfied: numpy>=1.9.2 in /usr/local/lib/python3.6/dist-packages (from pyLDAvis) (1.18.4)\n",
            "Requirement already satisfied: scipy>=0.18.0 in /usr/local/lib/python3.6/dist-packages (from pyLDAvis) (1.4.1)\n",
            "Requirement already satisfied: pandas>=0.17.0 in /usr/local/lib/python3.6/dist-packages (from pyLDAvis) (1.0.4)\n",
            "Requirement already satisfied: joblib>=0.8.4 in /usr/local/lib/python3.6/dist-packages (from pyLDAvis) (0.15.1)\n",
            "Requirement already satisfied: jinja2>=2.7.2 in /usr/local/lib/python3.6/dist-packages (from pyLDAvis) (2.11.2)\n",
            "Requirement already satisfied: numexpr in /usr/local/lib/python3.6/dist-packages (from pyLDAvis) (2.7.1)\n",
            "Requirement already satisfied: pytest in /usr/local/lib/python3.6/dist-packages (from pyLDAvis) (3.6.4)\n",
            "Requirement already satisfied: future in /usr/local/lib/python3.6/dist-packages (from pyLDAvis) (0.16.0)\n",
            "Collecting funcy\n",
            "\u001b[?25l  Downloading https://files.pythonhosted.org/packages/ce/4b/6ffa76544e46614123de31574ad95758c421aae391a1764921b8a81e1eae/funcy-1.14.tar.gz (548kB)\n",
            "\u001b[K     |████████████████████████████████| 552kB 38.6MB/s \n",
            "\u001b[?25hRequirement already satisfied: python-dateutil>=2.6.1 in /usr/local/lib/python3.6/dist-packages (from pandas>=0.17.0->pyLDAvis) (2.8.1)\n",
            "Requirement already satisfied: pytz>=2017.2 in /usr/local/lib/python3.6/dist-packages (from pandas>=0.17.0->pyLDAvis) (2018.9)\n",
            "Requirement already satisfied: MarkupSafe>=0.23 in /usr/local/lib/python3.6/dist-packages (from jinja2>=2.7.2->pyLDAvis) (1.1.1)\n",
            "Requirement already satisfied: attrs>=17.4.0 in /usr/local/lib/python3.6/dist-packages (from pytest->pyLDAvis) (19.3.0)\n",
            "Requirement already satisfied: pluggy<0.8,>=0.5 in /usr/local/lib/python3.6/dist-packages (from pytest->pyLDAvis) (0.7.1)\n",
            "Requirement already satisfied: setuptools in /usr/local/lib/python3.6/dist-packages (from pytest->pyLDAvis) (47.1.1)\n",
            "Requirement already satisfied: py>=1.5.0 in /usr/local/lib/python3.6/dist-packages (from pytest->pyLDAvis) (1.8.1)\n",
            "Requirement already satisfied: more-itertools>=4.0.0 in /usr/local/lib/python3.6/dist-packages (from pytest->pyLDAvis) (8.3.0)\n",
            "Requirement already satisfied: atomicwrites>=1.0 in /usr/local/lib/python3.6/dist-packages (from pytest->pyLDAvis) (1.4.0)\n",
            "Requirement already satisfied: six>=1.10.0 in /usr/local/lib/python3.6/dist-packages (from pytest->pyLDAvis) (1.12.0)\n",
            "Building wheels for collected packages: pyLDAvis, funcy\n",
            "  Building wheel for pyLDAvis (setup.py) ... \u001b[?25l\u001b[?25hdone\n",
            "  Created wheel for pyLDAvis: filename=pyLDAvis-2.1.2-py2.py3-none-any.whl size=97711 sha256=7b72e11a27bb42ce24c51b228d2723442df54bad7108fe272af1a97782edfa77\n",
            "  Stored in directory: /root/.cache/pip/wheels/98/71/24/513a99e58bb6b8465bae4d2d5e9dba8f0bef8179e3051ac414\n",
            "  Building wheel for funcy (setup.py) ... \u001b[?25l\u001b[?25hdone\n",
            "  Created wheel for funcy: filename=funcy-1.14-py2.py3-none-any.whl size=32042 sha256=4088985489dd479a91a2dea225460d3a1e90c0e7ea13c0fd1225f09603d10e13\n",
            "  Stored in directory: /root/.cache/pip/wheels/20/5a/d8/1d875df03deae6f178dfdf70238cca33f948ef8a6f5209f2eb\n",
            "Successfully built pyLDAvis funcy\n",
            "Installing collected packages: funcy, pyLDAvis\n",
            "Successfully installed funcy-1.14 pyLDAvis-2.1.2\n"
          ],
          "name": "stdout"
        }
      ]
    },
    {
      "cell_type": "code",
      "metadata": {
        "id": "US2kqkTXrwSK",
        "colab_type": "code",
        "colab": {}
      },
      "source": [
        "import pyLDAvis.gensim\n",
        "pyLDAvis.enable_notebook()"
      ],
      "execution_count": 0,
      "outputs": []
    },
    {
      "cell_type": "code",
      "metadata": {
        "id": "4bMyNkrMrwSQ",
        "colab_type": "code",
        "outputId": "4b1ccfc2-6012-4dde-8f1d-ab4ba54a7c58",
        "colab": {
          "base_uri": "https://localhost:8080/",
          "height": 881
        }
      },
      "source": [
        "pyLDAvis.gensim.prepare(lda_model, bow, dic)"
      ],
      "execution_count": 36,
      "outputs": [
        {
          "output_type": "execute_result",
          "data": {
            "text/html": [
              "\n",
              "<link rel=\"stylesheet\" type=\"text/css\" href=\"https://cdn.rawgit.com/bmabey/pyLDAvis/files/ldavis.v1.0.0.css\">\n",
              "\n",
              "\n",
              "<div id=\"ldavis_el1201401138776640564296690935\"></div>\n",
              "<script type=\"text/javascript\">\n",
              "\n",
              "var ldavis_el1201401138776640564296690935_data = {\"mdsDat\": {\"x\": [-0.11101427048296833, -0.10767528790620923, 0.15003655325887025, 0.034076021030508545, 0.0345769840997988], \"y\": [-0.07589299406025495, 0.0006222965994120822, -0.09473990259552721, 0.04432418207298398, 0.12568641798338634], \"topics\": [1, 2, 3, 4, 5], \"cluster\": [1, 1, 1, 1, 1], \"Freq\": [29.701122283935547, 29.679697036743164, 15.393562316894531, 13.905243873596191, 11.320372581481934]}, \"tinfo\": {\"Term\": [\"film\", \"game\", \"elect\", \"best\", \"labour\", \"award\", \"govern\", \"star\", \"mobil\", \"play\", \"england\", \"blair\", \"phone\", \"minist\", \"parti\", \"music\", \"club\", \"tori\", \"actor\", \"player\", \"year\", \"technolog\", \"oscar\", \"chelsea\", \"ireland\", \"wale\", \"band\", \"team\", \"nomin\", \"world\", \"tori\", \"chancellor\", \"dem\", \"asylum\", \"labour\", \"pension\", \"fiat\", \"democrat\", \"blair\", \"prescott\", \"elect\", \"manifesto\", \"milburn\", \"liber\", \"firefox\", \"goldsmith\", \"blunkett\", \"wage\", \"conserv\", \"referendum\", \"secretari\", \"rebat\", \"oaten\", \"boe\", \"airbus\", \"cyprus\", \"prime\", \"taxpay\", \"kennedi\", \"reform\", \"minist\", \"immigr\", \"turkey\", \"lord\", \"parti\", \"airlin\", \"parliament\", \"economi\", \"econom\", \"govern\", \"terror\", \"brown\", \"polici\", \"toni\", \"council\", \"budget\", \"leader\", \"howard\", \"plan\", \"polit\", \"general\", \"say\", \"public\", \"countri\", \"campaign\", \"increas\", \"year\", \"spend\", \"peopl\", \"tell\", \"issu\", \"growth\", \"rise\", \"claim\", \"expect\", \"report\", \"come\", \"time\", \"work\", \"broadband\", \"handset\", \"deutsch\", \"vodafon\", \"parmalat\", \"mobil\", \"gartner\", \"cont\", \"jeev\", \"boers\", \"multimedia\", \"file\", \"iptv\", \"evict\", \"nielsen\", \"premium\", \"laser\", \"subscript\", \"supplier\", \"compress\", \"qwest\", \"googl\", \"fanni\", \"megapixel\", \"intel\", \"phone\", \"bloglin\", \"barclay\", \"argonaut\", \"jupit\", \"storag\", \"wireless\", \"gazprom\", \"technolog\", \"yuko\", \"network\", \"digit\", \"user\", \"camera\", \"retail\", \"devic\", \"blog\", \"custom\", \"onlin\", \"store\", \"comput\", \"data\", \"connect\", \"search\", \"content\", \"site\", \"internet\", \"firm\", \"consum\", \"inform\", \"compani\", \"share\", \"servic\", \"market\", \"softwar\", \"bank\", \"peopl\", \"offer\", \"video\", \"say\", \"million\", \"sale\", \"analyst\", \"oper\", \"year\", \"month\", \"like\", \"music\", \"high\", \"report\", \"game\", \"work\", \"time\", \"number\", \"chelsea\", \"refere\", \"arsenal\", \"glazer\", \"mourinho\", \"wenger\", \"gara\", \"everton\", \"striker\", \"benitez\", \"gerrard\", \"barcelona\", \"ronaldo\", \"southampton\", \"sub\", \"henson\", \"galla\", \"robben\", \"volley\", \"cole\", \"lewsey\", \"cueto\", \"scrum\", \"driscol\", \"replay\", \"hodgson\", \"duff\", \"gigg\", \"paterson\", \"lampard\", \"celtic\", \"midfield\", \"ferguson\", \"premiership\", \"ulster\", \"leagu\", \"club\", \"goal\", \"ball\", \"rugbi\", \"roddick\", \"kick\", \"coach\", \"liverpool\", \"robinson\", \"ireland\", \"england\", \"score\", \"penalti\", \"wale\", \"manchest\", \"team\", \"minut\", \"match\", \"game\", \"season\", \"injuri\", \"player\", \"play\", \"half\", \"footbal\", \"unit\", \"scotland\", \"chanc\", \"time\", \"franc\", \"good\", \"say\", \"nation\", \"come\", \"go\", \"year\", \"think\", \"second\", \"look\", \"leav\", \"like\", \"radcliff\", \"hunt\", \"millan\", \"marathon\", \"henman\", \"kuznetsova\", \"serena\", \"davenport\", \"elvi\", \"aragon\", \"sec\", \"rapper\", \"eminem\", \"mirza\", \"kilroy\", \"safin\", \"paula\", \"chepkemei\", \"jayn\", \"xstrata\", \"dementieva\", \"album\", \"mauresmo\", \"lindsay\", \"countrysid\", \"venus\", \"mcilroy\", \"dechi\", \"guerrouj\", \"bat\", \"tenni\", \"verita\", \"fightstar\", \"indoor\", \"rusedski\", \"spywar\", \"chart\", \"grammi\", \"band\", \"ukip\", \"silk\", \"map\", \"rock\", \"wimbledon\", \"concert\", \"olymp\", \"singl\", \"song\", \"australian\", \"hewitt\", \"virus\", \"music\", \"world\", \"gold\", \"record\", \"year\", \"titl\", \"singer\", \"mail\", \"say\", \"event\", \"number\", \"releas\", \"best\", \"final\", \"open\", \"champion\", \"game\", \"perform\", \"play\", \"take\", \"second\", \"time\", \"go\", \"week\", \"includ\", \"group\", \"peopl\", \"come\", \"like\", \"know\", \"foxx\", \"swank\", \"drake\", \"ballet\", \"staunton\", \"eastwood\", \"cairn\", \"hilari\", \"scorses\", \"bafta\", \"imelda\", \"dicaprio\", \"brando\", \"actress\", \"remak\", \"blanchett\", \"melzer\", \"neverland\", \"nomine\", \"vera\", \"sideway\", \"sunshin\", \"winslet\", \"gogh\", \"etern\", \"oscar\", \"broadway\", \"spotless\", \"knife\", \"roundabout\", \"actor\", \"comedi\", \"film\", \"academi\", \"hollywood\", \"nomin\", \"aviat\", \"award\", \"drama\", \"star\", \"theatr\", \"movi\", \"best\", \"categori\", \"prize\", \"ceremoni\", \"director\", \"role\", \"festiv\", \"winner\", \"golden\", \"includ\", \"say\", \"produc\", \"year\", \"british\", \"play\", \"screen\", \"take\", \"time\", \"work\", \"music\", \"book\", \"world\", \"go\", \"like\", \"peopl\", \"come\"], \"Freq\": [749.0, 991.0, 570.0, 573.0, 512.0, 365.0, 807.0, 363.0, 471.0, 726.0, 403.0, 411.0, 452.0, 474.0, 506.0, 552.0, 265.0, 324.0, 185.0, 499.0, 2045.0, 427.0, 147.0, 150.0, 225.0, 242.0, 177.0, 292.0, 157.0, 761.0, 321.1402893066406, 167.74716186523438, 75.8846664428711, 78.7541732788086, 504.155029296875, 99.89093017578125, 40.691619873046875, 132.95518493652344, 401.5138244628906, 34.63873291015625, 556.2671508789062, 50.92329788208008, 43.226112365722656, 120.93475341796875, 29.76104164123535, 34.51950454711914, 47.938385009765625, 60.30434036254883, 154.75778198242188, 31.523969650268555, 186.6688232421875, 22.824993133544922, 23.773035049438477, 27.5440673828125, 24.687395095825195, 19.936861038208008, 215.29690551757812, 26.481111526489258, 100.07022094726562, 89.74523162841797, 448.2875671386719, 104.13278198242188, 60.2075309753418, 230.54843139648438, 469.8316345214844, 98.29657745361328, 109.7981948852539, 285.2998046875, 239.07786560058594, 694.2678833007812, 92.1455078125, 283.8206481933594, 160.79713439941406, 139.3591766357422, 162.3430633544922, 163.272216796875, 211.37527465820312, 192.23902893066406, 439.15087890625, 189.63526916503906, 214.031005859375, 2124.70068359375, 283.5691833496094, 348.8996887207031, 213.09048461914062, 243.01687622070312, 611.4745483398438, 216.99490356445312, 402.6401672363281, 289.4320373535156, 208.64984130859375, 203.7402801513672, 229.9423828125, 219.69534301757812, 228.91226196289062, 218.99542236328125, 223.440185546875, 227.9309539794922, 215.83163452148438, 164.5858612060547, 74.7418212890625, 52.794647216796875, 34.51791763305664, 27.743192672729492, 458.91070556640625, 30.583833694458008, 38.18691635131836, 28.660139083862305, 32.44123458862305, 40.94387435913086, 193.11891174316406, 23.7565975189209, 22.769309997558594, 24.658952713012695, 33.17948913574219, 22.716739654541016, 23.63605499267578, 24.56081771850586, 21.673444747924805, 18.848798751831055, 85.81217956542969, 18.825584411621094, 17.875991821289062, 30.084552764892578, 432.0409851074219, 15.956186294555664, 18.770238876342773, 18.75381851196289, 23.4172420501709, 47.795494079589844, 61.43592834472656, 38.1693229675293, 395.6875305175781, 113.04913330078125, 229.417236328125, 258.2202453613281, 274.7187194824219, 124.6056900024414, 86.41838836669922, 160.38475036621094, 113.8616714477539, 142.13775634765625, 186.01524353027344, 89.69537353515625, 90.90888214111328, 167.1202392578125, 108.1172866821289, 157.7581329345703, 134.779052734375, 109.6615982055664, 182.3951873779297, 484.20745849609375, 232.95932006835938, 204.27052307128906, 450.0439758300781, 293.06903076171875, 404.6955871582031, 393.7197265625, 200.3430633544922, 236.1015167236328, 651.9397583007812, 275.67242431640625, 178.89590454101562, 1650.25439453125, 258.75494384765625, 268.06689453125, 183.93336486816406, 195.78514099121094, 533.1534423828125, 278.7076416015625, 309.6905517578125, 252.88101196289062, 220.6814727783203, 236.12033081054688, 279.5961608886719, 250.76792907714844, 276.4941711425781, 228.0120391845703, 148.54461669921875, 74.6389389038086, 110.432861328125, 56.10780715942383, 54.083553314208984, 51.29243469238281, 44.732452392578125, 32.83613204956055, 44.55015182495117, 36.27931213378906, 36.23082733154297, 27.155061721801758, 25.337987899780273, 29.822614669799805, 22.53670883178711, 30.616619110107422, 20.697582244873047, 20.682634353637695, 20.68402671813965, 23.38163185119629, 20.671693801879883, 18.819650650024414, 31.34406089782715, 25.972797393798828, 19.700607299804688, 41.99811553955078, 17.891263961791992, 21.48032569885254, 16.086708068847656, 16.968957901000977, 34.65603256225586, 27.609344482421875, 60.017005920410156, 65.94404602050781, 25.730688095092773, 115.18311309814453, 226.39144897460938, 143.1964111328125, 94.3830337524414, 103.36991119384766, 79.69486236572266, 95.88800048828125, 137.30213928222656, 74.06946563720703, 74.89939880371094, 178.31265258789062, 296.05877685546875, 112.30311584472656, 82.82003021240234, 172.6948699951172, 84.31900024414062, 193.3141326904297, 152.4634552001953, 169.79075622558594, 497.7166442871094, 136.96694946289062, 123.0370864868164, 260.7452392578125, 331.8336486816406, 180.47291564941406, 90.63048553466797, 167.32872009277344, 107.89013671875, 123.26093292236328, 267.6929016113281, 124.8839340209961, 158.4491424560547, 417.4294128417969, 148.83489990234375, 173.18055725097656, 169.26385498046875, 212.23109436035156, 146.25657653808594, 130.50906372070312, 131.0652618408203, 122.83162689208984, 128.56683349609375, 35.58638381958008, 96.22245788574219, 17.534286499023438, 34.245731353759766, 37.47864532470703, 17.471343994140625, 19.10409164428711, 28.231908798217773, 32.33134460449219, 14.904316902160645, 14.903119087219238, 23.16463851928711, 14.026917457580566, 20.630386352539062, 73.39289093017578, 13.96029281616211, 13.113846778869629, 14.712027549743652, 11.419708251953125, 11.398453712463379, 11.38581657409668, 117.78520965576172, 10.547388076782227, 10.52446174621582, 9.687546730041504, 10.484663009643555, 16.90082359313965, 9.654436111450195, 8.849780082702637, 8.84973430633545, 47.78931427001953, 20.123641967773438, 12.862918853759766, 52.14570236206055, 21.514686584472656, 54.16118621826172, 120.00442504882812, 19.857654571533203, 150.800537109375, 77.62561798095703, 63.75159454345703, 20.668001174926758, 67.87030029296875, 27.529727935791016, 36.286170959472656, 94.23991394042969, 110.40263366699219, 90.50997924804688, 67.35022735595703, 38.02741241455078, 96.16000366210938, 208.57923889160156, 259.6427001953125, 45.91215133666992, 156.93350219726562, 446.17633056640625, 89.47968292236328, 60.74684143066406, 95.98731994628906, 646.2433471679688, 80.63019561767578, 160.4609375, 100.65681457519531, 154.91098022460938, 112.0895004272461, 123.64573669433594, 81.0588607788086, 177.63784790039062, 98.11450958251953, 143.83514404296875, 134.14683532714844, 111.50713348388672, 147.92715454101562, 129.5316925048828, 103.43390655517578, 104.07801055908203, 95.62047576904297, 109.6535415649414, 99.83975219726562, 97.58397674560547, 95.89563751220703, 41.38483810424805, 29.5485897064209, 33.74154281616211, 28.605775833129883, 30.284751892089844, 28.49416160583496, 21.778139114379883, 20.93197250366211, 27.56974983215332, 35.981380462646484, 22.559234619140625, 22.400798797607422, 14.925619125366211, 100.21426391601562, 19.009807586669922, 14.026642799377441, 13.141794204711914, 13.136640548706055, 30.343076705932617, 35.169559478759766, 34.29099655151367, 12.26199722290039, 13.901326179504395, 10.58721923828125, 11.388277053833008, 136.84451293945312, 10.56854248046875, 11.370025634765625, 10.54443359375, 9.718027114868164, 170.02024841308594, 75.93216705322266, 609.7745971679688, 53.52367401123047, 61.03558349609375, 127.44874572753906, 70.540283203125, 258.06097412109375, 54.210655212402344, 248.2037353515625, 57.20414733886719, 102.05675506591797, 297.0462951660156, 52.90663528442383, 69.9508285522461, 52.11341094970703, 139.0395965576172, 89.71220397949219, 62.181396484375, 73.55052185058594, 45.77019500732422, 139.65606689453125, 421.7698059082031, 85.80821228027344, 242.5265655517578, 91.12781524658203, 119.49568939208984, 61.53131866455078, 111.08797454833984, 111.4919662475586, 90.91378784179688, 82.7813491821289, 64.91159057617188, 81.37632751464844, 79.45689392089844, 78.26144409179688, 78.36582946777344, 67.78550720214844], \"Total\": [749.0, 991.0, 570.0, 573.0, 512.0, 365.0, 807.0, 363.0, 471.0, 726.0, 403.0, 411.0, 452.0, 474.0, 506.0, 552.0, 265.0, 324.0, 185.0, 499.0, 2045.0, 427.0, 147.0, 150.0, 225.0, 242.0, 177.0, 292.0, 157.0, 761.0, 324.86767578125, 169.82742309570312, 77.01681518554688, 79.98076629638672, 512.2257080078125, 101.6790542602539, 41.45714569091797, 136.12954711914062, 411.4893798828125, 35.515480041503906, 570.82666015625, 52.28401565551758, 44.38423538208008, 124.23759460449219, 30.58090591430664, 35.518310546875, 49.33963394165039, 62.183170318603516, 159.64381408691406, 32.54375457763672, 193.22268676757812, 23.661897659301758, 24.648460388183594, 28.578948974609375, 25.626428604125977, 20.698122024536133, 223.8740234375, 27.603601455688477, 104.33221435546875, 93.6175765991211, 474.1562805175781, 109.24934387207031, 63.01287078857422, 244.59423828125, 506.7457580566406, 103.52202606201172, 116.36930084228516, 315.3654479980469, 265.7226257324219, 807.5892333984375, 98.49832916259766, 325.1700744628906, 178.32594299316406, 154.67263793945312, 182.7983856201172, 185.37501525878906, 250.3780059814453, 229.36773681640625, 613.9102172851562, 233.62017822265625, 272.9034118652344, 5260.3974609375, 397.8388366699219, 554.8267822265625, 289.6925048828125, 407.8868713378906, 2045.56201171875, 344.23846435546875, 1281.185546875, 649.3175659179688, 324.9949645996094, 310.189453125, 419.5671081542969, 401.3627014160156, 494.56842041015625, 550.62646484375, 739.1319580078125, 1031.537109375, 706.0511474609375, 166.44703674316406, 75.83168029785156, 54.13913345336914, 35.43084716796875, 28.528921127319336, 471.98809814453125, 31.483190536499023, 39.32730484008789, 29.516584396362305, 33.45225524902344, 42.293731689453125, 199.77748107910156, 24.58816146850586, 23.598896026611328, 25.55884552001953, 34.42147445678711, 23.587831497192383, 24.575359344482422, 25.570859909057617, 22.60293960571289, 19.65800666809082, 89.52252960205078, 19.6588077545166, 18.672374725341797, 31.426847457885742, 452.2086486816406, 16.703088760375977, 19.65465545654297, 19.64155387878418, 24.553836822509766, 50.13726806640625, 64.86156463623047, 40.205142974853516, 427.2610778808594, 120.6283950805664, 249.7407684326172, 284.2426452636719, 303.42401123046875, 135.1673126220703, 93.21485900878906, 177.32215881347656, 125.7995834350586, 159.86868286132812, 213.73681640625, 99.33746337890625, 100.87871551513672, 193.54598999023438, 122.34318542480469, 185.00457763671875, 156.20089721679688, 125.44474792480469, 221.95372009277344, 667.3637084960938, 297.3468322753906, 259.761474609375, 662.9227294921875, 409.451904296875, 608.1038208007812, 589.3712158203125, 263.4457092285156, 326.46929931640625, 1281.185546875, 417.6890563964844, 236.7554168701172, 5260.3974609375, 422.6009521484375, 479.0519104003906, 264.27581787109375, 294.43121337890625, 2045.56201171875, 608.2208251953125, 768.7847900390625, 552.3323364257812, 401.1916809082031, 550.62646484375, 991.718994140625, 706.0511474609375, 1031.537109375, 583.7003784179688, 150.88623046875, 75.88282012939453, 112.42876434326172, 57.16575622558594, 55.285186767578125, 52.45424270629883, 45.88848114013672, 33.73058319091797, 45.91428756713867, 37.4572639465332, 37.46871566772461, 28.103275299072266, 26.23396110534668, 30.912460327148438, 23.422630310058594, 31.841964721679688, 21.546655654907227, 21.546367645263672, 21.548803329467773, 24.361896514892578, 21.54004669189453, 19.66757583618164, 32.75758361816406, 27.146270751953125, 20.60955238342285, 43.95487594604492, 18.734251022338867, 22.495250701904297, 16.85991859436035, 17.797365188598633, 36.48246765136719, 29.004505157470703, 63.6422004699707, 71.41444396972656, 27.141315460205078, 129.4947052001953, 265.6101989746094, 166.07672119140625, 107.17048645019531, 118.09689331054688, 91.0418930053711, 111.6478271484375, 168.36923217773438, 85.57061004638672, 86.79650115966797, 225.19808959960938, 403.21502685546875, 136.48175048828125, 98.77772521972656, 242.34336853027344, 105.2430191040039, 292.5822448730469, 221.6846160888672, 255.718994140625, 991.718994140625, 196.98538208007812, 171.4971160888672, 499.4730224609375, 726.5238037109375, 309.223388671875, 121.14596557617188, 322.98486328125, 160.74232482910156, 205.84890747070312, 1031.537109375, 241.1671600341797, 464.1969299316406, 5260.3974609375, 479.4180908203125, 739.1319580078125, 711.9759521484375, 2045.56201171875, 557.0258178710938, 426.3826599121094, 492.7182922363281, 330.637451171875, 768.7847900390625, 36.554901123046875, 100.31409454345703, 18.2971134185791, 35.74280548095703, 39.17899703979492, 18.304201126098633, 20.04778289794922, 29.626577377319336, 34.015403747558594, 15.692230224609375, 15.694188117980957, 24.43364715576172, 14.827410697937012, 21.820714950561523, 77.75265502929688, 14.835144996643066, 13.965750694274902, 15.720382690429688, 12.223353385925293, 12.22614574432373, 12.224257469177246, 126.60643005371094, 11.35440731048584, 11.354680061340332, 10.486908912658691, 11.362878799438477, 18.348115921020508, 10.486385345458984, 9.614338874816895, 9.614450454711914, 52.339927673339844, 21.884469985961914, 14.000734329223633, 57.731781005859375, 23.610795974731445, 60.66026306152344, 137.6121826171875, 21.791305541992188, 177.7552490234375, 90.03014373779297, 73.90756225585938, 22.80012321472168, 84.99142456054688, 31.542232513427734, 44.27170181274414, 136.57376098632812, 166.13108825683594, 131.2141876220703, 101.12940979003906, 49.909507751464844, 185.90773010253906, 552.3323364257812, 761.9072265625, 69.61675262451172, 435.6285705566406, 2045.56201171875, 199.34999084472656, 109.85771942138672, 227.2457275390625, 5260.3974609375, 174.26025390625, 583.7003784179688, 264.621337890625, 573.3016967773438, 322.1396484375, 396.5010986328125, 187.454833984375, 991.718994140625, 280.832275390625, 726.5238037109375, 658.5699462890625, 426.3826599121094, 1031.537109375, 711.9759521484375, 522.5037841796875, 539.0841064453125, 402.7660217285156, 1281.185546875, 739.1319580078125, 768.7847900390625, 443.70001220703125, 42.770896911621094, 30.56743812561035, 34.95493698120117, 29.71150016784668, 31.468708038330078, 29.696386337280273, 22.72494125366211, 21.85359001159668, 28.823226928710938, 37.62494659423828, 23.611143112182617, 23.61322021484375, 15.749344825744629, 105.83820343017578, 20.133970260620117, 14.880297660827637, 14.002166748046875, 14.01381778717041, 32.386966705322266, 37.57219314575195, 36.6740837097168, 13.136150360107422, 14.892707824707031, 11.388578414916992, 12.26528549194336, 147.48233032226562, 11.391586303710938, 12.267450332641602, 11.39738941192627, 10.518388748168945, 185.44857788085938, 84.0971908569336, 749.317626953125, 62.15633010864258, 71.50959014892578, 157.4495849609375, 86.17210388183594, 365.5367431640625, 66.0850830078125, 363.85650634765625, 73.10248565673828, 156.2250518798828, 573.3016967773438, 71.7729721069336, 107.52782440185547, 75.6290054321289, 321.9306945800781, 196.22488403320312, 109.88075256347656, 147.91421508789062, 67.09332275390625, 539.0841064453125, 5260.3974609375, 233.93605041503906, 2045.56201171875, 326.97467041015625, 726.5238037109375, 143.02645874023438, 658.5699462890625, 1031.537109375, 706.0511474609375, 552.3323364257812, 191.08627319335938, 761.9072265625, 711.9759521484375, 768.7847900390625, 1281.185546875, 739.1319580078125], \"Category\": [\"Default\", \"Default\", \"Default\", \"Default\", \"Default\", \"Default\", \"Default\", \"Default\", \"Default\", \"Default\", \"Default\", \"Default\", \"Default\", \"Default\", \"Default\", \"Default\", \"Default\", \"Default\", \"Default\", \"Default\", \"Default\", \"Default\", \"Default\", \"Default\", \"Default\", \"Default\", \"Default\", \"Default\", \"Default\", \"Default\", \"Topic1\", \"Topic1\", \"Topic1\", \"Topic1\", \"Topic1\", \"Topic1\", \"Topic1\", \"Topic1\", \"Topic1\", \"Topic1\", \"Topic1\", \"Topic1\", \"Topic1\", \"Topic1\", \"Topic1\", \"Topic1\", \"Topic1\", \"Topic1\", \"Topic1\", \"Topic1\", \"Topic1\", \"Topic1\", \"Topic1\", \"Topic1\", \"Topic1\", \"Topic1\", \"Topic1\", \"Topic1\", \"Topic1\", \"Topic1\", \"Topic1\", \"Topic1\", \"Topic1\", \"Topic1\", \"Topic1\", \"Topic1\", \"Topic1\", \"Topic1\", \"Topic1\", \"Topic1\", \"Topic1\", \"Topic1\", \"Topic1\", \"Topic1\", \"Topic1\", \"Topic1\", \"Topic1\", \"Topic1\", \"Topic1\", \"Topic1\", \"Topic1\", \"Topic1\", \"Topic1\", \"Topic1\", \"Topic1\", \"Topic1\", \"Topic1\", \"Topic1\", \"Topic1\", \"Topic1\", \"Topic1\", \"Topic1\", \"Topic1\", \"Topic1\", \"Topic1\", \"Topic1\", \"Topic1\", \"Topic1\", \"Topic1\", \"Topic2\", \"Topic2\", \"Topic2\", \"Topic2\", \"Topic2\", \"Topic2\", \"Topic2\", \"Topic2\", \"Topic2\", \"Topic2\", \"Topic2\", \"Topic2\", \"Topic2\", \"Topic2\", \"Topic2\", \"Topic2\", \"Topic2\", \"Topic2\", \"Topic2\", \"Topic2\", \"Topic2\", \"Topic2\", \"Topic2\", \"Topic2\", \"Topic2\", \"Topic2\", \"Topic2\", \"Topic2\", \"Topic2\", \"Topic2\", \"Topic2\", \"Topic2\", \"Topic2\", \"Topic2\", \"Topic2\", \"Topic2\", \"Topic2\", \"Topic2\", \"Topic2\", \"Topic2\", \"Topic2\", \"Topic2\", \"Topic2\", \"Topic2\", \"Topic2\", \"Topic2\", \"Topic2\", \"Topic2\", \"Topic2\", \"Topic2\", \"Topic2\", \"Topic2\", \"Topic2\", \"Topic2\", \"Topic2\", \"Topic2\", \"Topic2\", \"Topic2\", \"Topic2\", \"Topic2\", \"Topic2\", \"Topic2\", \"Topic2\", \"Topic2\", \"Topic2\", \"Topic2\", \"Topic2\", \"Topic2\", \"Topic2\", \"Topic2\", \"Topic2\", \"Topic2\", \"Topic2\", \"Topic2\", \"Topic2\", \"Topic2\", \"Topic2\", \"Topic2\", \"Topic2\", \"Topic3\", \"Topic3\", \"Topic3\", \"Topic3\", \"Topic3\", \"Topic3\", \"Topic3\", \"Topic3\", \"Topic3\", \"Topic3\", \"Topic3\", \"Topic3\", \"Topic3\", \"Topic3\", \"Topic3\", \"Topic3\", \"Topic3\", \"Topic3\", \"Topic3\", \"Topic3\", \"Topic3\", \"Topic3\", \"Topic3\", \"Topic3\", \"Topic3\", \"Topic3\", \"Topic3\", \"Topic3\", \"Topic3\", \"Topic3\", \"Topic3\", \"Topic3\", \"Topic3\", \"Topic3\", \"Topic3\", \"Topic3\", \"Topic3\", \"Topic3\", \"Topic3\", \"Topic3\", \"Topic3\", \"Topic3\", \"Topic3\", \"Topic3\", \"Topic3\", \"Topic3\", \"Topic3\", \"Topic3\", \"Topic3\", \"Topic3\", \"Topic3\", \"Topic3\", \"Topic3\", \"Topic3\", \"Topic3\", \"Topic3\", \"Topic3\", \"Topic3\", \"Topic3\", \"Topic3\", \"Topic3\", \"Topic3\", \"Topic3\", \"Topic3\", \"Topic3\", \"Topic3\", \"Topic3\", \"Topic3\", \"Topic3\", \"Topic3\", \"Topic3\", \"Topic3\", \"Topic3\", \"Topic3\", \"Topic3\", \"Topic3\", \"Topic3\", \"Topic4\", \"Topic4\", \"Topic4\", \"Topic4\", \"Topic4\", \"Topic4\", \"Topic4\", \"Topic4\", \"Topic4\", \"Topic4\", \"Topic4\", \"Topic4\", \"Topic4\", \"Topic4\", \"Topic4\", \"Topic4\", \"Topic4\", \"Topic4\", \"Topic4\", \"Topic4\", \"Topic4\", \"Topic4\", \"Topic4\", \"Topic4\", \"Topic4\", \"Topic4\", \"Topic4\", \"Topic4\", \"Topic4\", \"Topic4\", \"Topic4\", \"Topic4\", \"Topic4\", \"Topic4\", \"Topic4\", \"Topic4\", \"Topic4\", \"Topic4\", \"Topic4\", \"Topic4\", \"Topic4\", \"Topic4\", \"Topic4\", \"Topic4\", \"Topic4\", \"Topic4\", \"Topic4\", \"Topic4\", \"Topic4\", \"Topic4\", \"Topic4\", \"Topic4\", \"Topic4\", \"Topic4\", \"Topic4\", \"Topic4\", \"Topic4\", \"Topic4\", \"Topic4\", \"Topic4\", \"Topic4\", \"Topic4\", \"Topic4\", \"Topic4\", \"Topic4\", \"Topic4\", \"Topic4\", \"Topic4\", \"Topic4\", \"Topic4\", \"Topic4\", \"Topic4\", \"Topic4\", \"Topic4\", \"Topic4\", \"Topic4\", \"Topic4\", \"Topic4\", \"Topic4\", \"Topic4\", \"Topic4\", \"Topic5\", \"Topic5\", \"Topic5\", \"Topic5\", \"Topic5\", \"Topic5\", \"Topic5\", \"Topic5\", \"Topic5\", \"Topic5\", \"Topic5\", \"Topic5\", \"Topic5\", \"Topic5\", \"Topic5\", \"Topic5\", \"Topic5\", \"Topic5\", \"Topic5\", \"Topic5\", \"Topic5\", \"Topic5\", \"Topic5\", \"Topic5\", \"Topic5\", \"Topic5\", \"Topic5\", \"Topic5\", \"Topic5\", \"Topic5\", \"Topic5\", \"Topic5\", \"Topic5\", \"Topic5\", \"Topic5\", \"Topic5\", \"Topic5\", \"Topic5\", \"Topic5\", \"Topic5\", \"Topic5\", \"Topic5\", \"Topic5\", \"Topic5\", \"Topic5\", \"Topic5\", \"Topic5\", \"Topic5\", \"Topic5\", \"Topic5\", \"Topic5\", \"Topic5\", \"Topic5\", \"Topic5\", \"Topic5\", \"Topic5\", \"Topic5\", \"Topic5\", \"Topic5\", \"Topic5\", \"Topic5\", \"Topic5\", \"Topic5\", \"Topic5\", \"Topic5\", \"Topic5\", \"Topic5\", \"Topic5\"], \"logprob\": [30.0, 29.0, 28.0, 27.0, 26.0, 25.0, 24.0, 23.0, 22.0, 21.0, 20.0, 19.0, 18.0, 17.0, 16.0, 15.0, 14.0, 13.0, 12.0, 11.0, 10.0, 9.0, 8.0, 7.0, 6.0, 5.0, 4.0, 3.0, 2.0, 1.0, -5.501699924468994, -6.151100158691406, -6.944399833679199, -6.907199859619141, -5.0507001876831055, -6.66949987411499, -7.567599773406982, -6.383600234985352, -5.278299808502197, -7.728600025177002, -4.952300071716309, -7.343299865722656, -7.5071001052856445, -6.478300094604492, -7.88040018081665, -7.732100009918213, -7.40369987487793, -7.174200057983398, -6.2316999435424805, -7.822800159454346, -6.0441999435424805, -8.145700454711914, -8.104999542236328, -7.957799911499023, -8.067299842834473, -8.281000137329102, -5.901599884033203, -7.997099876403809, -6.667699813842773, -6.776599884033203, -5.168099880218506, -6.627900123596191, -7.17579984664917, -5.833099842071533, -5.121200084686279, -6.6855998039245605, -6.574900150299072, -5.619999885559082, -5.796800136566162, -4.7307000160217285, -6.750199794769287, -5.625199794769287, -6.193399906158447, -6.33650016784668, -6.183899879455566, -6.178199768066406, -5.919899940490723, -6.014800071716309, -5.188700199127197, -6.028500080108643, -5.90749979019165, -3.6122000217437744, -5.626100063323975, -5.418799877166748, -5.911900043487549, -5.780399799346924, -4.857699871063232, -5.893700122833252, -5.2754998207092285, -5.6057000160217285, -5.9328999519348145, -5.956699848175049, -5.835700035095215, -5.88129997253418, -5.840199947357178, -5.884500026702881, -5.8643999099731445, -5.8445000648498535, -5.899099826812744, -6.169400215148926, -6.958799839019775, -7.306399822235107, -7.731400012969971, -7.949900150299072, -5.144000053405762, -7.852399826049805, -7.63040018081665, -7.917300224304199, -7.793399810791016, -7.560699939727783, -6.009500026702881, -8.104999542236328, -8.14739990234375, -8.067700386047363, -7.770899772644043, -8.149800300598145, -8.110099792480469, -8.071700096130371, -8.196800231933594, -8.336400032043457, -6.820700168609619, -8.337599754333496, -8.389399528503418, -7.868800163269043, -5.2042999267578125, -8.503000259399414, -8.34060001373291, -8.341500282287598, -8.119400024414062, -7.405900001525879, -7.154900074005127, -7.630799770355225, -5.292200088500977, -6.545000076293945, -5.837299823760986, -5.718999862670898, -5.657100200653076, -6.447700023651123, -6.813700199127197, -6.195300102233887, -6.537899971008301, -6.316100120544434, -6.046999931335449, -6.776400089263916, -6.763000011444092, -6.154099941253662, -6.589600086212158, -6.2118000984191895, -6.369200229644775, -6.575500011444092, -6.066699981689453, -5.0903000831604, -5.822000026702881, -5.953400135040283, -5.16349983215332, -5.592400074005127, -5.269700050354004, -5.2972002029418945, -5.972799777984619, -5.808599948883057, -4.792900085449219, -5.653600215911865, -6.085999965667725, -3.8642001152038574, -5.7170000076293945, -5.681600093841553, -6.058300018310547, -5.995800018310547, -4.99399995803833, -5.6427001953125, -5.537300109863281, -5.7399001121521, -5.876100063323975, -5.808499813079834, -5.639500141143799, -5.748300075531006, -5.650700092315674, -5.843500137329102, -5.615499973297119, -6.303699970245361, -5.911900043487549, -6.589099884033203, -6.625800132751465, -6.678800106048584, -6.8155999183654785, -7.124800205230713, -6.819699764251709, -7.025100231170654, -7.026400089263916, -7.314799785614014, -7.383999824523926, -7.221099853515625, -7.501200199127197, -7.194799900054932, -7.586299896240234, -7.586999893188477, -7.586999893188477, -7.464399814605713, -7.587600231170654, -7.681399822235107, -7.171299934387207, -7.359300136566162, -7.635700225830078, -6.878699779510498, -7.73199987411499, -7.549200057983398, -7.8383002281188965, -7.784999847412109, -7.070899963378906, -7.2982001304626465, -6.521699905395508, -6.427499771118164, -7.36870002746582, -5.869800090789795, -5.1940999031066895, -5.652100086212158, -6.068999767303467, -5.978000164031982, -6.238100051879883, -6.053199768066406, -5.694200038909912, -6.311299800872803, -6.30019998550415, -5.432799816131592, -4.92579984664917, -5.895100116729736, -6.199699878692627, -5.464799880981445, -6.181700229644775, -5.3520002365112305, -5.589399814605713, -5.481800079345703, -4.406300067901611, -5.696599960327148, -5.803899765014648, -5.052800178527832, -4.811699867248535, -5.42080020904541, -6.109499931335449, -5.496399879455566, -5.935200214385986, -5.802000045776367, -5.026500225067139, -5.789000034332275, -5.550899982452393, -4.582200050354004, -5.613500118255615, -5.461999893188477, -5.484899997711182, -5.258699893951416, -5.63100004196167, -5.744900226593018, -5.740600109100342, -5.805500030517578, -5.759900093078613, -6.942699909210205, -5.947999954223633, -7.6504998207092285, -6.981100082397461, -6.890900135040283, -7.654099941253662, -7.564799785614014, -7.174200057983398, -7.038599967956543, -7.813000202178955, -7.8130998611450195, -7.372000217437744, -7.873700141906738, -7.4878997802734375, -6.218800067901611, -7.878399848937988, -7.940999984741211, -7.826000213623047, -8.079299926757812, -8.081199645996094, -8.082300186157227, -5.745800018310547, -8.15880012512207, -8.16100025177002, -8.243800163269043, -8.16469955444336, -7.687300205230713, -8.247200012207031, -8.33430004119873, -8.33430004119873, -6.647900104522705, -7.512800216674805, -7.960299968719482, -6.5605998039245605, -7.445899963378906, -6.52269983291626, -5.727099895477295, -7.526100158691406, -5.498700141906738, -6.162799835205078, -6.3597002029418945, -7.486100196838379, -6.297100067138672, -7.199399948120117, -6.9232001304626465, -5.968800067901611, -5.810500144958496, -6.009200096130371, -6.304800033569336, -6.876299858093262, -5.948599815368652, -5.174300193786621, -4.955399990081787, -6.687900066375732, -5.458799839019775, -4.413899898529053, -6.020599842071533, -6.407899856567383, -5.950399875640869, -4.043499946594238, -6.124800205230713, -5.436600208282471, -5.902900218963623, -5.471799850463867, -5.795400142669678, -5.697199821472168, -6.119500160217285, -5.33489990234375, -5.928500175476074, -5.546000003814697, -5.615699768066406, -5.800600051879883, -5.517899990081787, -5.650700092315674, -5.875699996948242, -5.869500160217285, -5.9542999267578125, -5.817299842834473, -5.911099910736084, -5.933899879455566, -5.951399803161621, -6.586100101470947, -6.922999858856201, -6.790299892425537, -6.955399990081787, -6.898399829864502, -6.9593000411987305, -7.228099822998047, -7.2677001953125, -6.992300033569336, -6.72599983215332, -7.192800045013428, -7.199900150299072, -7.605899810791016, -5.701700210571289, -7.363999843597412, -7.668000221252441, -7.7332000732421875, -7.73360013961792, -6.896399974822998, -6.748799800872803, -6.774099826812744, -7.802499771118164, -7.677000045776367, -7.9492998123168945, -7.876399993896484, -5.390100002288818, -7.951099872589111, -7.877999782562256, -7.953400135040283, -8.03499984741211, -5.173099994659424, -5.9791998863220215, -3.895900011062622, -6.32889986038208, -6.197500228881836, -5.461299896240234, -6.052800178527832, -4.755799770355225, -6.316100120544434, -4.7947001457214355, -6.262400150299072, -5.683499813079834, -4.615099906921387, -6.3404998779296875, -6.061200141906738, -6.355599880218506, -5.374199867248535, -5.812399864196777, -6.178899765014648, -6.011000156402588, -6.485400199890137, -5.369800090789795, -4.264500141143799, -5.856900215148926, -4.81790018081665, -5.7967000007629395, -5.525700092315674, -6.1894001960754395, -5.598700046539307, -5.59499979019165, -5.799099922180176, -5.8927998542785645, -6.136000156402588, -5.909900188446045, -5.933800220489502, -5.94890022277832, -5.9475998878479, -6.092599868774414], \"loglift\": [30.0, 29.0, 28.0, 27.0, 26.0, 25.0, 24.0, 23.0, 22.0, 21.0, 20.0, 19.0, 18.0, 17.0, 16.0, 15.0, 14.0, 13.0, 12.0, 11.0, 10.0, 9.0, 8.0, 7.0, 6.0, 5.0, 4.0, 3.0, 2.0, 1.0, 1.2023999691009521, 1.20169997215271, 1.1992000341415405, 1.1985000371932983, 1.198099970817566, 1.1962000131607056, 1.1952999830245972, 1.1904000043869019, 1.1893999576568604, 1.1890000104904175, 1.188099980354309, 1.187600016593933, 1.1875, 1.187000036239624, 1.1868000030517578, 1.1855000257492065, 1.1851999759674072, 1.1833000183105469, 1.1828999519348145, 1.1821000576019287, 1.1794999837875366, 1.1779999732971191, 1.1778000593185425, 1.1770999431610107, 1.1766999959945679, 1.1764999628067017, 1.1749000549316406, 1.1725000143051147, 1.1722999811172485, 1.1717000007629395, 1.1578999757766724, 1.1660000085830688, 1.1684000492095947, 1.1548000574111938, 1.1383999586105347, 1.1621999740600586, 1.155900001525879, 1.113800048828125, 1.108299970626831, 1.0628000497817993, 1.1473000049591064, 1.0779999494552612, 1.1104999780654907, 1.1096999645233154, 1.0952999591827393, 1.0870000123977661, 1.044600009918213, 1.0374000072479248, 0.8790000081062317, 1.0053999423980713, 0.9710000157356262, 0.3073999881744385, 0.8754000067710876, 0.7501000165939331, 0.9068999886512756, 0.6960999965667725, 0.006399999838322401, 0.7524999976158142, 0.05649999901652336, 0.4059999883174896, 0.770799994468689, 0.7936000227928162, 0.6126000285148621, 0.6114000082015991, 0.44359999895095825, 0.2919999957084656, 0.01769999973475933, -0.29580000042915344, 0.02879999950528145, 1.2035000324249268, 1.2001999616622925, 1.1895999908447266, 1.188599944114685, 1.1868000030517578, 1.1865999698638916, 1.1857000589370728, 1.1852999925613403, 1.1852999925613403, 1.184000015258789, 1.1822999715805054, 1.180799961090088, 1.180299997329712, 1.1789000034332275, 1.1789000034332275, 1.1779999732971191, 1.1770999431610107, 1.1756999492645264, 1.174399971961975, 1.172700047492981, 1.172700047492981, 1.1723999977111816, 1.1713999509811401, 1.1711000204086304, 1.1711000204086304, 1.169100046157837, 1.1690000295639038, 1.1686999797821045, 1.1684999465942383, 1.1672999858856201, 1.1669000387191772, 1.1604000329971313, 1.1627000570297241, 1.1378999948501587, 1.1497999429702759, 1.1297999620437622, 1.1187000274658203, 1.1153000593185425, 1.1332999467849731, 1.1390000581741333, 1.114300012588501, 1.1150000095367432, 1.0972000360488892, 1.0757999420166016, 1.1125999689102173, 1.1105999946594238, 1.0678999423980713, 1.0910999774932861, 1.055400013923645, 1.067199945449829, 1.080199956893921, 1.018399953842163, 0.8938999772071838, 0.9707000255584717, 0.974399983882904, 0.8274000287055969, 0.880299985408783, 0.8075000047683716, 0.8112999796867371, 0.9409000277519226, 0.8906000256538391, 0.5390999913215637, 0.7991999983787537, 0.934499979019165, 0.055399999022483826, 0.7242000102996826, 0.6341000199317932, 0.8522999882698059, 0.8066999912261963, -0.1298999935388565, 0.4343000054359436, 0.30550000071525574, 0.4334999918937683, 0.6169999837875366, 0.36800000071525574, -0.05139999836683273, 0.17949999868869781, -0.10189999639987946, 0.27469998598098755, 1.8555999994277954, 1.854699969291687, 1.8532999753952026, 1.8524999618530273, 1.8492000102996826, 1.8487999439239502, 1.8457000255584717, 1.8443000316619873, 1.8410999774932861, 1.8393000364303589, 1.8375999927520752, 1.836899995803833, 1.8365000486373901, 1.8352999687194824, 1.8327000141143799, 1.8320000171661377, 1.8309999704360962, 1.830299973487854, 1.830299973487854, 1.830199956893921, 1.8301000595092773, 1.8272000551223755, 1.8271000385284424, 1.8270000219345093, 1.8260999917984009, 1.825700044631958, 1.8251999616622925, 1.8250999450683594, 1.8243000507354736, 1.8236000537872314, 1.8199000358581543, 1.8219000101089478, 1.812600016593933, 1.7914999723434448, 1.8178000450134277, 1.75409996509552, 1.7115000486373901, 1.7230000495910645, 1.7441999912261963, 1.7380000352859497, 1.7381000518798828, 1.719099998474121, 1.667199969291687, 1.7268999814987183, 1.7237999439239502, 1.6377999782562256, 1.5622999668121338, 1.676200032234192, 1.6950000524520874, 1.5324000120162964, 1.6496000289916992, 1.4567999839782715, 1.496899962425232, 1.4616999626159668, 1.1818000078201294, 1.5077999830245972, 1.5391000509262085, 1.2211999893188477, 1.0875999927520752, 1.3327000141143799, 1.5809999704360962, 1.2136000394821167, 1.472499966621399, 1.3583999872207642, 0.5223000049591064, 1.2130999565124512, 0.7962999939918518, -0.6625999808311462, 0.7014999985694885, 0.42010000348091125, 0.43459999561309814, -0.3944999873638153, 0.5339999794960022, 0.6873000264167786, 0.546999990940094, 0.8809999823570251, 0.08290000259876251, 1.9460999965667725, 1.9313000440597534, 1.930299997329712, 1.9300999641418457, 1.9285000562667847, 1.926300048828125, 1.9247000217437744, 1.9247000217437744, 1.9220999479293823, 1.9213999509811401, 1.9212000370025635, 1.919600009918213, 1.9174000024795532, 1.9168000221252441, 1.9151999950408936, 1.9120999574661255, 1.909999966621399, 1.906599998474121, 1.9048999547958374, 1.9027999639511108, 1.901900053024292, 1.9006999731063843, 1.8991999626159668, 1.8969999551773071, 1.8935999870300293, 1.8925000429153442, 1.8906999826431274, 1.8902000188827515, 1.8899999856948853, 1.8899999856948853, 1.8818999528884888, 1.8890000581741333, 1.888100028038025, 1.8710999488830566, 1.8798999786376953, 1.8595999479293823, 1.8359999656677246, 1.8799999952316284, 1.808500051498413, 1.8246999979019165, 1.8250999450683594, 1.8746999502182007, 1.7480000257492065, 1.8367999792099, 1.7740000486373901, 1.6018999814987183, 1.5642999410629272, 1.6015000343322754, 1.5664000511169434, 1.7009999752044678, 1.3136999607086182, 0.9991000294685364, 0.896399974822998, 1.5565999746322632, 0.9519000053405762, 0.45019999146461487, 1.1719000339508057, 1.3803999423980713, 1.1110999584197998, -0.12389999628067017, 1.2022000551223755, 0.6815999746322632, 1.0062999725341797, 0.6643000245094299, 0.9172000288963318, 0.8076000213623047, 1.1345000267028809, 0.2531999945640564, 0.9212999939918518, 0.353300005197525, 0.38179999589920044, 0.6316999793052673, 0.030799999833106995, 0.2687999904155731, 0.3531999886035919, 0.32820001244544983, 0.5349000096321106, -0.4853000044822693, -0.028999999165534973, -0.09120000153779984, 0.4410000145435333, 2.1456000804901123, 2.144700050354004, 2.143199920654297, 2.1405999660491943, 2.140199899673462, 2.137200117111206, 2.135999917984009, 2.135499954223633, 2.1340999603271484, 2.1338999271392822, 2.132999897003174, 2.1259000301361084, 2.124799966812134, 2.124000072479248, 2.1210999488830566, 2.119499921798706, 2.1152000427246094, 2.1138999462127686, 2.1133999824523926, 2.112499952316284, 2.1113998889923096, 2.1096999645233154, 2.1096999645233154, 2.105600118637085, 2.1043999195098877, 2.1036999225616455, 2.103600025177002, 2.10260009765625, 2.100800037384033, 2.099400043487549, 2.0917000770568848, 2.0764000415802, 1.972499966621399, 2.0290000438690186, 2.02020001411438, 1.9672000408172607, 1.9783999919891357, 1.830399990081787, 1.9804999828338623, 1.7961000204086304, 1.9333000183105469, 1.7527999877929688, 1.5210000276565552, 1.8736000061035156, 1.7486000061035156, 1.8061000108718872, 1.3389999866485596, 1.395900011062622, 1.6092000007629395, 1.4799000024795532, 1.7961000204086304, 0.8278999924659729, -0.3449000120162964, 1.1756000518798828, 0.04619999974966049, 0.9009000062942505, 0.3736000061035156, 1.3351000547409058, 0.39879998564720154, -0.046300001442432404, 0.12880000472068787, 0.28060001134872437, 1.0988999605178833, -0.05820000171661377, -0.014299999922513962, -0.10620000213384628, -0.6155999898910522, -0.21060000360012054]}, \"token.table\": {\"Topic\": [1, 2, 3, 4, 5, 2, 3, 4, 5, 2, 4, 5, 1, 1, 2, 4, 2, 4, 5, 1, 2, 4, 5, 4, 2, 2, 3, 4, 1, 1, 2, 4, 5, 1, 2, 4, 5, 1, 2, 3, 4, 5, 2, 5, 1, 2, 3, 4, 5, 5, 1, 2, 4, 5, 1, 2, 3, 4, 5, 3, 2, 4, 3, 1, 2, 3, 4, 5, 1, 2, 3, 4, 5, 5, 1, 2, 3, 4, 5, 2, 1, 2, 1, 2, 1, 2, 3, 4, 5, 5, 1, 2, 3, 4, 5, 2, 4, 5, 1, 2, 3, 4, 5, 1, 2, 4, 5, 5, 1, 2, 3, 4, 5, 1, 2, 3, 4, 5, 1, 2, 3, 4, 5, 3, 4, 1, 2, 4, 5, 1, 2, 3, 4, 5, 1, 2, 3, 4, 5, 1, 5, 1, 2, 3, 4, 5, 2, 3, 4, 1, 2, 3, 4, 5, 1, 2, 3, 4, 5, 1, 2, 3, 4, 5, 3, 1, 2, 3, 4, 5, 2, 3, 4, 5, 1, 2, 3, 4, 5, 2, 1, 2, 3, 4, 5, 1, 2, 4, 5, 1, 2, 3, 4, 1, 2, 4, 5, 1, 2, 3, 4, 5, 2, 4, 1, 2, 3, 4, 5, 1, 2, 3, 4, 5, 1, 2, 3, 4, 5, 4, 3, 1, 2, 3, 4, 5, 1, 1, 2, 3, 4, 5, 3, 4, 4, 1, 4, 1, 2, 4, 5, 2, 1, 2, 3, 4, 5, 5, 1, 2, 3, 4, 5, 1, 2, 3, 4, 5, 2, 5, 2, 3, 4, 5, 3, 3, 4, 5, 1, 2, 3, 4, 5, 1, 2, 3, 4, 5, 1, 2, 3, 4, 5, 2, 4, 4, 1, 2, 3, 4, 5, 5, 1, 2, 3, 4, 5, 3, 2, 1, 2, 3, 4, 5, 2, 2, 3, 5, 2, 3, 4, 5, 1, 1, 4, 1, 2, 4, 5, 1, 2, 3, 4, 5, 1, 2, 3, 4, 5, 1, 1, 2, 3, 4, 5, 1, 2, 3, 4, 5, 4, 5, 1, 2, 3, 4, 5, 3, 1, 2, 3, 4, 5, 3, 2, 2, 5, 1, 2, 3, 4, 5, 3, 3, 3, 1, 2, 3, 4, 5, 1, 2, 3, 4, 5, 5, 1, 2, 3, 4, 5, 1, 2, 3, 4, 5, 1, 1, 2, 3, 4, 5, 1, 2, 4, 5, 1, 2, 3, 4, 5, 4, 5, 1, 2, 3, 4, 5, 1, 2, 4, 5, 4, 1, 2, 3, 4, 5, 2, 4, 5, 3, 1, 2, 4, 5, 1, 2, 3, 4, 5, 5, 3, 4, 5, 2, 3, 4, 5, 1, 2, 3, 4, 5, 2, 4, 5, 1, 2, 3, 4, 5, 1, 2, 3, 4, 5, 1, 2, 3, 4, 5, 3, 4, 1, 2, 3, 4, 5, 1, 2, 3, 4, 5, 2, 5, 1, 2, 3, 4, 5, 2, 1, 2, 3, 4, 5, 1, 2, 3, 4, 5, 4, 2, 2, 1, 2, 3, 4, 5, 1, 2, 3, 4, 5, 1, 2, 3, 4, 5, 1, 2, 3, 4, 5, 4, 1, 2, 3, 4, 5, 3, 2, 1, 2, 3, 4, 5, 1, 2, 3, 4, 5, 1, 2, 3, 4, 5, 3, 1, 2, 4, 5, 1, 2, 3, 4, 5, 4, 1, 2, 3, 4, 1, 2, 3, 4, 5, 1, 2, 3, 4, 5, 1, 2, 3, 4, 5, 1, 2, 3, 4, 5, 1, 2, 4, 2, 4, 1, 2, 3, 4, 5, 1, 2, 3, 4, 5, 4, 3, 4, 2, 5, 3, 4, 1, 4, 1, 2, 3, 4, 5, 1, 2, 3, 4, 5, 1, 2, 3, 4, 5, 4, 1, 2, 3, 4, 5, 1, 2, 3, 4, 5, 3, 1, 2, 3, 4, 5, 2, 1, 2, 3, 4, 5, 1, 2, 3, 4, 5, 1, 2, 3, 4, 5, 5, 2, 1, 2, 3, 4, 5, 2, 4, 5, 1, 2, 3, 4, 5, 1, 1, 2, 3, 4, 5, 1, 2, 3, 4, 5, 1, 2, 3, 4, 5, 1, 2, 3, 4, 5, 1, 2, 3, 4, 5, 2, 3, 4, 5, 1, 2, 3, 4, 5, 2, 1, 2, 3, 4, 5, 3, 4, 1, 2, 3, 4, 5, 1, 2, 5, 1, 2, 3, 4, 5, 1, 2, 3, 4, 5, 1, 2, 3, 4, 5, 1, 2, 3, 4, 5, 1, 2, 3, 4, 5, 1, 2, 3, 4, 5, 1, 2, 4, 5, 1, 2, 3, 4, 5, 1, 2, 3, 2, 1, 1, 2, 4, 5, 1, 2, 3, 4, 5, 1, 2, 3, 4, 5, 1, 2, 3, 4, 5, 2, 4, 4, 1, 1, 2, 3, 4, 5, 3, 1, 1, 2, 4, 1, 2, 3, 4, 5, 5, 3, 1, 2, 3, 4, 5, 1, 2, 4, 5, 1, 2, 3, 4, 5, 3, 1, 2, 3, 5, 1, 2, 3, 4, 5, 3, 4, 5, 1, 2, 3, 4, 5, 3, 5, 1, 2, 3, 4, 5, 1, 3, 4, 4, 1, 2, 3, 4, 5, 1, 2, 3, 4, 5, 1, 2, 3, 4, 5, 4, 5, 1, 2, 3, 4, 5, 1, 2, 3, 4, 5, 3, 1, 2, 3, 4, 5, 1, 2, 3, 4, 5, 4, 1, 2, 3, 4, 5, 1, 2, 4, 5, 4, 1, 2, 3, 4, 5, 1, 2, 3, 4, 5, 4, 5, 1, 2, 3, 4, 5, 1, 2, 3, 4, 5, 1, 2, 3, 4, 5, 1, 2, 3, 4, 5, 1, 2, 3, 4, 5, 1, 2, 3, 4, 5, 3, 1, 2, 3, 4, 5, 5, 2, 4, 1, 2, 3, 4, 5, 2, 5, 1, 2, 5, 1, 2, 3, 4, 5, 3, 3, 2, 5, 2, 5, 1, 2, 3, 4, 5, 1, 1, 2, 3, 4, 5, 1, 2, 3, 4, 5, 1, 2, 3, 4, 5, 3, 4, 5, 1, 2, 3, 5, 2, 4, 5, 1, 2, 3, 4, 5, 1, 2, 3, 4, 5, 1, 2, 3, 4, 5, 1, 2, 3, 4, 5, 1, 2, 3, 4, 5, 1, 3, 4, 1, 2, 4, 3, 5, 1, 2, 3, 4, 5, 1, 2, 3, 4, 5, 4, 2, 4, 5, 1, 4, 1, 2, 3, 4, 5, 1, 2, 4, 5, 2, 3, 1, 2, 1, 2, 3, 4, 5, 1, 2, 3, 4, 5, 3, 2, 3, 4, 5, 1, 2, 3, 4, 5, 5, 1, 2, 3, 5, 1, 2, 3, 4, 5, 1, 2, 3, 4, 5, 4, 1, 2, 3, 4, 5, 1, 2, 5], \"Freq\": [0.016088465228676796, 0.016088465228676796, 0.016088465228676796, 0.09653079509735107, 0.8687771558761597, 0.02696165256202221, 0.0053923302330076694, 0.043138641864061356, 0.9166961908340454, 0.028345152735710144, 0.018896767869591713, 0.9448384046554565, 0.9755553603172302, 0.9466584324836731, 0.028979340568184853, 0.0193195603787899, 0.03949246555566788, 0.9320221543312073, 0.023695478215813637, 0.24595515429973602, 0.6962422728538513, 0.03783925622701645, 0.02270355261862278, 0.9558870792388916, 0.967336893081665, 0.008894520811736584, 0.9783973097801208, 0.008894520811736584, 0.9877374768257141, 0.04944160208106041, 0.1186598464846611, 0.6625174880027771, 0.15821312367916107, 0.12765151262283325, 0.034814052283763885, 0.011604683473706245, 0.8239325284957886, 0.008207108825445175, 0.03829984366893768, 0.01641421765089035, 0.2297990620136261, 0.7058113813400269, 0.026578111574053764, 0.9568119645118713, 0.009330927394330502, 0.018661854788661003, 0.8771071434020996, 0.02799278125166893, 0.06531649082899094, 0.9760530591011047, 0.06188284233212471, 0.04500570148229599, 0.8494826555252075, 0.04500570148229599, 0.18378451466560364, 0.7228857278823853, 0.006126150488853455, 0.039819978177547455, 0.04900920391082764, 0.9607421159744263, 0.9666920900344849, 0.9360909461975098, 0.9610952734947205, 0.07151557505130768, 0.05058418586850166, 0.09070268273353577, 0.2703637480735779, 0.5180518627166748, 0.9769389629364014, 0.004860392771661282, 0.012150981463491917, 0.004860392771661282, 0.004860392771661282, 0.9408413767814636, 0.007949152030050755, 0.9062033295631409, 0.007949152030050755, 0.01589830406010151, 0.06359321624040604, 0.9579066634178162, 0.9728487133979797, 0.020267682150006294, 0.9797421097755432, 0.9565871953964233, 0.30352783203125, 0.25642868876457214, 0.06279885768890381, 0.04186590760946274, 0.3401604890823364, 0.9524205923080444, 0.3364174962043762, 0.1376253366470337, 0.021408386528491974, 0.22631722688674927, 0.27830901741981506, 0.9913063049316406, 0.00600791722536087, 0.9656249284744263, 0.8733891248703003, 0.0030753137543797493, 0.05228033289313316, 0.009225941263139248, 0.061506275087594986, 0.8792986273765564, 0.021577881649136543, 0.016183409839868546, 0.08091705292463303, 0.9680992960929871, 0.014796476811170578, 0.9247797727584839, 0.022194715216755867, 0.014796476811170578, 0.029592953622341156, 0.735262393951416, 0.14498130977153778, 0.03797129541635513, 0.05523097515106201, 0.02416355162858963, 0.041798464953899384, 0.09752974659204483, 0.013932821340858936, 0.11146257072687149, 0.7384395599365234, 0.9593649506568909, 0.02741042710840702, 0.026444880291819572, 0.052889760583639145, 0.22478148341178894, 0.687566876411438, 0.005334618501365185, 0.01600385457277298, 0.5174579620361328, 0.43210408091545105, 0.02133847400546074, 0.15545383095741272, 0.07286898046731949, 0.5975256562232971, 0.09715864062309265, 0.07286898046731949, 0.989239513874054, 0.00588833075016737, 0.01453359704464674, 0.00726679852232337, 0.00726679852232337, 0.8720158338546753, 0.1017351821064949, 0.0066275098361074924, 0.9874989986419678, 0.9541752338409424, 0.5481326580047607, 0.2167615443468094, 0.10215198993682861, 0.10215198993682861, 0.03238965570926666, 0.037649158388376236, 0.06400356441736221, 0.8508709669113159, 0.011294746771454811, 0.03388424217700958, 0.005939327646046877, 0.047514621168375015, 0.8136878609657288, 0.06533259898424149, 0.06533259898424149, 0.9440972805023193, 0.3017052710056305, 0.23676422238349915, 0.23405833542346954, 0.1352938413619995, 0.09199981391429901, 0.03567301109433174, 0.01189100369811058, 0.04756401479244232, 0.9037162661552429, 0.18403351306915283, 0.6788121461868286, 0.006033885758370161, 0.0708981603384018, 0.0588303841650486, 0.973324716091156, 0.039651576429605484, 0.902073323726654, 0.009912894107401371, 0.019825788214802742, 0.02973868139088154, 0.04517558589577675, 0.11293896287679672, 0.8131605386734009, 0.022587792947888374, 0.04904237017035484, 0.8827626705169678, 0.016347456723451614, 0.040868643671274185, 0.9709113836288452, 0.006263944786041975, 0.006263944786041975, 0.01252788957208395, 0.17487995326519012, 0.7835966944694519, 0.0033630761317908764, 0.02690460905432701, 0.010089227929711342, 0.9662497639656067, 0.025427626445889473, 0.03841207176446915, 0.8642715811729431, 0.03841207176446915, 0.044814083725214005, 0.012804023921489716, 0.886222243309021, 0.060175586491823196, 0.016411524266004562, 0.005470507778227329, 0.02735253982245922, 0.6290251612663269, 0.1622127890586853, 0.03244255855679512, 0.10814186185598373, 0.06848984211683273, 0.9535698294639587, 0.9660570621490479, 0.0688064694404602, 0.8882290124893188, 0.006255134008824825, 0.01251026801764965, 0.0250205360352993, 0.9662712216377258, 0.10850134491920471, 0.8628439903259277, 0.005166730843484402, 0.025833653286099434, 0.005166730843484402, 0.03375347703695297, 0.9450973868370056, 0.9536174535751343, 0.9867975115776062, 0.8998501300811768, 0.9770105481147766, 0.007345943711698055, 0.007345943711698055, 0.007345943711698055, 0.9789591431617737, 0.033836718648672104, 0.9023125171661377, 0.022557811811566353, 0.005639452952891588, 0.033836718648672104, 0.9316814541816711, 0.021108726039528847, 0.9076752066612244, 0.003518120851367712, 0.05980805680155754, 0.010554363019764423, 0.11803782731294632, 0.2950945794582367, 0.06523143500089645, 0.08697523921728134, 0.4317699372768402, 0.028608262538909912, 0.972680926322937, 0.07566004246473312, 0.015132008120417595, 0.07566004246473312, 0.8171284198760986, 0.95777428150177, 0.9608070254325867, 0.03367413207888603, 0.9428756833076477, 0.8994341492652893, 0.0677398070693016, 0.0037633227184414864, 0.011289968155324459, 0.018816614523530006, 0.9037134647369385, 0.07293125987052917, 0.0031709244940429926, 0.006341848988085985, 0.01268369797617197, 0.9740259647369385, 0.017518453299999237, 0.001751845353282988, 0.003503690706565976, 0.001751845353282988, 0.029398445039987564, 0.940750241279602, 0.9441972374916077, 0.14136378467082977, 0.022320596501231194, 0.7340996265411377, 0.03720099478960037, 0.064481720328331, 0.8968400955200195, 0.17789484560489655, 0.08033960312604904, 0.08033960312604904, 0.464821994304657, 0.1951104700565338, 0.9783406257629395, 0.9746218919754028, 0.46302998065948486, 0.2911629378795624, 0.08694449067115784, 0.09705431759357452, 0.0626809149980545, 0.9664878845214844, 0.01571284420788288, 0.9427706599235535, 0.03142568841576576, 0.045503873378038406, 0.06370542198419571, 0.32762789726257324, 0.5642480254173279, 0.988973081111908, 0.07142482697963715, 0.9285227060317993, 0.020022276788949966, 0.9660748243331909, 0.005005569197237492, 0.010011138394474983, 0.0026690950617194176, 0.09608742594718933, 0.005338190123438835, 0.08274194598197937, 0.8140739798545837, 0.10554429143667221, 0.06518911570310593, 0.3352583348751068, 0.34767529368400574, 0.1458994597196579, 0.9810042977333069, 0.16332922875881195, 0.7252417206764221, 0.013485899195075035, 0.04794986546039581, 0.049448300153017044, 0.057781536132097244, 0.04952703043818474, 0.7511599659919739, 0.10730856657028198, 0.033018019050359726, 0.023380383849143982, 0.9585957527160645, 0.18659256398677826, 0.08293002843856812, 0.5183126926422119, 0.1492740511894226, 0.062197521328926086, 0.9746292233467102, 0.011091851629316807, 0.28233805298805237, 0.5021584033966064, 0.17948633432388306, 0.026217104867100716, 0.9806382656097412, 0.9846524000167847, 0.9451526999473572, 0.024872438982129097, 0.7841601967811584, 0.13557910919189453, 0.0073286001570522785, 0.05130020156502724, 0.021985800936818123, 0.9608015418052673, 0.9335303902626038, 0.9796074628829956, 0.2514129877090454, 0.21770398318767548, 0.23736757040023804, 0.18259043991565704, 0.11095880717039108, 0.054191820323467255, 0.036127880215644836, 0.8610478043556213, 0.030106566846370697, 0.018063940107822418, 0.9658799767494202, 0.014364358969032764, 0.18673665821552277, 0.04309307411313057, 0.6607605218887329, 0.10055050998926163, 0.13414151966571808, 0.04471383988857269, 0.08942767977714539, 0.059618450701236725, 0.6856122016906738, 0.9854072332382202, 0.28220781683921814, 0.18311193585395813, 0.340372771024704, 0.1292554885149002, 0.06247348338365555, 0.022340744733810425, 0.9606520533561707, 0.011170372366905212, 0.011170372366905212, 0.8593477606773376, 0.11268104612827301, 0.004953013267368078, 0.01114427950233221, 0.012382532469928265, 0.9177972078323364, 0.04588986188173294, 0.2284204661846161, 0.40966713428497314, 0.06455361098051071, 0.23835177719593048, 0.05958794429898262, 0.657662570476532, 0.31915977597236633, 0.012895344756543636, 0.009671508334577084, 0.9361017942428589, 0.13259023427963257, 0.14229194819927216, 0.582103431224823, 0.08731551468372345, 0.05174252763390541, 0.9890325665473938, 0.9443835616111755, 0.025523878633975983, 0.9735580086708069, 0.04007252678275108, 0.02003626339137554, 0.7613779902458191, 0.18032635748386383, 0.23180939257144928, 0.5508588552474976, 0.07477722316980362, 0.08973266929388046, 0.05234405770897865, 0.9609405398368835, 0.9555253982543945, 0.022750604897737503, 0.022750604897737503, 0.09788896888494492, 0.013984138146042824, 0.027968276292085648, 0.8530324101448059, 0.8370836973190308, 0.008719622157514095, 0.047957923263311386, 0.021799055859446526, 0.0871962234377861, 0.02990606613457203, 0.9569941163063049, 0.974116325378418, 0.9519507884979248, 0.00915337260812521, 0.00915337260812521, 0.00915337260812521, 0.027460118755698204, 0.20033979415893555, 0.29123470187187195, 0.05564994364976883, 0.1929198056459427, 0.2596997320652008, 0.5957534313201904, 0.3432324230670929, 0.014709960669279099, 0.022064941003918648, 0.024516601115465164, 0.08660741150379181, 0.9007170796394348, 0.1347389966249466, 0.7853358387947083, 0.011549056507647038, 0.05774528533220291, 0.011549056507647038, 0.011662003584206104, 0.029155008494853973, 0.7172132134437561, 0.14577504992485046, 0.09329602867364883, 0.9545978307723999, 0.03181992843747139, 0.07659254223108292, 0.8199907541275024, 0.009010887704789639, 0.08109799027442932, 0.009010887704789639, 0.9760794639587402, 0.08881069719791412, 0.013321604579687119, 0.7904152274131775, 0.07992962747812271, 0.026643209159374237, 0.6430869102478027, 0.2553885579109192, 0.02461576648056507, 0.05538547411561012, 0.02461576648056507, 0.8999167084693909, 0.9824985265731812, 0.93671715259552, 0.958476722240448, 0.009584767743945122, 0.009584767743945122, 0.009584767743945122, 0.019169535487890244, 0.08061061799526215, 0.008956735022366047, 0.8598465323448181, 0.03582694008946419, 0.008956735022366047, 0.025722594931721687, 0.012861297465860844, 0.012861297465860844, 0.9388746619224548, 0.9651333093643188, 0.21185484528541565, 0.23439259827136993, 0.2524228096008301, 0.21636240184307098, 0.08564344793558121, 0.9287485480308533, 0.9839412569999695, 0.0019522643415257335, 0.003904528683051467, 0.003904528683051467, 0.007809057366102934, 0.9551975727081299, 0.9750790596008301, 0.8427257537841797, 0.04393357038497925, 0.055915456265211105, 0.04393357038497925, 0.007987922057509422, 0.015444646589457989, 0.007722323294728994, 0.8880671858787537, 0.07722323387861252, 0.015444646589457989, 0.22985902428627014, 0.19054102897644043, 0.37200868129730225, 0.09073382616043091, 0.11795397102832794, 0.9749282598495483, 0.9739403128623962, 0.008049093186855316, 0.008049093186855316, 0.016098186373710632, 0.20161689817905426, 0.4032337963581085, 0.1677972823381424, 0.12747390568256378, 0.1014588251709938, 0.968763530254364, 0.10517629981040955, 0.011686255224049091, 0.8647828698158264, 0.023372510448098183, 0.2273104190826416, 0.33284738659858704, 0.2658720016479492, 0.1136552095413208, 0.06088671833276749, 0.9444212913513184, 0.008176807314157486, 0.004088403657078743, 0.024530421942472458, 0.024530421942472458, 0.04840575158596039, 0.46205487847328186, 0.03520418331027031, 0.4224501848220825, 0.030803659930825233, 0.12352363020181656, 0.01900363527238369, 0.7981526851654053, 0.03800727054476738, 0.01900363527238369, 0.9754415154457092, 0.08771882206201553, 0.9210476279258728, 0.027977658435702324, 0.9512403607368469, 0.27147576212882996, 0.6685090661048889, 0.0033934470266103745, 0.028844300657510757, 0.027147576212882996, 0.03910542652010918, 0.01955271326005459, 0.6647922396659851, 0.20725876092910767, 0.0703897625207901, 0.9687868356704712, 0.05450150743126869, 0.9265256524085999, 0.9639909267425537, 0.9284277558326721, 0.9653672575950623, 0.03447740152478218, 0.9688124656677246, 0.983761727809906, 0.14671050012111664, 0.6128712892532349, 0.004732597153633833, 0.08755304664373398, 0.14671050012111664, 0.9448361396789551, 0.01898108422756195, 0.0021090093068778515, 0.02109009213745594, 0.012654055841267109, 0.06766369193792343, 0.07217460870742798, 0.6856587529182434, 0.10826191306114197, 0.05864186957478523, 0.962388277053833, 0.004237394779920578, 0.9724821448326111, 0.006356092635542154, 0.002118697389960289, 0.014830882661044598, 0.29265686869621277, 0.45871496200561523, 0.05918902903795242, 0.13481944799423218, 0.054256610572338104, 0.9767535328865051, 0.012802043929696083, 0.2880460023880005, 0.0064010219648480415, 0.0384061336517334, 0.6529042720794678, 0.96941077709198, 0.010863024741411209, 0.45805755257606506, 0.0036210082471370697, 0.3783953785896301, 0.15027184784412384, 0.4255158603191376, 0.1501820683479309, 0.3107934594154358, 0.039631377905607224, 0.07509103417396545, 0.0280290637165308, 0.9169508218765259, 0.004004152026027441, 0.02402491122484207, 0.0280290637165308, 0.9276558756828308, 0.9781349301338196, 0.006351239513605833, 0.025404958054423332, 0.006351239513605833, 0.1524297446012497, 0.8066074252128601, 0.03087661787867546, 0.03087661787867546, 0.9262985587120056, 0.18160001933574677, 0.39061135053634644, 0.05824906378984451, 0.2741132378578186, 0.09593963623046875, 0.9736916422843933, 0.17955940961837769, 0.6607786417007446, 0.10294739156961441, 0.031123630702495575, 0.026335379108786583, 0.007322050631046295, 0.24162767827510834, 0.051254354417324066, 0.6882727742195129, 0.007322050631046295, 0.018714604899287224, 0.8702291250228882, 0.004678651224821806, 0.08889437466859818, 0.018714604899287224, 0.14123542606830597, 0.18158839643001556, 0.19672076404094696, 0.31273558735847473, 0.16645602881908417, 0.2649175524711609, 0.6656903028488159, 0.006792758125811815, 0.02717103250324726, 0.03396379202604294, 0.0067804730497300625, 0.0067804730497300625, 0.0542437843978405, 0.9289248585700989, 0.9452664852142334, 0.03437332808971405, 0.008593332022428513, 0.008593332022428513, 0.008593332022428513, 0.9814601540565491, 0.927486777305603, 0.021707138046622276, 0.005920128431171179, 0.03749414533376694, 0.007893504574894905, 0.9489963054656982, 0.9308486580848694, 0.0708661824464798, 0.05061870068311691, 0.8402704000473022, 0.03037121891975403, 0.010123739950358868, 0.9834867119789124, 0.009834866970777512, 0.009834866970777512, 0.3145523965358734, 0.5089036226272583, 0.03044055588543415, 0.08585797995328903, 0.0608811117708683, 0.12819039821624756, 0.15667714178562164, 0.17092052102088928, 0.3489627242088318, 0.19228559732437134, 0.013268211856484413, 0.9553112387657166, 0.015479580499231815, 0.004422737285494804, 0.013268211856484413, 0.7150882482528687, 0.16614806652069092, 0.02932024747133255, 0.06026940047740936, 0.02932024747133255, 0.060562364757061005, 0.1197483167052269, 0.45697057247161865, 0.19820410013198853, 0.1637936681509018, 0.012012660503387451, 0.27829331159591675, 0.5225507616996765, 0.11812449991703033, 0.06807174533605576, 0.9028411507606506, 0.07290022075176239, 0.01682312786579132, 0.00560770882293582, 0.8132858872413635, 0.13697446882724762, 0.004280452150851488, 0.025682713836431503, 0.017121808603405952, 0.056011077016592026, 0.014002769254148006, 0.9241827726364136, 0.958703875541687, 0.9854857921600342, 0.9603615403175354, 0.022333988919854164, 0.004466797690838575, 0.00893359538167715, 0.009299918077886105, 0.07439934462308884, 0.02789975516498089, 0.2324979603290558, 0.6509943008422852, 0.17953623831272125, 0.18808558583259583, 0.05984541401267052, 0.20945894718170166, 0.36762183904647827, 0.7138568758964539, 0.15584200620651245, 0.02513580583035946, 0.05529877543449402, 0.05027161166071892, 0.9665272831916809, 0.9848200678825378, 0.9413248896598816, 0.9720268845558167, 0.21348461508750916, 0.28923723101615906, 0.06197940558195114, 0.3603987693786621, 0.0757526084780693, 0.9883660078048706, 0.9832915663719177, 0.9613579511642456, 0.021363509818911552, 0.021363509818911552, 0.08691664785146713, 0.35144558548927307, 0.02267390862107277, 0.38167744874954224, 0.15493836998939514, 0.9436787366867065, 0.9704238176345825, 0.3977288007736206, 0.4286027252674103, 0.06356396526098251, 0.06538007408380508, 0.043586716055870056, 0.03218371048569679, 0.9225996732711792, 0.021455807611346245, 0.021455807611346245, 0.5481840372085571, 0.3336772620677948, 0.019067270681262016, 0.06673545390367508, 0.030984316021203995, 0.9746422171592712, 0.03456360474228859, 0.023042403161525726, 0.8640901446342468, 0.08064841479063034, 0.047063570469617844, 0.09412714093923569, 0.023531785234808922, 0.8000807166099548, 0.03529767692089081, 0.8787163496017456, 0.09885559231042862, 0.02196790836751461, 0.3669259250164032, 0.1070200651884079, 0.0458657406270504, 0.02548096887767315, 0.4586574137210846, 0.9529632329940796, 0.950715959072113, 0.00846762303262949, 0.00846762303262949, 0.8721652030944824, 0.00846762303262949, 0.10161148011684418, 0.04235350713133812, 0.04235350713133812, 0.9317771196365356, 0.9437049627304077, 0.20039582252502441, 0.5594383478164673, 0.03548676148056984, 0.16699650883674622, 0.03757421672344208, 0.4039618670940399, 0.3136645257472992, 0.0792715772986412, 0.12280441075563431, 0.08022207766771317, 0.029307948425412178, 0.0073269871063530445, 0.8206225633621216, 0.036634933203458786, 0.1025778204202652, 0.03469424322247505, 0.9714387655258179, 0.24884547293186188, 0.01866341009736061, 0.6718828082084656, 0.04354795813560486, 0.01866341009736061, 0.0419502817094326, 0.41950279474258423, 0.027966853231191635, 0.07690884917974472, 0.4334862232208252, 0.9463457465171814, 0.027026358991861343, 0.8540329337120056, 0.04324217140674591, 0.010810542851686478, 0.06486325711011887, 0.020306074991822243, 0.06091822683811188, 0.6954830884933472, 0.14214253425598145, 0.08122429996728897, 0.955767810344696, 0.1430639773607254, 0.19231551885604858, 0.3072357475757599, 0.26267483830451965, 0.09615775942802429, 0.9677952527999878, 0.01035075169056654, 0.01035075169056654, 0.01035075169056654, 0.9477357268333435, 0.2647574245929718, 0.6660047173500061, 0.02302238531410694, 0.032889120280742645, 0.014800104312598705, 0.18317168951034546, 0.71559077501297, 0.02198060415685177, 0.029307471588253975, 0.05128807574510574, 0.0545344240963459, 0.9270852208137512, 0.08118248730897903, 0.01353041548281908, 0.01353041548281908, 0.8659465909004211, 0.02706083096563816, 0.018205365166068077, 0.1365402489900589, 0.018205365166068077, 0.5552636384963989, 0.2821831703186035, 0.06621277332305908, 0.18659962713718414, 0.030096715316176414, 0.6621277332305908, 0.04815474525094032, 0.007971636950969696, 0.8768800497055054, 0.023914910852909088, 0.06377309560775757, 0.031886547803878784, 0.07591696828603745, 0.7591696977615356, 0.003795848460868001, 0.15562978386878967, 0.003795848460868001, 0.015242254361510277, 0.15242254734039307, 0.007621127180755138, 0.693522572517395, 0.13718028366565704, 0.9704824686050415, 0.6303769946098328, 0.18882259726524353, 0.0348595567047596, 0.04647940769791603, 0.10167370736598969, 0.8966818451881409, 0.09891153872013092, 0.8902038335800171, 0.0054966723546385765, 0.07145673781633377, 0.0687084048986435, 0.1703968495130539, 0.6815873980522156, 0.03177759796380997, 0.953328013420105, 0.019945243373513222, 0.9573716521263123, 0.019945243373513222, 0.07046686857938766, 0.9060025811195374, 0.010066695511341095, 0.010066695511341095, 0.010066695511341095, 0.9800871014595032, 0.9819563031196594, 0.9765879511833191, 0.9135096669197083, 0.9776753783226013, 0.9814364910125732, 0.20347116887569427, 0.24750597774982452, 0.1761392205953598, 0.20347116887569427, 0.16854701936244965, 0.9419060945510864, 0.0717746913433075, 0.037596266716718674, 0.6596435904502869, 0.1708921194076538, 0.054685477167367935, 0.014042936265468597, 0.9268338084220886, 0.023404892534017563, 0.01872391439974308, 0.01872391439974308, 0.4450826644897461, 0.22023122012615204, 0.17094871401786804, 0.07700392603874207, 0.08624439686536789, 0.03821174427866936, 0.917081892490387, 0.03821174427866936, 0.9340260028839111, 0.03045736998319626, 0.010152456350624561, 0.020304912701249123, 0.0820765495300293, 0.12311483174562454, 0.7797272205352783, 0.2567206025123596, 0.23338235914707184, 0.262106329202652, 0.131053164601326, 0.11489593237638474, 0.2210293710231781, 0.2675618827342987, 0.25980645418167114, 0.14347520470619202, 0.10760640352964401, 0.04013042524456978, 0.0652119442820549, 0.3260596990585327, 0.44645097851753235, 0.11537497490644455, 0.8986722230911255, 0.019395802170038223, 0.019395802170038223, 0.025861071422696114, 0.03879160434007645, 0.9880946278572083, 0.0030781764071434736, 0.0030781764071434736, 0.0030781764071434736, 0.0030781764071434736, 0.9521864056587219, 0.01586977392435074, 0.01586977392435074, 0.12218129634857178, 0.011107390746474266, 0.866376519203186, 0.957949161529541, 0.036844197660684586, 0.1888633370399475, 0.229112908244133, 0.5170521140098572, 0.037153445184230804, 0.02476896345615387, 0.009887154214084148, 0.9063224792480469, 0.009887154214084148, 0.07250579446554184, 0.0032957179937511683, 0.8800586462020874, 0.026615427806973457, 0.026615427806973457, 0.9315399527549744, 0.0456945039331913, 0.9138900637626648, 0.02111884020268917, 0.7560545206069946, 0.06758029013872147, 0.12248928099870682, 0.03379014506936073, 0.010758024640381336, 0.4572160542011261, 0.5163851976394653, 0.010758024640381336, 0.9878397583961487, 0.9745320677757263, 0.9648913145065308, 0.016081521287560463, 0.21044521033763885, 0.00825275294482708, 0.7138631343841553, 0.05776927247643471, 0.00825275294482708, 0.32152876257896423, 0.17990300059318542, 0.20669706165790558, 0.19712775945663452, 0.09377922862768173, 0.972275972366333, 0.03170352801680565, 0.0634070560336113, 0.8876987099647522, 0.03170352801680565, 0.013521350920200348, 0.08788877725601196, 0.24338431656360626, 0.16225621104240417, 0.5002899765968323, 0.9400573968887329, 0.015417451038956642, 0.9404644966125488, 0.015417451038956642, 0.015417451038956642, 0.3059268593788147, 0.3554983139038086, 0.11897154897451401, 0.09206131845712662, 0.12888585031032562, 0.19556187093257904, 0.23099924623966217, 0.1259995996952057, 0.34124889969825745, 0.10631215572357178, 0.8997111916542053, 0.2986954152584076, 0.26056408882141113, 0.10363899916410446, 0.21803298592567444, 0.11879375576972961, 0.02486976608633995, 0.936761200428009, 0.033159688115119934], \"Term\": [\"academi\", \"academi\", \"academi\", \"academi\", \"academi\", \"actor\", \"actor\", \"actor\", \"actor\", \"actress\", \"actress\", \"actress\", \"airbus\", \"airlin\", \"airlin\", \"airlin\", \"album\", \"album\", \"album\", \"analyst\", \"analyst\", \"analyst\", \"analyst\", \"aragon\", \"argonaut\", \"arsenal\", \"arsenal\", \"arsenal\", \"asylum\", \"australian\", \"australian\", \"australian\", \"australian\", \"aviat\", \"aviat\", \"aviat\", \"aviat\", \"award\", \"award\", \"award\", \"award\", \"award\", \"bafta\", \"bafta\", \"ball\", \"ball\", \"ball\", \"ball\", \"ball\", \"ballet\", \"band\", \"band\", \"band\", \"band\", \"bank\", \"bank\", \"bank\", \"bank\", \"bank\", \"barcelona\", \"barclay\", \"bat\", \"benitez\", \"best\", \"best\", \"best\", \"best\", \"best\", \"blair\", \"blair\", \"blair\", \"blair\", \"blair\", \"blanchett\", \"blog\", \"blog\", \"blog\", \"blog\", \"blog\", \"bloglin\", \"blunkett\", \"blunkett\", \"boe\", \"boers\", \"book\", \"book\", \"book\", \"book\", \"book\", \"brando\", \"british\", \"british\", \"british\", \"british\", \"british\", \"broadband\", \"broadband\", \"broadway\", \"brown\", \"brown\", \"brown\", \"brown\", \"brown\", \"budget\", \"budget\", \"budget\", \"budget\", \"cairn\", \"camera\", \"camera\", \"camera\", \"camera\", \"camera\", \"campaign\", \"campaign\", \"campaign\", \"campaign\", \"campaign\", \"categori\", \"categori\", \"categori\", \"categori\", \"categori\", \"celtic\", \"celtic\", \"ceremoni\", \"ceremoni\", \"ceremoni\", \"ceremoni\", \"champion\", \"champion\", \"champion\", \"champion\", \"champion\", \"chanc\", \"chanc\", \"chanc\", \"chanc\", \"chanc\", \"chancellor\", \"chancellor\", \"chart\", \"chart\", \"chart\", \"chart\", \"chart\", \"chelsea\", \"chelsea\", \"chepkemei\", \"claim\", \"claim\", \"claim\", \"claim\", \"claim\", \"club\", \"club\", \"club\", \"club\", \"club\", \"coach\", \"coach\", \"coach\", \"coach\", \"coach\", \"cole\", \"come\", \"come\", \"come\", \"come\", \"come\", \"comedi\", \"comedi\", \"comedi\", \"comedi\", \"compani\", \"compani\", \"compani\", \"compani\", \"compani\", \"compress\", \"comput\", \"comput\", \"comput\", \"comput\", \"comput\", \"concert\", \"concert\", \"concert\", \"concert\", \"connect\", \"connect\", \"connect\", \"connect\", \"conserv\", \"conserv\", \"conserv\", \"conserv\", \"consum\", \"consum\", \"consum\", \"consum\", \"consum\", \"cont\", \"cont\", \"content\", \"content\", \"content\", \"content\", \"content\", \"council\", \"council\", \"council\", \"council\", \"council\", \"countri\", \"countri\", \"countri\", \"countri\", \"countri\", \"countrysid\", \"cueto\", \"custom\", \"custom\", \"custom\", \"custom\", \"custom\", \"cyprus\", \"data\", \"data\", \"data\", \"data\", \"data\", \"davenport\", \"davenport\", \"dechi\", \"dem\", \"dementieva\", \"democrat\", \"democrat\", \"democrat\", \"democrat\", \"deutsch\", \"devic\", \"devic\", \"devic\", \"devic\", \"devic\", \"dicaprio\", \"digit\", \"digit\", \"digit\", \"digit\", \"digit\", \"director\", \"director\", \"director\", \"director\", \"director\", \"drake\", \"drake\", \"drama\", \"drama\", \"drama\", \"drama\", \"driscol\", \"duff\", \"eastwood\", \"eastwood\", \"econom\", \"econom\", \"econom\", \"econom\", \"econom\", \"economi\", \"economi\", \"economi\", \"economi\", \"economi\", \"elect\", \"elect\", \"elect\", \"elect\", \"elect\", \"elvi\", \"elvi\", \"eminem\", \"england\", \"england\", \"england\", \"england\", \"england\", \"etern\", \"event\", \"event\", \"event\", \"event\", \"event\", \"everton\", \"evict\", \"expect\", \"expect\", \"expect\", \"expect\", \"expect\", \"fanni\", \"ferguson\", \"ferguson\", \"ferguson\", \"festiv\", \"festiv\", \"festiv\", \"festiv\", \"fiat\", \"fightstar\", \"fightstar\", \"file\", \"file\", \"file\", \"file\", \"film\", \"film\", \"film\", \"film\", \"film\", \"final\", \"final\", \"final\", \"final\", \"final\", \"firefox\", \"firm\", \"firm\", \"firm\", \"firm\", \"firm\", \"footbal\", \"footbal\", \"footbal\", \"footbal\", \"footbal\", \"foxx\", \"foxx\", \"franc\", \"franc\", \"franc\", \"franc\", \"franc\", \"galla\", \"game\", \"game\", \"game\", \"game\", \"game\", \"gara\", \"gartner\", \"gazprom\", \"gazprom\", \"general\", \"general\", \"general\", \"general\", \"general\", \"gerrard\", \"gigg\", \"glazer\", \"go\", \"go\", \"go\", \"go\", \"go\", \"goal\", \"goal\", \"goal\", \"goal\", \"goal\", \"gogh\", \"gold\", \"gold\", \"gold\", \"gold\", \"gold\", \"golden\", \"golden\", \"golden\", \"golden\", \"golden\", \"goldsmith\", \"good\", \"good\", \"good\", \"good\", \"good\", \"googl\", \"googl\", \"googl\", \"googl\", \"govern\", \"govern\", \"govern\", \"govern\", \"govern\", \"grammi\", \"grammi\", \"group\", \"group\", \"group\", \"group\", \"group\", \"growth\", \"growth\", \"growth\", \"growth\", \"guerrouj\", \"half\", \"half\", \"half\", \"half\", \"half\", \"handset\", \"henman\", \"henman\", \"henson\", \"hewitt\", \"hewitt\", \"hewitt\", \"hewitt\", \"high\", \"high\", \"high\", \"high\", \"high\", \"hilari\", \"hodgson\", \"hodgson\", \"hodgson\", \"hollywood\", \"hollywood\", \"hollywood\", \"hollywood\", \"howard\", \"howard\", \"howard\", \"howard\", \"howard\", \"hunt\", \"hunt\", \"imelda\", \"immigr\", \"immigr\", \"immigr\", \"immigr\", \"immigr\", \"includ\", \"includ\", \"includ\", \"includ\", \"includ\", \"increas\", \"increas\", \"increas\", \"increas\", \"increas\", \"indoor\", \"indoor\", \"inform\", \"inform\", \"inform\", \"inform\", \"inform\", \"injuri\", \"injuri\", \"injuri\", \"injuri\", \"injuri\", \"intel\", \"intel\", \"internet\", \"internet\", \"internet\", \"internet\", \"internet\", \"iptv\", \"ireland\", \"ireland\", \"ireland\", \"ireland\", \"ireland\", \"issu\", \"issu\", \"issu\", \"issu\", \"issu\", \"jayn\", \"jeev\", \"jupit\", \"kennedi\", \"kennedi\", \"kennedi\", \"kennedi\", \"kennedi\", \"kick\", \"kick\", \"kick\", \"kick\", \"kick\", \"kilroy\", \"kilroy\", \"kilroy\", \"kilroy\", \"knife\", \"know\", \"know\", \"know\", \"know\", \"know\", \"kuznetsova\", \"labour\", \"labour\", \"labour\", \"labour\", \"labour\", \"lampard\", \"laser\", \"leader\", \"leader\", \"leader\", \"leader\", \"leader\", \"leagu\", \"leagu\", \"leagu\", \"leagu\", \"leagu\", \"leav\", \"leav\", \"leav\", \"leav\", \"leav\", \"lewsey\", \"liber\", \"liber\", \"liber\", \"liber\", \"like\", \"like\", \"like\", \"like\", \"like\", \"lindsay\", \"liverpool\", \"liverpool\", \"liverpool\", \"liverpool\", \"look\", \"look\", \"look\", \"look\", \"look\", \"lord\", \"lord\", \"lord\", \"lord\", \"lord\", \"mail\", \"mail\", \"mail\", \"mail\", \"mail\", \"manchest\", \"manchest\", \"manchest\", \"manchest\", \"manchest\", \"manifesto\", \"map\", \"map\", \"marathon\", \"marathon\", \"market\", \"market\", \"market\", \"market\", \"market\", \"match\", \"match\", \"match\", \"match\", \"match\", \"mauresmo\", \"mcilroy\", \"mcilroy\", \"megapixel\", \"melzer\", \"midfield\", \"midfield\", \"milburn\", \"millan\", \"million\", \"million\", \"million\", \"million\", \"million\", \"minist\", \"minist\", \"minist\", \"minist\", \"minist\", \"minut\", \"minut\", \"minut\", \"minut\", \"minut\", \"mirza\", \"mobil\", \"mobil\", \"mobil\", \"mobil\", \"mobil\", \"month\", \"month\", \"month\", \"month\", \"month\", \"mourinho\", \"movi\", \"movi\", \"movi\", \"movi\", \"movi\", \"multimedia\", \"music\", \"music\", \"music\", \"music\", \"music\", \"nation\", \"nation\", \"nation\", \"nation\", \"nation\", \"network\", \"network\", \"network\", \"network\", \"network\", \"neverland\", \"nielsen\", \"nomin\", \"nomin\", \"nomin\", \"nomin\", \"nomin\", \"nomine\", \"nomine\", \"nomine\", \"number\", \"number\", \"number\", \"number\", \"number\", \"oaten\", \"offer\", \"offer\", \"offer\", \"offer\", \"offer\", \"olymp\", \"olymp\", \"olymp\", \"olymp\", \"olymp\", \"onlin\", \"onlin\", \"onlin\", \"onlin\", \"onlin\", \"open\", \"open\", \"open\", \"open\", \"open\", \"oper\", \"oper\", \"oper\", \"oper\", \"oper\", \"oscar\", \"oscar\", \"oscar\", \"oscar\", \"parliament\", \"parliament\", \"parliament\", \"parliament\", \"parliament\", \"parmalat\", \"parti\", \"parti\", \"parti\", \"parti\", \"parti\", \"paterson\", \"paula\", \"penalti\", \"penalti\", \"penalti\", \"penalti\", \"penalti\", \"pension\", \"pension\", \"pension\", \"peopl\", \"peopl\", \"peopl\", \"peopl\", \"peopl\", \"perform\", \"perform\", \"perform\", \"perform\", \"perform\", \"phone\", \"phone\", \"phone\", \"phone\", \"phone\", \"plan\", \"plan\", \"plan\", \"plan\", \"plan\", \"play\", \"play\", \"play\", \"play\", \"play\", \"player\", \"player\", \"player\", \"player\", \"player\", \"polici\", \"polici\", \"polici\", \"polici\", \"polit\", \"polit\", \"polit\", \"polit\", \"polit\", \"premiership\", \"premiership\", \"premiership\", \"premium\", \"prescott\", \"prime\", \"prime\", \"prime\", \"prime\", \"prize\", \"prize\", \"prize\", \"prize\", \"prize\", \"produc\", \"produc\", \"produc\", \"produc\", \"produc\", \"public\", \"public\", \"public\", \"public\", \"public\", \"qwest\", \"radcliff\", \"rapper\", \"rebat\", \"record\", \"record\", \"record\", \"record\", \"record\", \"refere\", \"referendum\", \"reform\", \"reform\", \"reform\", \"releas\", \"releas\", \"releas\", \"releas\", \"releas\", \"remak\", \"replay\", \"report\", \"report\", \"report\", \"report\", \"report\", \"retail\", \"retail\", \"retail\", \"retail\", \"rise\", \"rise\", \"rise\", \"rise\", \"rise\", \"robben\", \"robinson\", \"robinson\", \"robinson\", \"robinson\", \"rock\", \"rock\", \"rock\", \"rock\", \"rock\", \"roddick\", \"roddick\", \"roddick\", \"role\", \"role\", \"role\", \"role\", \"role\", \"ronaldo\", \"roundabout\", \"rugbi\", \"rugbi\", \"rugbi\", \"rugbi\", \"rugbi\", \"rusedski\", \"rusedski\", \"rusedski\", \"safin\", \"sale\", \"sale\", \"sale\", \"sale\", \"sale\", \"say\", \"say\", \"say\", \"say\", \"say\", \"score\", \"score\", \"score\", \"score\", \"score\", \"scorses\", \"scorses\", \"scotland\", \"scotland\", \"scotland\", \"scotland\", \"scotland\", \"screen\", \"screen\", \"screen\", \"screen\", \"screen\", \"scrum\", \"search\", \"search\", \"search\", \"search\", \"search\", \"season\", \"season\", \"season\", \"season\", \"season\", \"sec\", \"second\", \"second\", \"second\", \"second\", \"second\", \"secretari\", \"secretari\", \"secretari\", \"secretari\", \"serena\", \"servic\", \"servic\", \"servic\", \"servic\", \"servic\", \"share\", \"share\", \"share\", \"share\", \"share\", \"sideway\", \"sideway\", \"silk\", \"silk\", \"silk\", \"silk\", \"silk\", \"singer\", \"singer\", \"singer\", \"singer\", \"singer\", \"singl\", \"singl\", \"singl\", \"singl\", \"singl\", \"site\", \"site\", \"site\", \"site\", \"site\", \"softwar\", \"softwar\", \"softwar\", \"softwar\", \"softwar\", \"song\", \"song\", \"song\", \"song\", \"song\", \"southampton\", \"spend\", \"spend\", \"spend\", \"spend\", \"spend\", \"spotless\", \"spywar\", \"spywar\", \"star\", \"star\", \"star\", \"star\", \"star\", \"staunton\", \"staunton\", \"storag\", \"storag\", \"storag\", \"store\", \"store\", \"store\", \"store\", \"store\", \"striker\", \"sub\", \"subscript\", \"sunshin\", \"supplier\", \"swank\", \"take\", \"take\", \"take\", \"take\", \"take\", \"taxpay\", \"team\", \"team\", \"team\", \"team\", \"team\", \"technolog\", \"technolog\", \"technolog\", \"technolog\", \"technolog\", \"tell\", \"tell\", \"tell\", \"tell\", \"tell\", \"tenni\", \"tenni\", \"tenni\", \"terror\", \"terror\", \"terror\", \"terror\", \"theatr\", \"theatr\", \"theatr\", \"think\", \"think\", \"think\", \"think\", \"think\", \"time\", \"time\", \"time\", \"time\", \"time\", \"titl\", \"titl\", \"titl\", \"titl\", \"titl\", \"toni\", \"toni\", \"toni\", \"toni\", \"toni\", \"tori\", \"tori\", \"tori\", \"tori\", \"tori\", \"turkey\", \"turkey\", \"turkey\", \"ukip\", \"ukip\", \"ukip\", \"ulster\", \"ulster\", \"unit\", \"unit\", \"unit\", \"unit\", \"unit\", \"user\", \"user\", \"user\", \"user\", \"user\", \"venus\", \"vera\", \"vera\", \"vera\", \"verita\", \"verita\", \"video\", \"video\", \"video\", \"video\", \"video\", \"virus\", \"virus\", \"virus\", \"virus\", \"vodafon\", \"volley\", \"wage\", \"wage\", \"wale\", \"wale\", \"wale\", \"wale\", \"wale\", \"week\", \"week\", \"week\", \"week\", \"week\", \"wenger\", \"wimbledon\", \"wimbledon\", \"wimbledon\", \"wimbledon\", \"winner\", \"winner\", \"winner\", \"winner\", \"winner\", \"winslet\", \"wireless\", \"wireless\", \"wireless\", \"wireless\", \"work\", \"work\", \"work\", \"work\", \"work\", \"world\", \"world\", \"world\", \"world\", \"world\", \"xstrata\", \"year\", \"year\", \"year\", \"year\", \"year\", \"yuko\", \"yuko\", \"yuko\"]}, \"R\": 30, \"lambda.step\": 0.01, \"plot.opts\": {\"xlab\": \"PC1\", \"ylab\": \"PC2\"}, \"topic.order\": [1, 4, 2, 5, 3]};\n",
              "\n",
              "function LDAvis_load_lib(url, callback){\n",
              "  var s = document.createElement('script');\n",
              "  s.src = url;\n",
              "  s.async = true;\n",
              "  s.onreadystatechange = s.onload = callback;\n",
              "  s.onerror = function(){console.warn(\"failed to load library \" + url);};\n",
              "  document.getElementsByTagName(\"head\")[0].appendChild(s);\n",
              "}\n",
              "\n",
              "if(typeof(LDAvis) !== \"undefined\"){\n",
              "   // already loaded: just create the visualization\n",
              "   !function(LDAvis){\n",
              "       new LDAvis(\"#\" + \"ldavis_el1201401138776640564296690935\", ldavis_el1201401138776640564296690935_data);\n",
              "   }(LDAvis);\n",
              "}else if(typeof define === \"function\" && define.amd){\n",
              "   // require.js is available: use it to load d3/LDAvis\n",
              "   require.config({paths: {d3: \"https://cdnjs.cloudflare.com/ajax/libs/d3/3.5.5/d3.min\"}});\n",
              "   require([\"d3\"], function(d3){\n",
              "      window.d3 = d3;\n",
              "      LDAvis_load_lib(\"https://cdn.rawgit.com/bmabey/pyLDAvis/files/ldavis.v1.0.0.js\", function(){\n",
              "        new LDAvis(\"#\" + \"ldavis_el1201401138776640564296690935\", ldavis_el1201401138776640564296690935_data);\n",
              "      });\n",
              "    });\n",
              "}else{\n",
              "    // require.js not available: dynamically load d3 & LDAvis\n",
              "    LDAvis_load_lib(\"https://cdnjs.cloudflare.com/ajax/libs/d3/3.5.5/d3.min.js\", function(){\n",
              "         LDAvis_load_lib(\"https://cdn.rawgit.com/bmabey/pyLDAvis/files/ldavis.v1.0.0.js\", function(){\n",
              "                 new LDAvis(\"#\" + \"ldavis_el1201401138776640564296690935\", ldavis_el1201401138776640564296690935_data);\n",
              "            })\n",
              "         });\n",
              "}\n",
              "</script>"
            ],
            "text/plain": [
              "PreparedData(topic_coordinates=              x         y  topics  cluster       Freq\n",
              "topic                                                \n",
              "0     -0.111014 -0.075893       1        1  29.701122\n",
              "3     -0.107675  0.000622       2        1  29.679697\n",
              "1      0.150037 -0.094740       3        1  15.393562\n",
              "4      0.034076  0.044324       4        1  13.905244\n",
              "2      0.034577  0.125686       5        1  11.320373, topic_info=        Term        Freq        Total Category  logprob  loglift\n",
              "373     film  749.000000   749.000000  Default  30.0000  30.0000\n",
              "558     game  991.000000   991.000000  Default  29.0000  29.0000\n",
              "1952   elect  570.000000   570.000000  Default  28.0000  28.0000\n",
              "1055    best  573.000000   573.000000  Default  27.0000  27.0000\n",
              "158   labour  512.000000   512.000000  Default  26.0000  26.0000\n",
              "...      ...         ...          ...      ...      ...      ...\n",
              "331    world   81.376328   761.907227   Topic5  -5.9099  -0.0582\n",
              "143       go   79.456894   711.975952   Topic5  -5.9338  -0.0143\n",
              "571     like   78.261444   768.784790   Topic5  -5.9489  -0.1062\n",
              "283    peopl   78.365829  1281.185547   Topic5  -5.9476  -0.6156\n",
              "614     come   67.785507   739.131958   Topic5  -6.0926  -0.2106\n",
              "\n",
              "[404 rows x 6 columns], token_table=      Topic      Freq     Term\n",
              "term                          \n",
              "5439      1  0.016088  academi\n",
              "5439      2  0.016088  academi\n",
              "5439      3  0.016088  academi\n",
              "5439      4  0.096531  academi\n",
              "5439      5  0.868777  academi\n",
              "...     ...       ...      ...\n",
              "102       4  0.218033     year\n",
              "102       5  0.118794     year\n",
              "1692      1  0.024870     yuko\n",
              "1692      2  0.936761     yuko\n",
              "1692      5  0.033160     yuko\n",
              "\n",
              "[1096 rows x 3 columns], R=30, lambda_step=0.01, plot_opts={'xlab': 'PC1', 'ylab': 'PC2'}, topic_order=[1, 4, 2, 5, 3])"
            ]
          },
          "metadata": {
            "tags": []
          },
          "execution_count": 36
        }
      ]
    },
    {
      "cell_type": "code",
      "metadata": {
        "id": "gYEYkWDKrwSU",
        "colab_type": "code",
        "colab": {}
      },
      "source": [
        "## wordcloud of each topic for top N keywords\n",
        "from wordcloud import WordCloud, STOPWORDS\n",
        "cloud=WordCloud(stopwords=STOPWORDS,\n",
        "                  background_color='black',\n",
        "                  width=2500,\n",
        "                  height=1800,\n",
        "                  max_words=10,\n",
        "                 prefer_horizontal=1.0)"
      ],
      "execution_count": 0,
      "outputs": []
    },
    {
      "cell_type": "code",
      "metadata": {
        "id": "tY7m2vVnu1IE",
        "colab_type": "code",
        "colab": {}
      },
      "source": [
        "topics=lda_model.show_topics(formatted=False, num_words=15)"
      ],
      "execution_count": 0,
      "outputs": []
    },
    {
      "cell_type": "code",
      "metadata": {
        "id": "7a4JR3iDu9_e",
        "colab_type": "code",
        "outputId": "92838224-7299-4a15-beaf-06eb43964234",
        "colab": {
          "base_uri": "https://localhost:8080/",
          "height": 187
        }
      },
      "source": [
        "import matplotlib.pyplot as plt\n",
        "fig, ax = plt.subplots(1,5,figsize=(20,30), sharex=True, sharey=True)\n",
        "for i, ax in enumerate(ax.flatten()):\n",
        "  fig.add_subplot(ax)\n",
        "  topic_words=dict(topics[i][1])\n",
        "  cloud.generate_from_frequencies(topic_words, max_font_size=300)\n",
        "  plt.gca().imshow(cloud)\n",
        "  plt.gca().set_title('Topic ' + str(i), fontdict=dict(size=16))\n",
        "  plt.gca().axis('off')"
      ],
      "execution_count": 39,
      "outputs": [
        {
          "output_type": "display_data",
          "data": {
            "image/png": "[encoded data removed]",
            "text/plain": [
              "<Figure size 1440x2160 with 5 Axes>"
            ]
          },
          "metadata": {
            "tags": [],
            "needs_background": "light"
          }
        }
      ]
    },
    {
      "cell_type": "markdown",
      "metadata": {
        "id": "EZvnhChHInBF",
        "colab_type": "text"
      },
      "source": [
        "#### Manual way to assign topics based on most occured words with real world NEWS category. Efficient for less topics where categories are distinct to each other."
      ]
    },
    {
      "cell_type": "code",
      "metadata": {
        "id": "tmHRr29v0V05",
        "colab_type": "code",
        "colab": {}
      },
      "source": [
        "## Topic 0 contains: govern, plan, elect, minist(ministery) looks POLITICS category\n",
        "## Topic 1 contains most frequent words like: play, game, world, team,, player looks SPORTS category\n",
        "## Topic 2 contains: film, award, star, best, actor, oscar looks FILM/ENTERTAINMENT category\n",
        "## Topic 3 contains: compni, technolog, phone, firm, music, service, looks TECHNOLOGY category\n",
        "## Topic 4 contains: can't derive any category based on these words, lets say OTHER category"
      ],
      "execution_count": 0,
      "outputs": []
    },
    {
      "cell_type": "code",
      "metadata": {
        "id": "duwPCzqmrwR6",
        "colab_type": "code",
        "colab": {}
      },
      "source": [
        "# Testing on unseen document\n",
        "test_doc='''software watching while you work software that can not only monitor every keystroke and action performed at a pc but also be used as legally binding evidence of wrong-doing has been unveiled. \n",
        " worries about cyber-crime and sabotage have prompted many employers to consider monitoring employees. the developers behind the system claim it is a break-through in the way data is monitored and stored. \n",
        " but privacy advocates are concerned by the invasive nature of such software.  \n",
        " the system is a joint venture between security firm 3ami and storage specialists bridgehead software. \n",
        " they have joined forces to create a system which can monitor computer activity  store it and retrieve disputed files within minutes.\n",
        "  more and more firms are finding themselves in deep water as a result of data misuse. sabotage and data theft are most commonly committed from within an organisation according to the national hi-tech crime unit (nhtcu) a survey conducted on its behalf by nop found evidence that more than 80% of medium and large companies have been victims of some form of cyber-crime. bridgehead software has come up with techniques to prove  to a legal standard  that any stored file on a pc has not been tampered with. ironically the impetus for developing the system came as a result of the freedom of information act  which requires companies to store all data for a certain amount of time. \n",
        "   the storage system has been incorporated into an application developed by security firm 3ami which allows every action on a computer to be logged. potentially it could help employers to follow the trail of stolen files and pinpoint whether they had been emailed to a third party  copied  printed  deleted or saved to cd  floppy disk  memory stick or flash card. other activities the system can monitor include the downloading of pornography  the use of racist or bullying language or the copying of applications for personal use. increasingly organisations that handle sensitive data  such as governments  are using biometric log-ins such as fingerprinting to provide conclusive proof of who was using a particular machine at any given time. privacy advocates are concerned that monitoring at work is not only damaging to employee s privacy but also to the relationship between employers and their staff.  that is not the case   said tim ellsmore  managing director of 3ami.  it is not about replacing dialogue but there are issues that you can talk through but you still need proof   he said.  \n",
        "people need to recognise that you are using a pc as a representative of a company and that employers have a legal requirement to store data   he added.'''\n",
        "\n",
        "# looks TECHNOLOGY news"
      ],
      "execution_count": 0,
      "outputs": []
    },
    {
      "cell_type": "code",
      "metadata": {
        "id": "S3dQHJ7CrwR-",
        "colab_type": "code",
        "colab": {}
      },
      "source": [
        "test_bow=dic.doc2bow(preprocess(test_doc))"
      ],
      "execution_count": 0,
      "outputs": []
    },
    {
      "cell_type": "code",
      "metadata": {
        "id": "G5tIgEUIrwSE",
        "colab_type": "code",
        "outputId": "26fd7ed8-6677-4190-db55-1dcc3d63842e",
        "colab": {
          "base_uri": "https://localhost:8080/",
          "height": 34
        }
      },
      "source": [
        "lda_model[test_bow]\n",
        "# Wowwwwwwww! has topic 3 (97%) as we stated above topic 3 might be TECHNOLOGY"
      ],
      "execution_count": 42,
      "outputs": [
        {
          "output_type": "execute_result",
          "data": {
            "text/plain": [
              "[(0, 0.024676377), (3, 0.97243786)]"
            ]
          },
          "metadata": {
            "tags": []
          },
          "execution_count": 42
        }
      ]
    },
    {
      "cell_type": "code",
      "metadata": {
        "id": "pJEGMWXF7k7v",
        "colab_type": "code",
        "colab": {}
      },
      "source": [
        "test_doc2='''career honour for actor dicaprio actor leonardo dicaprio s  exceptional career  has been honoured at \n",
        "the santa barbara international film festival.  the star was presented with the award by martin scorsese  \n",
        "who directed him in oscar-nominated movie the aviator.  it s a lifetime achievement award  which is completely and \n",
        "utterly surreal  given i m only 30 years old   dicaprio said.  but what has it been  almost 17 years now. \n",
        "i ve done quite a few films.  a retrospective of his movies was shown.   \n",
        "what s really exciting  for me  is that this is what i really love doing he added.'''\n",
        "# looks ENTERTAINMENT news"
      ],
      "execution_count": 0,
      "outputs": []
    },
    {
      "cell_type": "code",
      "metadata": {
        "id": "L8iV3mIP8USZ",
        "colab_type": "code",
        "outputId": "9191445d-2e7f-4d10-b014-a7d9251dec27",
        "colab": {
          "base_uri": "https://localhost:8080/",
          "height": 34
        }
      },
      "source": [
        "test_bow2 = dic.doc2bow(preprocess(test_doc2))\n",
        "lda_model[test_bow2]\n",
        "## Topic 2 is really ENTERTAINMENT (we stated) and this news also 89% fall in that"
      ],
      "execution_count": 44,
      "outputs": [
        {
          "output_type": "execute_result",
          "data": {
            "text/plain": [
              "[(2, 0.89669526), (4, 0.0898146)]"
            ]
          },
          "metadata": {
            "tags": []
          },
          "execution_count": 44
        }
      ]
    },
    {
      "cell_type": "markdown",
      "metadata": {
        "id": "wLLfOTR4J5Ya",
        "colab_type": "text"
      },
      "source": [
        "#### When we have large categories to map then we can use Naive-ways-for-automatic-labelling-of-topic-models using WIKIAPI \n",
        "\n",
        "follow this: http://chappers.github.io/web%20micro%20log/2017/02/12/naive-ways-for-automatic-labelling-of-topic-models/"
      ]
    },
    {
      "cell_type": "code",
      "metadata": {
        "id": "yFJyTYAI8gqj",
        "colab_type": "code",
        "colab": {}
      },
      "source": [
        ""
      ],
      "execution_count": 0,
      "outputs": []
    }
  ]
}