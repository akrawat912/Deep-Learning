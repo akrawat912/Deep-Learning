{
  "nbformat": 4,
  "nbformat_minor": 0,
  "metadata": {
    "kernelspec": {
      "display_name": "Python 3",
      "language": "python",
      "name": "python3"
    },
    "language_info": {
      "codemirror_mode": {
        "name": "ipython",
        "version": 3
      },
      "file_extension": ".py",
      "mimetype": "text/x-python",
      "name": "python",
      "nbconvert_exporter": "python",
      "pygments_lexer": "ipython3",
      "version": "3.7.3"
    },
    "colab": {
      "name": "bbc News LDA Topic Modeling.ipynb",
      "provenance": [],
      "collapsed_sections": [],
      "include_colab_link": true
    },
    "accelerator": "GPU"
  },
  "cells": [
    {
      "cell_type": "markdown",
      "metadata": {
        "id": "view-in-github",
        "colab_type": "text"
      },
      "source": [
        "<a href=\"https://colab.research.google.com/github/akrawat912/Deep-Learning/blob/master/bbc_News_LDA_Topic_Modeling.ipynb\" target=\"_parent\"><img src=\"https://colab.research.google.com/assets/colab-badge.svg\" alt=\"Open In Colab\"/></a>"
      ]
    },
    {
      "cell_type": "code",
      "metadata": {
        "id": "DP4TfPhjrwQV",
        "colab_type": "code",
        "colab": {}
      },
      "source": [
        "import pandas as pd\n",
        "from google.colab import files\n",
        "files.upload()"
      ],
      "execution_count": null,
      "outputs": []
    },
    {
      "cell_type": "markdown",
      "metadata": {
        "id": "Fh5aoVcwK7Dy",
        "colab_type": "text"
      },
      "source": [
        "#### data is on my localhost, you can get data here: https://www.kaggle.com/c/learn-ai-bbc/data\n",
        "#### then make it unsupervised by dropping target feature since it is supervised multiclassification in real dataset"
      ]
    },
    {
      "cell_type": "code",
      "metadata": {
        "id": "hUj1Rn2ZrwQe",
        "colab_type": "code",
        "colab": {}
      },
      "source": [
        "data=pd.read_csv('BBC train.csv')\n",
        "documents=data[['Text']]"
      ],
      "execution_count": 7,
      "outputs": []
    },
    {
      "cell_type": "code",
      "metadata": {
        "id": "_0P7QmQtrwQi",
        "colab_type": "code",
        "colab": {}
      },
      "source": [
        "documents['index']=documents.index"
      ],
      "execution_count": 8,
      "outputs": []
    },
    {
      "cell_type": "code",
      "metadata": {
        "id": "PfwmZAtkrwQm",
        "colab_type": "code",
        "colab": {
          "base_uri": "https://localhost:8080/",
          "height": 142
        },
        "outputId": "da80dcf2-39c5-4691-dcc7-89131620138f"
      },
      "source": [
        "documents[:3]"
      ],
      "execution_count": 9,
      "outputs": [
        {
          "output_type": "execute_result",
          "data": {
            "text/html": [
              "<div>\n",
              "<style scoped>\n",
              "    .dataframe tbody tr th:only-of-type {\n",
              "        vertical-align: middle;\n",
              "    }\n",
              "\n",
              "    .dataframe tbody tr th {\n",
              "        vertical-align: top;\n",
              "    }\n",
              "\n",
              "    .dataframe thead th {\n",
              "        text-align: right;\n",
              "    }\n",
              "</style>\n",
              "<table border=\"1\" class=\"dataframe\">\n",
              "  <thead>\n",
              "    <tr style=\"text-align: right;\">\n",
              "      <th></th>\n",
              "      <th>Text</th>\n",
              "      <th>index</th>\n",
              "    </tr>\n",
              "  </thead>\n",
              "  <tbody>\n",
              "    <tr>\n",
              "      <th>0</th>\n",
              "      <td>worldcom ex-boss launches defence lawyers defe...</td>\n",
              "      <td>0</td>\n",
              "    </tr>\n",
              "    <tr>\n",
              "      <th>1</th>\n",
              "      <td>german business confidence slides german busin...</td>\n",
              "      <td>1</td>\n",
              "    </tr>\n",
              "    <tr>\n",
              "      <th>2</th>\n",
              "      <td>bbc poll indicates economic gloom citizens in ...</td>\n",
              "      <td>2</td>\n",
              "    </tr>\n",
              "  </tbody>\n",
              "</table>\n",
              "</div>"
            ],
            "text/plain": [
              "                                                Text  index\n",
              "0  worldcom ex-boss launches defence lawyers defe...      0\n",
              "1  german business confidence slides german busin...      1\n",
              "2  bbc poll indicates economic gloom citizens in ...      2"
            ]
          },
          "metadata": {
            "tags": []
          },
          "execution_count": 9
        }
      ]
    },
    {
      "cell_type": "code",
      "metadata": {
        "id": "D9qi2GZCrwQt",
        "colab_type": "code",
        "colab": {}
      },
      "source": [
        "import nltk\n",
        "import gensim\n",
        "from gensim.utils import simple_preprocess\n",
        "from gensim.parsing.preprocessing import STOPWORDS\n",
        "from gensim.models import LdaModel, CoherenceModel\n",
        "from nltk.stem import WordNetLemmatizer, SnowballStemmer\n",
        "from gensim.corpora import Dictionary\n",
        "from nltk.stem.porter import *\n",
        "import matplotlib.pyplot as plt\n",
        "import numpy as np\n",
        "np.random.seed(2018)"
      ],
      "execution_count": 10,
      "outputs": []
    },
    {
      "cell_type": "code",
      "metadata": {
        "id": "O9yh3hmarwQx",
        "colab_type": "code",
        "colab": {}
      },
      "source": [
        "stemmer = SnowballStemmer('english')"
      ],
      "execution_count": 11,
      "outputs": []
    },
    {
      "cell_type": "code",
      "metadata": {
        "id": "hVPSG8zBszIN",
        "colab_type": "code",
        "colab": {
          "base_uri": "https://localhost:8080/",
          "height": 68
        },
        "outputId": "840d715b-5c10-45f6-ec2b-741222946c61"
      },
      "source": [
        "nltk.download('wordnet')"
      ],
      "execution_count": 16,
      "outputs": [
        {
          "output_type": "stream",
          "text": [
            "[nltk_data] Downloading package wordnet to /root/nltk_data...\n",
            "[nltk_data]   Unzipping corpora/wordnet.zip.\n"
          ],
          "name": "stdout"
        },
        {
          "output_type": "execute_result",
          "data": {
            "text/plain": [
              "True"
            ]
          },
          "metadata": {
            "tags": []
          },
          "execution_count": 16
        }
      ]
    },
    {
      "cell_type": "code",
      "metadata": {
        "id": "TfUVOXKqrwQ1",
        "colab_type": "code",
        "colab": {
          "base_uri": "https://localhost:8080/",
          "height": 34
        },
        "outputId": "320cf352-3a05-4cc7-d7f5-8ea743dd8d54"
      },
      "source": [
        "# example, verb POS of word 'paased' is pass\n",
        "WordNetLemmatizer().lemmatize('passed', pos='v')"
      ],
      "execution_count": null,
      "outputs": [
        {
          "output_type": "execute_result",
          "data": {
            "text/plain": [
              "'pass'"
            ]
          },
          "metadata": {
            "tags": []
          },
          "execution_count": 8
        }
      ]
    },
    {
      "cell_type": "markdown",
      "metadata": {
        "id": "1YgtZmze9YsN",
        "colab_type": "text"
      },
      "source": [
        "### Preprocessing"
      ]
    },
    {
      "cell_type": "code",
      "metadata": {
        "id": "BygXxWjrrwQ8",
        "colab_type": "code",
        "colab": {
          "base_uri": "https://localhost:8080/",
          "height": 34
        },
        "outputId": "1fe11a97-d5cb-43ef-c5cb-516156378917"
      },
      "source": [
        "stemmer.stem('globalization')"
      ],
      "execution_count": null,
      "outputs": [
        {
          "output_type": "execute_result",
          "data": {
            "text/plain": [
              "'global'"
            ]
          },
          "metadata": {
            "tags": []
          },
          "execution_count": 9
        }
      ]
    },
    {
      "cell_type": "code",
      "metadata": {
        "id": "uthhYKDCrwRA",
        "colab_type": "code",
        "colab": {}
      },
      "source": [
        "def lemmatize_stemize(text):\n",
        "    '''reutrns stemized  after lemmatized of word'''\n",
        "    return stemmer.stem(WordNetLemmatizer().lemmatize(text, pos='v'))\n",
        "\n",
        "def preprocess(text):\n",
        "    '''returns tokenized text after removing stopwords and non stopwords length of less than 3 will be discarded'''\n",
        "    result=[]\n",
        "    for token in simple_preprocess(text):\n",
        "        if token not in STOPWORDS and len(token)>3:\n",
        "            result.append(lemmatize_stemize(token))\n",
        "    return result"
      ],
      "execution_count": 17,
      "outputs": []
    },
    {
      "cell_type": "code",
      "metadata": {
        "id": "PDhOhAlwrwRE",
        "colab_type": "code",
        "colab": {
          "base_uri": "https://localhost:8080/",
          "height": 306
        },
        "outputId": "cd050219-654d-4b46-a633-58be4c7c4bc2"
      },
      "source": [
        "# example \n",
        "eg='''worldcom ex-boss launches defence lawyers defending former worldcom chief \n",
        "bernie ebbers against a battery of fraud charges have called a company whistleblower as their first witness'''\n",
        "preprocess(eg)"
      ],
      "execution_count": null,
      "outputs": [
        {
          "output_type": "execute_result",
          "data": {
            "text/plain": [
              "['worldcom',\n",
              " 'boss',\n",
              " 'launch',\n",
              " 'defenc',\n",
              " 'lawyer',\n",
              " 'defend',\n",
              " 'worldcom',\n",
              " 'chief',\n",
              " 'berni',\n",
              " 'ebber',\n",
              " 'batteri',\n",
              " 'fraud',\n",
              " 'charg',\n",
              " 'call',\n",
              " 'compani',\n",
              " 'whistleblow',\n",
              " 'wit']"
            ]
          },
          "metadata": {
            "tags": []
          },
          "execution_count": 11
        }
      ]
    },
    {
      "cell_type": "code",
      "metadata": {
        "id": "pXyga0jFrwRI",
        "colab_type": "code",
        "colab": {}
      },
      "source": [
        "processed_docs = documents['Text'].map(preprocess)"
      ],
      "execution_count": 18,
      "outputs": []
    },
    {
      "cell_type": "code",
      "metadata": {
        "id": "_vWsuvhGrwRM",
        "colab_type": "code",
        "colab": {
          "base_uri": "https://localhost:8080/",
          "height": 119
        },
        "outputId": "01dda2a6-24fc-4305-8197-9ca3173f75b7"
      },
      "source": [
        "processed_docs[:5]"
      ],
      "execution_count": null,
      "outputs": [
        {
          "output_type": "execute_result",
          "data": {
            "text/plain": [
              "0    [worldcom, boss, launch, defenc, lawyer, defen...\n",
              "1    [german, busi, confid, slide, german, busi, co...\n",
              "2    [poll, indic, econom, gloom, citizen, major, n...\n",
              "3    [lifestyl, govern, mobil, choic, faster, bette...\n",
              "4    [enron, boss, payout, eighteen, enron, directo...\n",
              "Name: Text, dtype: object"
            ]
          },
          "metadata": {
            "tags": []
          },
          "execution_count": 13
        }
      ]
    },
    {
      "cell_type": "code",
      "metadata": {
        "id": "MuTSnE9hrwRQ",
        "colab_type": "code",
        "colab": {}
      },
      "source": [
        "dic=Dictionary(processed_docs)"
      ],
      "execution_count": 19,
      "outputs": []
    },
    {
      "cell_type": "code",
      "metadata": {
        "id": "cqFpqQ0ZrwRU",
        "colab_type": "code",
        "colab": {
          "base_uri": "https://localhost:8080/",
          "height": 204
        },
        "outputId": "ba76755c-3a40-48f5-f74e-a2b2ddd94719"
      },
      "source": [
        "count=0\n",
        "for key, value in dic.iteritems():\n",
        "    print(key, value)\n",
        "    count+=1\n",
        "    if count > 10: break"
      ],
      "execution_count": 26,
      "outputs": [
        {
          "output_type": "stream",
          "text": [
            "0 account\n",
            "1 adjust\n",
            "2 agre\n",
            "3 alert\n",
            "4 andersen\n",
            "5 answer\n",
            "6 approv\n",
            "7 argu\n",
            "8 arthur\n",
            "9 audit\n",
            "10 auditor\n"
          ],
          "name": "stdout"
        }
      ]
    },
    {
      "cell_type": "markdown",
      "metadata": {
        "id": "q7l7aqBlrwRY",
        "colab_type": "text"
      },
      "source": [
        "### Bag of Words on preprocessed documents"
      ]
    },
    {
      "cell_type": "code",
      "metadata": {
        "id": "gdqQPwqBrwRY",
        "colab_type": "code",
        "colab": {
          "base_uri": "https://localhost:8080/",
          "height": 187
        },
        "outputId": "69fe7644-20cd-411f-c842-6011a4fb46aa"
      },
      "source": [
        "#dic.filter_extremes()\n",
        "bow=[dic.doc2bow(doc) for doc in processed_docs]\n",
        "bow[0][:10]\n",
        "# word with token_id 0 appears 7 times in document"
      ],
      "execution_count": 44,
      "outputs": [
        {
          "output_type": "execute_result",
          "data": {
            "text/plain": [
              "[(0, 7),\n",
              " (1, 1),\n",
              " (2, 1),\n",
              " (3, 2),\n",
              " (4, 2),\n",
              " (5, 1),\n",
              " (6, 1),\n",
              " (7, 2),\n",
              " (8, 1),\n",
              " (9, 1)]"
            ]
          },
          "metadata": {
            "tags": []
          },
          "execution_count": 44
        }
      ]
    },
    {
      "cell_type": "markdown",
      "metadata": {
        "id": "ELN73QBUrwRd",
        "colab_type": "text"
      },
      "source": [
        "### TF-IDF"
      ]
    },
    {
      "cell_type": "code",
      "metadata": {
        "id": "_O3AbRaarwRe",
        "colab_type": "code",
        "colab": {}
      },
      "source": [
        "from gensim import models\n",
        "tfidf = models.TfidfModel(bow)"
      ],
      "execution_count": 45,
      "outputs": []
    },
    {
      "cell_type": "code",
      "metadata": {
        "id": "zouloBjCrwRi",
        "colab_type": "code",
        "colab": {}
      },
      "source": [
        "corpus_tfidf = tfidf[bow]"
      ],
      "execution_count": 46,
      "outputs": []
    },
    {
      "cell_type": "code",
      "metadata": {
        "id": "rjEU3-0PrwRm",
        "colab_type": "code",
        "colab": {
          "base_uri": "https://localhost:8080/",
          "height": 1000
        },
        "outputId": "c6caaa5e-0731-45d3-92ac-f44d1a81c96f"
      },
      "source": [
        "from pprint import pprint\n",
        "for doc in corpus_tfidf:\n",
        "    pprint(doc)\n",
        "    break"
      ],
      "execution_count": 47,
      "outputs": [
        {
          "output_type": "stream",
          "text": [
            "[(0, 0.2230970706404005),\n",
            " (1, 0.05808478262058561),\n",
            " (2, 0.0312761860906699),\n",
            " (3, 0.11328109777342148),\n",
            " (4, 0.17174588526816054),\n",
            " (5, 0.04515942803354067),\n",
            " (6, 0.042375375878963124),\n",
            " (7, 0.06963857504481114),\n",
            " (8, 0.07160776962633265),\n",
            " (9, 0.05970999099195468),\n",
            " (10, 0.12747453181390211),\n",
            " (11, 0.047302942377266295),\n",
            " (12, 0.058871976362783025),\n",
            " (13, 0.06787229845321543),\n",
            " (14, 0.03444289247127546),\n",
            " (15, 0.03456714911371667),\n",
            " (16, 0.054159750123973095),\n",
            " (17, 0.02544257038084304),\n",
            " (18, 0.07397516399970232),\n",
            " (19, 0.022227503720700488),\n",
            " (20, 0.08917587194902346),\n",
            " (21, 0.07145208602842192),\n",
            " (22, 0.05028390223179893),\n",
            " (23, 0.039523559874261587),\n",
            " (24, 0.04332013572506785),\n",
            " (25, 0.03769358992787368),\n",
            " (26, 0.06260744753590024),\n",
            " (27, 0.04332013572506785),\n",
            " (28, 0.05114987105916515),\n",
            " (29, 0.2238980792753499),\n",
            " (30, 0.08587294263408027),\n",
            " (31, 0.02507677942997257),\n",
            " (32, 0.041283580141366516),\n",
            " (33, 0.03383884309170826),\n",
            " (34, 0.024897677003576164),\n",
            " (35, 0.0649748419092699),\n",
            " (36, 0.02751651226367456),\n",
            " (37, 0.03547192337604729),\n",
            " (38, 0.4644004309631221),\n",
            " (39, 0.03734034901522101),\n",
            " (40, 0.05028390223179893),\n",
            " (41, 0.03718668189577523),\n",
            " (42, 0.042149548968732735),\n",
            " (43, 0.061568115385013916),\n",
            " (44, 0.04615035201494676),\n",
            " (45, 0.03718668189577523),\n",
            " (46, 0.03098868976964505),\n",
            " (47, 0.0401092812537756),\n",
            " (48, 0.021568717222530436),\n",
            " (49, 0.1829464869043449),\n",
            " (50, 0.03395742583410452),\n",
            " (51, 0.03914734016792126),\n",
            " (52, 0.04433906768315423),\n",
            " (53, 0.047302942377266295),\n",
            " (54, 0.030251770334354774),\n",
            " (55, 0.047302942377266295),\n",
            " (56, 0.045736621726086224),\n",
            " (57, 0.023388075968528037),\n",
            " (58, 0.06787229845321543),\n",
            " (59, 0.04634067110565342),\n",
            " (60, 0.061568115385013916),\n",
            " (61, 0.019109880780783076),\n",
            " (62, 0.02930229819640146),\n",
            " (63, 0.13145882883851398),\n",
            " (64, 0.042839165182140676),\n",
            " (65, 0.07961611779398918),\n",
            " (66, 0.05256779329458149),\n",
            " (67, 0.07687262054364785),\n",
            " (68, 0.06104647556765833),\n",
            " (69, 0.036589578074034124),\n",
            " (70, 0.054159750123973095),\n",
            " (71, 0.08763921922567598),\n",
            " (72, 0.023817362009473972),\n",
            " (73, 0.05808478262058561),\n",
            " (74, 0.09974330854470122),\n",
            " (75, 0.03372133351101733),\n",
            " (76, 0.031972851555090415),\n",
            " (77, 0.0408713321819182),\n",
            " (78, 0.030251770334354774),\n",
            " (79, 0.008706697687792008),\n",
            " (80, 0.051605522022968635),\n",
            " (81, 0.04987165427235061),\n",
            " (82, 0.032075498097905795),\n",
            " (83, 0.04407674118445951),\n",
            " (84, 0.02569228423158516),\n",
            " (85, 0.03547192337604729),\n",
            " (86, 0.11194903963767495),\n",
            " (87, 0.042839165182140676),\n",
            " (88, 0.0490844605301532),\n",
            " (89, 0.03132466187915107),\n",
            " (90, 0.05597451981883748),\n",
            " (91, 0.06373726590695106),\n",
            " (92, 0.07687262054364785),\n",
            " (93, 0.03444289247127546),\n",
            " (94, 0.07160776962633265),\n",
            " (95, 0.05256779329458149),\n",
            " (96, 0.027589255983601704),\n",
            " (97, 0.033149226878300325),\n",
            " (98, 0.01701101308292227),\n",
            " (99, 0.09487326472451268),\n",
            " (100, 0.10721425089093563),\n",
            " (101, 0.5634670278231021),\n",
            " (102, 0.005427079818609264),\n",
            " (103, 0.03615910594310826)]\n"
          ],
          "name": "stdout"
        }
      ]
    },
    {
      "cell_type": "markdown",
      "metadata": {
        "id": "ErcZEY-D8246",
        "colab_type": "text"
      },
      "source": [
        "### Hyperparameter tuning for optimal no. of Topics using Coherence score"
      ]
    },
    {
      "cell_type": "markdown",
      "metadata": {
        "id": "lDJG3jLB8xuY",
        "colab_type": "text"
      },
      "source": [
        "####  LDA using BOW"
      ]
    },
    {
      "cell_type": "code",
      "metadata": {
        "id": "m8PWAVJGYjt4",
        "colab_type": "code",
        "colab": {
          "base_uri": "https://localhost:8080/",
          "height": 295
        },
        "outputId": "e849e868-9311-4517-f4c6-107c410d6c0d"
      },
      "source": [
        "score=[]\n",
        "model_list=[]\n",
        "for topic in range(2, 7):\n",
        "    model = LdaModel(corpus=bow, num_topics=topic, id2word=dic, passes=10, iterations=100)\n",
        "    cohe = CoherenceModel(model=model, texts=processed_docs)\n",
        "    model_list.append(model)\n",
        "    score.append(cohe.get_coherence())\n",
        "plt.plot(range(2, 7), score)\n",
        "plt.xlabel('no. of topics')\n",
        "plt.ylabel('coherence score')\n",
        "plt.title('Optimal no. of Topics using BOW')\n",
        "plt.show()"
      ],
      "execution_count": 49,
      "outputs": [
        {
          "output_type": "display_data",
          "data": {
            "image/png": "[encoded data removed]",
            "text/plain": [
              "<Figure size 432x288 with 1 Axes>"
            ]
          },
          "metadata": {
            "tags": [],
            "needs_background": "light"
          }
        }
      ]
    },
    {
      "cell_type": "markdown",
      "metadata": {
        "id": "V3SleGdwFSwz",
        "colab_type": "text"
      },
      "source": [
        "##### Plot showing optimal no. of topics can be 4 or 5, since after 5 score is increasing(may have repeated keywords in the topic). we will be using 5 topics"
      ]
    },
    {
      "cell_type": "code",
      "metadata": {
        "id": "qxAD29cQbhlg",
        "colab_type": "code",
        "colab": {
          "base_uri": "https://localhost:8080/",
          "height": 102
        },
        "outputId": "beb4f3dc-6dee-425e-84f7-06fcec2f5496"
      },
      "source": [
        "score"
      ],
      "execution_count": 57,
      "outputs": [
        {
          "output_type": "execute_result",
          "data": {
            "text/plain": [
              "[0.3538619094748582,\n",
              " 0.3577287660444468,\n",
              " 0.451571280057423,\n",
              " 0.451074845573794,\n",
              " 0.49537075555160315]"
            ]
          },
          "metadata": {
            "tags": []
          },
          "execution_count": 57
        }
      ]
    },
    {
      "cell_type": "code",
      "metadata": {
        "id": "PRUlbQtBHMx0",
        "colab_type": "code",
        "colab": {
          "base_uri": "https://localhost:8080/",
          "height": 34
        },
        "outputId": "dd8ef194-99e3-445b-d1dd-841a1a2233f2"
      },
      "source": [
        "score[-2]"
      ],
      "execution_count": 58,
      "outputs": [
        {
          "output_type": "execute_result",
          "data": {
            "text/plain": [
              "0.451074845573794"
            ]
          },
          "metadata": {
            "tags": []
          },
          "execution_count": 58
        }
      ]
    },
    {
      "cell_type": "code",
      "metadata": {
        "id": "7EFJnE_BrwRw",
        "colab_type": "code",
        "colab": {}
      },
      "source": [
        "# we get highest coherence score 0.50 with no. of topics 5 using TF-IDF\n",
        "lda_model=model_list[-2]"
      ],
      "execution_count": 59,
      "outputs": []
    },
    {
      "cell_type": "code",
      "metadata": {
        "id": "PwL_XYjOrwRz",
        "colab_type": "code",
        "colab": {
          "base_uri": "https://localhost:8080/",
          "height": 122
        },
        "outputId": "73c6da96-b265-44de-98f1-a6042cc73676"
      },
      "source": [
        "for idx, topic in lda_model.print_topics(-1, 15):\n",
        "    print('Topic {} : Words : {}'.format(idx, topic))"
      ],
      "execution_count": 60,
      "outputs": [
        {
          "output_type": "stream",
          "text": [
            "Topic 0 : Words : 0.016*\"film\" + 0.012*\"say\" + 0.012*\"best\" + 0.011*\"award\" + 0.008*\"star\" + 0.008*\"year\" + 0.006*\"music\" + 0.006*\"actor\" + 0.005*\"includ\" + 0.005*\"director\" + 0.005*\"band\" + 0.004*\"nomin\" + 0.004*\"oscar\" + 0.004*\"british\" + 0.004*\"mail\"\n",
            "Topic 1 : Words : 0.017*\"say\" + 0.008*\"game\" + 0.007*\"play\" + 0.007*\"year\" + 0.006*\"time\" + 0.005*\"england\" + 0.005*\"go\" + 0.005*\"player\" + 0.004*\"tell\" + 0.004*\"blair\" + 0.004*\"come\" + 0.004*\"match\" + 0.004*\"final\" + 0.004*\"labour\" + 0.004*\"think\"\n",
            "Topic 2 : Words : 0.018*\"say\" + 0.010*\"peopl\" + 0.009*\"game\" + 0.007*\"mobil\" + 0.007*\"technolog\" + 0.007*\"phone\" + 0.006*\"music\" + 0.006*\"like\" + 0.005*\"year\" + 0.005*\"servic\" + 0.005*\"digit\" + 0.005*\"user\" + 0.004*\"time\" + 0.004*\"work\" + 0.004*\"firm\"\n",
            "Topic 3 : Words : 0.023*\"say\" + 0.013*\"year\" + 0.006*\"market\" + 0.006*\"world\" + 0.006*\"month\" + 0.005*\"growth\" + 0.005*\"countri\" + 0.005*\"rise\" + 0.004*\"sale\" + 0.004*\"price\" + 0.004*\"economi\" + 0.004*\"bank\" + 0.004*\"compani\" + 0.004*\"firm\" + 0.004*\"expect\"\n",
            "Topic 4 : Words : 0.024*\"say\" + 0.008*\"govern\" + 0.007*\"year\" + 0.006*\"peopl\" + 0.006*\"elect\" + 0.006*\"parti\" + 0.005*\"plan\" + 0.004*\"compani\" + 0.004*\"labour\" + 0.003*\"public\" + 0.003*\"tori\" + 0.003*\"work\" + 0.003*\"countri\" + 0.003*\"minist\" + 0.003*\"tell\"\n"
          ],
          "name": "stdout"
        }
      ]
    },
    {
      "cell_type": "markdown",
      "metadata": {
        "id": "RIN4Os7brwSI",
        "colab_type": "text"
      },
      "source": [
        "### Visualization"
      ]
    },
    {
      "cell_type": "code",
      "metadata": {
        "id": "MwKplVwqtTDZ",
        "colab_type": "code",
        "colab": {
          "base_uri": "https://localhost:8080/",
          "height": 632
        },
        "outputId": "2d5eeb89-9c13-4a13-ee98-c2268ed0e588"
      },
      "source": [
        "!pip install pyLDAvis"
      ],
      "execution_count": 61,
      "outputs": [
        {
          "output_type": "stream",
          "text": [
            "Collecting pyLDAvis\n",
            "\u001b[?25l  Downloading https://files.pythonhosted.org/packages/a5/3a/af82e070a8a96e13217c8f362f9a73e82d61ac8fff3a2561946a97f96266/pyLDAvis-2.1.2.tar.gz (1.6MB)\n",
            "\u001b[K     |████████████████████████████████| 1.6MB 2.8MB/s \n",
            "\u001b[?25hRequirement already satisfied: wheel>=0.23.0 in /usr/local/lib/python3.6/dist-packages (from pyLDAvis) (0.34.2)\n",
            "Requirement already satisfied: numpy>=1.9.2 in /usr/local/lib/python3.6/dist-packages (from pyLDAvis) (1.18.5)\n",
            "Requirement already satisfied: scipy>=0.18.0 in /usr/local/lib/python3.6/dist-packages (from pyLDAvis) (1.4.1)\n",
            "Requirement already satisfied: pandas>=0.17.0 in /usr/local/lib/python3.6/dist-packages (from pyLDAvis) (1.0.5)\n",
            "Requirement already satisfied: joblib>=0.8.4 in /usr/local/lib/python3.6/dist-packages (from pyLDAvis) (0.15.1)\n",
            "Requirement already satisfied: jinja2>=2.7.2 in /usr/local/lib/python3.6/dist-packages (from pyLDAvis) (2.11.2)\n",
            "Requirement already satisfied: numexpr in /usr/local/lib/python3.6/dist-packages (from pyLDAvis) (2.7.1)\n",
            "Requirement already satisfied: pytest in /usr/local/lib/python3.6/dist-packages (from pyLDAvis) (3.6.4)\n",
            "Requirement already satisfied: future in /usr/local/lib/python3.6/dist-packages (from pyLDAvis) (0.16.0)\n",
            "Collecting funcy\n",
            "\u001b[?25l  Downloading https://files.pythonhosted.org/packages/ce/4b/6ffa76544e46614123de31574ad95758c421aae391a1764921b8a81e1eae/funcy-1.14.tar.gz (548kB)\n",
            "\u001b[K     |████████████████████████████████| 552kB 16.5MB/s \n",
            "\u001b[?25hRequirement already satisfied: python-dateutil>=2.6.1 in /usr/local/lib/python3.6/dist-packages (from pandas>=0.17.0->pyLDAvis) (2.8.1)\n",
            "Requirement already satisfied: pytz>=2017.2 in /usr/local/lib/python3.6/dist-packages (from pandas>=0.17.0->pyLDAvis) (2018.9)\n",
            "Requirement already satisfied: MarkupSafe>=0.23 in /usr/local/lib/python3.6/dist-packages (from jinja2>=2.7.2->pyLDAvis) (1.1.1)\n",
            "Requirement already satisfied: pluggy<0.8,>=0.5 in /usr/local/lib/python3.6/dist-packages (from pytest->pyLDAvis) (0.7.1)\n",
            "Requirement already satisfied: more-itertools>=4.0.0 in /usr/local/lib/python3.6/dist-packages (from pytest->pyLDAvis) (8.4.0)\n",
            "Requirement already satisfied: py>=1.5.0 in /usr/local/lib/python3.6/dist-packages (from pytest->pyLDAvis) (1.8.2)\n",
            "Requirement already satisfied: atomicwrites>=1.0 in /usr/local/lib/python3.6/dist-packages (from pytest->pyLDAvis) (1.4.0)\n",
            "Requirement already satisfied: attrs>=17.4.0 in /usr/local/lib/python3.6/dist-packages (from pytest->pyLDAvis) (19.3.0)\n",
            "Requirement already satisfied: setuptools in /usr/local/lib/python3.6/dist-packages (from pytest->pyLDAvis) (47.3.1)\n",
            "Requirement already satisfied: six>=1.10.0 in /usr/local/lib/python3.6/dist-packages (from pytest->pyLDAvis) (1.12.0)\n",
            "Building wheels for collected packages: pyLDAvis, funcy\n",
            "  Building wheel for pyLDAvis (setup.py) ... \u001b[?25l\u001b[?25hdone\n",
            "  Created wheel for pyLDAvis: filename=pyLDAvis-2.1.2-py2.py3-none-any.whl size=97711 sha256=8559c62b08391a080ff35d0f7aff2c60781752ed50c52d0654063ff057cbed8c\n",
            "  Stored in directory: /root/.cache/pip/wheels/98/71/24/513a99e58bb6b8465bae4d2d5e9dba8f0bef8179e3051ac414\n",
            "  Building wheel for funcy (setup.py) ... \u001b[?25l\u001b[?25hdone\n",
            "  Created wheel for funcy: filename=funcy-1.14-py2.py3-none-any.whl size=32042 sha256=f94084d209b9ef7707cf8369ca4281134eaccff87dd7621d0a9b8a136c70c40b\n",
            "  Stored in directory: /root/.cache/pip/wheels/20/5a/d8/1d875df03deae6f178dfdf70238cca33f948ef8a6f5209f2eb\n",
            "Successfully built pyLDAvis funcy\n",
            "Installing collected packages: funcy, pyLDAvis\n",
            "Successfully installed funcy-1.14 pyLDAvis-2.1.2\n"
          ],
          "name": "stdout"
        }
      ]
    },
    {
      "cell_type": "code",
      "metadata": {
        "id": "US2kqkTXrwSK",
        "colab_type": "code",
        "colab": {}
      },
      "source": [
        "import pyLDAvis.gensim\n",
        "pyLDAvis.enable_notebook()"
      ],
      "execution_count": 62,
      "outputs": []
    },
    {
      "cell_type": "code",
      "metadata": {
        "id": "4bMyNkrMrwSQ",
        "colab_type": "code",
        "colab": {
          "base_uri": "https://localhost:8080/",
          "height": 881
        },
        "outputId": "96105c55-c6f0-49d3-df96-581fc6b3776a"
      },
      "source": [
        "pyLDAvis.gensim.prepare(lda_model, bow, dic)"
      ],
      "execution_count": 63,
      "outputs": [
        {
          "output_type": "execute_result",
          "data": {
            "text/html": [
              "\n",
              "<link rel=\"stylesheet\" type=\"text/css\" href=\"https://cdn.rawgit.com/bmabey/pyLDAvis/files/ldavis.v1.0.0.css\">\n",
              "\n",
              "\n",
              "<div id=\"ldavis_el1241398228450751528102090556\"></div>\n",
              "<script type=\"text/javascript\">\n",
              "\n",
              "var ldavis_el1241398228450751528102090556_data = {\"mdsDat\": {\"x\": [-0.059846834778004204, 0.01804727656689836, -0.008213563919419731, -0.10279232343097323, 0.15280544556149883], \"y\": [-0.03953199780601867, -0.10815234921442161, 0.1356274307520647, 0.004469473574788795, 0.00758744269358686], \"topics\": [1, 2, 3, 4, 5], \"cluster\": [1, 1, 1, 1, 1], \"Freq\": [26.67011833190918, 21.934232711791992, 21.486812591552734, 17.652233123779297, 12.256595611572266]}, \"tinfo\": {\"Term\": [\"film\", \"best\", \"award\", \"game\", \"mobil\", \"music\", \"star\", \"technolog\", \"phone\", \"elect\", \"actor\", \"digit\", \"growth\", \"market\", \"player\", \"govern\", \"play\", \"england\", \"user\", \"nomin\", \"band\", \"economi\", \"parti\", \"peopl\", \"softwar\", \"oscar\", \"match\", \"labour\", \"blair\", \"director\", \"kilroy\", \"wage\", \"fiat\", \"worldcom\", \"ebber\", \"glazer\", \"yuko\", \"boers\", \"ukip\", \"verita\", \"referendum\", \"focker\", \"silk\", \"democraci\", \"baikal\", \"pension\", \"euronext\", \"yuganskneftega\", \"niro\", \"khodorkovski\", \"minimum\", \"gazprom\", \"embargo\", \"threshold\", \"turkey\", \"elder\", \"hockney\", \"frankfurt\", \"verizon\", \"jayn\", \"kenteri\", \"taxpay\", \"cairn\", \"ballot\", \"kennedi\", \"council\", \"tax\", \"constitut\", \"parti\", \"elect\", \"parent\", \"dem\", \"fraud\", \"govern\", \"tori\", \"propos\", \"howard\", \"asylum\", \"democrat\", \"fund\", \"polit\", \"plan\", \"local\", \"public\", \"vote\", \"say\", \"court\", \"labour\", \"leader\", \"general\", \"children\", \"peopl\", \"campaign\", \"compani\", \"year\", \"minist\", \"claim\", \"increas\", \"countri\", \"state\", \"spend\", \"britain\", \"work\", \"tell\", \"firm\", \"week\", \"report\", \"time\", \"want\", \"come\", \"take\", \"need\", \"film\", \"number\", \"roddick\", \"nadal\", \"slam\", \"robinson\", \"henman\", \"tenni\", \"tournament\", \"moya\", \"benitez\", \"rugbi\", \"mirza\", \"henson\", \"gara\", \"dallaglio\", \"hodgson\", \"wenger\", \"serena\", \"twickenham\", \"lewsey\", \"scrum\", \"agassi\", \"ruddock\", \"kuznetsova\", \"seed\", \"corri\", \"cueto\", \"davenport\", \"peston\", \"defeat\", \"barkley\", \"patent\", \"gerrard\", \"arsenal\", \"squad\", \"liverpool\", \"captain\", \"match\", \"chelsea\", \"hewitt\", \"coach\", \"england\", \"injuri\", \"ireland\", \"refere\", \"kick\", \"wale\", \"victori\", \"leagu\", \"goal\", \"tour\", \"final\", \"team\", \"play\", \"minut\", \"william\", \"blair\", \"game\", \"brown\", \"player\", \"champion\", \"beat\", \"season\", \"say\", \"open\", \"go\", \"franc\", \"second\", \"time\", \"half\", \"labour\", \"break\", \"tell\", \"year\", \"think\", \"come\", \"nation\", \"good\", \"world\", \"minist\", \"take\", \"week\", \"home\", \"like\", \"gadget\", \"portabl\", \"ipod\", \"yahoo\", \"googl\", \"jeev\", \"devic\", \"rfid\", \"desktop\", \"xbox\", \"gigg\", \"multimedia\", \"millan\", \"nokia\", \"handset\", \"motorola\", \"argonaut\", \"map\", \"jupit\", \"bloglin\", \"navig\", \"compress\", \"keyboard\", \"wireless\", \"consol\", \"nintendo\", \"iptv\", \"lifestyl\", \"browser\", \"megapixel\", \"digit\", \"mobil\", \"machin\", \"technolog\", \"storag\", \"camera\", \"graphic\", \"gamer\", \"appl\", \"softwar\", \"handheld\", \"search\", \"microsoft\", \"download\", \"user\", \"phone\", \"soni\", \"blog\", \"content\", \"onlin\", \"broadband\", \"use\", \"video\", \"virus\", \"imag\", \"program\", \"network\", \"music\", \"game\", \"peopl\", \"consum\", \"websit\", \"like\", \"servic\", \"say\", \"internet\", \"player\", \"firm\", \"work\", \"time\", \"year\", \"play\", \"number\", \"look\", \"world\", \"radcliff\", \"cont\", \"goldsmith\", \"qanta\", \"marsh\", \"currenc\", \"chepkemei\", \"sec\", \"skype\", \"airbus\", \"paula\", \"rupe\", \"saudi\", \"airway\", \"mcilroy\", \"marathon\", \"lanka\", \"deccan\", \"spitzer\", \"trader\", \"eurozon\", \"summari\", \"deaf\", \"morquendi\", \"prix\", \"boe\", \"guerrouj\", \"holm\", \"kenyan\", \"yell\", \"indoor\", \"hunt\", \"aircraft\", \"slowdown\", \"parmalat\", \"airlin\", \"deficit\", \"india\", \"growth\", \"economist\", \"export\", \"profit\", \"indonesia\", \"economi\", \"rat\", \"price\", \"dollar\", \"forecast\", \"reserv\", \"bank\", \"econom\", \"rise\", \"market\", \"quarter\", \"trade\", \"euro\", \"olymp\", \"month\", \"china\", \"year\", \"sale\", \"say\", \"countri\", \"analyst\", \"world\", \"figur\", \"share\", \"demand\", \"fall\", \"expect\", \"compani\", \"firm\", \"report\", \"cost\", \"record\", \"time\", \"govern\", \"million\", \"wolv\", \"mubanga\", \"spammer\", \"osbourn\", \"bafta\", \"lyco\", \"redknapp\", \"hoddl\", \"ossi\", \"monsanto\", \"elgindi\", \"cabir\", \"scholl\", \"drake\", \"screenplay\", \"commodor\", \"actress\", \"poppin\", \"blanchett\", \"junk\", \"capriati\", \"grammi\", \"sunshin\", \"incit\", \"beasti\", \"regga\", \"spywar\", \"accolad\", \"spotless\", \"ozzi\", \"foxx\", \"actor\", \"award\", \"etern\", \"vera\", \"spam\", \"nomin\", \"academi\", \"ceremoni\", \"theatr\", \"staunton\", \"oscar\", \"band\", \"singer\", \"southampton\", \"categori\", \"swank\", \"star\", \"film\", \"best\", \"prize\", \"musician\", \"drama\", \"album\", \"festiv\", \"song\", \"comedi\", \"hollywood\", \"rock\", \"chart\", \"director\", \"mail\", \"music\", \"includ\", \"british\", \"year\", \"say\", \"releas\", \"perform\", \"winner\", \"take\", \"role\", \"work\", \"play\", \"go\", \"time\"], \"Freq\": [821.0, 613.0, 400.0, 988.0, 457.0, 574.0, 394.0, 416.0, 439.0, 560.0, 204.0, 277.0, 291.0, 567.0, 494.0, 792.0, 735.0, 393.0, 296.0, 173.0, 193.0, 300.0, 501.0, 1274.0, 260.0, 163.0, 253.0, 493.0, 390.0, 336.0, 87.05278015136719, 61.246192932128906, 40.77287292480469, 53.295448303222656, 45.52678298950195, 58.836875915527344, 118.42842102050781, 32.63097381591797, 97.68472290039062, 23.926725387573242, 31.527135848999023, 20.95360565185547, 79.99639892578125, 22.794092178344727, 22.78141975402832, 97.54964447021484, 19.8355712890625, 18.881874084472656, 16.985929489135742, 31.14179801940918, 57.44816970825195, 38.552982330322266, 20.68291473388672, 17.797534942626953, 59.89967346191406, 16.82763671875, 14.015118598937988, 15.858708381652832, 21.42933464050293, 13.025485038757324, 40.680938720703125, 25.977083206176758, 24.010740280151367, 38.20767593383789, 91.82408905029297, 155.9817352294922, 91.30386352539062, 56.06989669799805, 392.5560302734375, 431.3612060546875, 92.57694244384766, 66.78157043457031, 88.34675598144531, 543.7778930664062, 239.30120849609375, 140.71807861328125, 167.626953125, 66.78868865966797, 103.99295806884766, 147.33421325683594, 162.0800018310547, 359.7855224609375, 123.2513427734375, 245.13226318359375, 164.86048889160156, 1700.78369140625, 169.17567443847656, 265.5142822265625, 155.76097106933594, 165.07772827148438, 127.4080581665039, 454.02398681640625, 167.7581787109375, 270.9029235839844, 501.3950500488281, 206.63316345214844, 187.0509490966797, 187.86293029785156, 214.12762451171875, 150.64540100097656, 165.43601989746094, 152.66561889648438, 223.37741088867188, 205.17648315429688, 199.43362426757812, 183.3412628173828, 182.7626495361328, 204.72113037109375, 181.91763305664062, 183.74742126464844, 181.263916015625, 173.67214965820312, 169.69496154785156, 166.9336700439453, 87.81140899658203, 53.58315658569336, 67.36968231201172, 82.43995666503906, 39.757293701171875, 52.882266998291016, 56.298709869384766, 28.140792846679688, 35.16978454589844, 111.31299591064453, 21.908523559570312, 29.794384002685547, 42.8660774230957, 36.685707092285156, 41.05180358886719, 48.86841583251953, 20.03899574279785, 20.90153694152832, 20.01726531982422, 30.445178985595703, 24.343839645385742, 18.25046157836914, 18.24669075012207, 72.10508728027344, 19.111818313598633, 18.239961624145508, 29.489864349365234, 16.46744728088379, 92.65148162841797, 18.1829833984375, 50.028358459472656, 34.438194274902344, 102.16510009765625, 64.41918182373047, 76.88664245605469, 62.60190963745117, 225.69078063964844, 132.16334533691406, 47.92362976074219, 142.48292541503906, 319.0665588378906, 144.76539611816406, 177.9268341064453, 65.64157104492188, 92.64932250976562, 185.29067993164062, 111.25162506103516, 102.90174865722656, 125.17047119140625, 115.81187438964844, 218.47821044921875, 196.13133239746094, 401.0028381347656, 151.69898986816406, 121.449462890625, 229.607177734375, 453.2943420410156, 190.94017028808594, 265.8465881347656, 132.1292724609375, 134.2647247314453, 131.9556427001953, 1010.337158203125, 203.853759765625, 280.4781799316406, 147.8782196044922, 203.1736602783203, 328.92559814453125, 165.3503875732422, 206.461181640625, 154.6329803466797, 230.4231719970703, 391.80194091796875, 206.3045196533203, 226.5026397705078, 177.98838806152344, 176.70245361328125, 202.33767700195312, 169.10646057128906, 179.0672607421875, 168.08575439453125, 165.1061553955078, 169.50221252441406, 166.93751525878906, 75.96974182128906, 58.06378936767578, 44.89653396606445, 84.94669342041016, 27.799280166625977, 167.52020263671875, 22.16964340209961, 36.013221740722656, 51.50376892089844, 22.07097053527832, 39.503910064697266, 19.240468978881836, 22.886688232421875, 70.46713256835938, 18.30257797241211, 18.277000427246094, 23.738555908203125, 22.81728172302246, 15.475785255432129, 19.107807159423828, 20.920124053955078, 19.079118728637695, 59.93421173095703, 87.10528564453125, 54.264644622802734, 22.637514114379883, 19.90081024169922, 46.04631042480469, 17.138763427734375, 260.1069030761719, 424.28875732421875, 136.65455627441406, 380.335693359375, 45.843101501464844, 121.63113403320312, 45.754085540771484, 50.9197883605957, 108.81165313720703, 232.84812927246094, 36.871253967285156, 163.0400848388672, 173.06788635253906, 159.94235229492188, 259.2877197265625, 376.2596130371094, 100.35198974609375, 108.54789733886719, 132.7645721435547, 178.64901733398438, 139.6025848388672, 79.79114532470703, 190.30059814453125, 155.13169860839844, 98.13632202148438, 164.47215270996094, 182.2209014892578, 355.1112976074219, 497.7695617675781, 578.3406982421875, 189.27798461914062, 154.88739013671875, 335.19024658203125, 284.6617431640625, 1014.4273681640625, 147.8498077392578, 211.0684356689453, 233.48898315429688, 240.47512817382812, 252.69952392578125, 301.7434387207031, 184.26434326171875, 171.0342559814453, 164.0323486328125, 165.68338012695312, 37.68238067626953, 35.733028411865234, 31.99110984802246, 19.431928634643555, 19.421876907348633, 40.457359313964844, 15.75643253326416, 15.738663673400879, 17.406862258911133, 22.59964370727539, 13.900390625, 29.453533172607422, 16.445581436157227, 15.569496154785156, 18.16795539855957, 35.35860061645508, 30.2132568359375, 11.176687240600586, 11.17244815826416, 15.468945503234863, 19.689367294311523, 11.116362571716309, 10.259406089782715, 10.218626976013184, 12.774696350097656, 24.645462036132812, 9.347976684570312, 58.6313362121582, 9.341408729553223, 9.32325267791748, 55.33506393432617, 95.72123718261719, 25.155946731567383, 29.09573745727539, 24.193387985229492, 84.00891876220703, 85.22764587402344, 120.86112976074219, 237.0186767578125, 57.52875518798828, 90.5958251953125, 163.2609100341797, 28.76700210571289, 200.66676330566406, 120.14820861816406, 201.31973266601562, 134.3900146484375, 64.96348571777344, 44.699031829833984, 194.99588012695312, 155.3488311767578, 223.67205810546875, 288.68524169921875, 117.73847198486328, 144.5548553466797, 109.36550903320312, 91.45128631591797, 262.6398010253906, 115.35941314697266, 590.3424682617188, 209.64535522460938, 1092.3499755859375, 225.88290405273438, 131.6992950439453, 268.1798095703125, 133.89414978027344, 166.66204833984375, 106.7755126953125, 107.70159149169922, 172.04112243652344, 181.06097412109375, 178.0289306640625, 146.12657165527344, 125.6370620727539, 136.17323303222656, 159.7147216796875, 142.65969848632812, 119.40666198730469, 14.58222484588623, 17.26837921142578, 31.80783462524414, 14.530567169189453, 39.04114532470703, 14.506596565246582, 13.574665069580078, 11.696329116821289, 11.67007064819336, 9.809371948242188, 9.792733192443848, 10.678559303283691, 9.782218933105469, 35.500431060791016, 23.016273498535156, 22.999095916748047, 106.98243713378906, 10.546257972717285, 14.940425872802734, 26.26655387878418, 7.874753952026367, 21.836469650268555, 13.13398551940918, 7.8621954917907715, 8.730884552001953, 12.201930046081543, 60.15511703491211, 10.44690227508545, 12.194125175476074, 7.818185806274414, 42.66822052001953, 179.7133331298828, 347.19573974609375, 12.179367065429688, 36.477970123291016, 82.51620483398438, 145.9617919921875, 58.77240753173828, 70.19947814941406, 67.67357635498047, 30.291606903076172, 130.9152374267578, 153.47779846191406, 96.0953140258789, 27.72020721435547, 62.73322677612305, 29.143465042114258, 272.6812744140625, 526.8814697265625, 394.9851989746094, 86.43164825439453, 41.76862716674805, 56.281646728515625, 98.0558090209961, 85.78081512451172, 97.6092300415039, 68.19591522216797, 58.762977600097656, 66.35694122314453, 91.10380554199219, 156.1078338623047, 120.22300720214844, 194.22018432617188, 175.51087951660156, 123.74708557128906, 270.0099182128906, 397.5061950683594, 104.49176025390625, 103.67186737060547, 75.0411605834961, 108.01530456542969, 79.8493881225586, 101.7253189086914, 96.77641296386719, 88.91305541992188, 83.63357543945312], \"Total\": [821.0, 613.0, 400.0, 988.0, 457.0, 574.0, 394.0, 416.0, 439.0, 560.0, 204.0, 277.0, 291.0, 567.0, 494.0, 792.0, 735.0, 393.0, 296.0, 173.0, 193.0, 300.0, 501.0, 1274.0, 260.0, 163.0, 253.0, 493.0, 390.0, 336.0, 88.03590393066406, 62.30085372924805, 41.52975845336914, 54.37635040283203, 46.464725494384766, 60.286251068115234, 121.56110382080078, 33.604164123535156, 100.74240112304688, 24.700815200805664, 32.59601593017578, 21.731924057006836, 83.02230834960938, 23.70366668701172, 23.704374313354492, 101.66932678222656, 20.738542556762695, 19.7469539642334, 17.771814346313477, 32.59492874145508, 60.255615234375, 40.45588302612305, 21.70829200744629, 18.749645233154297, 63.135276794433594, 17.759994506835938, 14.8013277053833, 16.77760887145996, 22.7042179107666, 13.811728477478027, 43.36052322387695, 27.609092712402344, 25.614185333251953, 41.44819259643555, 103.99485778808594, 182.31927490234375, 103.93519592285156, 62.822933197021484, 501.9283142089844, 560.5654296875, 107.93769836425781, 76.37741088867188, 104.24816131591797, 792.2730712890625, 318.5292053222656, 177.0384979248047, 228.42599487304688, 79.07138061523438, 134.06039428710938, 202.9990997314453, 229.9673614501953, 606.930419921875, 168.35897827148438, 395.1174621582031, 246.4940185546875, 5215.40478515625, 265.9140930175781, 493.18402099609375, 246.15802001953125, 268.7707824707031, 186.15272521972656, 1274.4949951171875, 285.7902526855469, 655.2950439453125, 2055.29296875, 455.5833435058594, 395.0604248046875, 398.85797119140625, 544.7333984375, 268.251220703125, 340.56201171875, 285.5850524902344, 709.636962890625, 640.0350341796875, 654.5568237304688, 525.3032836914062, 539.1839599609375, 1029.694580078125, 578.8526000976562, 735.9474487304688, 669.5598754882812, 487.60565185546875, 821.0052490234375, 593.1484985351562, 88.83279418945312, 54.39945983886719, 68.93111419677734, 84.36534881591797, 40.82948303222656, 54.446109771728516, 58.07792663574219, 29.038211822509766, 36.29684829711914, 115.2574462890625, 22.690044403076172, 30.859933853149414, 44.47624588012695, 38.112571716308594, 42.6661376953125, 50.84324645996094, 20.882280349731445, 21.79023551940918, 20.88191032409668, 31.77927589416504, 25.42237091064453, 19.068809509277344, 19.069196701049805, 75.36670684814453, 19.97718620300293, 19.06885528564453, 30.873132705688477, 17.255325317382812, 97.13510131835938, 19.073381423950195, 52.67852783203125, 36.343528747558594, 109.08478546142578, 69.07671356201172, 82.79055786132812, 67.3300552368164, 253.37367248535156, 146.65476989746094, 51.92892837524414, 165.5433349609375, 393.3520812988281, 169.76132202148438, 220.18345642089844, 73.81806182861328, 108.74815368652344, 236.375, 134.21945190429688, 127.01973724365234, 162.3350830078125, 148.68951416015625, 326.4445495605469, 291.31787109375, 735.2516479492188, 218.8609619140625, 164.40289306640625, 390.89276123046875, 988.9292602539062, 310.3953552246094, 494.8586730957031, 188.97183227539062, 199.16360473632812, 195.22727966308594, 5215.40478515625, 403.5041198730469, 712.1414794921875, 238.2054443359375, 426.2581787109375, 1029.694580078125, 304.57586669921875, 493.18402099609375, 270.5720520019531, 640.0350341796875, 2055.29296875, 555.3759155273438, 735.9474487304688, 468.95892333984375, 460.93426513671875, 769.1767578125, 455.5833435058594, 669.5598754882812, 525.3032836914062, 458.0354309082031, 766.0020751953125, 169.1756134033203, 77.42028045654297, 59.261383056640625, 45.88288116455078, 86.97269439697266, 28.669443130493164, 172.9658660888672, 22.937786102294922, 37.273033142089844, 53.48244857788086, 22.934329986572266, 41.07516098022461, 20.067108154296875, 23.885761260986328, 73.5451431274414, 19.111297607421875, 19.109724044799805, 24.833696365356445, 23.884252548217773, 16.24435806274414, 20.071908950805664, 21.985464096069336, 20.05961799621582, 63.01570129394531, 91.60716247558594, 57.24787521362305, 23.90529441833496, 21.030027389526367, 48.75942611694336, 18.158199310302734, 277.8019714355469, 457.79400634765625, 146.24314880371094, 416.4154968261719, 48.69593811035156, 131.85662841796875, 48.69236755371094, 54.35808563232422, 118.5137710571289, 260.3653259277344, 39.163665771484375, 181.4337158203125, 193.07485961914062, 179.22166442871094, 296.6045227050781, 439.3490295410156, 112.83704376220703, 122.98059844970703, 152.7229766845703, 210.48509216308594, 161.41763305664062, 88.94435119628906, 234.44830322265625, 192.78208923339844, 114.45901489257812, 212.91281127929688, 243.13436889648438, 574.4478759765625, 988.9292602539062, 1274.4949951171875, 286.8933410644531, 224.9304656982422, 766.0020751953125, 592.6473388671875, 5215.40478515625, 218.51405334472656, 494.8586730957031, 654.5568237304688, 709.636962890625, 1029.694580078125, 2055.29296875, 735.2516479492188, 593.1484985351562, 487.52435302734375, 769.1767578125, 38.59378433227539, 36.773780822753906, 33.095603942871094, 20.228939056396484, 20.229249954223633, 42.324092864990234, 16.556371688842773, 16.55716323852539, 18.407001495361328, 23.921424865722656, 14.720510482788086, 31.3089542388916, 17.484073638916016, 16.563865661621094, 19.334718704223633, 37.66749572753906, 32.22620391845703, 11.965519905090332, 11.965116500854492, 16.572912216186523, 21.164758682250977, 11.968222618103027, 11.047234535217285, 11.05046558380127, 13.816849708557129, 26.697811126708984, 10.12865924835205, 63.54582595825195, 10.128725051879883, 10.128870964050293, 60.729095458984375, 106.09519958496094, 27.649219512939453, 32.260616302490234, 26.723596572875977, 97.14197540283203, 99.65220642089844, 143.61529541015625, 291.9199523925781, 66.64945983886719, 108.5479507446289, 206.9518585205078, 32.311344146728516, 300.1029357910156, 166.98065185546875, 303.7935485839844, 193.59585571289062, 83.84481811523438, 54.51206970214844, 315.1821594238281, 254.28184509277344, 405.669677734375, 567.0606079101562, 185.48800659179688, 239.7496337890625, 169.19216918945312, 142.22877502441406, 595.2109375, 201.2503662109375, 2055.29296875, 471.1226806640625, 5215.40478515625, 544.7333984375, 253.78778076171875, 769.1767578125, 268.3910217285156, 398.1526184082031, 188.8750457763672, 192.07113647460938, 485.44012451171875, 655.2950439453125, 654.5568237304688, 539.1839599609375, 327.91802978515625, 441.2577209472656, 1029.694580078125, 792.2730712890625, 420.06378173828125, 15.390111923217773, 18.265172958374023, 33.647056579589844, 15.385441780090332, 41.36001968383789, 15.386585235595703, 14.421892166137695, 12.501622200012207, 12.500499725341797, 10.575399398803711, 10.574806213378906, 11.534271240234375, 10.575176239013672, 38.52516555786133, 25.019479751586914, 25.009981155395508, 116.60792541503906, 11.5341796875, 16.367462158203125, 28.81660270690918, 8.648828506469727, 24.001558303833008, 14.43979549407959, 8.64851188659668, 9.60519790649414, 13.444852828979492, 66.3286361694336, 11.528244972229004, 13.476398468017578, 8.645642280578613, 47.2528076171875, 204.07901000976562, 400.59490966796875, 13.476851463317871, 41.301063537597656, 96.10430908203125, 173.7209014892578, 68.51693725585938, 82.87820434570312, 79.91868591308594, 34.73699188232422, 163.39158630371094, 193.52639770507812, 118.68305206298828, 31.649520874023438, 77.64322662353516, 33.7829475402832, 394.77655029296875, 821.0052490234375, 613.9014282226562, 116.42683410644531, 50.943603515625, 72.14541625976562, 137.82952880859375, 120.69367980957031, 142.00611877441406, 92.8333740234375, 78.00273132324219, 91.42787170410156, 150.40402221679688, 336.576904296875, 234.8719482421875, 574.4478759765625, 554.9317016601562, 337.9253234863281, 2055.29296875, 5215.40478515625, 274.8897705078125, 289.29241943359375, 155.31280517578125, 669.5598754882812, 202.74127197265625, 709.636962890625, 735.2516479492188, 712.1414794921875, 1029.694580078125], \"Category\": [\"Default\", \"Default\", \"Default\", \"Default\", \"Default\", \"Default\", \"Default\", \"Default\", \"Default\", \"Default\", \"Default\", \"Default\", \"Default\", \"Default\", \"Default\", \"Default\", \"Default\", \"Default\", \"Default\", \"Default\", \"Default\", \"Default\", \"Default\", \"Default\", \"Default\", \"Default\", \"Default\", \"Default\", \"Default\", \"Default\", \"Topic1\", \"Topic1\", \"Topic1\", \"Topic1\", \"Topic1\", \"Topic1\", \"Topic1\", \"Topic1\", \"Topic1\", \"Topic1\", \"Topic1\", \"Topic1\", \"Topic1\", \"Topic1\", \"Topic1\", \"Topic1\", \"Topic1\", \"Topic1\", \"Topic1\", \"Topic1\", \"Topic1\", \"Topic1\", \"Topic1\", \"Topic1\", \"Topic1\", \"Topic1\", \"Topic1\", \"Topic1\", \"Topic1\", \"Topic1\", \"Topic1\", \"Topic1\", \"Topic1\", \"Topic1\", \"Topic1\", \"Topic1\", \"Topic1\", \"Topic1\", \"Topic1\", \"Topic1\", \"Topic1\", \"Topic1\", \"Topic1\", \"Topic1\", \"Topic1\", \"Topic1\", \"Topic1\", \"Topic1\", \"Topic1\", \"Topic1\", \"Topic1\", \"Topic1\", \"Topic1\", \"Topic1\", \"Topic1\", \"Topic1\", \"Topic1\", \"Topic1\", \"Topic1\", \"Topic1\", \"Topic1\", \"Topic1\", \"Topic1\", \"Topic1\", \"Topic1\", \"Topic1\", \"Topic1\", \"Topic1\", \"Topic1\", \"Topic1\", \"Topic1\", \"Topic1\", \"Topic1\", \"Topic1\", \"Topic1\", \"Topic1\", \"Topic1\", \"Topic1\", \"Topic1\", \"Topic1\", \"Topic1\", \"Topic1\", \"Topic1\", \"Topic1\", \"Topic2\", \"Topic2\", \"Topic2\", \"Topic2\", \"Topic2\", \"Topic2\", \"Topic2\", \"Topic2\", \"Topic2\", \"Topic2\", \"Topic2\", \"Topic2\", \"Topic2\", \"Topic2\", \"Topic2\", \"Topic2\", \"Topic2\", \"Topic2\", \"Topic2\", \"Topic2\", \"Topic2\", \"Topic2\", \"Topic2\", \"Topic2\", \"Topic2\", \"Topic2\", \"Topic2\", \"Topic2\", \"Topic2\", \"Topic2\", \"Topic2\", \"Topic2\", \"Topic2\", \"Topic2\", \"Topic2\", \"Topic2\", \"Topic2\", \"Topic2\", \"Topic2\", \"Topic2\", \"Topic2\", \"Topic2\", \"Topic2\", \"Topic2\", \"Topic2\", \"Topic2\", \"Topic2\", \"Topic2\", \"Topic2\", \"Topic2\", \"Topic2\", \"Topic2\", \"Topic2\", \"Topic2\", \"Topic2\", \"Topic2\", \"Topic2\", \"Topic2\", \"Topic2\", \"Topic2\", \"Topic2\", \"Topic2\", \"Topic2\", \"Topic2\", \"Topic2\", \"Topic2\", \"Topic2\", \"Topic2\", \"Topic2\", \"Topic2\", \"Topic2\", \"Topic2\", \"Topic2\", \"Topic2\", \"Topic2\", \"Topic2\", \"Topic2\", \"Topic2\", \"Topic2\", \"Topic2\", \"Topic2\", \"Topic2\", \"Topic2\", \"Topic3\", \"Topic3\", \"Topic3\", \"Topic3\", \"Topic3\", \"Topic3\", \"Topic3\", \"Topic3\", \"Topic3\", \"Topic3\", \"Topic3\", \"Topic3\", \"Topic3\", \"Topic3\", \"Topic3\", \"Topic3\", \"Topic3\", \"Topic3\", \"Topic3\", \"Topic3\", \"Topic3\", \"Topic3\", \"Topic3\", \"Topic3\", \"Topic3\", \"Topic3\", \"Topic3\", \"Topic3\", \"Topic3\", \"Topic3\", \"Topic3\", \"Topic3\", \"Topic3\", \"Topic3\", \"Topic3\", \"Topic3\", \"Topic3\", \"Topic3\", \"Topic3\", \"Topic3\", \"Topic3\", \"Topic3\", \"Topic3\", \"Topic3\", \"Topic3\", \"Topic3\", \"Topic3\", \"Topic3\", \"Topic3\", \"Topic3\", \"Topic3\", \"Topic3\", \"Topic3\", \"Topic3\", \"Topic3\", \"Topic3\", \"Topic3\", \"Topic3\", \"Topic3\", \"Topic3\", \"Topic3\", \"Topic3\", \"Topic3\", \"Topic3\", \"Topic3\", \"Topic3\", \"Topic3\", \"Topic3\", \"Topic3\", \"Topic3\", \"Topic3\", \"Topic3\", \"Topic3\", \"Topic3\", \"Topic3\", \"Topic4\", \"Topic4\", \"Topic4\", \"Topic4\", \"Topic4\", \"Topic4\", \"Topic4\", \"Topic4\", \"Topic4\", \"Topic4\", \"Topic4\", \"Topic4\", \"Topic4\", \"Topic4\", \"Topic4\", \"Topic4\", \"Topic4\", \"Topic4\", \"Topic4\", \"Topic4\", \"Topic4\", \"Topic4\", \"Topic4\", \"Topic4\", \"Topic4\", \"Topic4\", \"Topic4\", \"Topic4\", \"Topic4\", \"Topic4\", \"Topic4\", \"Topic4\", \"Topic4\", \"Topic4\", \"Topic4\", \"Topic4\", \"Topic4\", \"Topic4\", \"Topic4\", \"Topic4\", \"Topic4\", \"Topic4\", \"Topic4\", \"Topic4\", \"Topic4\", \"Topic4\", \"Topic4\", \"Topic4\", \"Topic4\", \"Topic4\", \"Topic4\", \"Topic4\", \"Topic4\", \"Topic4\", \"Topic4\", \"Topic4\", \"Topic4\", \"Topic4\", \"Topic4\", \"Topic4\", \"Topic4\", \"Topic4\", \"Topic4\", \"Topic4\", \"Topic4\", \"Topic4\", \"Topic4\", \"Topic4\", \"Topic4\", \"Topic4\", \"Topic4\", \"Topic4\", \"Topic4\", \"Topic4\", \"Topic4\", \"Topic4\", \"Topic4\", \"Topic4\", \"Topic5\", \"Topic5\", \"Topic5\", \"Topic5\", \"Topic5\", \"Topic5\", \"Topic5\", \"Topic5\", \"Topic5\", \"Topic5\", \"Topic5\", \"Topic5\", \"Topic5\", \"Topic5\", \"Topic5\", \"Topic5\", \"Topic5\", \"Topic5\", \"Topic5\", \"Topic5\", \"Topic5\", \"Topic5\", \"Topic5\", \"Topic5\", \"Topic5\", \"Topic5\", \"Topic5\", \"Topic5\", \"Topic5\", \"Topic5\", \"Topic5\", \"Topic5\", \"Topic5\", \"Topic5\", \"Topic5\", \"Topic5\", \"Topic5\", \"Topic5\", \"Topic5\", \"Topic5\", \"Topic5\", \"Topic5\", \"Topic5\", \"Topic5\", \"Topic5\", \"Topic5\", \"Topic5\", \"Topic5\", \"Topic5\", \"Topic5\", \"Topic5\", \"Topic5\", \"Topic5\", \"Topic5\", \"Topic5\", \"Topic5\", \"Topic5\", \"Topic5\", \"Topic5\", \"Topic5\", \"Topic5\", \"Topic5\", \"Topic5\", \"Topic5\", \"Topic5\", \"Topic5\", \"Topic5\", \"Topic5\", \"Topic5\", \"Topic5\", \"Topic5\", \"Topic5\", \"Topic5\", \"Topic5\", \"Topic5\", \"Topic5\"], \"logprob\": [30.0, 29.0, 28.0, 27.0, 26.0, 25.0, 24.0, 23.0, 22.0, 21.0, 20.0, 19.0, 18.0, 17.0, 16.0, 15.0, 14.0, 13.0, 12.0, 11.0, 10.0, 9.0, 8.0, 7.0, 6.0, 5.0, 4.0, 3.0, 2.0, 1.0, -6.699399948120117, -7.051000118255615, -7.457900047302246, -7.190100193023682, -7.347599983215332, -7.09119987487793, -6.391600131988525, -7.680699825286865, -6.584199905395508, -7.990900039672852, -7.715099811553955, -8.123600006103516, -6.783999919891357, -8.039400100708008, -8.039999961853027, -6.585599899291992, -8.178500175476074, -8.227700233459473, -8.333600044250488, -7.727399826049805, -7.115099906921387, -7.513899803161621, -8.13659954071045, -8.28689956665039, -7.073299884796143, -8.342900276184082, -8.525799751281738, -8.402199745178223, -8.101200103759766, -8.598999977111816, -7.46019983291626, -7.908699989318848, -7.987400054931641, -7.522900104522705, -6.646100044250488, -6.116199970245361, -6.651700019836426, -7.1392998695373535, -5.193299770355225, -5.098999977111816, -6.637899875640869, -6.9644999504089355, -6.684700012207031, -4.867400169372559, -5.688199996948242, -6.219200134277344, -6.0441999435424805, -6.964399814605713, -6.521599769592285, -6.1732001304626465, -6.0777997970581055, -5.280399799346924, -6.3516998291015625, -5.664100170135498, -6.060800075531006, -3.727099895477295, -6.034999847412109, -5.5843000411987305, -6.117599964141846, -6.059500217437744, -6.31850004196167, -5.047800064086914, -6.043399810791016, -5.564199924468994, -4.948500156402588, -5.835000038146973, -5.934599876403809, -5.930200099945068, -5.7993998527526855, -6.151000022888184, -6.057400226593018, -6.137700080871582, -5.7571001052856445, -5.842100143432617, -5.870500087738037, -5.954599857330322, -5.957699775695801, -5.844299793243408, -5.962399959564209, -5.952400207519531, -5.966000080108643, -6.008800029754639, -6.031899929046631, -6.048299789428711, -6.495200157165527, -6.989200115203857, -6.760200023651123, -6.5584001541137695, -7.287600040435791, -7.002399921417236, -6.939799785614014, -7.633200168609619, -7.410299777984619, -6.2581000328063965, -7.883600234985352, -7.576099872589111, -7.212399959564209, -7.368100166320801, -7.2555999755859375, -7.081299781799316, -7.972799777984619, -7.930600166320801, -7.973800182342529, -7.554500102996826, -7.778200149536133, -8.066200256347656, -8.066499710083008, -6.692299842834473, -8.020099639892578, -8.066800117492676, -7.586400032043457, -8.169099807739258, -6.4415998458862305, -8.069999694824219, -7.0578999519348145, -7.431300163269043, -6.343900203704834, -6.804999828338623, -6.6280999183654785, -6.833600044250488, -5.551300048828125, -6.086400032043457, -7.100800037384033, -6.011199951171875, -5.204999923706055, -5.995299816131592, -5.789100170135498, -6.786200046539307, -6.4415998458862305, -5.748499870300293, -6.258600234985352, -6.336699962615967, -6.1407999992370605, -6.218500137329102, -5.583799839019775, -5.691699981689453, -4.976500034332275, -5.948500156402588, -6.170899868011475, -5.53410005569458, -4.853899955749512, -5.718500137329102, -5.387499809265137, -6.086699962615967, -6.0706000328063965, -6.0879998207092285, -4.0524001121521, -5.6529998779296875, -5.333899974822998, -5.974100112915039, -5.656400203704834, -5.174600124359131, -5.862400054931641, -5.6402997970581055, -5.9293999671936035, -5.5304999351501465, -4.99970006942749, -5.64109992980957, -5.547699928283691, -5.788700103759766, -5.796000003814697, -5.6605000495910645, -5.839900016784668, -5.782700061798096, -5.8460001945495605, -5.863900184631348, -5.837600231170654, -5.832200050354004, -6.619500160217285, -6.888299942016602, -7.145500183105469, -6.507800102233887, -7.624800205230713, -5.828700065612793, -7.851099967956543, -7.365900039672852, -7.008200168609619, -7.855599880218506, -7.273399829864502, -7.992800235748291, -7.819300174713135, -6.694699764251709, -8.042799949645996, -8.04419994354248, -7.782700061798096, -7.822299957275391, -8.210599899291992, -7.99970006942749, -7.90910005569458, -8.001199722290039, -6.856599807739258, -6.482699871063232, -6.955999851226807, -7.8302001953125, -7.959099769592285, -7.120200157165527, -8.108499526977539, -5.388700008392334, -4.899400234222412, -6.032400131225586, -5.008800029754639, -7.124599933624268, -6.148799896240234, -7.1265997886657715, -7.019599914550781, -6.260200023651123, -5.4994001388549805, -7.342400074005127, -5.855800151824951, -5.79610013961792, -5.875, -5.391900062561035, -5.019599914550781, -6.341100215911865, -6.262599945068359, -6.061299800872803, -5.764400005340576, -6.011000156402588, -6.570400238037109, -5.701200008392334, -5.905600070953369, -6.363500118255615, -5.847099781036377, -5.74459981918335, -5.077400207519531, -4.739699840545654, -4.589700222015381, -5.706600189208984, -5.907100200653076, -5.1350998878479, -5.298500061035156, -4.0278000831604, -5.95359992980957, -5.597599983215332, -5.496699810028076, -5.467199802398682, -5.417600154876709, -5.240300178527832, -5.733500003814697, -5.808000087738037, -5.849800109863281, -5.839799880981445, -7.124100208282471, -7.177199840545654, -7.287799835205078, -7.786300182342529, -7.786900043487549, -7.052999973297119, -7.995999813079834, -7.997099876403809, -7.896399974822998, -7.635300159454346, -8.121299743652344, -7.3703999519348145, -7.953199863433838, -8.00790023803711, -7.853600025177002, -7.187699794769287, -7.34499979019165, -8.339400291442871, -8.339799880981445, -8.014399528503418, -7.773200035095215, -8.344799995422363, -8.425100326538086, -8.428999900817871, -8.20580005645752, -7.548699855804443, -8.518099784851074, -6.682000160217285, -8.518799781799316, -8.520700454711914, -6.739799976348877, -6.191800117492676, -7.528200149536133, -7.382699966430664, -7.567200183868408, -6.322299957275391, -6.3078999519348145, -5.958600044250488, -5.285099983215332, -6.701000213623047, -6.246799945831299, -5.657899856567383, -7.394000053405762, -5.451600074768066, -5.9644999504089355, -5.448400020599365, -5.852499961853027, -6.579400062561035, -6.9532999992370605, -5.480299949645996, -5.707600116729736, -5.343100070953369, -5.087900161743164, -5.984799861907959, -5.779600143432617, -6.058599948883057, -6.237400054931641, -5.182499885559082, -6.005199909210205, -4.372600078582764, -5.407800197601318, -3.757200002670288, -5.333199977874756, -5.872700214385986, -5.161600112915039, -5.856200218200684, -5.63730001449585, -6.082499980926514, -6.07390022277832, -5.605500221252441, -5.5543999671936035, -5.571300029754639, -5.768799781799316, -5.919899940490723, -5.839300155639648, -5.679900169372559, -5.792799949645996, -5.970699787139893, -7.708700180053711, -7.539599895477295, -6.928699970245361, -7.712200164794922, -6.723800182342529, -7.713900089263916, -7.780300140380859, -7.929200172424316, -7.931399822235107, -8.10509967803955, -8.106800079345703, -8.0201997756958, -8.10789966583252, -6.818900108337402, -7.252299785614014, -7.252999782562256, -5.715799808502197, -8.032699584960938, -7.6844000816345215, -7.120200157165527, -8.324799537658691, -7.304900169372559, -7.813300132751465, -8.326399803161621, -8.221599578857422, -7.886899948120117, -6.291500091552734, -8.042200088500977, -7.887499809265137, -8.331999778747559, -6.635000228881836, -5.1971001625061035, -4.538599967956543, -7.888700008392334, -6.7916998863220215, -5.975500106811523, -5.405099868774414, -6.314799785614014, -6.1371002197265625, -6.173799991607666, -6.97760009765625, -5.513899803161621, -5.354899883270264, -5.8231000900268555, -7.066299915313721, -6.249599933624268, -7.016200065612793, -4.780200004577637, -4.121500015258789, -4.409599781036377, -5.929100036621094, -6.656300067901611, -6.358099937438965, -5.8028998374938965, -5.936699867248535, -5.807499885559082, -6.166100025177002, -6.314899921417236, -6.193399906158447, -5.876500129699707, -5.337900161743164, -5.599100112915039, -5.119500160217285, -5.220799922943115, -5.570199966430664, -4.789999961853027, -4.403200149536133, -5.739299774169922, -5.747200012207031, -6.070400238037109, -5.706200122833252, -6.008299827575684, -5.766200065612793, -5.816100120544434, -5.9008002281188965, -5.961999893188477], \"loglift\": [30.0, 29.0, 28.0, 27.0, 26.0, 25.0, 24.0, 23.0, 22.0, 21.0, 20.0, 19.0, 18.0, 17.0, 16.0, 15.0, 14.0, 13.0, 12.0, 11.0, 10.0, 9.0, 8.0, 7.0, 6.0, 5.0, 4.0, 3.0, 2.0, 1.0, 1.3104000091552734, 1.3046000003814697, 1.3032000064849854, 1.3014999628067017, 1.301200032234192, 1.2972999811172485, 1.2955000400543213, 1.292199969291687, 1.2907999753952026, 1.2898000478744507, 1.2883000373840332, 1.2851999998092651, 1.284500002861023, 1.2825000286102295, 1.2819000482559204, 1.2803000211715698, 1.2770999670028687, 1.2768000364303589, 1.2763999700546265, 1.2760000228881836, 1.273900032043457, 1.2733999490737915, 1.2732000350952148, 1.2695000171661377, 1.2690000534057617, 1.267699956893921, 1.2669999599456787, 1.2653000354766846, 1.263800024986267, 1.2630000114440918, 1.2577999830245972, 1.260699987411499, 1.2569999694824219, 1.2402000427246094, 1.1971999406814575, 1.1655999422073364, 1.1921000480651855, 1.207900047302246, 1.0757999420166016, 1.0595999956130981, 1.1680999994277954, 1.187399983406067, 1.1561000347137451, 0.9452999830245972, 1.035599946975708, 1.0920000076293945, 1.0121999979019165, 1.1527999639511108, 1.0677000284194946, 1.001099944114685, 0.9718000292778015, 0.7986999750137329, 1.0097999572753906, 0.8442000150680542, 0.9193999767303467, 0.20110000669956207, 0.8694000244140625, 0.7024000287055969, 0.8640000224113464, 0.8342000246047974, 0.9424999952316284, 0.28949999809265137, 0.7889000177383423, 0.4383000135421753, -0.08919999748468399, 0.531000018119812, 0.5740000009536743, 0.5687000155448914, 0.3878999948501587, 0.7445999979972839, 0.5996000170707703, 0.6952999830245972, 0.1657000035047531, 0.18400000035762787, 0.1331000030040741, 0.26899999380111694, 0.23980000615119934, -0.2937000095844269, 0.16410000622272491, -0.06599999964237213, 0.014999999664723873, 0.28929999470710754, -0.2549000084400177, 0.05380000174045563, 1.5055999755859375, 1.5019999742507935, 1.4941999912261963, 1.49399995803833, 1.4904999732971191, 1.4880000352859497, 1.4859999418258667, 1.485700011253357, 1.4855999946594238, 1.482300043106079, 1.482100009918213, 1.4819999933242798, 1.4802000522613525, 1.4789999723434448, 1.478600025177002, 1.4774999618530273, 1.4759000539779663, 1.4754999876022339, 1.4747999906539917, 1.4742000102996826, 1.4737999439239502, 1.4732999801635742, 1.4730000495910645, 1.4729000329971313, 1.4728000164031982, 1.4726999998092651, 1.4713000059127808, 1.4703999757766724, 1.4699000120162964, 1.4693000316619873, 1.465499997138977, 1.4632999897003174, 1.4515999555587769, 1.4472999572753906, 1.4430999755859375, 1.4443000555038452, 1.4013999700546265, 1.413100004196167, 1.436900019645691, 1.3671000003814697, 1.307800054550171, 1.357800006866455, 1.3040000200271606, 1.3997000455856323, 1.3568999767303467, 1.2735999822616577, 1.3293999433517456, 1.3065999746322632, 1.257099986076355, 1.267199993133545, 1.1154999732971191, 1.121500015258789, 0.9108999967575073, 1.1505999565124512, 1.2143000364303589, 0.9850999712944031, 0.7369999885559082, 1.0312000513076782, 0.895799994468689, 1.1592999696731567, 1.1227999925613403, 1.1253999471664429, -0.1242000013589859, 0.8342999815940857, 0.5853000283241272, 1.0404000282287598, 0.7760999798774719, 0.375900000333786, 0.9063000082969666, 0.646399974822998, 0.9575999975204468, 0.49549999833106995, -0.14030000567436218, 0.5267999768257141, 0.33869999647140503, 0.54830002784729, 0.5583000183105469, 0.18170000612735748, 0.5260999798774719, 0.19830000400543213, 0.3776000142097473, 0.4968000054359436, 0.008799999952316284, 1.524399995803833, 1.5188000202178955, 1.517300009727478, 1.5160000324249268, 1.51419997215271, 1.5068999528884888, 1.5056999921798706, 1.5037000179290771, 1.5032999515533447, 1.5, 1.499400019645691, 1.4987000226974487, 1.4957000017166138, 1.4950000047683716, 1.4950000047683716, 1.4945000410079956, 1.4931999444961548, 1.4925999641418457, 1.4919999837875366, 1.489300012588501, 1.4884999990463257, 1.4881000518798828, 1.4875999689102173, 1.4875999689102173, 1.4873000383377075, 1.4842000007629395, 1.483199954032898, 1.4824999570846558, 1.4804999828338623, 1.4800000190734863, 1.4718999862670898, 1.4616999626159668, 1.4699000120162964, 1.447100043296814, 1.4773999452590942, 1.4570000171661377, 1.4754999876022339, 1.4723999500274658, 1.452299952507019, 1.4259999990463257, 1.4773999452590942, 1.430799961090088, 1.4283000230789185, 1.4239000082015991, 1.4033000469207764, 1.382699966430664, 1.4205000400543213, 1.4128999710083008, 1.3976999521255493, 1.3737000226974487, 1.3925000429153442, 1.4291000366210938, 1.3291000127792358, 1.3203999996185303, 1.3839000463485718, 1.2796000242233276, 1.2493000030517578, 1.0568000078201294, 0.8511999845504761, 0.7476000189781189, 1.1217999458312988, 1.1646000146865845, 0.7111999988555908, 0.8044000267982483, -0.09960000216960907, 1.1470999717712402, 0.6855999827384949, 0.5069000124931335, 0.45559999346733093, 0.13289999961853027, -0.38089999556541443, 0.15389999747276306, 0.29409998655319214, 0.44850000739097595, 0.0024999999441206455, 1.7103999853134155, 1.7056000232696533, 1.7003999948501587, 1.694100022315979, 1.693600058555603, 1.6892000436782837, 1.6848000288009644, 1.6835999488830566, 1.6784000396728516, 1.6775000095367432, 1.6770000457763672, 1.673200011253357, 1.6730999946594238, 1.6723999977111816, 1.6720999479293823, 1.6711000204086304, 1.669800043106079, 1.666100025177002, 1.6657999753952026, 1.6654000282287598, 1.6619999408721924, 1.6605000495910645, 1.6603000164031982, 1.656000018119812, 1.655900001525879, 1.6542999744415283, 1.654099941253662, 1.6538000106811523, 1.65339994430542, 1.6513999700546265, 1.6412999629974365, 1.6313999891281128, 1.639799952507019, 1.631100058555603, 1.6347999572753906, 1.5891000032424927, 1.5779000520706177, 1.5618000030517578, 1.5260000228881836, 1.5871000289916992, 1.5535000562667847, 1.4972000122070312, 1.6181000471115112, 1.3317999839782715, 1.4052000045776367, 1.3229000568389893, 1.3693000078201294, 1.479200005531311, 1.5357999801635742, 1.25409996509552, 1.2415000200271606, 1.1389000415802002, 1.0592000484466553, 1.2798000574111938, 1.2283999919891357, 1.2979999780654907, 1.2927000522613525, 0.9161999821662903, 1.1778000593185425, 0.4867999851703644, 0.9246000051498413, 0.17100000381469727, 0.8539999723434448, 1.0782999992370605, 0.6805999875068665, 1.0389000177383423, 0.8633999824523926, 1.1640000343322754, 1.1557999849319458, 0.6970000267028809, 0.4481000006198883, 0.43230000138282776, 0.4287000000476837, 0.7749000191688538, 0.5586000084877014, -0.12929999828338623, 0.019899999722838402, 0.4763999879360199, 2.0452001094818115, 2.0429999828338623, 2.0429000854492188, 2.0418999195098877, 2.0413999557495117, 2.0401999950408936, 2.038599967956543, 2.0325000286102295, 2.030400037765503, 2.023900032043457, 2.0223000049591064, 2.0220000743865967, 2.021199941635132, 2.0172998905181885, 2.015700101852417, 2.0153000354766846, 2.013000011444092, 2.0095999240875244, 2.0078999996185303, 2.006500005722046, 2.0053000450134277, 2.0046000480651855, 2.004300117492676, 2.0037999153137207, 2.003700017929077, 2.0020999908447266, 2.0013999938964844, 2.0006000995635986, 1.9990999698638916, 1.9984999895095825, 1.996999979019165, 1.972000002861023, 1.9559999704360962, 1.9979000091552734, 1.9749000072479248, 1.9466999769210815, 1.9249999523162842, 1.9457000494003296, 1.9330999851226807, 1.932800054550171, 1.9622000455856323, 1.877500057220459, 1.8672000169754028, 1.8880000114440918, 1.9665000438690186, 1.8859000205993652, 1.9514000415802002, 1.729099988937378, 1.6555999517440796, 1.6581000089645386, 1.801200032234192, 1.9005000591278076, 1.8508000373840332, 1.7585999965667725, 1.757599949836731, 1.7242000102996826, 1.7906999588012695, 1.8158999681472778, 1.7785999774932861, 1.5978000164031982, 1.3308000564575195, 1.4293999671936035, 1.0147000551223755, 0.9480000138282776, 1.094499945640564, 0.06939999759197235, -0.47510001063346863, 1.1318000555038452, 1.0729000568389893, 1.3717000484466553, 0.27480000257492065, 1.1672999858856201, 0.1565999984741211, 0.07129999995231628, 0.01850000023841858, -0.4115000069141388]}, \"token.table\": {\"Topic\": [1, 3, 5, 5, 1, 2, 3, 4, 5, 1, 2, 3, 4, 5, 2, 1, 4, 1, 3, 4, 1, 2, 4, 4, 1, 2, 3, 4, 5, 1, 2, 3, 4, 5, 2, 3, 4, 5, 3, 2, 3, 5, 1, 2, 1, 2, 3, 4, 5, 1, 4, 5, 1, 1, 5, 1, 2, 3, 4, 5, 1, 2, 3, 4, 5, 2, 5, 1, 2, 3, 4, 5, 2, 1, 2, 3, 4, 5, 1, 2, 3, 4, 5, 1, 5, 1, 2, 3, 4, 3, 1, 2, 4, 1, 1, 2, 3, 4, 5, 1, 2, 3, 4, 5, 1, 2, 3, 4, 5, 1, 2, 3, 4, 1, 2, 3, 4, 5, 1, 3, 5, 5, 1, 2, 1, 2, 3, 5, 1, 2, 3, 4, 5, 5, 1, 2, 3, 5, 1, 2, 3, 4, 5, 1, 2, 4, 5, 1, 2, 3, 4, 5, 1, 2, 3, 4, 5, 1, 2, 3, 5, 4, 1, 2, 3, 4, 5, 1, 2, 3, 4, 5, 1, 2, 3, 4, 5, 1, 2, 3, 4, 5, 1, 2, 3, 4, 5, 1, 3, 4, 5, 3, 5, 1, 2, 3, 4, 5, 3, 1, 2, 3, 1, 2, 4, 5, 1, 2, 3, 4, 5, 4, 1, 2, 3, 4, 5, 2, 1, 2, 3, 4, 5, 1, 2, 3, 4, 5, 1, 2, 3, 4, 5, 1, 2, 3, 4, 5, 2, 1, 4, 2, 4, 2, 3, 4, 4, 1, 2, 3, 4, 5, 1, 2, 3, 4, 1, 2, 4, 5, 1, 2, 3, 4, 5, 1, 1, 2, 4, 5, 3, 1, 2, 3, 4, 5, 1, 2, 3, 4, 5, 1, 2, 3, 4, 5, 1, 2, 4, 5, 1, 2, 3, 4, 5, 1, 4, 5, 1, 2, 3, 4, 5, 1, 1, 2, 3, 4, 1, 2, 3, 4, 1, 2, 4, 1, 1, 2, 4, 5, 5, 1, 1, 2, 3, 4, 5, 1, 5, 1, 2, 3, 4, 5, 1, 1, 2, 4, 1, 2, 3, 4, 5, 1, 2, 3, 4, 1, 2, 3, 4, 5, 1, 3, 4, 5, 1, 1, 2, 3, 4, 5, 1, 2, 3, 4, 5, 1, 2, 3, 4, 5, 1, 2, 3, 4, 5, 1, 1, 2, 3, 4, 1, 5, 1, 2, 3, 4, 5, 1, 1, 3, 4, 5, 1, 2, 3, 4, 5, 2, 3, 1, 2, 3, 4, 5, 2, 3, 2, 3, 1, 4, 1, 2, 3, 4, 5, 2, 3, 5, 3, 1, 4, 1, 2, 3, 4, 5, 1, 2, 3, 4, 5, 4, 1, 2, 3, 4, 5, 2, 3, 1, 2, 3, 4, 5, 2, 3, 5, 2, 3, 5, 1, 2, 3, 4, 4, 1, 2, 3, 4, 5, 2, 3, 5, 3, 4, 5, 2, 2, 1, 2, 3, 1, 5, 2, 3, 1, 2, 3, 4, 5, 3, 4, 5, 1, 2, 3, 4, 5, 1, 2, 3, 4, 5, 1, 2, 3, 4, 1, 2, 3, 5, 5, 1, 2, 3, 4, 5, 1, 2, 3, 4, 5, 1, 2, 3, 4, 1, 4, 5, 1, 2, 3, 4, 1, 2, 3, 4, 5, 1, 2, 3, 4, 5, 3, 1, 3, 1, 2, 3, 4, 5, 1, 3, 1, 4, 5, 3, 1, 2, 4, 5, 1, 4, 4, 3, 1, 5, 1, 2, 3, 4, 5, 1, 2, 1, 2, 4, 5, 1, 4, 5, 1, 2, 3, 4, 5, 1, 2, 3, 4, 5, 2, 3, 1, 2, 3, 4, 5, 1, 2, 3, 5, 1, 2, 3, 4, 5, 1, 2, 3, 4, 5, 5, 1, 2, 3, 4, 5, 1, 2, 3, 4, 5, 3, 2, 4, 1, 2, 3, 4, 5, 4, 1, 2, 3, 4, 5, 1, 4, 3, 1, 2, 3, 4, 5, 3, 1, 2, 3, 4, 5, 1, 3, 5, 1, 2, 3, 4, 5, 1, 2, 3, 4, 5, 2, 1, 2, 3, 4, 5, 5, 1, 2, 3, 4, 5, 4, 3, 2, 5, 3, 4, 1, 2, 3, 4, 5, 3, 4, 5, 2, 1, 2, 3, 4, 5, 3, 1, 2, 3, 4, 5, 1, 2, 3, 4, 5, 2, 3, 1, 3, 1, 2, 3, 4, 5, 1, 2, 3, 4, 5, 1, 2, 3, 4, 5, 1, 2, 3, 4, 5, 1, 2, 3, 4, 5, 5, 1, 2, 3, 4, 5, 5, 5, 1, 2, 3, 4, 5, 3, 4, 1, 2, 3, 4, 5, 2, 3, 4, 1, 4, 5, 1, 2, 3, 4, 5, 1, 2, 3, 4, 5, 2, 1, 2, 3, 4, 5, 1, 2, 3, 4, 5, 1, 2, 3, 4, 5, 1, 2, 3, 4, 5, 1, 2, 3, 4, 5, 5, 2, 3, 1, 2, 3, 4, 5, 4, 1, 2, 3, 4, 5, 1, 2, 3, 4, 5, 1, 2, 3, 4, 5, 1, 2, 3, 4, 5, 1, 2, 3, 4, 5, 4, 1, 2, 3, 4, 5, 4, 1, 2, 3, 4, 5, 1, 2, 3, 4, 5, 5, 2, 3, 5, 1, 4, 5, 1, 2, 3, 4, 5, 1, 2, 3, 4, 5, 1, 2, 4, 5, 3, 1, 2, 3, 4, 5, 1, 2, 5, 1, 2, 3, 4, 5, 2, 1, 2, 3, 4, 5, 2, 1, 2, 3, 4, 5, 1, 4, 1, 2, 3, 4, 5, 4, 1, 2, 3, 4, 5, 5, 1, 5, 2, 1, 2, 3, 4, 5, 1, 2, 3, 4, 5, 4, 1, 2, 3, 4, 5, 2, 3, 2, 1, 2, 3, 4, 5, 1, 2, 3, 4, 5, 1, 4, 5, 1, 2, 3, 4, 5, 4, 2, 3, 1, 3, 4, 1, 2, 3, 4, 5, 1, 2, 3, 4, 5, 1, 2, 3, 4, 5, 2, 3, 5, 1, 3, 4, 5, 4, 5, 1, 2, 3, 4, 5, 4, 1, 5, 2, 3, 4, 5, 1, 2, 3, 4, 5, 1, 2, 3, 4, 5, 1, 2, 3, 4, 5, 1, 5, 3, 4, 5, 4, 1, 5, 1, 5, 1, 2, 3, 4, 5, 1, 2, 4, 1, 4, 1, 2, 3, 4, 5, 1, 2, 3, 4, 5, 1, 2, 3, 4, 5, 2, 3, 1, 3, 4, 5, 1, 2, 3, 4, 5, 1, 1, 2, 3, 4, 5, 1, 2, 4, 5, 1, 2, 3, 4, 5, 2, 3, 1, 2, 3, 4, 5, 4, 1, 2, 3, 2, 1, 4, 1, 2, 3, 4, 5, 1, 2, 3, 4, 5, 1, 2, 4, 5, 1, 1, 5, 1, 2, 3, 4, 5, 1, 2, 3, 4, 5, 1, 2, 3, 4, 5, 1, 2, 3, 4, 5, 1, 1, 2, 3, 4, 5, 1, 2, 3, 4, 5, 1, 2, 3, 4, 5, 1, 2, 3, 4, 5, 2, 3, 5, 1, 2, 3, 4, 5, 1, 2, 3, 4, 5, 3, 4, 5, 1, 2, 3, 4, 5, 1, 2, 3, 4, 5, 1, 2, 3, 3, 1, 2, 3, 4, 5, 4, 1, 1, 4, 5], \"Freq\": [0.11675944924354553, 0.014594931155443192, 0.861100971698761, 0.8674347400665283, 0.06370081752538681, 0.00980012584477663, 0.02450031414628029, 0.02450031414628029, 0.882011353969574, 0.06003022566437721, 0.008575746789574623, 0.008575746789574623, 0.008575746789574623, 0.9176048636436462, 0.9440504312515259, 0.04180353134870529, 0.9614812135696411, 0.036167386919260025, 0.036167386919260025, 0.9041846394538879, 0.10294210910797119, 0.020588422194123268, 0.864713728427887, 0.9659580588340759, 0.014510679058730602, 0.19589416682720184, 0.07255339622497559, 0.007255339529365301, 0.7110232710838318, 0.13791050016880035, 0.007880600169301033, 0.31916430592536926, 0.5201196074485779, 0.015761200338602066, 0.008437838405370712, 0.9197243452072144, 0.016875676810741425, 0.05906486511230469, 0.9419288039207458, 0.9350525140762329, 0.036668725311756134, 0.018334362655878067, 0.8473356366157532, 0.13911481201648712, 0.04992574825882912, 0.042436886578798294, 0.022466586902737617, 0.019970297813415527, 0.8662117123603821, 0.02417793869972229, 0.02417793869972229, 0.9429395794868469, 0.9702850580215454, 0.9168071746826172, 0.04825300723314285, 0.06717430055141449, 0.09817782044410706, 0.036170776933431625, 0.010334507562220097, 0.7905898094177246, 0.28237637877464294, 0.009518304839730263, 0.06980090588331223, 0.6186898350715637, 0.019036609679460526, 0.9437236189842224, 0.9369926452636719, 0.035146985203027725, 0.6728137135505676, 0.05523097515106201, 0.050209976732730865, 0.18577691912651062, 0.964271068572998, 0.07655952125787735, 0.14660334587097168, 0.04560992866754532, 0.08796200156211853, 0.6434257626533508, 0.3862951993942261, 0.5883966684341431, 0.002558246487751603, 0.015349478460848331, 0.007674739230424166, 0.06109682843089104, 0.9164524078369141, 0.024394091218709946, 0.008131364360451698, 0.8863186836242676, 0.08131363987922668, 0.9233975410461426, 0.03745625540614128, 0.03745625540614128, 0.9364063739776611, 0.982021152973175, 0.11826794594526291, 0.5728603601455688, 0.09978857636451721, 0.11826794594526291, 0.09239683300256729, 0.5357423424720764, 0.2486124485731125, 0.03501584008336067, 0.13656176626682281, 0.04201900586485863, 0.2840864360332489, 0.13908398151397705, 0.06214390695095062, 0.14796169102191925, 0.36694496870040894, 0.06195110082626343, 0.006195110268890858, 0.867315411567688, 0.06195110082626343, 0.30283957719802856, 0.6153442859649658, 0.012886790558695793, 0.05154716223478317, 0.019330186769366264, 0.02050885558128357, 0.9434073567390442, 0.04101771116256714, 0.9536796808242798, 0.9369807839393616, 0.03904086723923683, 0.015167989768087864, 0.022751985117793083, 0.9252473711967468, 0.030335979536175728, 0.5878437161445618, 0.23443765938282013, 0.03499069809913635, 0.03149162605404854, 0.10847116261720657, 0.9249807596206665, 0.029704416170716286, 0.9356890916824341, 0.029704416170716286, 0.014852208085358143, 0.038638271391391754, 0.012879423797130585, 0.038638271391391754, 0.10303539037704468, 0.8114036917686462, 0.10859308391809464, 0.02413179725408554, 0.01206589862704277, 0.8446128964424133, 0.021167175844311714, 0.6985167860984802, 0.04762614518404007, 0.22754713892936707, 0.010583587922155857, 0.09973137825727463, 0.10638013482093811, 0.03989255055785179, 0.1462726891040802, 0.6050370335578918, 0.0068187350407242775, 0.9000729918479919, 0.06818734854459763, 0.02727494016289711, 0.9663953185081482, 0.6822355389595032, 0.04297546669840813, 0.0698351338505745, 0.07520706206560135, 0.13429832458496094, 0.38260799646377563, 0.02484467439353466, 0.019875740632414818, 0.5714275240898132, 0.0049689351581037045, 0.4733453094959259, 0.3265323340892792, 0.027843842282891273, 0.124031662940979, 0.04809390753507614, 0.07852928340435028, 0.8577814102172852, 0.030203571543097496, 0.012081428430974483, 0.018122142180800438, 0.25001785159111023, 0.30844593048095703, 0.20110131800174713, 0.16169632971286774, 0.08016876876354218, 0.20466777682304382, 0.03231596574187279, 0.021543975919485092, 0.7324951887130737, 0.03998403623700142, 0.9196328520774841, 0.4135541617870331, 0.021364422515034676, 0.22127437591552734, 0.2762114703655243, 0.06867136061191559, 0.9551765322685242, 0.010916177183389664, 0.03274853155016899, 0.9497073888778687, 0.8913941979408264, 0.06367101520299911, 0.03183550760149956, 0.01591775380074978, 0.05228424072265625, 0.0034856158308684826, 0.6587814092636108, 0.27536365389823914, 0.006971231661736965, 0.9789583683013916, 0.04583462327718735, 0.05238242447376251, 0.870857834815979, 0.013095606118440628, 0.019643409177660942, 0.9510849118232727, 0.3720442056655884, 0.05184222385287285, 0.18297255039215088, 0.38424235582351685, 0.012198170647025108, 0.8556418418884277, 0.04387906938791275, 0.03839418664574623, 0.05484883487224579, 0.005484883673489094, 0.3928527235984802, 0.13401050865650177, 0.03304368630051613, 0.4148818552494049, 0.02570064552128315, 0.6355435848236084, 0.17674881219863892, 0.04888796806335449, 0.03384551778435707, 0.10529716312885284, 0.9439476132392883, 0.023627204820513725, 0.9450882077217102, 0.9708082675933838, 0.026238061487674713, 0.9393280744552612, 0.03239062428474426, 0.9052039384841919, 0.9193081259727478, 0.010294939391314983, 0.9574294090270996, 0.010294939391314983, 0.020589878782629967, 0.010294939391314983, 0.07024430483579636, 0.060209404677152634, 0.010034901089966297, 0.8529665470123291, 0.8772227168083191, 0.10474301129579544, 0.01309287641197443, 0.01309287641197443, 0.2223692387342453, 0.03176703304052353, 0.1747186928987503, 0.5665121078491211, 0.010589011013507843, 0.9703140258789062, 0.7757697701454163, 0.15664581954479218, 0.04475594684481621, 0.014918649569153786, 0.9658457040786743, 0.005781487561762333, 0.011562975123524666, 0.9712899327278137, 0.005781487561762333, 0.011562975123524666, 0.010799059644341469, 0.007199373096227646, 0.9359185099601746, 0.0395965501666069, 0.010799059644341469, 0.25551366806030273, 0.0237687136977911, 0.1366700977087021, 0.11884357035160065, 0.46348991990089417, 0.17045819759368896, 0.005165399983525276, 0.6921635866165161, 0.12396959960460663, 0.011159365065395832, 0.005579682532697916, 0.8927491903305054, 0.0781155526638031, 0.016739048063755035, 0.051914118230342865, 0.025957059115171432, 0.9344541430473328, 0.08316536992788315, 0.013860894367098808, 0.06930447369813919, 0.041582684963941574, 0.7762100696563721, 0.9899983406066895, 0.3460726737976074, 0.03146115317940712, 0.011797931976616383, 0.6095598340034485, 0.2932327091693878, 0.03332189843058586, 0.0033321899827569723, 0.6697701811790466, 0.10502710938453674, 0.015003872103989124, 0.8702245950698853, 0.9572075009346008, 0.7688665390014648, 0.20515000820159912, 0.017839130014181137, 0.007135652471333742, 0.9456437826156616, 0.9673722982406616, 0.07372529804706573, 0.8109782934188843, 0.017795762047171593, 0.07118304818868637, 0.025422517210245132, 0.0742013081908226, 0.8904156684875488, 0.2127758115530014, 0.05910439044237137, 0.07683570683002472, 0.6442378759384155, 0.005910438951104879, 0.9643879532814026, 0.04724835231900215, 0.04724835231900215, 0.9449670910835266, 0.30693796277046204, 0.15243898332118988, 0.14625902473926544, 0.35431763529777527, 0.04119972512125969, 0.1289752572774887, 0.009212518110871315, 0.01842503622174263, 0.8383392095565796, 0.22387538850307465, 0.09371528029441833, 0.08850887417793274, 0.56229168176651, 0.03123842552304268, 0.2154213935136795, 0.01657087542116642, 0.057998064905405045, 0.7125476598739624, 0.9872438907623291, 0.24218395352363586, 0.05216269940137863, 0.20492488145828247, 0.49927154183387756, 0.003725907066836953, 0.207063227891922, 0.003654056927189231, 0.1181478425860405, 0.029232455417513847, 0.6418960094451904, 0.1072157621383667, 0.667801022529602, 0.04288630187511444, 0.09496252983808517, 0.08270929753780365, 0.30402249097824097, 0.02597177028656006, 0.3559660315513611, 0.2719397246837616, 0.0397215336561203, 0.9663203358650208, 0.19082872569561005, 0.011926795355975628, 0.023853590711951256, 0.7752417325973511, 0.08465105295181274, 0.9099988341331482, 0.10914947837591171, 0.6213124394416809, 0.12174364924430847, 0.12174364924430847, 0.025188341736793518, 0.9536519646644592, 0.844139575958252, 0.009592494927346706, 0.038369979709386826, 0.1055174469947815, 0.7241411209106445, 0.01970452070236206, 0.034482911229133606, 0.20197133719921112, 0.01970452070236206, 0.005911017302423716, 0.9871399402618408, 0.022246282547712326, 0.45807117223739624, 0.5035749673843384, 0.007078362628817558, 0.00910075195133686, 0.0551895797252655, 0.9382228851318359, 0.9668081998825073, 0.022483911365270615, 0.9640130996704102, 0.024718284606933594, 0.6139060258865356, 0.10789863020181656, 0.07441285252571106, 0.18603213131427765, 0.018603213131427765, 0.9355173110961914, 0.027515213936567307, 0.027515213936567307, 0.9592606425285339, 0.9786642789840698, 0.016587529331445694, 0.17412270605564117, 0.39318031072616577, 0.20922808349132538, 0.09829507768154144, 0.12497516721487045, 0.024640390649437904, 0.7700122594833374, 0.17248274385929108, 0.018480293452739716, 0.006160097662359476, 0.9668957591056824, 0.2169506698846817, 0.384002685546875, 0.2277982085943222, 0.12149237841367722, 0.0498986542224884, 0.011497861705720425, 0.9773182272911072, 0.6866319179534912, 0.10223747789859772, 0.011359719559550285, 0.1804933249950409, 0.02019505761563778, 0.04166395962238312, 0.04166395962238312, 0.916607141494751, 0.02053709886968136, 0.9447065591812134, 0.02053709886968136, 0.07536312192678452, 0.013702386058866978, 0.09591670334339142, 0.8118664026260376, 0.8885677456855774, 0.09849762916564941, 0.5417369604110718, 0.1608794629573822, 0.15431295335292816, 0.042682304978370667, 0.025533871725201607, 0.9447532296180725, 0.025533871725201607, 0.9517963528633118, 0.027194181457161903, 0.013597090728580952, 0.9796842336654663, 0.9721342921257019, 0.057771265506744385, 0.9243402481079102, 0.019257089123129845, 0.9458611011505127, 0.9598754048347473, 0.9609494209289551, 0.02343779057264328, 0.08974044770002365, 0.012820064090192318, 0.14102070033550262, 0.012820064090192318, 0.7563837766647339, 0.04721002280712128, 0.9284638166427612, 0.015736674889922142, 0.18120868504047394, 0.3602341413497925, 0.25980523228645325, 0.08732949197292328, 0.11134509742259979, 0.7354679703712463, 0.22764484584331512, 0.013133356347680092, 0.008755571208894253, 0.017511142417788506, 0.037701986730098724, 0.009425496682524681, 0.056552983820438385, 0.9048477411270142, 0.017473503947257996, 0.061157263815402985, 0.8562016487121582, 0.061157263815402985, 0.9250146150588989, 0.21804484724998474, 0.09911129623651505, 0.24147115647792816, 0.12614165246486664, 0.3171561360359192, 0.4713457226753235, 0.02757873944938183, 0.20307980477809906, 0.2858160138130188, 0.012535790912806988, 0.12533484399318695, 0.027852186933159828, 0.006963046733289957, 0.8425286412239075, 0.030948882922530174, 0.8975176215171814, 0.06189776584506035, 0.03293314203619957, 0.049399714916944504, 0.016466571018099785, 0.9056614637374878, 0.02945311740040779, 0.8541404008865356, 0.06479685753583908, 0.03534374013543129, 0.017671870067715645, 0.15559640526771545, 0.0183054581284523, 0.6773020029067993, 0.05949274078011513, 0.08695092797279358, 0.9787149429321289, 0.041831739246845245, 0.9621299505233765, 0.05904167518019676, 0.8084167838096619, 0.031791672110557556, 0.09083334356546402, 0.009083334356546402, 0.9412290453910828, 0.9766495823860168, 0.03470221534371376, 0.03470221534371376, 0.9022576212882996, 0.9629775881767273, 0.8846591114997864, 0.07692687958478928, 0.00961585994809866, 0.01923171989619732, 0.9455605745315552, 0.0461249053478241, 0.8885619640350342, 0.9471765756607056, 0.9510682225227356, 0.030679618939757347, 0.03678223490715027, 0.855186939239502, 0.06436891108751297, 0.018391117453575134, 0.0275866761803627, 0.9882331490516663, 0.9439306855201721, 0.5393524169921875, 0.41769397258758545, 0.032442253082990646, 0.008110563270747662, 0.031030647456645966, 0.9309194684028625, 0.031030647456645966, 0.6337392330169678, 0.2681204676628113, 0.04468674212694168, 0.028437018394470215, 0.02437458746135235, 0.007872791960835457, 0.8108975887298584, 0.07872792333364487, 0.04723675176501274, 0.04723675176501274, 0.9577667713165283, 0.951021134853363, 0.16971233487129211, 0.22193151712417603, 0.43733564019203186, 0.1201041117310524, 0.05221917852759361, 0.012078671716153622, 0.9300577640533447, 0.012078671716153622, 0.03623601794242859, 0.7305817604064941, 0.01781906746327877, 0.059396892786026, 0.1603716015815735, 0.029698446393013, 0.1722990870475769, 0.28511396050453186, 0.33639344573020935, 0.15383847057819366, 0.0533306710422039, 0.9748751521110535, 0.006837927270680666, 0.006837927270680666, 0.9367960095405579, 0.013675854541361332, 0.03418963402509689, 0.06386458873748779, 0.029803473502397537, 0.36189931631088257, 0.038318753242492676, 0.5109167098999023, 0.966428816318512, 0.05309617519378662, 0.9291830658912659, 0.193982794880867, 0.012344359420239925, 0.2786298394203186, 0.5096457004547119, 0.007053919602185488, 0.9392340183258057, 0.02762717939913273, 0.8919632434844971, 0.051307618618011475, 0.01578696072101593, 0.011840219609439373, 0.05172043293714523, 0.9309677481651306, 0.9362161755561829, 0.0051793381571769714, 0.0051793381571769714, 0.896025538444519, 0.020717352628707886, 0.0725107342004776, 0.946823000907898, 0.16902194917201996, 0.019044727087020874, 0.3832751214504242, 0.2832903265953064, 0.14521604776382446, 0.9459699392318726, 0.016595963388681412, 0.016595963388681412, 0.45436254143714905, 0.3709529936313629, 0.002194988075643778, 0.1580391377210617, 0.015364916063845158, 0.04112199693918228, 0.6945048570632935, 0.15078066289424896, 0.07310577481985092, 0.04112199693918228, 0.9695882201194763, 0.004368777386844158, 0.004368777386844158, 0.9261807799339294, 0.05897849053144455, 0.004368777386844158, 0.9455907344818115, 0.1612873524427414, 0.11088506132364273, 0.2234501987695694, 0.441860169172287, 0.06216283515095711, 0.9049392342567444, 0.9418512582778931, 0.9642466902732849, 0.9307330250740051, 0.9738245606422424, 0.02434561401605606, 0.012185613624751568, 0.01566721871495247, 0.6179847121238708, 0.01566721871495247, 0.33771559596061707, 0.15703639388084412, 0.019629549235105515, 0.8244410753250122, 0.9926568865776062, 0.2558859586715698, 0.37956416606903076, 0.07250101864337921, 0.23242974281311035, 0.06183910369873047, 0.9465965628623962, 0.3568457365036011, 0.2132871150970459, 0.2645580470561981, 0.1517619788646698, 0.012305025942623615, 0.06992018222808838, 0.004112951923161745, 0.7485572695732117, 0.12750151753425598, 0.04524247348308563, 0.03493579477071762, 0.9432664513587952, 0.9565708637237549, 0.9629167914390564, 0.13239628076553345, 0.005756359547376633, 0.005756359547376633, 0.017269078642129898, 0.8404285311698914, 0.2815483808517456, 0.17870736122131348, 0.2882920503616333, 0.11801429092884064, 0.13318756222724915, 0.26014426350593567, 0.07030925899744034, 0.02109277807176113, 0.6398142576217651, 0.007030926179140806, 0.08076581358909607, 0.023754650726914406, 0.8504165410995483, 0.023754650726914406, 0.023754650726914406, 0.1833934187889099, 0.5055710673332214, 0.18834999203681946, 0.05700065568089485, 0.06443552672863007, 0.9749476313591003, 0.17748771607875824, 0.006120266392827034, 0.006120266392827034, 0.012240532785654068, 0.801754891872406, 0.9599615931510925, 0.925321638584137, 0.8616081476211548, 0.03705841302871704, 0.02779381163418293, 0.03705841302871704, 0.02779381163418293, 0.07484022527933121, 0.8980827331542969, 0.7829803228378296, 0.15739299356937408, 0.011953898705542088, 0.023907797411084175, 0.023907797411084175, 0.9491533041000366, 0.037966132164001465, 0.9510539770126343, 0.9639092087745667, 0.02950742468237877, 0.009835808537900448, 0.3562195301055908, 0.0706162080168724, 0.453512966632843, 0.07924707233905792, 0.040015850216150284, 0.09678787738084793, 0.26270994544029236, 0.05876407027244568, 0.2246861457824707, 0.3594978451728821, 0.9272499680519104, 0.052350178360939026, 0.009104378521442413, 0.855811595916748, 0.06145455688238144, 0.02048485167324543, 0.5931487083435059, 0.11533447355031967, 0.07908649742603302, 0.15982063114643097, 0.05107669532299042, 0.06528376787900925, 0.5453914999961853, 0.25025445222854614, 0.006800392642617226, 0.13192762434482574, 0.012124673463404179, 0.5375272035598755, 0.4263843595981598, 0.01414545252919197, 0.010103894397616386, 0.7044478058815002, 0.2130737155675888, 0.013045329600572586, 0.04348443076014519, 0.021742215380072594, 0.9536872506141663, 0.012916511856019497, 0.981654942035675, 0.17116887867450714, 0.023041963577270508, 0.131668359041214, 0.6616335511207581, 0.009875127114355564, 0.9408801794052124, 0.04294542595744133, 0.13742536306381226, 0.06012359634041786, 0.025767255574464798, 0.7386613488197327, 0.10630491375923157, 0.02416020818054676, 0.06281653791666031, 0.7876228094100952, 0.01932816579937935, 0.03757406771183014, 0.014090274460613728, 0.7702683210372925, 0.06575461477041245, 0.1080254390835762, 0.7964369654655457, 0.14121222496032715, 0.005648489110171795, 0.05083639919757843, 0.005648489110171795, 0.6200687885284424, 0.10882839560508728, 0.05061785876750946, 0.13160642981529236, 0.08858125656843185, 0.9392484426498413, 0.04312947392463684, 0.2048649936914444, 0.11860605329275131, 0.6361597180366516, 0.005391184240579605, 0.9846144914627075, 0.1976276934146881, 0.035932306200265884, 0.029943589121103287, 0.7186461091041565, 0.017966153100132942, 0.1246437132358551, 0.1609037071466446, 0.22889117896556854, 0.3082098960876465, 0.17676743865013123, 0.9707463979721069, 0.8940901160240173, 0.081280916929245, 0.013546819798648357, 0.9817150831222534, 0.07437790930271149, 0.8925348520278931, 0.08366990089416504, 0.06911861151456833, 0.38560912013053894, 0.08003208041191101, 0.3783334791660309, 0.3394017815589905, 0.14466305077075958, 0.18546545505523682, 0.2707795798778534, 0.059348948299884796, 0.07337824255228043, 0.07337824255228043, 0.825505256652832, 0.018344560638070107, 0.9591161012649536, 0.2908770442008972, 0.05669637396931648, 0.07148673385381699, 0.552173376083374, 0.029580717906355858, 0.01185320783406496, 0.9719630479812622, 0.01185320783406496, 0.0437503345310688, 0.14218859374523163, 0.0109375836327672, 0.06562550365924835, 0.7218804955482483, 0.9906251430511475, 0.28607890009880066, 0.20222818851470947, 0.09371550381183624, 0.024661974981427193, 0.3945915997028351, 0.9439498782157898, 0.008676229044795036, 0.9630613923072815, 0.008676229044795036, 0.008676229044795036, 0.008676229044795036, 0.03193974494934082, 0.9262526035308838, 0.2249944806098938, 0.07853581011295319, 0.20801375806331635, 0.44574376940727234, 0.04245178773999214, 0.9151185154914856, 0.32614919543266296, 0.1936570703983307, 0.19442403316497803, 0.20937971770763397, 0.07631239295005798, 0.9456107020378113, 0.03996885567903519, 0.9192836880683899, 0.9440114498138428, 0.027558274567127228, 0.022046618163585663, 0.8983997106552124, 0.027558274567127228, 0.027558274567127228, 0.010244470089673996, 0.6761350035667419, 0.10244470089673996, 0.15366704761981964, 0.05634458363056183, 0.9663491249084473, 0.10087782889604568, 0.4762372076511383, 0.129029780626297, 0.2252156138420105, 0.06803388148546219, 0.9553290009498596, 0.026536917313933372, 0.9577497839927673, 0.2480395883321762, 0.04893298074603081, 0.480893075466156, 0.1889825463294983, 0.033746883273124695, 0.29888036847114563, 0.030139196664094925, 0.22353237867355347, 0.41943714022636414, 0.030139196664094925, 0.9635964035987854, 0.012044955044984818, 0.024089910089969635, 0.05055481567978859, 0.0926838293671608, 0.025277407839894295, 0.025277407839894295, 0.8088770508766174, 0.9235616326332092, 0.97198486328125, 0.014507236890494823, 0.03099754825234413, 0.06199509650468826, 0.8989288806915283, 0.011522271670401096, 0.026885300874710083, 0.8948964476585388, 0.038407571613788605, 0.026885300874710083, 0.049293652176856995, 0.021125849336385727, 0.20421655476093292, 0.042251698672771454, 0.6901111006736755, 0.02658701315522194, 0.017724676057696342, 0.8862338066101074, 0.008862338028848171, 0.062036365270614624, 0.06319210678339005, 0.06319210678339005, 0.8846895098686218, 0.010405360721051693, 0.09364824742078781, 0.031216081231832504, 0.8636449575424194, 0.029720282182097435, 0.9510490298271179, 0.4844932556152344, 0.06459910422563553, 0.12038923799991608, 0.30244123935699463, 0.023490581661462784, 0.919339120388031, 0.07420380413532257, 0.8904456496238708, 0.01507644448429346, 0.06030577793717384, 0.01507644448429346, 0.904586672782898, 0.014476658776402473, 0.9265061616897583, 0.014476658776402473, 0.028953317552804947, 0.014476658776402473, 0.11145545542240143, 0.09879006445407867, 0.07345927506685257, 0.025330785661935806, 0.6915304064750671, 0.5629051923751831, 0.05218988284468651, 0.05964558199048042, 0.26840510964393616, 0.055917732417583466, 0.11515101790428162, 0.8636326193809509, 0.9446372985839844, 0.04107118770480156, 0.02053559385240078, 0.9191005229949951, 0.06925305724143982, 0.90028977394104, 0.11840292811393738, 0.858421266078949, 0.2703268229961395, 0.2673397958278656, 0.176235169172287, 0.12396202981472015, 0.16129998862743378, 0.8755455613136292, 0.01924275979399681, 0.09621379524469376, 0.9417187571525574, 0.03621995076537132, 0.08581691235303879, 0.672804594039917, 0.14073973894119263, 0.07208620756864548, 0.024028735235333443, 0.03362026810646057, 0.02401447668671608, 0.9125500917434692, 0.021613027900457382, 0.0048028952442109585, 0.32029497623443604, 0.3593553304672241, 0.1437421292066574, 0.10468176752328873, 0.0718710646033287, 0.973439633846283, 0.01836678571999073, 0.050050873309373856, 0.08758902549743652, 0.012512718327343464, 0.850864827632904, 0.19806404411792755, 0.37091994285583496, 0.2538820803165436, 0.10083260387182236, 0.07562445104122162, 0.9600181579589844, 0.19908815622329712, 0.3195122182369232, 0.24570392072200775, 0.15538588166236877, 0.08157758414745331, 0.7503236532211304, 0.23231779038906097, 0.009418288245797157, 0.006278858985751867, 0.03362711891531944, 0.7801491618156433, 0.020176270976662636, 0.020176270976662636, 0.14795932173728943, 0.9642217755317688, 0.017218245193362236, 0.2586030960083008, 0.016684072092175484, 0.08759137243032455, 0.6047976016998291, 0.03336814418435097, 0.905091404914856, 0.9503403306007385, 0.031678009778261185, 0.015839004889130592, 0.9637344479560852, 0.9727780818939209, 0.019852614030241966, 0.05621492490172386, 0.022485969588160515, 0.8994387984275818, 0.011242984794080257, 0.022485969588160515, 0.010114477947354317, 0.00674298545345664, 0.8732166290283203, 0.07080134749412537, 0.04045791178941727, 0.04842490330338478, 0.04842490330338478, 0.02421245165169239, 0.8716482520103455, 0.9716278314590454, 0.9249382615089417, 0.04404468089342117, 0.03725242614746094, 0.8270038366317749, 0.02980193868279457, 0.06705436110496521, 0.044702909886837006, 0.02559199556708336, 0.05118399113416672, 0.8104131817817688, 0.04265332594513893, 0.06824532151222229, 0.0051872036419808865, 0.020748814567923546, 0.8040165901184082, 0.04149762913584709, 0.1296800971031189, 0.6693874597549438, 0.10547923296689987, 0.020284468308091164, 0.07302408665418625, 0.12982060015201569, 0.9791198372840881, 0.1523003727197647, 0.7826547026634216, 0.021152829751372337, 0.03384452685713768, 0.00846113171428442, 0.3144150972366333, 0.281591534614563, 0.2660435438156128, 0.07601244002580643, 0.06219199672341347, 0.04445818439126015, 0.08002473413944244, 0.6891018748283386, 0.035566546022892, 0.15560364723205566, 0.34837019443511963, 0.3198152482509613, 0.07233916223049164, 0.16561861336231232, 0.09327944368124008, 0.9637464880943298, 0.019668295979499817, 0.019668295979499817, 0.03041308932006359, 0.7359967827796936, 0.07299141585826874, 0.04257832467556, 0.11556974053382874, 0.05794757232069969, 0.3670012950897217, 0.06438618898391724, 0.025754475966095924, 0.48289644718170166, 0.952143669128418, 0.031738121062517166, 0.9746517539024353, 0.31424519419670105, 0.12259789556264877, 0.338201105594635, 0.0803227573633194, 0.14373546838760376, 0.13000912964344025, 0.26261845231056213, 0.21581515669822693, 0.3484244644641876, 0.04290301352739334, 0.9746884107589722, 0.018697723746299744, 0.9722815752029419, 0.9807579517364502, 0.2437608689069748, 0.19072706997394562, 0.14693768322467804, 0.28706368803977966, 0.13136813044548035, 0.8885492086410522, 0.9621737003326416, 0.9707052111625671, 0.00822631549090147, 0.00822631549090147], \"Term\": [\"academi\", \"academi\", \"academi\", \"accolad\", \"actor\", \"actor\", \"actor\", \"actor\", \"actor\", \"actress\", \"actress\", \"actress\", \"actress\", \"actress\", \"agassi\", \"airbus\", \"airbus\", \"aircraft\", \"aircraft\", \"aircraft\", \"airlin\", \"airlin\", \"airlin\", \"airway\", \"album\", \"album\", \"album\", \"album\", \"album\", \"analyst\", \"analyst\", \"analyst\", \"analyst\", \"analyst\", \"appl\", \"appl\", \"appl\", \"appl\", \"argonaut\", \"arsenal\", \"arsenal\", \"arsenal\", \"asylum\", \"asylum\", \"award\", \"award\", \"award\", \"award\", \"award\", \"bafta\", \"bafta\", \"bafta\", \"baikal\", \"ballot\", \"ballot\", \"band\", \"band\", \"band\", \"band\", \"band\", \"bank\", \"bank\", \"bank\", \"bank\", \"bank\", \"barkley\", \"beasti\", \"beat\", \"beat\", \"beat\", \"beat\", \"beat\", \"benitez\", \"best\", \"best\", \"best\", \"best\", \"best\", \"blair\", \"blair\", \"blair\", \"blair\", \"blair\", \"blanchett\", \"blanchett\", \"blog\", \"blog\", \"blog\", \"blog\", \"bloglin\", \"boe\", \"boe\", \"boe\", \"boers\", \"break\", \"break\", \"break\", \"break\", \"break\", \"britain\", \"britain\", \"britain\", \"britain\", \"britain\", \"british\", \"british\", \"british\", \"british\", \"british\", \"broadband\", \"broadband\", \"broadband\", \"broadband\", \"brown\", \"brown\", \"brown\", \"brown\", \"brown\", \"browser\", \"browser\", \"browser\", \"cabir\", \"cairn\", \"cairn\", \"camera\", \"camera\", \"camera\", \"camera\", \"campaign\", \"campaign\", \"campaign\", \"campaign\", \"campaign\", \"capriati\", \"captain\", \"captain\", \"captain\", \"captain\", \"categori\", \"categori\", \"categori\", \"categori\", \"categori\", \"ceremoni\", \"ceremoni\", \"ceremoni\", \"ceremoni\", \"champion\", \"champion\", \"champion\", \"champion\", \"champion\", \"chart\", \"chart\", \"chart\", \"chart\", \"chart\", \"chelsea\", \"chelsea\", \"chelsea\", \"chelsea\", \"chepkemei\", \"children\", \"children\", \"children\", \"children\", \"children\", \"china\", \"china\", \"china\", \"china\", \"china\", \"claim\", \"claim\", \"claim\", \"claim\", \"claim\", \"coach\", \"coach\", \"coach\", \"coach\", \"coach\", \"come\", \"come\", \"come\", \"come\", \"come\", \"comedi\", \"comedi\", \"comedi\", \"comedi\", \"commodor\", \"commodor\", \"compani\", \"compani\", \"compani\", \"compani\", \"compani\", \"compress\", \"consol\", \"consol\", \"consol\", \"constitut\", \"constitut\", \"constitut\", \"constitut\", \"consum\", \"consum\", \"consum\", \"consum\", \"consum\", \"cont\", \"content\", \"content\", \"content\", \"content\", \"content\", \"corri\", \"cost\", \"cost\", \"cost\", \"cost\", \"cost\", \"council\", \"council\", \"council\", \"council\", \"council\", \"countri\", \"countri\", \"countri\", \"countri\", \"countri\", \"court\", \"court\", \"court\", \"court\", \"court\", \"cueto\", \"currenc\", \"currenc\", \"dallaglio\", \"dallaglio\", \"davenport\", \"davenport\", \"deaf\", \"deccan\", \"defeat\", \"defeat\", \"defeat\", \"defeat\", \"defeat\", \"deficit\", \"deficit\", \"deficit\", \"deficit\", \"dem\", \"dem\", \"dem\", \"dem\", \"demand\", \"demand\", \"demand\", \"demand\", \"demand\", \"democraci\", \"democrat\", \"democrat\", \"democrat\", \"democrat\", \"desktop\", \"devic\", \"devic\", \"devic\", \"devic\", \"devic\", \"digit\", \"digit\", \"digit\", \"digit\", \"digit\", \"director\", \"director\", \"director\", \"director\", \"director\", \"dollar\", \"dollar\", \"dollar\", \"dollar\", \"download\", \"download\", \"download\", \"download\", \"download\", \"drake\", \"drake\", \"drake\", \"drama\", \"drama\", \"drama\", \"drama\", \"drama\", \"ebber\", \"econom\", \"econom\", \"econom\", \"econom\", \"economi\", \"economi\", \"economi\", \"economi\", \"economist\", \"economist\", \"economist\", \"elder\", \"elect\", \"elect\", \"elect\", \"elect\", \"elgindi\", \"embargo\", \"england\", \"england\", \"england\", \"england\", \"england\", \"etern\", \"etern\", \"euro\", \"euro\", \"euro\", \"euro\", \"euro\", \"euronext\", \"eurozon\", \"eurozon\", \"eurozon\", \"expect\", \"expect\", \"expect\", \"expect\", \"expect\", \"export\", \"export\", \"export\", \"export\", \"fall\", \"fall\", \"fall\", \"fall\", \"fall\", \"festiv\", \"festiv\", \"festiv\", \"festiv\", \"fiat\", \"figur\", \"figur\", \"figur\", \"figur\", \"figur\", \"film\", \"film\", \"film\", \"film\", \"film\", \"final\", \"final\", \"final\", \"final\", \"final\", \"firm\", \"firm\", \"firm\", \"firm\", \"firm\", \"focker\", \"forecast\", \"forecast\", \"forecast\", \"forecast\", \"foxx\", \"foxx\", \"franc\", \"franc\", \"franc\", \"franc\", \"franc\", \"frankfurt\", \"fraud\", \"fraud\", \"fraud\", \"fraud\", \"fund\", \"fund\", \"fund\", \"fund\", \"fund\", \"gadget\", \"gadget\", \"game\", \"game\", \"game\", \"game\", \"game\", \"gamer\", \"gamer\", \"gara\", \"gara\", \"gazprom\", \"gazprom\", \"general\", \"general\", \"general\", \"general\", \"general\", \"gerrard\", \"gerrard\", \"gerrard\", \"gigg\", \"glazer\", \"glazer\", \"go\", \"go\", \"go\", \"go\", \"go\", \"goal\", \"goal\", \"goal\", \"goal\", \"goal\", \"goldsmith\", \"good\", \"good\", \"good\", \"good\", \"good\", \"googl\", \"googl\", \"govern\", \"govern\", \"govern\", \"govern\", \"govern\", \"grammi\", \"grammi\", \"grammi\", \"graphic\", \"graphic\", \"graphic\", \"growth\", \"growth\", \"growth\", \"growth\", \"guerrouj\", \"half\", \"half\", \"half\", \"half\", \"half\", \"handheld\", \"handheld\", \"handheld\", \"handset\", \"handset\", \"handset\", \"henman\", \"henson\", \"hewitt\", \"hewitt\", \"hewitt\", \"hockney\", \"hoddl\", \"hodgson\", \"hodgson\", \"hollywood\", \"hollywood\", \"hollywood\", \"hollywood\", \"hollywood\", \"holm\", \"holm\", \"holm\", \"home\", \"home\", \"home\", \"home\", \"home\", \"howard\", \"howard\", \"howard\", \"howard\", \"howard\", \"hunt\", \"hunt\", \"hunt\", \"hunt\", \"imag\", \"imag\", \"imag\", \"imag\", \"incit\", \"includ\", \"includ\", \"includ\", \"includ\", \"includ\", \"increas\", \"increas\", \"increas\", \"increas\", \"increas\", \"india\", \"india\", \"india\", \"india\", \"indonesia\", \"indonesia\", \"indonesia\", \"indoor\", \"indoor\", \"indoor\", \"indoor\", \"injuri\", \"injuri\", \"injuri\", \"injuri\", \"injuri\", \"internet\", \"internet\", \"internet\", \"internet\", \"internet\", \"ipod\", \"iptv\", \"iptv\", \"ireland\", \"ireland\", \"ireland\", \"ireland\", \"ireland\", \"jayn\", \"jeev\", \"junk\", \"junk\", \"junk\", \"jupit\", \"kennedi\", \"kennedi\", \"kennedi\", \"kennedi\", \"kenteri\", \"kenteri\", \"kenyan\", \"keyboard\", \"khodorkovski\", \"khodorkovski\", \"kick\", \"kick\", \"kick\", \"kick\", \"kick\", \"kilroy\", \"kuznetsova\", \"labour\", \"labour\", \"labour\", \"labour\", \"lanka\", \"lanka\", \"lanka\", \"leader\", \"leader\", \"leader\", \"leader\", \"leader\", \"leagu\", \"leagu\", \"leagu\", \"leagu\", \"leagu\", \"lewsey\", \"lifestyl\", \"like\", \"like\", \"like\", \"like\", \"like\", \"liverpool\", \"liverpool\", \"liverpool\", \"liverpool\", \"local\", \"local\", \"local\", \"local\", \"local\", \"look\", \"look\", \"look\", \"look\", \"look\", \"lyco\", \"machin\", \"machin\", \"machin\", \"machin\", \"machin\", \"mail\", \"mail\", \"mail\", \"mail\", \"mail\", \"map\", \"marathon\", \"marathon\", \"market\", \"market\", \"market\", \"market\", \"market\", \"marsh\", \"match\", \"match\", \"match\", \"match\", \"match\", \"mcilroy\", \"mcilroy\", \"megapixel\", \"microsoft\", \"microsoft\", \"microsoft\", \"microsoft\", \"microsoft\", \"millan\", \"million\", \"million\", \"million\", \"million\", \"million\", \"minimum\", \"minimum\", \"minimum\", \"minist\", \"minist\", \"minist\", \"minist\", \"minist\", \"minut\", \"minut\", \"minut\", \"minut\", \"minut\", \"mirza\", \"mobil\", \"mobil\", \"mobil\", \"mobil\", \"mobil\", \"monsanto\", \"month\", \"month\", \"month\", \"month\", \"month\", \"morquendi\", \"motorola\", \"moya\", \"mubanga\", \"multimedia\", \"multimedia\", \"music\", \"music\", \"music\", \"music\", \"music\", \"musician\", \"musician\", \"musician\", \"nadal\", \"nation\", \"nation\", \"nation\", \"nation\", \"nation\", \"navig\", \"need\", \"need\", \"need\", \"need\", \"need\", \"network\", \"network\", \"network\", \"network\", \"network\", \"nintendo\", \"nintendo\", \"niro\", \"nokia\", \"nomin\", \"nomin\", \"nomin\", \"nomin\", \"nomin\", \"number\", \"number\", \"number\", \"number\", \"number\", \"olymp\", \"olymp\", \"olymp\", \"olymp\", \"olymp\", \"onlin\", \"onlin\", \"onlin\", \"onlin\", \"onlin\", \"open\", \"open\", \"open\", \"open\", \"open\", \"osbourn\", \"oscar\", \"oscar\", \"oscar\", \"oscar\", \"oscar\", \"ossi\", \"ozzi\", \"parent\", \"parent\", \"parent\", \"parent\", \"parent\", \"parmalat\", \"parmalat\", \"parti\", \"parti\", \"parti\", \"parti\", \"parti\", \"patent\", \"patent\", \"paula\", \"pension\", \"pension\", \"pension\", \"peopl\", \"peopl\", \"peopl\", \"peopl\", \"peopl\", \"perform\", \"perform\", \"perform\", \"perform\", \"perform\", \"peston\", \"phone\", \"phone\", \"phone\", \"phone\", \"phone\", \"plan\", \"plan\", \"plan\", \"plan\", \"plan\", \"play\", \"play\", \"play\", \"play\", \"play\", \"player\", \"player\", \"player\", \"player\", \"player\", \"polit\", \"polit\", \"polit\", \"polit\", \"polit\", \"poppin\", \"portabl\", \"portabl\", \"price\", \"price\", \"price\", \"price\", \"price\", \"prix\", \"prize\", \"prize\", \"prize\", \"prize\", \"prize\", \"profit\", \"profit\", \"profit\", \"profit\", \"profit\", \"program\", \"program\", \"program\", \"program\", \"program\", \"propos\", \"propos\", \"propos\", \"propos\", \"propos\", \"public\", \"public\", \"public\", \"public\", \"public\", \"qanta\", \"quarter\", \"quarter\", \"quarter\", \"quarter\", \"quarter\", \"radcliff\", \"rat\", \"rat\", \"rat\", \"rat\", \"rat\", \"record\", \"record\", \"record\", \"record\", \"record\", \"redknapp\", \"refere\", \"refere\", \"refere\", \"referendum\", \"regga\", \"regga\", \"releas\", \"releas\", \"releas\", \"releas\", \"releas\", \"report\", \"report\", \"report\", \"report\", \"report\", \"reserv\", \"reserv\", \"reserv\", \"reserv\", \"rfid\", \"rise\", \"rise\", \"rise\", \"rise\", \"rise\", \"robinson\", \"robinson\", \"robinson\", \"rock\", \"rock\", \"rock\", \"rock\", \"rock\", \"roddick\", \"role\", \"role\", \"role\", \"role\", \"role\", \"ruddock\", \"rugbi\", \"rugbi\", \"rugbi\", \"rugbi\", \"rugbi\", \"rupe\", \"rupe\", \"sale\", \"sale\", \"sale\", \"sale\", \"sale\", \"saudi\", \"say\", \"say\", \"say\", \"say\", \"say\", \"scholl\", \"screenplay\", \"screenplay\", \"scrum\", \"search\", \"search\", \"search\", \"search\", \"search\", \"season\", \"season\", \"season\", \"season\", \"season\", \"sec\", \"second\", \"second\", \"second\", \"second\", \"second\", \"seed\", \"seed\", \"serena\", \"servic\", \"servic\", \"servic\", \"servic\", \"servic\", \"share\", \"share\", \"share\", \"share\", \"share\", \"silk\", \"silk\", \"silk\", \"singer\", \"singer\", \"singer\", \"singer\", \"singer\", \"skype\", \"slam\", \"slam\", \"slowdown\", \"slowdown\", \"slowdown\", \"softwar\", \"softwar\", \"softwar\", \"softwar\", \"softwar\", \"song\", \"song\", \"song\", \"song\", \"song\", \"soni\", \"soni\", \"soni\", \"soni\", \"soni\", \"southampton\", \"southampton\", \"southampton\", \"spam\", \"spam\", \"spam\", \"spam\", \"spammer\", \"spammer\", \"spend\", \"spend\", \"spend\", \"spend\", \"spend\", \"spitzer\", \"spotless\", \"spotless\", \"spywar\", \"spywar\", \"spywar\", \"spywar\", \"squad\", \"squad\", \"squad\", \"squad\", \"squad\", \"star\", \"star\", \"star\", \"star\", \"star\", \"state\", \"state\", \"state\", \"state\", \"state\", \"staunton\", \"staunton\", \"storag\", \"storag\", \"storag\", \"summari\", \"sunshin\", \"sunshin\", \"swank\", \"swank\", \"take\", \"take\", \"take\", \"take\", \"take\", \"tax\", \"tax\", \"tax\", \"taxpay\", \"taxpay\", \"team\", \"team\", \"team\", \"team\", \"team\", \"technolog\", \"technolog\", \"technolog\", \"technolog\", \"technolog\", \"tell\", \"tell\", \"tell\", \"tell\", \"tell\", \"tenni\", \"tenni\", \"theatr\", \"theatr\", \"theatr\", \"theatr\", \"think\", \"think\", \"think\", \"think\", \"think\", \"threshold\", \"time\", \"time\", \"time\", \"time\", \"time\", \"tori\", \"tori\", \"tori\", \"tori\", \"tour\", \"tour\", \"tour\", \"tour\", \"tour\", \"tournament\", \"tournament\", \"trade\", \"trade\", \"trade\", \"trade\", \"trade\", \"trader\", \"turkey\", \"turkey\", \"turkey\", \"twickenham\", \"ukip\", \"ukip\", \"use\", \"use\", \"use\", \"use\", \"use\", \"user\", \"user\", \"user\", \"user\", \"user\", \"vera\", \"vera\", \"vera\", \"vera\", \"verita\", \"verizon\", \"verizon\", \"victori\", \"victori\", \"victori\", \"victori\", \"victori\", \"video\", \"video\", \"video\", \"video\", \"video\", \"virus\", \"virus\", \"virus\", \"virus\", \"virus\", \"vote\", \"vote\", \"vote\", \"vote\", \"vote\", \"wage\", \"wale\", \"wale\", \"wale\", \"wale\", \"wale\", \"want\", \"want\", \"want\", \"want\", \"want\", \"websit\", \"websit\", \"websit\", \"websit\", \"websit\", \"week\", \"week\", \"week\", \"week\", \"week\", \"wenger\", \"wenger\", \"wenger\", \"william\", \"william\", \"william\", \"william\", \"william\", \"winner\", \"winner\", \"winner\", \"winner\", \"winner\", \"wireless\", \"wireless\", \"wolv\", \"work\", \"work\", \"work\", \"work\", \"work\", \"world\", \"world\", \"world\", \"world\", \"world\", \"worldcom\", \"xbox\", \"xbox\", \"yahoo\", \"year\", \"year\", \"year\", \"year\", \"year\", \"yell\", \"yuganskneftega\", \"yuko\", \"yuko\", \"yuko\"]}, \"R\": 30, \"lambda.step\": 0.01, \"plot.opts\": {\"xlab\": \"PC1\", \"ylab\": \"PC2\"}, \"topic.order\": [5, 2, 3, 4, 1]};\n",
              "\n",
              "function LDAvis_load_lib(url, callback){\n",
              "  var s = document.createElement('script');\n",
              "  s.src = url;\n",
              "  s.async = true;\n",
              "  s.onreadystatechange = s.onload = callback;\n",
              "  s.onerror = function(){console.warn(\"failed to load library \" + url);};\n",
              "  document.getElementsByTagName(\"head\")[0].appendChild(s);\n",
              "}\n",
              "\n",
              "if(typeof(LDAvis) !== \"undefined\"){\n",
              "   // already loaded: just create the visualization\n",
              "   !function(LDAvis){\n",
              "       new LDAvis(\"#\" + \"ldavis_el1241398228450751528102090556\", ldavis_el1241398228450751528102090556_data);\n",
              "   }(LDAvis);\n",
              "}else if(typeof define === \"function\" && define.amd){\n",
              "   // require.js is available: use it to load d3/LDAvis\n",
              "   require.config({paths: {d3: \"https://cdnjs.cloudflare.com/ajax/libs/d3/3.5.5/d3.min\"}});\n",
              "   require([\"d3\"], function(d3){\n",
              "      window.d3 = d3;\n",
              "      LDAvis_load_lib(\"https://cdn.rawgit.com/bmabey/pyLDAvis/files/ldavis.v1.0.0.js\", function(){\n",
              "        new LDAvis(\"#\" + \"ldavis_el1241398228450751528102090556\", ldavis_el1241398228450751528102090556_data);\n",
              "      });\n",
              "    });\n",
              "}else{\n",
              "    // require.js not available: dynamically load d3 & LDAvis\n",
              "    LDAvis_load_lib(\"https://cdnjs.cloudflare.com/ajax/libs/d3/3.5.5/d3.min.js\", function(){\n",
              "         LDAvis_load_lib(\"https://cdn.rawgit.com/bmabey/pyLDAvis/files/ldavis.v1.0.0.js\", function(){\n",
              "                 new LDAvis(\"#\" + \"ldavis_el1241398228450751528102090556\", ldavis_el1241398228450751528102090556_data);\n",
              "            })\n",
              "         });\n",
              "}\n",
              "</script>"
            ],
            "text/plain": [
              "PreparedData(topic_coordinates=              x         y  topics  cluster       Freq\n",
              "topic                                                \n",
              "4     -0.059847 -0.039532       1        1  26.670118\n",
              "1      0.018047 -0.108152       2        1  21.934233\n",
              "2     -0.008214  0.135627       3        1  21.486813\n",
              "3     -0.102792  0.004469       4        1  17.652233\n",
              "0      0.152805  0.007587       5        1  12.256596, topic_info=       Term        Freq        Total Category  logprob  loglift\n",
              "373    film  821.000000   821.000000  Default  30.0000  30.0000\n",
              "1055   best  613.000000   613.000000  Default  29.0000  29.0000\n",
              "687   award  400.000000   400.000000  Default  28.0000  28.0000\n",
              "558    game  988.000000   988.000000  Default  27.0000  27.0000\n",
              "409   mobil  457.000000   457.000000  Default  26.0000  26.0000\n",
              "...     ...         ...          ...      ...      ...      ...\n",
              "1523   role   79.849388   202.741272   Topic5  -6.0083   1.1673\n",
              "599    work  101.725319   709.636963   Topic5  -5.7662   0.1566\n",
              "578    play   96.776413   735.251648   Topic5  -5.8161   0.0713\n",
              "143      go   88.913055   712.141479   Topic5  -5.9008   0.0185\n",
              "321    time   83.633575  1029.694580   Topic5  -5.9620  -0.4115\n",
              "\n",
              "[426 rows x 6 columns], token_table=      Topic      Freq            Term\n",
              "term                                 \n",
              "5439      1  0.116759         academi\n",
              "5439      3  0.014595         academi\n",
              "5439      5  0.861101         academi\n",
              "4808      5  0.867435         accolad\n",
              "4685      1  0.063701           actor\n",
              "...     ...       ...             ...\n",
              "6367      4  0.888549            yell\n",
              "1691      1  0.962174  yuganskneftega\n",
              "1692      1  0.970705            yuko\n",
              "1692      4  0.008226            yuko\n",
              "1692      5  0.008226            yuko\n",
              "\n",
              "[1172 rows x 3 columns], R=30, lambda_step=0.01, plot_opts={'xlab': 'PC1', 'ylab': 'PC2'}, topic_order=[5, 2, 3, 4, 1])"
            ]
          },
          "metadata": {
            "tags": []
          },
          "execution_count": 63
        }
      ]
    },
    {
      "cell_type": "code",
      "metadata": {
        "id": "gYEYkWDKrwSU",
        "colab_type": "code",
        "colab": {}
      },
      "source": [
        "## wordcloud of each topic for top N keywords\n",
        "from wordcloud import WordCloud, STOPWORDS\n",
        "cloud=WordCloud(stopwords=STOPWORDS,\n",
        "                  background_color='black',\n",
        "                  width=2500,\n",
        "                  height=1800,\n",
        "                  max_words=10,\n",
        "                 prefer_horizontal=1.0)"
      ],
      "execution_count": 64,
      "outputs": []
    },
    {
      "cell_type": "code",
      "metadata": {
        "id": "tY7m2vVnu1IE",
        "colab_type": "code",
        "colab": {}
      },
      "source": [
        "topics=lda_model.show_topics(formatted=False, num_words=15)"
      ],
      "execution_count": 65,
      "outputs": []
    },
    {
      "cell_type": "code",
      "metadata": {
        "id": "7a4JR3iDu9_e",
        "colab_type": "code",
        "colab": {
          "base_uri": "https://localhost:8080/",
          "height": 187
        },
        "outputId": "d716558d-aef4-4c92-f27e-06c62a161a44"
      },
      "source": [
        "import matplotlib.pyplot as plt\n",
        "fig, ax = plt.subplots(1,5,figsize=(20,30), sharex=True, sharey=True)\n",
        "for i, ax in enumerate(ax.flatten()):\n",
        "  fig.add_subplot(ax)\n",
        "  topic_words=dict(topics[i][1])\n",
        "  cloud.generate_from_frequencies(topic_words, max_font_size=300)\n",
        "  plt.gca().imshow(cloud)\n",
        "  plt.gca().set_title('Topic ' + str(i), fontdict=dict(size=16))\n",
        "  plt.gca().axis('off')"
      ],
      "execution_count": 66,
      "outputs": [
        {
          "output_type": "display_data",
          "data": {
            "image/png": "[encoded data removed]",
            "text/plain": [
              "<Figure size 1440x2160 with 5 Axes>"
            ]
          },
          "metadata": {
            "tags": [],
            "needs_background": "light"
          }
        }
      ]
    },
    {
      "cell_type": "markdown",
      "metadata": {
        "id": "EZvnhChHInBF",
        "colab_type": "text"
      },
      "source": [
        "#### Manual way to assign topics based on most occured words with real world NEWS category. Efficient for less topics where categories are distinct to each other."
      ]
    },
    {
      "cell_type": "code",
      "metadata": {
        "id": "tmHRr29v0V05",
        "colab_type": "code",
        "colab": {}
      },
      "source": [
        "## Topic 0 contains: film, award, star, best, actor, oscar looks FILM/ENTERTAINMENT category\n",
        "## Topic 1 contains most frequent words like: play, game, world, team,, player looks SPORTS category\n",
        "## Topic 2 contains: compni, technolog, phone, firm, music, service, looks TECHNOLOGY category\n",
        "## Topic 3 contains: market, growth, price, rise, looks BUSINESS category\n",
        "## Topic 4 contains: govern, plan, elect, party, plan looks POLITICS category"
      ],
      "execution_count": null,
      "outputs": []
    },
    {
      "cell_type": "code",
      "metadata": {
        "id": "duwPCzqmrwR6",
        "colab_type": "code",
        "colab": {}
      },
      "source": [
        "# Testing on unseen document\n",
        "test_doc='''software watching while you work software that can not only monitor every keystroke and action performed at a pc but also be used as legally binding evidence of wrong-doing has been unveiled. \n",
        " worries about cyber-crime and sabotage have prompted many employers to consider monitoring employees. the developers behind the system claim it is a break-through in the way data is monitored and stored. \n",
        " but privacy advocates are concerned by the invasive nature of such software.  \n",
        " the system is a joint venture between security firm 3ami and storage specialists bridgehead software. \n",
        " they have joined forces to create a system which can monitor computer activity  store it and retrieve disputed files within minutes.\n",
        "  more and more firms are finding themselves in deep water as a result of data misuse. sabotage and data theft are most commonly committed from within an organisation according to the national hi-tech crime unit (nhtcu) a survey conducted on its behalf by nop found evidence that more than 80% of medium and large companies have been victims of some form of cyber-crime. bridgehead software has come up with techniques to prove  to a legal standard  that any stored file on a pc has not been tampered with. ironically the impetus for developing the system came as a result of the freedom of information act  which requires companies to store all data for a certain amount of time. \n",
        "   the storage system has been incorporated into an application developed by security firm 3ami which allows every action on a computer to be logged. potentially it could help employers to follow the trail of stolen files and pinpoint whether they had been emailed to a third party  copied  printed  deleted or saved to cd  floppy disk  memory stick or flash card. other activities the system can monitor include the downloading of pornography  the use of racist or bullying language or the copying of applications for personal use. increasingly organisations that handle sensitive data  such as governments  are using biometric log-ins such as fingerprinting to provide conclusive proof of who was using a particular machine at any given time. privacy advocates are concerned that monitoring at work is not only damaging to employee s privacy but also to the relationship between employers and their staff.  that is not the case   said tim ellsmore  managing director of 3ami.  it is not about replacing dialogue but there are issues that you can talk through but you still need proof   he said.  \n",
        "people need to recognise that you are using a pc as a representative of a company and that employers have a legal requirement to store data   he added.'''\n",
        "\n",
        "# looks TECHNOLOGY news"
      ],
      "execution_count": 67,
      "outputs": []
    },
    {
      "cell_type": "code",
      "metadata": {
        "id": "S3dQHJ7CrwR-",
        "colab_type": "code",
        "colab": {}
      },
      "source": [
        "test_bow=dic.doc2bow(preprocess(test_doc))"
      ],
      "execution_count": 68,
      "outputs": []
    },
    {
      "cell_type": "code",
      "metadata": {
        "id": "G5tIgEUIrwSE",
        "colab_type": "code",
        "colab": {
          "base_uri": "https://localhost:8080/",
          "height": 34
        },
        "outputId": "a9d5cadc-74b6-4cd5-dd63-3fbaf4aebdc6"
      },
      "source": [
        "lda_model[test_bow]\n",
        "# showing has topic 2 (63%--TECH.) as we stated above topic 2 might be TECHNOLOGY, "
      ],
      "execution_count": 70,
      "outputs": [
        {
          "output_type": "execute_result",
          "data": {
            "text/plain": [
              "[(2, 0.6358562), (4, 0.36123562)]"
            ]
          },
          "metadata": {
            "tags": []
          },
          "execution_count": 70
        }
      ]
    },
    {
      "cell_type": "code",
      "metadata": {
        "id": "pJEGMWXF7k7v",
        "colab_type": "code",
        "colab": {}
      },
      "source": [
        "test_doc2='''career honour for actor dicaprio actor leonardo dicaprio s  exceptional career  has been honoured at \n",
        "the santa barbara international film festival.  the star was presented with the award by martin scorsese  \n",
        "who directed him in oscar-nominated movie the aviator.  it s a lifetime achievement award  which is completely and \n",
        "utterly surreal  given i m only 30 years old   dicaprio said.  but what has it been  almost 17 years now. \n",
        "i ve done quite a few films.  a retrospective of his movies was shown.   \n",
        "what s really exciting  for me  is that this is what i really love doing he added.'''\n",
        "# looks ENTERTAINMENT news"
      ],
      "execution_count": 71,
      "outputs": []
    },
    {
      "cell_type": "code",
      "metadata": {
        "id": "L8iV3mIP8USZ",
        "colab_type": "code",
        "colab": {
          "base_uri": "https://localhost:8080/",
          "height": 34
        },
        "outputId": "83406df6-f0de-478b-dc72-1be439fd8cdc"
      },
      "source": [
        "test_bow2 = dic.doc2bow(preprocess(test_doc2))\n",
        "lda_model[test_bow2]\n",
        "## Topic 0 is really ENTERTAINMENT (we stated) and this news also 92% fall in that"
      ],
      "execution_count": 72,
      "outputs": [
        {
          "output_type": "execute_result",
          "data": {
            "text/plain": [
              "[(0, 0.921722), (3, 0.064495586)]"
            ]
          },
          "metadata": {
            "tags": []
          },
          "execution_count": 72
        }
      ]
    },
    {
      "cell_type": "markdown",
      "metadata": {
        "id": "wLLfOTR4J5Ya",
        "colab_type": "text"
      },
      "source": [
        "#### When we have large categories to map then we can use Naive-ways-for-automatic-labelling-of-topic-models using WIKIAPI \n",
        "\n",
        "follow this: http://chappers.github.io/web%20micro%20log/2017/02/12/naive-ways-for-automatic-labelling-of-topic-models/"
      ]
    },
    {
      "cell_type": "code",
      "metadata": {
        "id": "y154Rm0qfaox",
        "colab_type": "code",
        "colab": {}
      },
      "source": [
        ""
      ],
      "execution_count": null,
      "outputs": []
    }
  ]
}